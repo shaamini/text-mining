{
 "cells": [
  {
   "cell_type": "code",
   "execution_count": 8,
   "id": "d1b1a3ef",
   "metadata": {
    "scrolled": true
   },
   "outputs": [],
   "source": [
    "import os\n",
    "import pandas as pd\n",
    "\n",
    "masterdf = pd.DataFrame()\n",
    "\n",
    "for file in os.listdir(os.getcwd()):\n",
    "    if file.endswith('.csv'):\n",
    "        masterdf = masterdf.append(pd.read_csv(file))\n",
    "\n",
    "masterdf.to_csv('clara-usa-compiled.csv', index=False)"
   ]
  },
  {
   "cell_type": "code",
   "execution_count": 9,
   "id": "a080e2c4",
   "metadata": {},
   "outputs": [
    {
     "data": {
      "text/html": [
       "<div>\n",
       "<style scoped>\n",
       "    .dataframe tbody tr th:only-of-type {\n",
       "        vertical-align: middle;\n",
       "    }\n",
       "\n",
       "    .dataframe tbody tr th {\n",
       "        vertical-align: top;\n",
       "    }\n",
       "\n",
       "    .dataframe thead th {\n",
       "        text-align: right;\n",
       "    }\n",
       "</style>\n",
       "<table border=\"1\" class=\"dataframe\">\n",
       "  <thead>\n",
       "    <tr style=\"text-align: right;\">\n",
       "      <th></th>\n",
       "      <th>Unnamed: 0</th>\n",
       "      <th>0</th>\n",
       "    </tr>\n",
       "  </thead>\n",
       "  <tbody>\n",
       "    <tr>\n",
       "      <th>0</th>\n",
       "      <td>0</td>\n",
       "      <td>want, find, way, end, racism, try, force, peop...</td>\n",
       "    </tr>\n",
       "    <tr>\n",
       "      <th>1</th>\n",
       "      <td>1</td>\n",
       "      <td>this, child, almost, died, tetanus, ,, spent, ...</td>\n",
       "    </tr>\n",
       "    <tr>\n",
       "      <th>2</th>\n",
       "      <td>2</td>\n",
       "      <td>just, remember, my, ., leblanc, the, pressure,...</td>\n",
       "    </tr>\n",
       "    <tr>\n",
       "      <th>3</th>\n",
       "      <td>3</td>\n",
       "      <td>you, would, expect, cases, rise, significantly...</td>\n",
       "    </tr>\n",
       "    <tr>\n",
       "      <th>4</th>\n",
       "      <td>4</td>\n",
       "      <td>depends, whether, vaccination, status, is, emb...</td>\n",
       "    </tr>\n",
       "    <tr>\n",
       "      <th>...</th>\n",
       "      <td>...</td>\n",
       "      <td>...</td>\n",
       "    </tr>\n",
       "    <tr>\n",
       "      <th>81995</th>\n",
       "      <td>81995</td>\n",
       "      <td>the, first, dose, of, pfizer, has, worked, ver...</td>\n",
       "    </tr>\n",
       "    <tr>\n",
       "      <th>81996</th>\n",
       "      <td>81996</td>\n",
       "      <td>all, these, posts, about, thirty, days, and, i...</td>\n",
       "    </tr>\n",
       "    <tr>\n",
       "      <th>81997</th>\n",
       "      <td>81997</td>\n",
       "      <td>last, know, pfizer, provided, ninety-five, %, ...</td>\n",
       "    </tr>\n",
       "    <tr>\n",
       "      <th>81998</th>\n",
       "      <td>81998</td>\n",
       "      <td>update, post, pfizer, ceo, was, made, march, i...</td>\n",
       "    </tr>\n",
       "    <tr>\n",
       "      <th>81999</th>\n",
       "      <td>81999</td>\n",
       "      <td>and, pfizer, got, me, fucked, hard</td>\n",
       "    </tr>\n",
       "  </tbody>\n",
       "</table>\n",
       "<p>82000 rows × 2 columns</p>\n",
       "</div>"
      ],
      "text/plain": [
       "       Unnamed: 0                                                  0\n",
       "0               0  want, find, way, end, racism, try, force, peop...\n",
       "1               1  this, child, almost, died, tetanus, ,, spent, ...\n",
       "2               2  just, remember, my, ., leblanc, the, pressure,...\n",
       "3               3  you, would, expect, cases, rise, significantly...\n",
       "4               4  depends, whether, vaccination, status, is, emb...\n",
       "...           ...                                                ...\n",
       "81995       81995  the, first, dose, of, pfizer, has, worked, ver...\n",
       "81996       81996  all, these, posts, about, thirty, days, and, i...\n",
       "81997       81997  last, know, pfizer, provided, ninety-five, %, ...\n",
       "81998       81998  update, post, pfizer, ceo, was, made, march, i...\n",
       "81999       81999                 and, pfizer, got, me, fucked, hard\n",
       "\n",
       "[82000 rows x 2 columns]"
      ]
     },
     "execution_count": 9,
     "metadata": {},
     "output_type": "execute_result"
    }
   ],
   "source": [
    "df = pd.read_csv(\"clara-usa-compiled.csv\")\n",
    "df"
   ]
  },
  {
   "cell_type": "code",
   "execution_count": 11,
   "id": "07b36aab",
   "metadata": {},
   "outputs": [],
   "source": [
    "df2 = df.sort_values(by=['Unnamed: 0'])"
   ]
  },
  {
   "cell_type": "code",
   "execution_count": 12,
   "id": "e0065888",
   "metadata": {},
   "outputs": [
    {
     "data": {
      "text/html": [
       "<div>\n",
       "<style scoped>\n",
       "    .dataframe tbody tr th:only-of-type {\n",
       "        vertical-align: middle;\n",
       "    }\n",
       "\n",
       "    .dataframe tbody tr th {\n",
       "        vertical-align: top;\n",
       "    }\n",
       "\n",
       "    .dataframe thead th {\n",
       "        text-align: right;\n",
       "    }\n",
       "</style>\n",
       "<table border=\"1\" class=\"dataframe\">\n",
       "  <thead>\n",
       "    <tr style=\"text-align: right;\">\n",
       "      <th></th>\n",
       "      <th>Unnamed: 0</th>\n",
       "      <th>0</th>\n",
       "    </tr>\n",
       "  </thead>\n",
       "  <tbody>\n",
       "    <tr>\n",
       "      <th>0</th>\n",
       "      <td>0</td>\n",
       "      <td>want, find, way, end, racism, try, force, peop...</td>\n",
       "    </tr>\n",
       "    <tr>\n",
       "      <th>1</th>\n",
       "      <td>1</td>\n",
       "      <td>this, child, almost, died, tetanus, ,, spent, ...</td>\n",
       "    </tr>\n",
       "    <tr>\n",
       "      <th>2</th>\n",
       "      <td>2</td>\n",
       "      <td>just, remember, my, ., leblanc, the, pressure,...</td>\n",
       "    </tr>\n",
       "    <tr>\n",
       "      <th>3</th>\n",
       "      <td>3</td>\n",
       "      <td>you, would, expect, cases, rise, significantly...</td>\n",
       "    </tr>\n",
       "    <tr>\n",
       "      <th>4</th>\n",
       "      <td>4</td>\n",
       "      <td>depends, whether, vaccination, status, is, emb...</td>\n",
       "    </tr>\n",
       "    <tr>\n",
       "      <th>...</th>\n",
       "      <td>...</td>\n",
       "      <td>...</td>\n",
       "    </tr>\n",
       "    <tr>\n",
       "      <th>81995</th>\n",
       "      <td>81995</td>\n",
       "      <td>the, first, dose, of, pfizer, has, worked, ver...</td>\n",
       "    </tr>\n",
       "    <tr>\n",
       "      <th>81996</th>\n",
       "      <td>81996</td>\n",
       "      <td>all, these, posts, about, thirty, days, and, i...</td>\n",
       "    </tr>\n",
       "    <tr>\n",
       "      <th>81997</th>\n",
       "      <td>81997</td>\n",
       "      <td>last, know, pfizer, provided, ninety-five, %, ...</td>\n",
       "    </tr>\n",
       "    <tr>\n",
       "      <th>81998</th>\n",
       "      <td>81998</td>\n",
       "      <td>update, post, pfizer, ceo, was, made, march, i...</td>\n",
       "    </tr>\n",
       "    <tr>\n",
       "      <th>81999</th>\n",
       "      <td>81999</td>\n",
       "      <td>and, pfizer, got, me, fucked, hard</td>\n",
       "    </tr>\n",
       "  </tbody>\n",
       "</table>\n",
       "<p>82000 rows × 2 columns</p>\n",
       "</div>"
      ],
      "text/plain": [
       "       Unnamed: 0                                                  0\n",
       "0               0  want, find, way, end, racism, try, force, peop...\n",
       "1               1  this, child, almost, died, tetanus, ,, spent, ...\n",
       "2               2  just, remember, my, ., leblanc, the, pressure,...\n",
       "3               3  you, would, expect, cases, rise, significantly...\n",
       "4               4  depends, whether, vaccination, status, is, emb...\n",
       "...           ...                                                ...\n",
       "81995       81995  the, first, dose, of, pfizer, has, worked, ver...\n",
       "81996       81996  all, these, posts, about, thirty, days, and, i...\n",
       "81997       81997  last, know, pfizer, provided, ninety-five, %, ...\n",
       "81998       81998  update, post, pfizer, ceo, was, made, march, i...\n",
       "81999       81999                 and, pfizer, got, me, fucked, hard\n",
       "\n",
       "[82000 rows x 2 columns]"
      ]
     },
     "execution_count": 12,
     "metadata": {},
     "output_type": "execute_result"
    }
   ],
   "source": [
    "df2.to_csv('clara-usa-compiled.csv')\n",
    "df2"
   ]
  },
  {
   "cell_type": "code",
   "execution_count": 13,
   "id": "b1385717",
   "metadata": {},
   "outputs": [
    {
     "data": {
      "text/plain": [
       "0"
      ]
     },
     "execution_count": 13,
     "metadata": {},
     "output_type": "execute_result"
    }
   ],
   "source": [
    "df2.duplicated().sum()"
   ]
  }
 ],
 "metadata": {
  "kernelspec": {
   "display_name": "Python 3 (ipykernel)",
   "language": "python",
   "name": "python3"
  },
  "language_info": {
   "codemirror_mode": {
    "name": "ipython",
    "version": 3
   },
   "file_extension": ".py",
   "mimetype": "text/x-python",
   "name": "python",
   "nbconvert_exporter": "python",
   "pygments_lexer": "ipython3",
   "version": "3.9.7"
  }
 },
 "nbformat": 4,
 "nbformat_minor": 5
}
