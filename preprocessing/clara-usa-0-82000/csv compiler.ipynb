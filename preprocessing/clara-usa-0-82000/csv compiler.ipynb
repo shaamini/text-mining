{
 "cells": [
  {
   "cell_type": "code",
   "execution_count": 2,
   "id": "d1b1a3ef",
   "metadata": {
    "scrolled": true
   },
   "outputs": [],
   "source": [
    "import os\n",
    "import pandas as pd\n",
    "\n",
    "masterdf = pd.DataFrame()\n",
    "\n",
    "for file in os.listdir(os.getcwd()):\n",
    "    if file.endswith('.csv'):\n",
    "        masterdf = masterdf.append(pd.read_csv(file))\n",
    "\n",
    "masterdf.to_csv('clara-usa-compiled.csv', index=False)"
   ]
  },
  {
   "cell_type": "code",
   "execution_count": 3,
   "id": "a080e2c4",
   "metadata": {},
   "outputs": [
    {
     "data": {
      "text/html": [
       "<div>\n",
       "<style scoped>\n",
       "    .dataframe tbody tr th:only-of-type {\n",
       "        vertical-align: middle;\n",
       "    }\n",
       "\n",
       "    .dataframe tbody tr th {\n",
       "        vertical-align: top;\n",
       "    }\n",
       "\n",
       "    .dataframe thead th {\n",
       "        text-align: right;\n",
       "    }\n",
       "</style>\n",
       "<table border=\"1\" class=\"dataframe\">\n",
       "  <thead>\n",
       "    <tr style=\"text-align: right;\">\n",
       "      <th></th>\n",
       "      <th>Unnamed: 0</th>\n",
       "      <th>0</th>\n",
       "    </tr>\n",
       "  </thead>\n",
       "  <tbody>\n",
       "    <tr>\n",
       "      <th>0</th>\n",
       "      <td>0</td>\n",
       "      <td>want, find, way, end, racism, try, force, peop...</td>\n",
       "    </tr>\n",
       "    <tr>\n",
       "      <th>1</th>\n",
       "      <td>1</td>\n",
       "      <td>this, child, almost, died, tetanus, ,, spent, ...</td>\n",
       "    </tr>\n",
       "    <tr>\n",
       "      <th>2</th>\n",
       "      <td>2</td>\n",
       "      <td>just, remember, my, ., leblanc, the, pressure,...</td>\n",
       "    </tr>\n",
       "    <tr>\n",
       "      <th>3</th>\n",
       "      <td>3</td>\n",
       "      <td>you, would, expect, cases, rise, significantly...</td>\n",
       "    </tr>\n",
       "    <tr>\n",
       "      <th>4</th>\n",
       "      <td>4</td>\n",
       "      <td>depends, whether, vaccination, status, is, emb...</td>\n",
       "    </tr>\n",
       "    <tr>\n",
       "      <th>...</th>\n",
       "      <td>...</td>\n",
       "      <td>...</td>\n",
       "    </tr>\n",
       "    <tr>\n",
       "      <th>79995</th>\n",
       "      <td>79995</td>\n",
       "      <td>the, most, important, and, main, thing, here, ...</td>\n",
       "    </tr>\n",
       "    <tr>\n",
       "      <th>79996</th>\n",
       "      <td>79996</td>\n",
       "      <td>come, ,, top, i, er, off, i, some, #, delta, .</td>\n",
       "    </tr>\n",
       "    <tr>\n",
       "      <th>79997</th>\n",
       "      <td>79997</td>\n",
       "      <td>it, is, certainly, very, refreshing, see, expl...</td>\n",
       "    </tr>\n",
       "    <tr>\n",
       "      <th>79998</th>\n",
       "      <td>79998</td>\n",
       "      <td>that, they, possibly, vaccinate, ,, with, pfiz...</td>\n",
       "    </tr>\n",
       "    <tr>\n",
       "      <th>79999</th>\n",
       "      <td>79999</td>\n",
       "      <td>antibody, vaccine, ..., modern, vaccine, ..., ...</td>\n",
       "    </tr>\n",
       "  </tbody>\n",
       "</table>\n",
       "<p>80000 rows × 2 columns</p>\n",
       "</div>"
      ],
      "text/plain": [
       "       Unnamed: 0                                                  0\n",
       "0               0  want, find, way, end, racism, try, force, peop...\n",
       "1               1  this, child, almost, died, tetanus, ,, spent, ...\n",
       "2               2  just, remember, my, ., leblanc, the, pressure,...\n",
       "3               3  you, would, expect, cases, rise, significantly...\n",
       "4               4  depends, whether, vaccination, status, is, emb...\n",
       "...           ...                                                ...\n",
       "79995       79995  the, most, important, and, main, thing, here, ...\n",
       "79996       79996     come, ,, top, i, er, off, i, some, #, delta, .\n",
       "79997       79997  it, is, certainly, very, refreshing, see, expl...\n",
       "79998       79998  that, they, possibly, vaccinate, ,, with, pfiz...\n",
       "79999       79999  antibody, vaccine, ..., modern, vaccine, ..., ...\n",
       "\n",
       "[80000 rows x 2 columns]"
      ]
     },
     "execution_count": 3,
     "metadata": {},
     "output_type": "execute_result"
    }
   ],
   "source": [
    "df = pd.read_csv(\"clara-usa-compiled.csv\")\n",
    "df"
   ]
  },
  {
   "cell_type": "code",
   "execution_count": 4,
   "id": "07b36aab",
   "metadata": {},
   "outputs": [],
   "source": [
    "df2 = df.sort_values(by=['Unnamed: 0'])"
   ]
  },
  {
   "cell_type": "code",
   "execution_count": 5,
   "id": "e0065888",
   "metadata": {},
   "outputs": [
    {
     "data": {
      "text/html": [
       "<div>\n",
       "<style scoped>\n",
       "    .dataframe tbody tr th:only-of-type {\n",
       "        vertical-align: middle;\n",
       "    }\n",
       "\n",
       "    .dataframe tbody tr th {\n",
       "        vertical-align: top;\n",
       "    }\n",
       "\n",
       "    .dataframe thead th {\n",
       "        text-align: right;\n",
       "    }\n",
       "</style>\n",
       "<table border=\"1\" class=\"dataframe\">\n",
       "  <thead>\n",
       "    <tr style=\"text-align: right;\">\n",
       "      <th></th>\n",
       "      <th>Unnamed: 0</th>\n",
       "      <th>0</th>\n",
       "    </tr>\n",
       "  </thead>\n",
       "  <tbody>\n",
       "    <tr>\n",
       "      <th>0</th>\n",
       "      <td>0</td>\n",
       "      <td>want, find, way, end, racism, try, force, peop...</td>\n",
       "    </tr>\n",
       "    <tr>\n",
       "      <th>1</th>\n",
       "      <td>1</td>\n",
       "      <td>this, child, almost, died, tetanus, ,, spent, ...</td>\n",
       "    </tr>\n",
       "    <tr>\n",
       "      <th>2</th>\n",
       "      <td>2</td>\n",
       "      <td>just, remember, my, ., leblanc, the, pressure,...</td>\n",
       "    </tr>\n",
       "    <tr>\n",
       "      <th>3</th>\n",
       "      <td>3</td>\n",
       "      <td>you, would, expect, cases, rise, significantly...</td>\n",
       "    </tr>\n",
       "    <tr>\n",
       "      <th>4</th>\n",
       "      <td>4</td>\n",
       "      <td>depends, whether, vaccination, status, is, emb...</td>\n",
       "    </tr>\n",
       "    <tr>\n",
       "      <th>...</th>\n",
       "      <td>...</td>\n",
       "      <td>...</td>\n",
       "    </tr>\n",
       "    <tr>\n",
       "      <th>79995</th>\n",
       "      <td>79995</td>\n",
       "      <td>the, most, important, and, main, thing, here, ...</td>\n",
       "    </tr>\n",
       "    <tr>\n",
       "      <th>79996</th>\n",
       "      <td>79996</td>\n",
       "      <td>come, ,, top, i, er, off, i, some, #, delta, .</td>\n",
       "    </tr>\n",
       "    <tr>\n",
       "      <th>79997</th>\n",
       "      <td>79997</td>\n",
       "      <td>it, is, certainly, very, refreshing, see, expl...</td>\n",
       "    </tr>\n",
       "    <tr>\n",
       "      <th>79998</th>\n",
       "      <td>79998</td>\n",
       "      <td>that, they, possibly, vaccinate, ,, with, pfiz...</td>\n",
       "    </tr>\n",
       "    <tr>\n",
       "      <th>79999</th>\n",
       "      <td>79999</td>\n",
       "      <td>antibody, vaccine, ..., modern, vaccine, ..., ...</td>\n",
       "    </tr>\n",
       "  </tbody>\n",
       "</table>\n",
       "<p>80000 rows × 2 columns</p>\n",
       "</div>"
      ],
      "text/plain": [
       "       Unnamed: 0                                                  0\n",
       "0               0  want, find, way, end, racism, try, force, peop...\n",
       "1               1  this, child, almost, died, tetanus, ,, spent, ...\n",
       "2               2  just, remember, my, ., leblanc, the, pressure,...\n",
       "3               3  you, would, expect, cases, rise, significantly...\n",
       "4               4  depends, whether, vaccination, status, is, emb...\n",
       "...           ...                                                ...\n",
       "79995       79995  the, most, important, and, main, thing, here, ...\n",
       "79996       79996     come, ,, top, i, er, off, i, some, #, delta, .\n",
       "79997       79997  it, is, certainly, very, refreshing, see, expl...\n",
       "79998       79998  that, they, possibly, vaccinate, ,, with, pfiz...\n",
       "79999       79999  antibody, vaccine, ..., modern, vaccine, ..., ...\n",
       "\n",
       "[80000 rows x 2 columns]"
      ]
     },
     "execution_count": 5,
     "metadata": {},
     "output_type": "execute_result"
    }
   ],
   "source": [
    "df2.to_csv('clara-usa-compiled.csv')\n",
    "df2"
   ]
  },
  {
   "cell_type": "code",
   "execution_count": 6,
   "id": "b1385717",
   "metadata": {},
   "outputs": [
    {
     "data": {
      "text/plain": [
       "0"
      ]
     },
     "execution_count": 6,
     "metadata": {},
     "output_type": "execute_result"
    }
   ],
   "source": [
    "df2.duplicated().sum()"
   ]
  }
 ],
 "metadata": {
  "kernelspec": {
   "display_name": "Python 3 (ipykernel)",
   "language": "python",
   "name": "python3"
  },
  "language_info": {
   "codemirror_mode": {
    "name": "ipython",
    "version": 3
   },
   "file_extension": ".py",
   "mimetype": "text/x-python",
   "name": "python",
   "nbconvert_exporter": "python",
   "pygments_lexer": "ipython3",
   "version": "3.9.7"
  }
 },
 "nbformat": 4,
 "nbformat_minor": 5
}
