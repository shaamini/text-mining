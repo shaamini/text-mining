{
 "cells": [
  {
   "cell_type": "code",
   "execution_count": 1,
   "id": "33265763",
   "metadata": {},
   "outputs": [],
   "source": [
    "import pandas as pd"
   ]
  },
  {
   "cell_type": "code",
   "execution_count": 2,
   "id": "75dd3405",
   "metadata": {},
   "outputs": [],
   "source": [
    "df = pd.read_csv(\"rachel-india-compiled.csv\")"
   ]
  },
  {
   "cell_type": "code",
   "execution_count": 4,
   "id": "02731f35",
   "metadata": {},
   "outputs": [],
   "source": [
    "df.drop_duplicates(keep='first', inplace=True)"
   ]
  },
  {
   "cell_type": "code",
   "execution_count": 5,
   "id": "f9d80841",
   "metadata": {},
   "outputs": [
    {
     "data": {
      "text/html": [
       "<div>\n",
       "<style scoped>\n",
       "    .dataframe tbody tr th:only-of-type {\n",
       "        vertical-align: middle;\n",
       "    }\n",
       "\n",
       "    .dataframe tbody tr th {\n",
       "        vertical-align: top;\n",
       "    }\n",
       "\n",
       "    .dataframe thead th {\n",
       "        text-align: right;\n",
       "    }\n",
       "</style>\n",
       "<table border=\"1\" class=\"dataframe\">\n",
       "  <thead>\n",
       "    <tr style=\"text-align: right;\">\n",
       "      <th></th>\n",
       "      <th>Unnamed: 0</th>\n",
       "      <th>0</th>\n",
       "    </tr>\n",
       "  </thead>\n",
       "  <tbody>\n",
       "    <tr>\n",
       "      <th>0</th>\n",
       "      <td>76000</td>\n",
       "      <td>it, is, suggestions, sir, increase, vaccinatio...</td>\n",
       "    </tr>\n",
       "    <tr>\n",
       "      <th>1</th>\n",
       "      <td>76001</td>\n",
       "      <td>ok, ,, i, rest, my, case, here, ., people, see...</td>\n",
       "    </tr>\n",
       "    <tr>\n",
       "      <th>2</th>\n",
       "      <td>76002</td>\n",
       "      <td>vaccinated, heart_exclamation, i</td>\n",
       "    </tr>\n",
       "    <tr>\n",
       "      <th>3</th>\n",
       "      <td>76003</td>\n",
       "      <td>I, have, been, vaccinated, ten, may, ,, two th...</td>\n",
       "    </tr>\n",
       "    <tr>\n",
       "      <th>4</th>\n",
       "      <td>76004</td>\n",
       "      <td>we, are, ready, serve, you, safeway, ,, becaus...</td>\n",
       "    </tr>\n",
       "    <tr>\n",
       "      <th>...</th>\n",
       "      <td>...</td>\n",
       "      <td>...</td>\n",
       "    </tr>\n",
       "    <tr>\n",
       "      <th>19183</th>\n",
       "      <td>95183</td>\n",
       "      <td>mask, up, face_with_medical_mask, india, India...</td>\n",
       "    </tr>\n",
       "    <tr>\n",
       "      <th>19184</th>\n",
       "      <td>95184</td>\n",
       "      <td>our, sincere, request, state, central, govt, f...</td>\n",
       "    </tr>\n",
       "    <tr>\n",
       "      <th>19185</th>\n",
       "      <td>95185</td>\n",
       "      <td>thanks, your, appreciation, valuable, feedback...</td>\n",
       "    </tr>\n",
       "    <tr>\n",
       "      <th>19186</th>\n",
       "      <td>95186</td>\n",
       "      <td>i, can, i, i, wait, get, my, and, dose, #, cov...</td>\n",
       "    </tr>\n",
       "    <tr>\n",
       "      <th>19187</th>\n",
       "      <td>95187</td>\n",
       "      <td>thanks, your, appreciation, valuable, feedback...</td>\n",
       "    </tr>\n",
       "  </tbody>\n",
       "</table>\n",
       "<p>19188 rows × 2 columns</p>\n",
       "</div>"
      ],
      "text/plain": [
       "       Unnamed: 0                                                  0\n",
       "0           76000  it, is, suggestions, sir, increase, vaccinatio...\n",
       "1           76001  ok, ,, i, rest, my, case, here, ., people, see...\n",
       "2           76002                   vaccinated, heart_exclamation, i\n",
       "3           76003  I, have, been, vaccinated, ten, may, ,, two th...\n",
       "4           76004  we, are, ready, serve, you, safeway, ,, becaus...\n",
       "...           ...                                                ...\n",
       "19183       95183  mask, up, face_with_medical_mask, india, India...\n",
       "19184       95184  our, sincere, request, state, central, govt, f...\n",
       "19185       95185  thanks, your, appreciation, valuable, feedback...\n",
       "19186       95186  i, can, i, i, wait, get, my, and, dose, #, cov...\n",
       "19187       95187  thanks, your, appreciation, valuable, feedback...\n",
       "\n",
       "[19188 rows x 2 columns]"
      ]
     },
     "execution_count": 5,
     "metadata": {},
     "output_type": "execute_result"
    }
   ],
   "source": [
    "df"
   ]
  },
  {
   "cell_type": "code",
   "execution_count": null,
   "id": "55b53a75",
   "metadata": {},
   "outputs": [],
   "source": []
  }
 ],
 "metadata": {
  "kernelspec": {
   "display_name": "Python 3 (ipykernel)",
   "language": "python",
   "name": "python3"
  },
  "language_info": {
   "codemirror_mode": {
    "name": "ipython",
    "version": 3
   },
   "file_extension": ".py",
   "mimetype": "text/x-python",
   "name": "python",
   "nbconvert_exporter": "python",
   "pygments_lexer": "ipython3",
   "version": "3.8.8"
  }
 },
 "nbformat": 4,
 "nbformat_minor": 5
}
