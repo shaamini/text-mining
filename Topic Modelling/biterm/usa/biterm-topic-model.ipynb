{
 "cells": [
  {
   "cell_type": "markdown",
   "metadata": {},
   "source": [
    "# Overview\n",
    "\n",
    "For my first go at the NLP Getting Started competition, I tried the \"biterm topic model\" of [Yan et al 2013](http://citeseerx.ist.psu.edu/viewdoc/download?doi=10.1.1.402.4032&rep=rep1&type=pdf), thinking that the short length of tweets would lead to a very sparse doc-term matrix and make topic inference sketchy. The biterm model adjusts the Latent Dirichlet topic model in two ways:\n",
    "\n",
    "* Estimates a single distribution over topics for the whole corpus, instead of estimating a dirichlet prior for that distribution s.t. it can vary over documents, and\n",
    "\n",
    "* Models the likelihood of biterms -- word pairs co-occurring in documents -- rather than unigrams. This means that although the document-level structure of the topic distribution is gone, it is implicitly reintroduced through this co-occurrence structure\n",
    "\n",
    "This method gave a basic level of performance (f1 ~.70) but was very slow to run on the full (small!) training set. More traditional classification approaches (e.g. [SVM](https://www.kaggle.com/amackcrane/svm-knn)) turned out to be quicker and better for this task -- which makes sense, because predicting \"real or not\" labels is not obviously about topic inference per se."
   ]
  },
  {
   "cell_type": "code",
   "execution_count": 1,
   "metadata": {
    "_kg_hide-output": true
   },
   "outputs": [
    {
     "name": "stdout",
     "output_type": "stream",
     "text": [
      "Collecting biterm\n",
      "  Using cached biterm-0.1.5.tar.gz (79 kB)\n",
      "  Preparing metadata (setup.py) ... \u001b[?25ldone\n",
      "\u001b[?25hRequirement already satisfied: numpy in /Users/racheltans/miniforge3/lib/python3.9/site-packages (from biterm) (1.22.2)\n",
      "Requirement already satisfied: tqdm in /Users/racheltans/miniforge3/lib/python3.9/site-packages (from biterm) (4.62.3)\n",
      "Collecting cython\n",
      "  Using cached Cython-0.29.28-py2.py3-none-any.whl (983 kB)\n",
      "Collecting nltk\n",
      "  Using cached nltk-3.7-py3-none-any.whl (1.5 MB)\n",
      "Requirement already satisfied: regex>=2021.8.3 in /Users/racheltans/miniforge3/lib/python3.9/site-packages (from nltk->biterm) (2022.3.15)\n",
      "Requirement already satisfied: click in /Users/racheltans/miniforge3/lib/python3.9/site-packages (from nltk->biterm) (8.0.4)\n",
      "Requirement already satisfied: joblib in /Users/racheltans/miniforge3/lib/python3.9/site-packages (from nltk->biterm) (1.1.0)\n",
      "Building wheels for collected packages: biterm\n",
      "  Building wheel for biterm (setup.py) ... \u001b[?25lerror\n",
      "  \u001b[1;31merror\u001b[0m: \u001b[1msubprocess-exited-with-error\u001b[0m\n",
      "  \n",
      "  \u001b[31m×\u001b[0m \u001b[32mpython setup.py bdist_wheel\u001b[0m did not run successfully.\n",
      "  \u001b[31m│\u001b[0m exit code: \u001b[1;36m1\u001b[0m\n",
      "  \u001b[31m╰─>\u001b[0m \u001b[31m[240 lines of output]\u001b[0m\n",
      "  \u001b[31m   \u001b[0m /Users/racheltans/miniforge3/lib/python3.9/site-packages/setuptools/installer.py:27: SetuptoolsDeprecationWarning: setuptools.installer is deprecated. Requirements should be satisfied by a PEP 517 installer.\n",
      "  \u001b[31m   \u001b[0m   warnings.warn(\n",
      "  \u001b[31m   \u001b[0m running bdist_wheel\n",
      "  \u001b[31m   \u001b[0m running build\n",
      "  \u001b[31m   \u001b[0m running build_py\n",
      "  \u001b[31m   \u001b[0m creating build\n",
      "  \u001b[31m   \u001b[0m creating build/lib.macosx-11.0-arm64-3.9\n",
      "  \u001b[31m   \u001b[0m creating build/lib.macosx-11.0-arm64-3.9/biterm\n",
      "  \u001b[31m   \u001b[0m copying biterm/btm.py -> build/lib.macosx-11.0-arm64-3.9/biterm\n",
      "  \u001b[31m   \u001b[0m copying biterm/utility.py -> build/lib.macosx-11.0-arm64-3.9/biterm\n",
      "  \u001b[31m   \u001b[0m copying biterm/__init__.py -> build/lib.macosx-11.0-arm64-3.9/biterm\n",
      "  \u001b[31m   \u001b[0m copying biterm/__main__.py -> build/lib.macosx-11.0-arm64-3.9/biterm\n",
      "  \u001b[31m   \u001b[0m running build_ext\n",
      "  \u001b[31m   \u001b[0m building 'biterm.cbtm' extension\n",
      "  \u001b[31m   \u001b[0m creating build/temp.macosx-11.0-arm64-3.9\n",
      "  \u001b[31m   \u001b[0m creating build/temp.macosx-11.0-arm64-3.9/biterm\n",
      "  \u001b[31m   \u001b[0m clang -Wno-unused-result -Wsign-compare -Wunreachable-code -DNDEBUG -fwrapv -O2 -Wall -fPIC -O2 -isystem /Users/racheltans/miniforge3/include -arch arm64 -fPIC -O2 -isystem /Users/racheltans/miniforge3/include -arch arm64 -I/Users/racheltans/miniforge3/lib/python3.9/site-packages/numpy/core/include -I/Users/racheltans/miniforge3/include/python3.9 -c biterm/cbtm.c -o build/temp.macosx-11.0-arm64-3.9/biterm/cbtm.o\n",
      "  \u001b[31m   \u001b[0m 2022-03-30 13:06:29.446 xcodebuild[8450:1997567] Requested but did not find extension point with identifier Xcode.IDEKit.ExtensionSentinelHostApplications for extension Xcode.DebuggerFoundation.AppExtensionHosts.watchOS of plug-in com.apple.dt.IDEWatchSupportCore\n",
      "  \u001b[31m   \u001b[0m 2022-03-30 13:06:29.446 xcodebuild[8450:1997567] Requested but did not find extension point with identifier Xcode.IDEKit.ExtensionPointIdentifierToBundleIdentifier for extension Xcode.DebuggerFoundation.AppExtensionToBundleIdentifierMap.watchOS of plug-in com.apple.dt.IDEWatchSupportCore\n",
      "  \u001b[31m   \u001b[0m In file included from biterm/cbtm.c:612:\n",
      "  \u001b[31m   \u001b[0m In file included from /Users/racheltans/miniforge3/lib/python3.9/site-packages/numpy/core/include/numpy/arrayobject.h:5:\n",
      "  \u001b[31m   \u001b[0m In file included from /Users/racheltans/miniforge3/lib/python3.9/site-packages/numpy/core/include/numpy/ndarrayobject.h:12:\n",
      "  \u001b[31m   \u001b[0m In file included from /Users/racheltans/miniforge3/lib/python3.9/site-packages/numpy/core/include/numpy/ndarraytypes.h:1960:\n",
      "  \u001b[31m   \u001b[0m /Users/racheltans/miniforge3/lib/python3.9/site-packages/numpy/core/include/numpy/npy_1_7_deprecated_api.h:17:2: warning: \"Using deprecated NumPy API, disable it with \"          \"#define NPY_NO_DEPRECATED_API NPY_1_7_API_VERSION\" [-W#warnings]\n",
      "  \u001b[31m   \u001b[0m #warning \"Using deprecated NumPy API, disable it with \" \\\n",
      "  \u001b[31m   \u001b[0m  ^\n",
      "  \u001b[31m   \u001b[0m biterm/cbtm.c:10025:22: warning: '_PyUnicode_get_wstr_length' is deprecated [-Wdeprecated-declarations]\n",
      "  \u001b[31m   \u001b[0m                     (PyUnicode_GET_SIZE(**name) != PyUnicode_GET_SIZE(key)) ? 1 :\n",
      "  \u001b[31m   \u001b[0m                      ^\n",
      "  \u001b[31m   \u001b[0m /Users/racheltans/miniforge3/include/python3.9/cpython/unicodeobject.h:261:7: note: expanded from macro 'PyUnicode_GET_SIZE'\n",
      "  \u001b[31m   \u001b[0m       PyUnicode_WSTR_LENGTH(op) :                    \\\n",
      "  \u001b[31m   \u001b[0m       ^\n",
      "  \u001b[31m   \u001b[0m /Users/racheltans/miniforge3/include/python3.9/cpython/unicodeobject.h:451:35: note: expanded from macro 'PyUnicode_WSTR_LENGTH'\n",
      "  \u001b[31m   \u001b[0m #define PyUnicode_WSTR_LENGTH(op) _PyUnicode_get_wstr_length((PyObject*)op)\n",
      "  \u001b[31m   \u001b[0m                                   ^\n",
      "  \u001b[31m   \u001b[0m /Users/racheltans/miniforge3/include/python3.9/cpython/unicodeobject.h:445:1: note: '_PyUnicode_get_wstr_length' has been explicitly marked deprecated here\n",
      "  \u001b[31m   \u001b[0m Py_DEPRECATED(3.3)\n",
      "  \u001b[31m   \u001b[0m ^\n",
      "  \u001b[31m   \u001b[0m /Users/racheltans/miniforge3/include/python3.9/pyport.h:508:54: note: expanded from macro 'Py_DEPRECATED'\n",
      "  \u001b[31m   \u001b[0m #define Py_DEPRECATED(VERSION_UNUSED) __attribute__((__deprecated__))\n",
      "  \u001b[31m   \u001b[0m                                                      ^\n",
      "  \u001b[31m   \u001b[0m biterm/cbtm.c:10025:22: warning: 'PyUnicode_AsUnicode' is deprecated [-Wdeprecated-declarations]\n",
      "  \u001b[31m   \u001b[0m                     (PyUnicode_GET_SIZE(**name) != PyUnicode_GET_SIZE(key)) ? 1 :\n",
      "  \u001b[31m   \u001b[0m                      ^\n",
      "  \u001b[31m   \u001b[0m /Users/racheltans/miniforge3/include/python3.9/cpython/unicodeobject.h:262:14: note: expanded from macro 'PyUnicode_GET_SIZE'\n",
      "  \u001b[31m   \u001b[0m       ((void)PyUnicode_AsUnicode(_PyObject_CAST(op)),\\\n",
      "  \u001b[31m   \u001b[0m              ^\n",
      "  \u001b[31m   \u001b[0m /Users/racheltans/miniforge3/include/python3.9/cpython/unicodeobject.h:580:1: note: 'PyUnicode_AsUnicode' has been explicitly marked deprecated here\n",
      "  \u001b[31m   \u001b[0m Py_DEPRECATED(3.3) PyAPI_FUNC(Py_UNICODE *) PyUnicode_AsUnicode(\n",
      "  \u001b[31m   \u001b[0m ^\n",
      "  \u001b[31m   \u001b[0m /Users/racheltans/miniforge3/include/python3.9/pyport.h:508:54: note: expanded from macro 'Py_DEPRECATED'\n",
      "  \u001b[31m   \u001b[0m #define Py_DEPRECATED(VERSION_UNUSED) __attribute__((__deprecated__))\n",
      "  \u001b[31m   \u001b[0m                                                      ^\n",
      "  \u001b[31m   \u001b[0m biterm/cbtm.c:10025:22: warning: '_PyUnicode_get_wstr_length' is deprecated [-Wdeprecated-declarations]\n",
      "  \u001b[31m   \u001b[0m                     (PyUnicode_GET_SIZE(**name) != PyUnicode_GET_SIZE(key)) ? 1 :\n",
      "  \u001b[31m   \u001b[0m                      ^\n",
      "  \u001b[31m   \u001b[0m /Users/racheltans/miniforge3/include/python3.9/cpython/unicodeobject.h:264:8: note: expanded from macro 'PyUnicode_GET_SIZE'\n",
      "  \u001b[31m   \u001b[0m        PyUnicode_WSTR_LENGTH(op)))\n",
      "  \u001b[31m   \u001b[0m        ^\n",
      "  \u001b[31m   \u001b[0m /Users/racheltans/miniforge3/include/python3.9/cpython/unicodeobject.h:451:35: note: expanded from macro 'PyUnicode_WSTR_LENGTH'\n",
      "  \u001b[31m   \u001b[0m #define PyUnicode_WSTR_LENGTH(op) _PyUnicode_get_wstr_length((PyObject*)op)\n",
      "  \u001b[31m   \u001b[0m                                   ^\n",
      "  \u001b[31m   \u001b[0m /Users/racheltans/miniforge3/include/python3.9/cpython/unicodeobject.h:445:1: note: '_PyUnicode_get_wstr_length' has been explicitly marked deprecated here\n",
      "  \u001b[31m   \u001b[0m Py_DEPRECATED(3.3)\n",
      "  \u001b[31m   \u001b[0m ^\n",
      "  \u001b[31m   \u001b[0m /Users/racheltans/miniforge3/include/python3.9/pyport.h:508:54: note: expanded from macro 'Py_DEPRECATED'\n",
      "  \u001b[31m   \u001b[0m #define Py_DEPRECATED(VERSION_UNUSED) __attribute__((__deprecated__))\n",
      "  \u001b[31m   \u001b[0m                                                      ^\n",
      "  \u001b[31m   \u001b[0m biterm/cbtm.c:10025:52: warning: '_PyUnicode_get_wstr_length' is deprecated [-Wdeprecated-declarations]\n",
      "  \u001b[31m   \u001b[0m                     (PyUnicode_GET_SIZE(**name) != PyUnicode_GET_SIZE(key)) ? 1 :\n",
      "  \u001b[31m   \u001b[0m                                                    ^\n",
      "  \u001b[31m   \u001b[0m /Users/racheltans/miniforge3/include/python3.9/cpython/unicodeobject.h:261:7: note: expanded from macro 'PyUnicode_GET_SIZE'\n",
      "  \u001b[31m   \u001b[0m       PyUnicode_WSTR_LENGTH(op) :                    \\\n",
      "  \u001b[31m   \u001b[0m       ^\n",
      "  \u001b[31m   \u001b[0m /Users/racheltans/miniforge3/include/python3.9/cpython/unicodeobject.h:451:35: note: expanded from macro 'PyUnicode_WSTR_LENGTH'\n",
      "  \u001b[31m   \u001b[0m #define PyUnicode_WSTR_LENGTH(op) _PyUnicode_get_wstr_length((PyObject*)op)\n",
      "  \u001b[31m   \u001b[0m                                   ^\n",
      "  \u001b[31m   \u001b[0m /Users/racheltans/miniforge3/include/python3.9/cpython/unicodeobject.h:445:1: note: '_PyUnicode_get_wstr_length' has been explicitly marked deprecated here\n",
      "  \u001b[31m   \u001b[0m Py_DEPRECATED(3.3)\n",
      "  \u001b[31m   \u001b[0m ^\n",
      "  \u001b[31m   \u001b[0m /Users/racheltans/miniforge3/include/python3.9/pyport.h:508:54: note: expanded from macro 'Py_DEPRECATED'\n",
      "  \u001b[31m   \u001b[0m #define Py_DEPRECATED(VERSION_UNUSED) __attribute__((__deprecated__))\n",
      "  \u001b[31m   \u001b[0m                                                      ^\n",
      "  \u001b[31m   \u001b[0m biterm/cbtm.c:10025:52: warning: 'PyUnicode_AsUnicode' is deprecated [-Wdeprecated-declarations]\n",
      "  \u001b[31m   \u001b[0m                     (PyUnicode_GET_SIZE(**name) != PyUnicode_GET_SIZE(key)) ? 1 :\n",
      "  \u001b[31m   \u001b[0m                                                    ^\n",
      "  \u001b[31m   \u001b[0m /Users/racheltans/miniforge3/include/python3.9/cpython/unicodeobject.h:262:14: note: expanded from macro 'PyUnicode_GET_SIZE'\n",
      "  \u001b[31m   \u001b[0m       ((void)PyUnicode_AsUnicode(_PyObject_CAST(op)),\\\n",
      "  \u001b[31m   \u001b[0m              ^\n",
      "  \u001b[31m   \u001b[0m /Users/racheltans/miniforge3/include/python3.9/cpython/unicodeobject.h:580:1: note: 'PyUnicode_AsUnicode' has been explicitly marked deprecated here\n",
      "  \u001b[31m   \u001b[0m Py_DEPRECATED(3.3) PyAPI_FUNC(Py_UNICODE *) PyUnicode_AsUnicode(\n",
      "  \u001b[31m   \u001b[0m ^\n",
      "  \u001b[31m   \u001b[0m /Users/racheltans/miniforge3/include/python3.9/pyport.h:508:54: note: expanded from macro 'Py_DEPRECATED'\n",
      "  \u001b[31m   \u001b[0m #define Py_DEPRECATED(VERSION_UNUSED) __attribute__((__deprecated__))\n",
      "  \u001b[31m   \u001b[0m                                                      ^\n",
      "  \u001b[31m   \u001b[0m biterm/cbtm.c:10025:52: warning: '_PyUnicode_get_wstr_length' is deprecated [-Wdeprecated-declarations]\n",
      "  \u001b[31m   \u001b[0m                     (PyUnicode_GET_SIZE(**name) != PyUnicode_GET_SIZE(key)) ? 1 :\n",
      "  \u001b[31m   \u001b[0m                                                    ^\n",
      "  \u001b[31m   \u001b[0m /Users/racheltans/miniforge3/include/python3.9/cpython/unicodeobject.h:264:8: note: expanded from macro 'PyUnicode_GET_SIZE'\n",
      "  \u001b[31m   \u001b[0m        PyUnicode_WSTR_LENGTH(op)))\n",
      "  \u001b[31m   \u001b[0m        ^\n",
      "  \u001b[31m   \u001b[0m /Users/racheltans/miniforge3/include/python3.9/cpython/unicodeobject.h:451:35: note: expanded from macro 'PyUnicode_WSTR_LENGTH'\n",
      "  \u001b[31m   \u001b[0m #define PyUnicode_WSTR_LENGTH(op) _PyUnicode_get_wstr_length((PyObject*)op)\n",
      "  \u001b[31m   \u001b[0m                                   ^\n",
      "  \u001b[31m   \u001b[0m /Users/racheltans/miniforge3/include/python3.9/cpython/unicodeobject.h:445:1: note: '_PyUnicode_get_wstr_length' has been explicitly marked deprecated here\n",
      "  \u001b[31m   \u001b[0m Py_DEPRECATED(3.3)\n",
      "  \u001b[31m   \u001b[0m ^\n",
      "  \u001b[31m   \u001b[0m /Users/racheltans/miniforge3/include/python3.9/pyport.h:508:54: note: expanded from macro 'Py_DEPRECATED'\n",
      "  \u001b[31m   \u001b[0m #define Py_DEPRECATED(VERSION_UNUSED) __attribute__((__deprecated__))\n",
      "  \u001b[31m   \u001b[0m                                                      ^\n",
      "  \u001b[31m   \u001b[0m biterm/cbtm.c:10041:26: warning: '_PyUnicode_get_wstr_length' is deprecated [-Wdeprecated-declarations]\n",
      "  \u001b[31m   \u001b[0m                         (PyUnicode_GET_SIZE(**argname) != PyUnicode_GET_SIZE(key)) ? 1 :\n",
      "  \u001b[31m   \u001b[0m                          ^\n",
      "  \u001b[31m   \u001b[0m /Users/racheltans/miniforge3/include/python3.9/cpython/unicodeobject.h:261:7: note: expanded from macro 'PyUnicode_GET_SIZE'\n",
      "  \u001b[31m   \u001b[0m       PyUnicode_WSTR_LENGTH(op) :                    \\\n",
      "  \u001b[31m   \u001b[0m       ^\n",
      "  \u001b[31m   \u001b[0m /Users/racheltans/miniforge3/include/python3.9/cpython/unicodeobject.h:451:35: note: expanded from macro 'PyUnicode_WSTR_LENGTH'\n",
      "  \u001b[31m   \u001b[0m #define PyUnicode_WSTR_LENGTH(op) _PyUnicode_get_wstr_length((PyObject*)op)\n",
      "  \u001b[31m   \u001b[0m                                   ^\n",
      "  \u001b[31m   \u001b[0m /Users/racheltans/miniforge3/include/python3.9/cpython/unicodeobject.h:445:1: note: '_PyUnicode_get_wstr_length' has been explicitly marked deprecated here\n",
      "  \u001b[31m   \u001b[0m Py_DEPRECATED(3.3)\n",
      "  \u001b[31m   \u001b[0m ^\n",
      "  \u001b[31m   \u001b[0m /Users/racheltans/miniforge3/include/python3.9/pyport.h:508:54: note: expanded from macro 'Py_DEPRECATED'\n",
      "  \u001b[31m   \u001b[0m #define Py_DEPRECATED(VERSION_UNUSED) __attribute__((__deprecated__))\n",
      "  \u001b[31m   \u001b[0m                                                      ^\n",
      "  \u001b[31m   \u001b[0m biterm/cbtm.c:10041:26: warning: 'PyUnicode_AsUnicode' is deprecated [-Wdeprecated-declarations]\n",
      "  \u001b[31m   \u001b[0m                         (PyUnicode_GET_SIZE(**argname) != PyUnicode_GET_SIZE(key)) ? 1 :\n",
      "  \u001b[31m   \u001b[0m                          ^\n",
      "  \u001b[31m   \u001b[0m /Users/racheltans/miniforge3/include/python3.9/cpython/unicodeobject.h:262:14: note: expanded from macro 'PyUnicode_GET_SIZE'\n",
      "  \u001b[31m   \u001b[0m       ((void)PyUnicode_AsUnicode(_PyObject_CAST(op)),\\\n",
      "  \u001b[31m   \u001b[0m              ^\n",
      "  \u001b[31m   \u001b[0m /Users/racheltans/miniforge3/include/python3.9/cpython/unicodeobject.h:580:1: note: 'PyUnicode_AsUnicode' has been explicitly marked deprecated here\n",
      "  \u001b[31m   \u001b[0m Py_DEPRECATED(3.3) PyAPI_FUNC(Py_UNICODE *) PyUnicode_AsUnicode(\n",
      "  \u001b[31m   \u001b[0m ^\n",
      "  \u001b[31m   \u001b[0m /Users/racheltans/miniforge3/include/python3.9/pyport.h:508:54: note: expanded from macro 'Py_DEPRECATED'\n",
      "  \u001b[31m   \u001b[0m #define Py_DEPRECATED(VERSION_UNUSED) __attribute__((__deprecated__))\n",
      "  \u001b[31m   \u001b[0m                                                      ^\n",
      "  \u001b[31m   \u001b[0m biterm/cbtm.c:10041:26: warning: '_PyUnicode_get_wstr_length' is deprecated [-Wdeprecated-declarations]\n",
      "  \u001b[31m   \u001b[0m                         (PyUnicode_GET_SIZE(**argname) != PyUnicode_GET_SIZE(key)) ? 1 :\n",
      "  \u001b[31m   \u001b[0m                          ^\n",
      "  \u001b[31m   \u001b[0m /Users/racheltans/miniforge3/include/python3.9/cpython/unicodeobject.h:264:8: note: expanded from macro 'PyUnicode_GET_SIZE'\n",
      "  \u001b[31m   \u001b[0m        PyUnicode_WSTR_LENGTH(op)))\n",
      "  \u001b[31m   \u001b[0m        ^\n",
      "  \u001b[31m   \u001b[0m /Users/racheltans/miniforge3/include/python3.9/cpython/unicodeobject.h:451:35: note: expanded from macro 'PyUnicode_WSTR_LENGTH'\n",
      "  \u001b[31m   \u001b[0m #define PyUnicode_WSTR_LENGTH(op) _PyUnicode_get_wstr_length((PyObject*)op)\n",
      "  \u001b[31m   \u001b[0m                                   ^\n",
      "  \u001b[31m   \u001b[0m /Users/racheltans/miniforge3/include/python3.9/cpython/unicodeobject.h:445:1: note: '_PyUnicode_get_wstr_length' has been explicitly marked deprecated here\n",
      "  \u001b[31m   \u001b[0m Py_DEPRECATED(3.3)\n",
      "  \u001b[31m   \u001b[0m ^\n",
      "  \u001b[31m   \u001b[0m /Users/racheltans/miniforge3/include/python3.9/pyport.h:508:54: note: expanded from macro 'Py_DEPRECATED'\n",
      "  \u001b[31m   \u001b[0m #define Py_DEPRECATED(VERSION_UNUSED) __attribute__((__deprecated__))\n",
      "  \u001b[31m   \u001b[0m                                                      ^\n",
      "  \u001b[31m   \u001b[0m biterm/cbtm.c:10041:59: warning: '_PyUnicode_get_wstr_length' is deprecated [-Wdeprecated-declarations]\n",
      "  \u001b[31m   \u001b[0m                         (PyUnicode_GET_SIZE(**argname) != PyUnicode_GET_SIZE(key)) ? 1 :\n",
      "  \u001b[31m   \u001b[0m                                                           ^\n",
      "  \u001b[31m   \u001b[0m /Users/racheltans/miniforge3/include/python3.9/cpython/unicodeobject.h:261:7: note: expanded from macro 'PyUnicode_GET_SIZE'\n",
      "  \u001b[31m   \u001b[0m       PyUnicode_WSTR_LENGTH(op) :                    \\\n",
      "  \u001b[31m   \u001b[0m       ^\n",
      "  \u001b[31m   \u001b[0m /Users/racheltans/miniforge3/include/python3.9/cpython/unicodeobject.h:451:35: note: expanded from macro 'PyUnicode_WSTR_LENGTH'\n",
      "  \u001b[31m   \u001b[0m #define PyUnicode_WSTR_LENGTH(op) _PyUnicode_get_wstr_length((PyObject*)op)\n",
      "  \u001b[31m   \u001b[0m                                   ^\n",
      "  \u001b[31m   \u001b[0m /Users/racheltans/miniforge3/include/python3.9/cpython/unicodeobject.h:445:1: note: '_PyUnicode_get_wstr_length' has been explicitly marked deprecated here\n",
      "  \u001b[31m   \u001b[0m Py_DEPRECATED(3.3)\n",
      "  \u001b[31m   \u001b[0m ^\n",
      "  \u001b[31m   \u001b[0m /Users/racheltans/miniforge3/include/python3.9/pyport.h:508:54: note: expanded from macro 'Py_DEPRECATED'\n",
      "  \u001b[31m   \u001b[0m #define Py_DEPRECATED(VERSION_UNUSED) __attribute__((__deprecated__))\n",
      "  \u001b[31m   \u001b[0m                                                      ^\n",
      "  \u001b[31m   \u001b[0m biterm/cbtm.c:10041:59: warning: 'PyUnicode_AsUnicode' is deprecated [-Wdeprecated-declarations]\n",
      "  \u001b[31m   \u001b[0m                         (PyUnicode_GET_SIZE(**argname) != PyUnicode_GET_SIZE(key)) ? 1 :\n",
      "  \u001b[31m   \u001b[0m                                                           ^\n",
      "  \u001b[31m   \u001b[0m /Users/racheltans/miniforge3/include/python3.9/cpython/unicodeobject.h:262:14: note: expanded from macro 'PyUnicode_GET_SIZE'\n",
      "  \u001b[31m   \u001b[0m       ((void)PyUnicode_AsUnicode(_PyObject_CAST(op)),\\\n",
      "  \u001b[31m   \u001b[0m              ^\n",
      "  \u001b[31m   \u001b[0m /Users/racheltans/miniforge3/include/python3.9/cpython/unicodeobject.h:580:1: note: 'PyUnicode_AsUnicode' has been explicitly marked deprecated here\n",
      "  \u001b[31m   \u001b[0m Py_DEPRECATED(3.3) PyAPI_FUNC(Py_UNICODE *) PyUnicode_AsUnicode(\n",
      "  \u001b[31m   \u001b[0m ^\n",
      "  \u001b[31m   \u001b[0m /Users/racheltans/miniforge3/include/python3.9/pyport.h:508:54: note: expanded from macro 'Py_DEPRECATED'\n",
      "  \u001b[31m   \u001b[0m #define Py_DEPRECATED(VERSION_UNUSED) __attribute__((__deprecated__))\n",
      "  \u001b[31m   \u001b[0m                                                      ^\n",
      "  \u001b[31m   \u001b[0m biterm/cbtm.c:10041:59: warning: '_PyUnicode_get_wstr_length' is deprecated [-Wdeprecated-declarations]\n",
      "  \u001b[31m   \u001b[0m                         (PyUnicode_GET_SIZE(**argname) != PyUnicode_GET_SIZE(key)) ? 1 :\n",
      "  \u001b[31m   \u001b[0m                                                           ^\n",
      "  \u001b[31m   \u001b[0m /Users/racheltans/miniforge3/include/python3.9/cpython/unicodeobject.h:264:8: note: expanded from macro 'PyUnicode_GET_SIZE'\n",
      "  \u001b[31m   \u001b[0m        PyUnicode_WSTR_LENGTH(op)))\n",
      "  \u001b[31m   \u001b[0m        ^\n",
      "  \u001b[31m   \u001b[0m /Users/racheltans/miniforge3/include/python3.9/cpython/unicodeobject.h:451:35: note: expanded from macro 'PyUnicode_WSTR_LENGTH'\n",
      "  \u001b[31m   \u001b[0m #define PyUnicode_WSTR_LENGTH(op) _PyUnicode_get_wstr_length((PyObject*)op)\n",
      "  \u001b[31m   \u001b[0m                                   ^\n",
      "  \u001b[31m   \u001b[0m /Users/racheltans/miniforge3/include/python3.9/cpython/unicodeobject.h:445:1: note: '_PyUnicode_get_wstr_length' has been explicitly marked deprecated here\n",
      "  \u001b[31m   \u001b[0m Py_DEPRECATED(3.3)\n",
      "  \u001b[31m   \u001b[0m ^\n",
      "  \u001b[31m   \u001b[0m /Users/racheltans/miniforge3/include/python3.9/pyport.h:508:54: note: expanded from macro 'Py_DEPRECATED'\n",
      "  \u001b[31m   \u001b[0m #define Py_DEPRECATED(VERSION_UNUSED) __attribute__((__deprecated__))\n",
      "  \u001b[31m   \u001b[0m                                                      ^\n",
      "  \u001b[31m   \u001b[0m 13 warnings generated.\n",
      "  \u001b[31m   \u001b[0m clang -bundle -undefined dynamic_lookup -Wl,-rpath,/Users/racheltans/miniforge3/lib -L/Users/racheltans/miniforge3/lib -Wl,-rpath,/Users/racheltans/miniforge3/lib -L/Users/racheltans/miniforge3/lib build/temp.macosx-11.0-arm64-3.9/biterm/cbtm.o -o build/lib.macosx-11.0-arm64-3.9/biterm/cbtm.cpython-39-darwin.so\n",
      "  \u001b[31m   \u001b[0m ld: warning: ignoring file build/temp.macosx-11.0-arm64-3.9/biterm/cbtm.o, building for macOS-x86_64 but attempting to link with file built for unknown-arm64\n",
      "  \u001b[31m   \u001b[0m /Users/racheltans/miniforge3/lib/python3.9/site-packages/setuptools/command/install.py:34: SetuptoolsDeprecationWarning: setup.py install is deprecated. Use build and pip and other standards-based tools.\n",
      "  \u001b[31m   \u001b[0m   warnings.warn(\n",
      "  \u001b[31m   \u001b[0m installing to build/bdist.macosx-11.0-arm64/wheel\n",
      "  \u001b[31m   \u001b[0m running install\n",
      "  \u001b[31m   \u001b[0m running install_lib\n",
      "  \u001b[31m   \u001b[0m creating build/bdist.macosx-11.0-arm64\n",
      "  \u001b[31m   \u001b[0m creating build/bdist.macosx-11.0-arm64/wheel\n",
      "  \u001b[31m   \u001b[0m creating build/bdist.macosx-11.0-arm64/wheel/biterm\n",
      "  \u001b[31m   \u001b[0m copying build/lib.macosx-11.0-arm64-3.9/biterm/btm.py -> build/bdist.macosx-11.0-arm64/wheel/biterm\n",
      "  \u001b[31m   \u001b[0m copying build/lib.macosx-11.0-arm64-3.9/biterm/utility.py -> build/bdist.macosx-11.0-arm64/wheel/biterm\n",
      "  \u001b[31m   \u001b[0m copying build/lib.macosx-11.0-arm64-3.9/biterm/cbtm.cpython-39-darwin.so -> build/bdist.macosx-11.0-arm64/wheel/biterm\n",
      "  \u001b[31m   \u001b[0m copying build/lib.macosx-11.0-arm64-3.9/biterm/__init__.py -> build/bdist.macosx-11.0-arm64/wheel/biterm\n",
      "  \u001b[31m   \u001b[0m copying build/lib.macosx-11.0-arm64-3.9/biterm/__main__.py -> build/bdist.macosx-11.0-arm64/wheel/biterm\n",
      "  \u001b[31m   \u001b[0m running install_egg_info\n",
      "  \u001b[31m   \u001b[0m running egg_info\n",
      "  \u001b[31m   \u001b[0m writing biterm.egg-info/PKG-INFO\n",
      "  \u001b[31m   \u001b[0m writing dependency_links to biterm.egg-info/dependency_links.txt\n",
      "  \u001b[31m   \u001b[0m writing requirements to biterm.egg-info/requires.txt\n",
      "  \u001b[31m   \u001b[0m writing top-level names to biterm.egg-info/top_level.txt\n",
      "  \u001b[31m   \u001b[0m reading manifest file 'biterm.egg-info/SOURCES.txt'\n",
      "  \u001b[31m   \u001b[0m writing manifest file 'biterm.egg-info/SOURCES.txt'\n",
      "  \u001b[31m   \u001b[0m Copying biterm.egg-info to build/bdist.macosx-11.0-arm64/wheel/biterm-0.1.5-py3.9.egg-info\n",
      "  \u001b[31m   \u001b[0m running install_scripts\n",
      "  \u001b[31m   \u001b[0m Traceback (most recent call last):\n",
      "  \u001b[31m   \u001b[0m   File \"<string>\", line 2, in <module>\n",
      "  \u001b[31m   \u001b[0m   File \"<pip-setuptools-caller>\", line 34, in <module>\n",
      "  \u001b[31m   \u001b[0m   File \"/private/var/folders/pk/mh54kmcs083ggkf50q9s_r1c0000gn/T/pip-install-h4cbyd7b/biterm_bb4a9595b70a480398840ce2ff461eca/setup.py\", line 19, in <module>\n",
      "  \u001b[31m   \u001b[0m     setup(\n",
      "  \u001b[31m   \u001b[0m   File \"/Users/racheltans/miniforge3/lib/python3.9/site-packages/setuptools/__init__.py\", line 155, in setup\n",
      "  \u001b[31m   \u001b[0m     return distutils.core.setup(**attrs)\n",
      "  \u001b[31m   \u001b[0m   File \"/Users/racheltans/miniforge3/lib/python3.9/site-packages/setuptools/_distutils/core.py\", line 148, in setup\n",
      "  \u001b[31m   \u001b[0m     return run_commands(dist)\n",
      "  \u001b[31m   \u001b[0m   File \"/Users/racheltans/miniforge3/lib/python3.9/site-packages/setuptools/_distutils/core.py\", line 163, in run_commands\n",
      "  \u001b[31m   \u001b[0m     dist.run_commands()\n",
      "  \u001b[31m   \u001b[0m   File \"/Users/racheltans/miniforge3/lib/python3.9/site-packages/setuptools/_distutils/dist.py\", line 967, in run_commands\n",
      "  \u001b[31m   \u001b[0m     self.run_command(cmd)\n",
      "  \u001b[31m   \u001b[0m   File \"/Users/racheltans/miniforge3/lib/python3.9/site-packages/setuptools/_distutils/dist.py\", line 986, in run_command\n",
      "  \u001b[31m   \u001b[0m     cmd_obj.run()\n",
      "  \u001b[31m   \u001b[0m   File \"/Users/racheltans/miniforge3/lib/python3.9/site-packages/wheel/bdist_wheel.py\", line 328, in run\n",
      "  \u001b[31m   \u001b[0m     impl_tag, abi_tag, plat_tag = self.get_tag()\n",
      "  \u001b[31m   \u001b[0m   File \"/Users/racheltans/miniforge3/lib/python3.9/site-packages/wheel/bdist_wheel.py\", line 278, in get_tag\n",
      "  \u001b[31m   \u001b[0m     assert tag in supported_tags, \"would build wheel with unsupported tag {}\".format(tag)\n",
      "  \u001b[31m   \u001b[0m AssertionError: would build wheel with unsupported tag ('cp39', 'cp39', 'macosx_11_0_arm64')\n",
      "  \u001b[31m   \u001b[0m \u001b[31m[end of output]\u001b[0m\n",
      "  \n",
      "  \u001b[1;35mnote\u001b[0m: This error originates from a subprocess, and is likely not a problem with pip.\n",
      "\u001b[31m  ERROR: Failed building wheel for biterm\u001b[0m\u001b[31m\n",
      "\u001b[0m\u001b[?25h  Running setup.py clean for biterm\n"
     ]
    },
    {
     "name": "stdout",
     "output_type": "stream",
     "text": [
      "Failed to build biterm\n",
      "Installing collected packages: nltk, cython, biterm\n",
      "  Running setup.py install for biterm ... \u001b[?25ldone\n",
      "\u001b[33m  DEPRECATION: biterm was installed using the legacy 'setup.py install' method, because a wheel could not be built for it. A possible replacement is to fix the wheel build issue reported above. Discussion can be found at https://github.com/pypa/pip/issues/8368\u001b[0m\u001b[33m\n",
      "\u001b[0m\u001b[?25hSuccessfully installed biterm-0.1.5 cython-0.29.28 nltk-3.7\n"
     ]
    }
   ],
   "source": [
    "!pip install biterm"
   ]
  },
  {
   "cell_type": "code",
   "execution_count": 2,
   "metadata": {
    "_kg_hide-input": true
   },
   "outputs": [
    {
     "ename": "ValueError",
     "evalue": "numpy.ndarray size changed, may indicate binary incompatibility. Expected 88 from C header, got 80 from PyObject",
     "output_type": "error",
     "traceback": [
      "\u001b[0;31m---------------------------------------------------------------------------\u001b[0m",
      "\u001b[0;31mValueError\u001b[0m                                Traceback (most recent call last)",
      "Input \u001b[0;32mIn [2]\u001b[0m, in \u001b[0;36m<module>\u001b[0;34m\u001b[0m\n\u001b[0;32m----> 1\u001b[0m \u001b[38;5;28;01mfrom\u001b[39;00m \u001b[38;5;21;01mbiterm\u001b[39;00m\u001b[38;5;21;01m.\u001b[39;00m\u001b[38;5;21;01mcbtm\u001b[39;00m \u001b[38;5;28;01mimport\u001b[39;00m oBTM\n\u001b[1;32m      2\u001b[0m \u001b[38;5;28;01mimport\u001b[39;00m \u001b[38;5;21;01mbiterm\u001b[39;00m\u001b[38;5;21;01m.\u001b[39;00m\u001b[38;5;21;01mutility\u001b[39;00m\n\u001b[1;32m      3\u001b[0m \u001b[38;5;28;01mfrom\u001b[39;00m \u001b[38;5;21;01msklearn\u001b[39;00m\u001b[38;5;21;01m.\u001b[39;00m\u001b[38;5;21;01mfeature_extraction\u001b[39;00m\u001b[38;5;21;01m.\u001b[39;00m\u001b[38;5;21;01mtext\u001b[39;00m \u001b[38;5;28;01mimport\u001b[39;00m TfidfTransformer, CountVectorizer\n",
      "File \u001b[0;32m__init__.pxd:242\u001b[0m, in \u001b[0;36minit biterm.cbtm\u001b[0;34m()\u001b[0m\n",
      "\u001b[0;31mValueError\u001b[0m: numpy.ndarray size changed, may indicate binary incompatibility. Expected 88 from C header, got 80 from PyObject"
     ]
    }
   ],
   "source": [
    "from biterm.cbtm import oBTM\n",
    "import biterm.utility\n",
    "from sklearn.feature_extraction.text import TfidfTransformer, CountVectorizer\n",
    "from sklearn.neighbors import KNeighborsClassifier\n",
    "from sklearn.model_selection import GridSearchCV, cross_validate\n",
    "from sklearn.pipeline import Pipeline\n",
    "from sklearn.preprocessing import FunctionTransformer\n",
    "from sklearn.base import TransformerMixin, BaseEstimator\n",
    "from sklearn.decomposition import PCA\n",
    "\n",
    "import numpy as np\n",
    "import pandas as pd\n",
    "import functools\n",
    "import math\n",
    "\n",
    "import matplotlib.pyplot as plt\n",
    "%matplotlib inline"
   ]
  },
  {
   "cell_type": "markdown",
   "metadata": {},
   "source": [
    "# Wrap 'biterm' for Scikit"
   ]
  },
  {
   "cell_type": "code",
   "execution_count": 3,
   "metadata": {
    "_kg_hide-input": true
   },
   "outputs": [],
   "source": [
    "class BitermModel(BaseEstimator, TransformerMixin):\n",
    "    \"\"\"in: array of string docs\n",
    "    out: doc-topic matrix\"\"\"\n",
    "    def __init__(self, full=False, n_topics=20, it=50, chunk=100,\n",
    "                max_df=.1, min_df=2, strip_accents='unicode'):\n",
    "        # Vectorizer\n",
    "        self.max_df = max_df\n",
    "        self.min_df = min_df\n",
    "        self.strip_accents = strip_accents\n",
    "        \n",
    "        # BTM\n",
    "        self.full = full # False, or float \\in (0,1]\n",
    "        self.chunk = chunk\n",
    "        self.it = it\n",
    "        self.n_topics = n_topics\n",
    "\n",
    "    def fit(self, X, y=None):\n",
    "        # Vectorize\n",
    "        self.vectorizer = CountVectorizer(max_df=self.max_df, min_df=self.min_df,\n",
    "                                          strip_accents=self.strip_accents)\n",
    "        # get document-word matrix\n",
    "        self.doc_word = self.vectorizer.fit_transform(X)\n",
    "        self.doc_word = self.doc_word.toarray()\n",
    "        # translate doc-word matrix to biterms?\n",
    "        biterms = biterm.utility.vec_to_biterms(self.doc_word)\n",
    "        vocab = self.vectorizer.get_feature_names()\n",
    "\n",
    "        # initialize biterm topic model\n",
    "        self.btm = oBTM(num_topics=self.n_topics, V=vocab)\n",
    "        \n",
    "        # train online, or on a single chunk for quickness\n",
    "        if self.full:\n",
    "            end = round(self.full * len(biterms))\n",
    "            print(str(math.ceil(float(end) / self.chunk)) + \" iterations:\")\n",
    "            for i in range(0, end, self.chunk):\n",
    "                fit_biterms = biterms[i:i+self.chunk]\n",
    "                self.btm.fit(fit_biterms, iterations=self.it)\n",
    "        else:\n",
    "            indices = range(len(biterms))\n",
    "            biterm_fit_ind = np.random.choice(indices, size=self.chunk, replace=False)\n",
    "            fit_biterms = [biterms[i] for i in biterm_fit_ind]\n",
    "            self.btm.fit(fit_biterms, iterations=self.it)\n",
    "            \n",
    "        return self\n",
    "\n",
    "    def transform(self, X):\n",
    "        # don't save doc_word this time -- it should correspond to the fitting...\n",
    "        doc_word = self.vectorizer.transform(X)\n",
    "        doc_word = doc_word.toarray()\n",
    "        biterms = biterm.utility.vec_to_biterms(doc_word)\n",
    "        \n",
    "        self.doc_topic = self.btm.transform(biterms)\n",
    "        # set 'nan' docs to zero for now\n",
    "        self.doc_topic = np.where(np.isnan(self.doc_topic), 0, self.doc_topic)\n",
    "        return self.doc_topic"
   ]
  },
  {
   "cell_type": "markdown",
   "metadata": {},
   "source": [
    "# Parameters"
   ]
  },
  {
   "cell_type": "code",
   "execution_count": 4,
   "metadata": {},
   "outputs": [],
   "source": [
    "# baseline parameters\n",
    "vectorizer_args = {'topicmodel__max_df': .1, 'topicmodel__min_df': 2,\n",
    "                    'topicmodel__strip_accents': 'unicode'}\n",
    "# topicmodel__full should be False or a float in (0,1]\n",
    "topic_args = {'topicmodel__it': 50, 'topicmodel__full': 1,\n",
    "              'topicmodel__n_topics': 100}\n",
    "baseline_args = dict(vectorizer_args, **topic_args)\n",
    "\n",
    "# GridSearch parameters\n",
    "param_grid = [{'topicmodel__it': [10, 20, 50]},\n",
    "              {'topicmodel__full': [.05, .1, .3]},\n",
    "              {'topicmodel__n_topics': [10, 20, 50]}]\n",
    "gridsearch_params = {'refit': True, 'cv': 3, 'verbose': 0}\n",
    "\n",
    "# quick formatting test\n",
    "param_grid = {'topicmodel__it': [10], 'topicmodel__full': [.05],\n",
    "             'topicmodel__n_topics': [10]}\n"
   ]
  },
  {
   "cell_type": "code",
   "execution_count": 5,
   "metadata": {},
   "outputs": [
    {
     "data": {
      "text/plain": [
       "Pipeline(memory=None,\n",
       "         steps=[('topicmodel',\n",
       "                 BitermModel(chunk=100, full=1, it=50, max_df=0.1, min_df=2,\n",
       "                             n_topics=100, strip_accents='unicode')),\n",
       "                ('classifier',\n",
       "                 KNeighborsClassifier(algorithm='auto', leaf_size=30,\n",
       "                                      metric='minkowski', metric_params=None,\n",
       "                                      n_jobs=None, n_neighbors=5, p=2,\n",
       "                                      weights='uniform'))],\n",
       "         verbose=False)"
      ]
     },
     "execution_count": 5,
     "metadata": {},
     "output_type": "execute_result"
    }
   ],
   "source": [
    "pipe = Pipeline([('topicmodel', BitermModel()),\n",
    "                 ('classifier', KNeighborsClassifier())], verbose=False)\n",
    "pipe.set_params(**baseline_args)"
   ]
  },
  {
   "cell_type": "markdown",
   "metadata": {},
   "source": [
    "# Train Data "
   ]
  },
  {
   "cell_type": "code",
   "execution_count": 6,
   "metadata": {},
   "outputs": [
    {
     "data": {
      "text/plain": [
       "(7613, 5)"
      ]
     },
     "execution_count": 6,
     "metadata": {},
     "output_type": "execute_result"
    }
   ],
   "source": [
    "train = pd.read_csv('/kaggle/input/nlp-getting-started/train.csv')\n",
    "# shuffle in case we train on a non-random subset\n",
    "train = train.sample(frac=1, replace=False)\n",
    "train.shape"
   ]
  },
  {
   "cell_type": "code",
   "execution_count": 7,
   "metadata": {},
   "outputs": [
    {
     "data": {
      "text/html": [
       "<div>\n",
       "<style scoped>\n",
       "    .dataframe tbody tr th:only-of-type {\n",
       "        vertical-align: middle;\n",
       "    }\n",
       "\n",
       "    .dataframe tbody tr th {\n",
       "        vertical-align: top;\n",
       "    }\n",
       "\n",
       "    .dataframe thead th {\n",
       "        text-align: right;\n",
       "    }\n",
       "</style>\n",
       "<table border=\"1\" class=\"dataframe\">\n",
       "  <thead>\n",
       "    <tr style=\"text-align: right;\">\n",
       "      <th></th>\n",
       "      <th>id</th>\n",
       "      <th>keyword</th>\n",
       "      <th>location</th>\n",
       "      <th>text</th>\n",
       "      <th>target</th>\n",
       "    </tr>\n",
       "  </thead>\n",
       "  <tbody>\n",
       "    <tr>\n",
       "      <th>7107</th>\n",
       "      <td>10183</td>\n",
       "      <td>violent%20storm</td>\n",
       "      <td>??? ???? ?f glory. ?</td>\n",
       "      <td>@Skarletan åÇ the storm. A violent swell of em...</td>\n",
       "      <td>0</td>\n",
       "    </tr>\n",
       "    <tr>\n",
       "      <th>6369</th>\n",
       "      <td>9101</td>\n",
       "      <td>suicide%20bomb</td>\n",
       "      <td>Nigeria</td>\n",
       "      <td>Pic of 16yr old PKK suicide bomber who detonat...</td>\n",
       "      <td>1</td>\n",
       "    </tr>\n",
       "    <tr>\n",
       "      <th>6696</th>\n",
       "      <td>9593</td>\n",
       "      <td>thunder</td>\n",
       "      <td>Palma, Islas Baleares</td>\n",
       "      <td>@AsimTanvir @NemesisK_PES @KevR_7  Snow? Thund...</td>\n",
       "      <td>1</td>\n",
       "    </tr>\n",
       "    <tr>\n",
       "      <th>3091</th>\n",
       "      <td>4437</td>\n",
       "      <td>electrocute</td>\n",
       "      <td>Budapest, Hungary</td>\n",
       "      <td>Photo: weallheartonedirection: I wouldnÛªt le...</td>\n",
       "      <td>0</td>\n",
       "    </tr>\n",
       "    <tr>\n",
       "      <th>4316</th>\n",
       "      <td>6128</td>\n",
       "      <td>hellfire</td>\n",
       "      <td>Denver, Colorado</td>\n",
       "      <td>@MechaMacGyver Wow bet you got blamed for that...</td>\n",
       "      <td>0</td>\n",
       "    </tr>\n",
       "  </tbody>\n",
       "</table>\n",
       "</div>"
      ],
      "text/plain": [
       "         id          keyword               location  \\\n",
       "7107  10183  violent%20storm   ??? ???? ?f glory. ?   \n",
       "6369   9101   suicide%20bomb                Nigeria   \n",
       "6696   9593          thunder  Palma, Islas Baleares   \n",
       "3091   4437      electrocute      Budapest, Hungary   \n",
       "4316   6128         hellfire       Denver, Colorado   \n",
       "\n",
       "                                                   text  target  \n",
       "7107  @Skarletan åÇ the storm. A violent swell of em...       0  \n",
       "6369  Pic of 16yr old PKK suicide bomber who detonat...       1  \n",
       "6696  @AsimTanvir @NemesisK_PES @KevR_7  Snow? Thund...       1  \n",
       "3091  Photo: weallheartonedirection: I wouldnÛªt le...       0  \n",
       "4316  @MechaMacGyver Wow bet you got blamed for that...       0  "
      ]
     },
     "execution_count": 7,
     "metadata": {},
     "output_type": "execute_result"
    }
   ],
   "source": [
    "train.head(5)"
   ]
  },
  {
   "cell_type": "code",
   "execution_count": 8,
   "metadata": {},
   "outputs": [],
   "source": [
    "train['length'] = list(map(lambda x: len(x.split()), train.text))\n",
    "# print(train.length.describe())\n",
    "# print(train.target.astype('category').describe())\n",
    "# print(train.keyword.astype('category').describe())\n",
    "# print(train.keyword.value_counts()[:20])"
   ]
  },
  {
   "cell_type": "code",
   "execution_count": 9,
   "metadata": {},
   "outputs": [
    {
     "data": {
      "text/plain": [
       "(7613,)"
      ]
     },
     "execution_count": 9,
     "metadata": {},
     "output_type": "execute_result"
    }
   ],
   "source": [
    "labels = np.array(train.target)\n",
    "labels.shape\n"
   ]
  },
  {
   "cell_type": "markdown",
   "metadata": {},
   "source": [
    "### Word Frequency Dist."
   ]
  },
  {
   "cell_type": "code",
   "execution_count": 10,
   "metadata": {
    "_kg_hide-input": true
   },
   "outputs": [
    {
     "name": "stderr",
     "output_type": "stream",
     "text": [
      "  0%|          | 0/1 [00:00<?, ?it/s]"
     ]
    },
    {
     "name": "stdout",
     "output_type": "stream",
     "text": [
      "1 iterations:\n"
     ]
    },
    {
     "name": "stderr",
     "output_type": "stream",
     "text": [
      "100%|██████████| 1/1 [00:01<00:00,  1.63s/it]\n"
     ]
    },
    {
     "data": {
      "image/png": "[encoded data removed]",
      "text/plain": [
       "<Figure size 432x288 with 1 Axes>"
      ]
     },
     "metadata": {
      "needs_background": "light"
     },
     "output_type": "display_data"
    }
   ],
   "source": [
    "check = BitermModel(full=.01, it=1).fit(train.text)\n",
    "doc_word = check.doc_word\n",
    "frequencies = np.add.reduce(doc_word, axis=0)\n",
    "plt.hist(frequencies, bins=20, log=True)\n",
    "#plt.title(\"Distribution of Word Frequencies\")\n",
    "pass"
   ]
  },
  {
   "cell_type": "markdown",
   "metadata": {},
   "source": [
    "# Grid Search"
   ]
  },
  {
   "cell_type": "code",
   "execution_count": 11,
   "metadata": {
    "_kg_hide-input": true
   },
   "outputs": [
    {
     "name": "stderr",
     "output_type": "stream",
     "text": [
      "  0%|          | 0/10 [00:00<?, ?it/s]"
     ]
    },
    {
     "name": "stdout",
     "output_type": "stream",
     "text": [
      "3 iterations:\n"
     ]
    },
    {
     "name": "stderr",
     "output_type": "stream",
     "text": [
      "100%|██████████| 10/10 [00:11<00:00,  1.11s/it]\n",
      "100%|██████████| 10/10 [00:10<00:00,  1.07s/it]\n",
      "100%|██████████| 10/10 [00:12<00:00,  1.28s/it]\n",
      "/opt/conda/lib/python3.6/site-packages/ipykernel_launcher.py:52: RuntimeWarning: invalid value encountered in true_divide\n",
      "/opt/conda/lib/python3.6/site-packages/ipykernel_launcher.py:52: RuntimeWarning: invalid value encountered in true_divide\n",
      "  0%|          | 0/10 [00:00<?, ?it/s]"
     ]
    },
    {
     "name": "stdout",
     "output_type": "stream",
     "text": [
      "3 iterations:\n"
     ]
    },
    {
     "name": "stderr",
     "output_type": "stream",
     "text": [
      "100%|██████████| 10/10 [00:09<00:00,  1.04it/s]\n",
      "100%|██████████| 10/10 [00:11<00:00,  1.16s/it]\n",
      "100%|██████████| 10/10 [00:11<00:00,  1.14s/it]\n",
      "/opt/conda/lib/python3.6/site-packages/ipykernel_launcher.py:52: RuntimeWarning: invalid value encountered in true_divide\n",
      "/opt/conda/lib/python3.6/site-packages/ipykernel_launcher.py:52: RuntimeWarning: invalid value encountered in true_divide\n",
      "  0%|          | 0/10 [00:00<?, ?it/s]"
     ]
    },
    {
     "name": "stdout",
     "output_type": "stream",
     "text": [
      "3 iterations:\n"
     ]
    },
    {
     "name": "stderr",
     "output_type": "stream",
     "text": [
      "100%|██████████| 10/10 [00:09<00:00,  1.02it/s]\n",
      "100%|██████████| 10/10 [00:11<00:00,  1.17s/it]\n",
      "100%|██████████| 10/10 [00:11<00:00,  1.13s/it]\n",
      "/opt/conda/lib/python3.6/site-packages/ipykernel_launcher.py:52: RuntimeWarning: invalid value encountered in true_divide\n",
      "/opt/conda/lib/python3.6/site-packages/ipykernel_launcher.py:52: RuntimeWarning: invalid value encountered in true_divide\n",
      "  0%|          | 0/10 [00:00<?, ?it/s]"
     ]
    },
    {
     "name": "stdout",
     "output_type": "stream",
     "text": [
      "4 iterations:\n"
     ]
    },
    {
     "name": "stderr",
     "output_type": "stream",
     "text": [
      "100%|██████████| 10/10 [00:12<00:00,  1.29s/it]\n",
      "100%|██████████| 10/10 [00:15<00:00,  1.55s/it]\n",
      "100%|██████████| 10/10 [00:15<00:00,  1.53s/it]\n",
      "100%|██████████| 10/10 [00:16<00:00,  1.62s/it]\n",
      "/opt/conda/lib/python3.6/site-packages/ipykernel_launcher.py:52: RuntimeWarning: invalid value encountered in true_divide\n"
     ]
    }
   ],
   "source": [
    "if isinstance(param_grid, list):\n",
    "    nrows = len(param_grid)\n",
    "else:\n",
    "    nrows=1\n",
    "    param_grid = [param_grid]\n",
    "\n",
    "best_params = []\n",
    "results = []\n",
    "for i in range(nrows):\n",
    "    gridsearch = GridSearchCV(pipe, param_grid=param_grid[i],\n",
    "                             **gridsearch_params)\n",
    "    gridsearch.fit(X=train.text, y=labels)\n",
    "    results.append(pd.DataFrame(gridsearch.cv_results_))\n",
    "    best_params.append(gridsearch.best_params_)\n",
    "\n",
    "    # reset\n",
    "    pipe.set_params(**baseline_args)"
   ]
  },
  {
   "cell_type": "code",
   "execution_count": 12,
   "metadata": {
    "_kg_hide-input": true
   },
   "outputs": [],
   "source": [
    "#for res in results:\n",
    "#    print(res.filter(items=['params', 'mean_fit_time', \n",
    "#                            'mean_test_score']))"
   ]
  },
  {
   "cell_type": "markdown",
   "metadata": {},
   "source": [
    "# Results"
   ]
  },
  {
   "cell_type": "code",
   "execution_count": 13,
   "metadata": {
    "_kg_hide-input": true
   },
   "outputs": [
    {
     "name": "stdout",
     "output_type": "stream",
     "text": [
      "                       mean_fit_time mean_test_score rank_test_score\n",
      "param_topicmodel__full          0.05            0.05            0.05\n",
      "param_topicmodel__it                                                \n",
      "10                         36.619302        0.606068               1\n"
     ]
    }
   ],
   "source": [
    "for i,res in enumerate(results):\n",
    "    # pull out params_ columns...\n",
    "    params = res.filter(like='param_')\n",
    "\n",
    "    # how many params are there?\n",
    "    cols = params.shape[1]\n",
    "\n",
    "    if cols == 1:\n",
    "        fig, ax = plt.subplots()\n",
    "        xlims = [params.values.min(), params.values.max()]\n",
    "        ylims = [res.mean_test_score.values.min(), \n",
    "                res.mean_test_score.values.max()]\n",
    "        ax.plot(params, res.mean_test_score, 'b-', label=\"Test Score\")\n",
    "        ax.set_xlim(xlims)\n",
    "        ax.set_ylim(ylims)\n",
    "        ax.set_xlabel(params.columns[0])\n",
    "\n",
    "        ax2 = ax.twinx()\n",
    "        ax2.plot(params, res.mean_fit_time, 'r-', label=\"Fit Time\")\n",
    "\n",
    "        ax.set_ylabel(\"Score\")\n",
    "        ax2.set_ylabel(\"Time (s)\")\n",
    "        fig.legend()\n",
    "    else:\n",
    "        table = res.pivot_table(columns=params.columns[0], \n",
    "                              index=params.columns[1],\n",
    "                              values=['mean_test_score', 'mean_fit_time',\n",
    "                                     'rank_test_score'])\n",
    "        print(table)\n",
    "        #axs[i].axis('off')\n",
    "        #axs[i].table(cellText=table.values, rowLabels=table.index, \n",
    "        #             colLabels=table.columns, loc=9)\n",
    "\n"
   ]
  },
  {
   "cell_type": "markdown",
   "metadata": {},
   "source": [
    "# Refit\n",
    "\n",
    "in case we did separate cross-validations for different params"
   ]
  },
  {
   "cell_type": "code",
   "execution_count": 14,
   "metadata": {},
   "outputs": [
    {
     "name": "stderr",
     "output_type": "stream",
     "text": [
      "  0%|          | 0/10 [00:00<?, ?it/s]"
     ]
    },
    {
     "name": "stdout",
     "output_type": "stream",
     "text": [
      "4 iterations:\n"
     ]
    },
    {
     "name": "stderr",
     "output_type": "stream",
     "text": [
      "100%|██████████| 10/10 [00:12<00:00,  1.30s/it]\n",
      "100%|██████████| 10/10 [00:15<00:00,  1.56s/it]\n",
      "100%|██████████| 10/10 [00:15<00:00,  1.52s/it]\n",
      "100%|██████████| 10/10 [00:16<00:00,  1.61s/it]\n",
      "/opt/conda/lib/python3.6/site-packages/ipykernel_launcher.py:52: RuntimeWarning: invalid value encountered in true_divide\n"
     ]
    }
   ],
   "source": [
    "new_params = functools.reduce(lambda x,y: dict(x, **y), best_params, {})\n",
    "pipe.set_params(**new_params)\n",
    "pipe.fit(X=train.text, y=labels)\n",
    "pass"
   ]
  },
  {
   "cell_type": "markdown",
   "metadata": {},
   "source": [
    "# Inspect Features"
   ]
  },
  {
   "cell_type": "code",
   "execution_count": 15,
   "metadata": {},
   "outputs": [
    {
     "data": {
      "image/png": "[encoded data removed]",
      "text/plain": [
       "<Figure size 432x288 with 1 Axes>"
      ]
     },
     "metadata": {
      "needs_background": "light"
     },
     "output_type": "display_data"
    }
   ],
   "source": [
    "doc_topic = pipe['topicmodel'].doc_topic\n",
    "pca = PCA(n_components=2)\n",
    "doc_pc = pca.fit_transform(doc_topic)\n",
    "doc_pc.shape\n",
    "plt.scatter(x=doc_pc[:,0], y=doc_pc[:,1], c=labels)\n",
    "pass"
   ]
  },
  {
   "cell_type": "markdown",
   "metadata": {},
   "source": [
    "# Submission"
   ]
  },
  {
   "cell_type": "code",
   "execution_count": 16,
   "metadata": {},
   "outputs": [
    {
     "data": {
      "text/html": [
       "<div>\n",
       "<style scoped>\n",
       "    .dataframe tbody tr th:only-of-type {\n",
       "        vertical-align: middle;\n",
       "    }\n",
       "\n",
       "    .dataframe tbody tr th {\n",
       "        vertical-align: top;\n",
       "    }\n",
       "\n",
       "    .dataframe thead th {\n",
       "        text-align: right;\n",
       "    }\n",
       "</style>\n",
       "<table border=\"1\" class=\"dataframe\">\n",
       "  <thead>\n",
       "    <tr style=\"text-align: right;\">\n",
       "      <th></th>\n",
       "      <th>id</th>\n",
       "      <th>keyword</th>\n",
       "      <th>location</th>\n",
       "      <th>text</th>\n",
       "    </tr>\n",
       "  </thead>\n",
       "  <tbody>\n",
       "    <tr>\n",
       "      <th>0</th>\n",
       "      <td>0</td>\n",
       "      <td>NaN</td>\n",
       "      <td>NaN</td>\n",
       "      <td>Just happened a terrible car crash</td>\n",
       "    </tr>\n",
       "    <tr>\n",
       "      <th>1</th>\n",
       "      <td>2</td>\n",
       "      <td>NaN</td>\n",
       "      <td>NaN</td>\n",
       "      <td>Heard about #earthquake is different cities, s...</td>\n",
       "    </tr>\n",
       "    <tr>\n",
       "      <th>2</th>\n",
       "      <td>3</td>\n",
       "      <td>NaN</td>\n",
       "      <td>NaN</td>\n",
       "      <td>there is a forest fire at spot pond, geese are...</td>\n",
       "    </tr>\n",
       "    <tr>\n",
       "      <th>3</th>\n",
       "      <td>9</td>\n",
       "      <td>NaN</td>\n",
       "      <td>NaN</td>\n",
       "      <td>Apocalypse lighting. #Spokane #wildfires</td>\n",
       "    </tr>\n",
       "    <tr>\n",
       "      <th>4</th>\n",
       "      <td>11</td>\n",
       "      <td>NaN</td>\n",
       "      <td>NaN</td>\n",
       "      <td>Typhoon Soudelor kills 28 in China and Taiwan</td>\n",
       "    </tr>\n",
       "  </tbody>\n",
       "</table>\n",
       "</div>"
      ],
      "text/plain": [
       "   id keyword location                                               text\n",
       "0   0     NaN      NaN                 Just happened a terrible car crash\n",
       "1   2     NaN      NaN  Heard about #earthquake is different cities, s...\n",
       "2   3     NaN      NaN  there is a forest fire at spot pond, geese are...\n",
       "3   9     NaN      NaN           Apocalypse lighting. #Spokane #wildfires\n",
       "4  11     NaN      NaN      Typhoon Soudelor kills 28 in China and Taiwan"
      ]
     },
     "execution_count": 16,
     "metadata": {},
     "output_type": "execute_result"
    }
   ],
   "source": [
    "test = pd.read_csv('/kaggle/input/nlp-getting-started/test.csv')\n",
    "test.head(5)"
   ]
  },
  {
   "cell_type": "code",
   "execution_count": 17,
   "metadata": {},
   "outputs": [
    {
     "name": "stdout",
     "output_type": "stream",
     "text": [
      "(3263, 4)\n"
     ]
    },
    {
     "name": "stderr",
     "output_type": "stream",
     "text": [
      "/opt/conda/lib/python3.6/site-packages/ipykernel_launcher.py:52: RuntimeWarning: invalid value encountered in true_divide\n"
     ]
    },
    {
     "name": "stdout",
     "output_type": "stream",
     "text": [
      "(3263,)\n"
     ]
    }
   ],
   "source": [
    "print(test.shape)\n",
    "test_labels = pipe.predict(test.text)\n",
    "print(test_labels.shape)"
   ]
  },
  {
   "cell_type": "code",
   "execution_count": 18,
   "metadata": {},
   "outputs": [
    {
     "data": {
      "text/html": [
       "<div>\n",
       "<style scoped>\n",
       "    .dataframe tbody tr th:only-of-type {\n",
       "        vertical-align: middle;\n",
       "    }\n",
       "\n",
       "    .dataframe tbody tr th {\n",
       "        vertical-align: top;\n",
       "    }\n",
       "\n",
       "    .dataframe thead th {\n",
       "        text-align: right;\n",
       "    }\n",
       "</style>\n",
       "<table border=\"1\" class=\"dataframe\">\n",
       "  <thead>\n",
       "    <tr style=\"text-align: right;\">\n",
       "      <th></th>\n",
       "      <th>id</th>\n",
       "      <th>target</th>\n",
       "    </tr>\n",
       "  </thead>\n",
       "  <tbody>\n",
       "    <tr>\n",
       "      <th>0</th>\n",
       "      <td>0</td>\n",
       "      <td>0</td>\n",
       "    </tr>\n",
       "    <tr>\n",
       "      <th>1</th>\n",
       "      <td>2</td>\n",
       "      <td>0</td>\n",
       "    </tr>\n",
       "    <tr>\n",
       "      <th>2</th>\n",
       "      <td>3</td>\n",
       "      <td>0</td>\n",
       "    </tr>\n",
       "    <tr>\n",
       "      <th>3</th>\n",
       "      <td>9</td>\n",
       "      <td>0</td>\n",
       "    </tr>\n",
       "    <tr>\n",
       "      <th>4</th>\n",
       "      <td>11</td>\n",
       "      <td>1</td>\n",
       "    </tr>\n",
       "    <tr>\n",
       "      <th>...</th>\n",
       "      <td>...</td>\n",
       "      <td>...</td>\n",
       "    </tr>\n",
       "    <tr>\n",
       "      <th>3258</th>\n",
       "      <td>10861</td>\n",
       "      <td>1</td>\n",
       "    </tr>\n",
       "    <tr>\n",
       "      <th>3259</th>\n",
       "      <td>10865</td>\n",
       "      <td>0</td>\n",
       "    </tr>\n",
       "    <tr>\n",
       "      <th>3260</th>\n",
       "      <td>10868</td>\n",
       "      <td>1</td>\n",
       "    </tr>\n",
       "    <tr>\n",
       "      <th>3261</th>\n",
       "      <td>10874</td>\n",
       "      <td>1</td>\n",
       "    </tr>\n",
       "    <tr>\n",
       "      <th>3262</th>\n",
       "      <td>10875</td>\n",
       "      <td>1</td>\n",
       "    </tr>\n",
       "  </tbody>\n",
       "</table>\n",
       "<p>3263 rows × 2 columns</p>\n",
       "</div>"
      ],
      "text/plain": [
       "         id  target\n",
       "0         0       0\n",
       "1         2       0\n",
       "2         3       0\n",
       "3         9       0\n",
       "4        11       1\n",
       "...     ...     ...\n",
       "3258  10861       1\n",
       "3259  10865       0\n",
       "3260  10868       1\n",
       "3261  10874       1\n",
       "3262  10875       1\n",
       "\n",
       "[3263 rows x 2 columns]"
      ]
     },
     "execution_count": 18,
     "metadata": {},
     "output_type": "execute_result"
    }
   ],
   "source": [
    "submission = pd.DataFrame({'id': test.id, 'target': test_labels})\n",
    "submission.to_csv('submission.csv', index=False)\n",
    "submission"
   ]
  }
 ],
 "metadata": {
  "kernelspec": {
   "display_name": "Python 3 (ipykernel)",
   "language": "python",
   "name": "python3"
  },
  "language_info": {
   "codemirror_mode": {
    "name": "ipython",
    "version": 3
   },
   "file_extension": ".py",
   "mimetype": "text/x-python",
   "name": "python",
   "nbconvert_exporter": "python",
   "pygments_lexer": "ipython3",
   "version": "3.8.8"
  }
 },
 "nbformat": 4,
 "nbformat_minor": 4
}
