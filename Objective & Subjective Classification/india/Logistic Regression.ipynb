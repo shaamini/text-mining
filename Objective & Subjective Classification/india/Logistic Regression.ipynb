{
 "cells": [
  {
   "cell_type": "markdown",
   "id": "66c8b582",
   "metadata": {},
   "source": [
    "# Read DF"
   ]
  },
  {
   "cell_type": "code",
   "execution_count": 1,
   "id": "f8174bc6",
   "metadata": {},
   "outputs": [],
   "source": [
    "import matplotlib.pyplot as plt\n",
    "import nltk\n",
    "import numpy as np\n",
    "import pandas as pd\n",
    "import seaborn as sns\n",
    "import re\n",
    "from nltk.corpus import stopwords\n",
    "from nltk.stem import WordNetLemmatizer\n",
    "from sklearn.feature_extraction.text import CountVectorizer\n",
    "import matplotlib.pyplot as plt\n",
    "import seaborn as sns\n",
    "%matplotlib notebook\n",
    "from sklearn.linear_model import LogisticRegression\n",
    "import sklearn.model_selection\n",
    "import sklearn.preprocessing as preproc\n",
    "from sklearn.feature_extraction import text\n",
    "import pickle\n",
    "import warnings\n",
    "from sklearn import metrics\n",
    "from sklearn.metrics import f1_score\n",
    "warnings.filterwarnings(\"ignore\")"
   ]
  },
  {
   "cell_type": "code",
   "execution_count": 2,
   "id": "db2c45dc",
   "metadata": {},
   "outputs": [
    {
     "data": {
      "text/html": [
       "<div>\n",
       "<style scoped>\n",
       "    .dataframe tbody tr th:only-of-type {\n",
       "        vertical-align: middle;\n",
       "    }\n",
       "\n",
       "    .dataframe tbody tr th {\n",
       "        vertical-align: top;\n",
       "    }\n",
       "\n",
       "    .dataframe thead th {\n",
       "        text-align: right;\n",
       "    }\n",
       "</style>\n",
       "<table border=\"1\" class=\"dataframe\">\n",
       "  <thead>\n",
       "    <tr style=\"text-align: right;\">\n",
       "      <th></th>\n",
       "      <th>Text</th>\n",
       "      <th>new_text</th>\n",
       "      <th>languages</th>\n",
       "      <th>translated</th>\n",
       "      <th>new_languages</th>\n",
       "      <th>pos_tagged_words</th>\n",
       "      <th>words_processed_all</th>\n",
       "      <th>words_processed_noun_adj_verb_adv</th>\n",
       "      <th>words_processed_noun</th>\n",
       "      <th>subjectivity</th>\n",
       "      <th>text_type</th>\n",
       "    </tr>\n",
       "  </thead>\n",
       "  <tbody>\n",
       "    <tr>\n",
       "      <th>0</th>\n",
       "      <td>#pickids : about 20,000 children perlis eligib...</td>\n",
       "      <td>#pickids : about 20,000 children perlis eligib...</td>\n",
       "      <td>ENGLISH</td>\n",
       "      <td>#pickids : about 20,000 children perlis eligib...</td>\n",
       "      <td>ENGLISH</td>\n",
       "      <td>[('pickins', 'NNS'), ('about', 'IN'), ('twenty...</td>\n",
       "      <td>['pickins', 'twenty', 'zero', 'child', 'peril'...</td>\n",
       "      <td>['child', 'peril', 'eligible', 'couid', 'vacci...</td>\n",
       "      <td>['child', 'peril', 'couid', 'vaccination']</td>\n",
       "      <td>0.000000</td>\n",
       "      <td>objective</td>\n",
       "    </tr>\n",
       "    <tr>\n",
       "      <th>1</th>\n",
       "      <td>previous covid-19 infection – but not vaccinat...</td>\n",
       "      <td>previous covid-19 infection – but not vaccinat...</td>\n",
       "      <td>ENGLISH</td>\n",
       "      <td>previous covid-19 infection – but not vaccinat...</td>\n",
       "      <td>ENGLISH</td>\n",
       "      <td>[('previous', 'JJ'), ('couid', 'NN'), ('ninete...</td>\n",
       "      <td>['previous', 'couid', 'nineteen', 'infection',...</td>\n",
       "      <td>['previous', 'couid', 'infection', 'vaccinatio...</td>\n",
       "      <td>['couid', 'infection', 'vaccination', 'perform...</td>\n",
       "      <td>0.166667</td>\n",
       "      <td>objective</td>\n",
       "    </tr>\n",
       "    <tr>\n",
       "      <th>2</th>\n",
       "      <td>india’s covid-19 vaccination coverage crosses ...</td>\n",
       "      <td>india’s covid-19 vaccination coverage crosses ...</td>\n",
       "      <td>ENGLISH</td>\n",
       "      <td>india’s covid-19 vaccination coverage crosses ...</td>\n",
       "      <td>ENGLISH</td>\n",
       "      <td>[('india', 'NN'), ('i', 'NN'), ('i', 'VBP'), (...</td>\n",
       "      <td>['india', 'couid', 'nineteen', 'vaccination', ...</td>\n",
       "      <td>['vaccination', 'mark']</td>\n",
       "      <td>['vaccination']</td>\n",
       "      <td>0.000000</td>\n",
       "      <td>objective</td>\n",
       "    </tr>\n",
       "    <tr>\n",
       "      <th>3</th>\n",
       "      <td>i got call office principal commissioner cgst ...</td>\n",
       "      <td>i got call office principal commissioner cgst ...</td>\n",
       "      <td>ENGLISH</td>\n",
       "      <td>i got call office principal commissioner cgst ...</td>\n",
       "      <td>ENGLISH</td>\n",
       "      <td>[('i', 'NN'), ('got', 'VBD'), ('call', 'JJ'), ...</td>\n",
       "      <td>['got', 'call', 'office', 'principal', 'commis...</td>\n",
       "      <td>['get', 'call', 'office', 'ascertain', 'status...</td>\n",
       "      <td>['office', 'status', 'couid', 'vaccination', '...</td>\n",
       "      <td>0.000000</td>\n",
       "      <td>objective</td>\n",
       "    </tr>\n",
       "    <tr>\n",
       "      <th>4</th>\n",
       "      <td>i have booked flight 13 feb, 2022 toronto new ...</td>\n",
       "      <td>i have booked flight 13 feb, 2022 toronto new ...</td>\n",
       "      <td>ENGLISH</td>\n",
       "      <td>i have booked flight 13 feb, 2022 toronto new ...</td>\n",
       "      <td>ENGLISH</td>\n",
       "      <td>[('i', 'NNS'), ('have', 'VBP'), ('booked', 'VB...</td>\n",
       "      <td>['booked', 'flight', 'thirteen', 'feb', 'toron...</td>\n",
       "      <td>['book', 'departure', 'time', 'let', 'know', '...</td>\n",
       "      <td>['departure', 'time', 'guideline', 'today', 'c...</td>\n",
       "      <td>0.727273</td>\n",
       "      <td>objective</td>\n",
       "    </tr>\n",
       "    <tr>\n",
       "      <th>...</th>\n",
       "      <td>...</td>\n",
       "      <td>...</td>\n",
       "      <td>...</td>\n",
       "      <td>...</td>\n",
       "      <td>...</td>\n",
       "      <td>...</td>\n",
       "      <td>...</td>\n",
       "      <td>...</td>\n",
       "      <td>...</td>\n",
       "      <td>...</td>\n",
       "      <td>...</td>\n",
       "    </tr>\n",
       "    <tr>\n",
       "      <th>995</th>\n",
       "      <td>they should allow businesses with reduced capa...</td>\n",
       "      <td>they should allow businesses with reduced capa...</td>\n",
       "      <td>ENGLISH</td>\n",
       "      <td>they should allow businesses with reduced capa...</td>\n",
       "      <td>ENGLISH</td>\n",
       "      <td>[('they', 'PRP'), ('should', 'MD'), ('allow', ...</td>\n",
       "      <td>['allow', 'business', 'reduced', 'capacity', '...</td>\n",
       "      <td>['allow', 'business', 'reduce', 'capacity', 'a...</td>\n",
       "      <td>['business', 'capacity', 'couid', 'guideline',...</td>\n",
       "      <td>0.000000</td>\n",
       "      <td>subjective</td>\n",
       "    </tr>\n",
       "    <tr>\n",
       "      <th>996</th>\n",
       "      <td>patiala covid vaccination schedule 12 january🔴...</td>\n",
       "      <td>patiala covid vaccination schedule 12 januaryr...</td>\n",
       "      <td>ENGLISH</td>\n",
       "      <td>patiala covid vaccination schedule 12 januaryr...</td>\n",
       "      <td>ENGLISH</td>\n",
       "      <td>[('patiala', 'NN'), ('couid', 'NN'), ('vaccina...</td>\n",
       "      <td>['patiala', 'couid', 'vaccination', 'schedule'...</td>\n",
       "      <td>['schedule', 'patiala_politic']</td>\n",
       "      <td>['schedule', 'patiala_politic']</td>\n",
       "      <td>0.000000</td>\n",
       "      <td>objective</td>\n",
       "    </tr>\n",
       "    <tr>\n",
       "      <th>997</th>\n",
       "      <td>hi team, i am trying get covid vaccination cer...</td>\n",
       "      <td>hi team, i am trying get covid vaccination cer...</td>\n",
       "      <td>ENGLISH</td>\n",
       "      <td>hi team, i am trying get covid vaccination cer...</td>\n",
       "      <td>ENGLISH</td>\n",
       "      <td>[('hi', 'NN'), ('team', 'NN'), ('i', 'NN'), ('...</td>\n",
       "      <td>['hi', 'team', 'trying', 'get', 'couid', 'vacc...</td>\n",
       "      <td>['team', 'try', 'couid', 'vaccination', 'certi...</td>\n",
       "      <td>['team', 'couid', 'vaccination', 'certificate'...</td>\n",
       "      <td>0.000000</td>\n",
       "      <td>objective</td>\n",
       "    </tr>\n",
       "    <tr>\n",
       "      <th>998</th>\n",
       "      <td>#dimapur | 11jan 2022: covid-19 vaccination at...</td>\n",
       "      <td>#dimapur | 11jan 2022: covid-19 vaccination at...</td>\n",
       "      <td>ENGLISH</td>\n",
       "      <td>#dimapur | 11jan 2022: covid-19 vaccination at...</td>\n",
       "      <td>ENGLISH</td>\n",
       "      <td>[('diaper', 'NN'), ('jan', 'NN'), ('couid', 'N...</td>\n",
       "      <td>['diaper', 'jan', 'couid', 'nineteen', 'vaccin...</td>\n",
       "      <td>['vaccination', 'join', 'charitable', 'clinic'...</td>\n",
       "      <td>['vaccination', 'clinic', 'number', 'school', ...</td>\n",
       "      <td>0.525000</td>\n",
       "      <td>objective</td>\n",
       "    </tr>\n",
       "    <tr>\n",
       "      <th>999</th>\n",
       "      <td>namaste sir covid 19 precaution dose vaccinati...</td>\n",
       "      <td>namaste sir covid 19 precaution dose vaccinati...</td>\n",
       "      <td>ENGLISH</td>\n",
       "      <td>namaste sir covid 19 precaution dose vaccinati...</td>\n",
       "      <td>ENGLISH</td>\n",
       "      <td>[('namaste', 'NN'), ('sir', 'NN'), ('couid', '...</td>\n",
       "      <td>['namaste', 'sir', 'couid', 'nineteen', 'preca...</td>\n",
       "      <td>['precaution', 'dose', 'vaccination', 'service...</td>\n",
       "      <td>['precaution', 'vaccination', 'service']</td>\n",
       "      <td>0.000000</td>\n",
       "      <td>subjective</td>\n",
       "    </tr>\n",
       "  </tbody>\n",
       "</table>\n",
       "<p>1000 rows × 11 columns</p>\n",
       "</div>"
      ],
      "text/plain": [
       "                                                  Text  \\\n",
       "0    #pickids : about 20,000 children perlis eligib...   \n",
       "1    previous covid-19 infection – but not vaccinat...   \n",
       "2    india’s covid-19 vaccination coverage crosses ...   \n",
       "3    i got call office principal commissioner cgst ...   \n",
       "4    i have booked flight 13 feb, 2022 toronto new ...   \n",
       "..                                                 ...   \n",
       "995  they should allow businesses with reduced capa...   \n",
       "996  patiala covid vaccination schedule 12 january🔴...   \n",
       "997  hi team, i am trying get covid vaccination cer...   \n",
       "998  #dimapur | 11jan 2022: covid-19 vaccination at...   \n",
       "999  namaste sir covid 19 precaution dose vaccinati...   \n",
       "\n",
       "                                              new_text languages  \\\n",
       "0    #pickids : about 20,000 children perlis eligib...   ENGLISH   \n",
       "1    previous covid-19 infection – but not vaccinat...   ENGLISH   \n",
       "2    india’s covid-19 vaccination coverage crosses ...   ENGLISH   \n",
       "3    i got call office principal commissioner cgst ...   ENGLISH   \n",
       "4    i have booked flight 13 feb, 2022 toronto new ...   ENGLISH   \n",
       "..                                                 ...       ...   \n",
       "995  they should allow businesses with reduced capa...   ENGLISH   \n",
       "996  patiala covid vaccination schedule 12 januaryr...   ENGLISH   \n",
       "997  hi team, i am trying get covid vaccination cer...   ENGLISH   \n",
       "998  #dimapur | 11jan 2022: covid-19 vaccination at...   ENGLISH   \n",
       "999  namaste sir covid 19 precaution dose vaccinati...   ENGLISH   \n",
       "\n",
       "                                            translated new_languages  \\\n",
       "0    #pickids : about 20,000 children perlis eligib...       ENGLISH   \n",
       "1    previous covid-19 infection – but not vaccinat...       ENGLISH   \n",
       "2    india’s covid-19 vaccination coverage crosses ...       ENGLISH   \n",
       "3    i got call office principal commissioner cgst ...       ENGLISH   \n",
       "4    i have booked flight 13 feb, 2022 toronto new ...       ENGLISH   \n",
       "..                                                 ...           ...   \n",
       "995  they should allow businesses with reduced capa...       ENGLISH   \n",
       "996  patiala covid vaccination schedule 12 januaryr...       ENGLISH   \n",
       "997  hi team, i am trying get covid vaccination cer...       ENGLISH   \n",
       "998  #dimapur | 11jan 2022: covid-19 vaccination at...       ENGLISH   \n",
       "999  namaste sir covid 19 precaution dose vaccinati...       ENGLISH   \n",
       "\n",
       "                                      pos_tagged_words  \\\n",
       "0    [('pickins', 'NNS'), ('about', 'IN'), ('twenty...   \n",
       "1    [('previous', 'JJ'), ('couid', 'NN'), ('ninete...   \n",
       "2    [('india', 'NN'), ('i', 'NN'), ('i', 'VBP'), (...   \n",
       "3    [('i', 'NN'), ('got', 'VBD'), ('call', 'JJ'), ...   \n",
       "4    [('i', 'NNS'), ('have', 'VBP'), ('booked', 'VB...   \n",
       "..                                                 ...   \n",
       "995  [('they', 'PRP'), ('should', 'MD'), ('allow', ...   \n",
       "996  [('patiala', 'NN'), ('couid', 'NN'), ('vaccina...   \n",
       "997  [('hi', 'NN'), ('team', 'NN'), ('i', 'NN'), ('...   \n",
       "998  [('diaper', 'NN'), ('jan', 'NN'), ('couid', 'N...   \n",
       "999  [('namaste', 'NN'), ('sir', 'NN'), ('couid', '...   \n",
       "\n",
       "                                   words_processed_all  \\\n",
       "0    ['pickins', 'twenty', 'zero', 'child', 'peril'...   \n",
       "1    ['previous', 'couid', 'nineteen', 'infection',...   \n",
       "2    ['india', 'couid', 'nineteen', 'vaccination', ...   \n",
       "3    ['got', 'call', 'office', 'principal', 'commis...   \n",
       "4    ['booked', 'flight', 'thirteen', 'feb', 'toron...   \n",
       "..                                                 ...   \n",
       "995  ['allow', 'business', 'reduced', 'capacity', '...   \n",
       "996  ['patiala', 'couid', 'vaccination', 'schedule'...   \n",
       "997  ['hi', 'team', 'trying', 'get', 'couid', 'vacc...   \n",
       "998  ['diaper', 'jan', 'couid', 'nineteen', 'vaccin...   \n",
       "999  ['namaste', 'sir', 'couid', 'nineteen', 'preca...   \n",
       "\n",
       "                     words_processed_noun_adj_verb_adv  \\\n",
       "0    ['child', 'peril', 'eligible', 'couid', 'vacci...   \n",
       "1    ['previous', 'couid', 'infection', 'vaccinatio...   \n",
       "2                              ['vaccination', 'mark']   \n",
       "3    ['get', 'call', 'office', 'ascertain', 'status...   \n",
       "4    ['book', 'departure', 'time', 'let', 'know', '...   \n",
       "..                                                 ...   \n",
       "995  ['allow', 'business', 'reduce', 'capacity', 'a...   \n",
       "996                    ['schedule', 'patiala_politic']   \n",
       "997  ['team', 'try', 'couid', 'vaccination', 'certi...   \n",
       "998  ['vaccination', 'join', 'charitable', 'clinic'...   \n",
       "999  ['precaution', 'dose', 'vaccination', 'service...   \n",
       "\n",
       "                                  words_processed_noun  subjectivity  \\\n",
       "0           ['child', 'peril', 'couid', 'vaccination']      0.000000   \n",
       "1    ['couid', 'infection', 'vaccination', 'perform...      0.166667   \n",
       "2                                      ['vaccination']      0.000000   \n",
       "3    ['office', 'status', 'couid', 'vaccination', '...      0.000000   \n",
       "4    ['departure', 'time', 'guideline', 'today', 'c...      0.727273   \n",
       "..                                                 ...           ...   \n",
       "995  ['business', 'capacity', 'couid', 'guideline',...      0.000000   \n",
       "996                    ['schedule', 'patiala_politic']      0.000000   \n",
       "997  ['team', 'couid', 'vaccination', 'certificate'...      0.000000   \n",
       "998  ['vaccination', 'clinic', 'number', 'school', ...      0.525000   \n",
       "999           ['precaution', 'vaccination', 'service']      0.000000   \n",
       "\n",
       "      text_type  \n",
       "0     objective  \n",
       "1     objective  \n",
       "2     objective  \n",
       "3     objective  \n",
       "4     objective  \n",
       "..          ...  \n",
       "995  subjective  \n",
       "996   objective  \n",
       "997   objective  \n",
       "998   objective  \n",
       "999  subjective  \n",
       "\n",
       "[1000 rows x 11 columns]"
      ]
     },
     "execution_count": 2,
     "metadata": {},
     "output_type": "execute_result"
    }
   ],
   "source": [
    "labelled_df = pd.read_csv(\"training_data_india.csv\")\n",
    "labelled_df.drop(['Unnamed: 0', 'Unnamed: 0.1'], axis=1, inplace=True)\n",
    "labelled_df"
   ]
  },
  {
   "cell_type": "code",
   "execution_count": 3,
   "id": "eba42c9f",
   "metadata": {},
   "outputs": [
    {
     "data": {
      "text/html": [
       "<div>\n",
       "<style scoped>\n",
       "    .dataframe tbody tr th:only-of-type {\n",
       "        vertical-align: middle;\n",
       "    }\n",
       "\n",
       "    .dataframe tbody tr th {\n",
       "        vertical-align: top;\n",
       "    }\n",
       "\n",
       "    .dataframe thead th {\n",
       "        text-align: right;\n",
       "    }\n",
       "</style>\n",
       "<table border=\"1\" class=\"dataframe\">\n",
       "  <thead>\n",
       "    <tr style=\"text-align: right;\">\n",
       "      <th></th>\n",
       "      <th>Text</th>\n",
       "      <th>new_text</th>\n",
       "      <th>languages</th>\n",
       "      <th>translated</th>\n",
       "      <th>new_languages</th>\n",
       "      <th>pos_tagged_words</th>\n",
       "      <th>words_processed_all</th>\n",
       "      <th>words_processed_noun_adj_verb_adv</th>\n",
       "      <th>words_processed_noun</th>\n",
       "    </tr>\n",
       "  </thead>\n",
       "  <tbody>\n",
       "    <tr>\n",
       "      <th>0</th>\n",
       "      <td>soniya mummy hoti toh covid me magic stick ghu...</td>\n",
       "      <td>soniya mummy hoti toh covid me magic stick ghu...</td>\n",
       "      <td>Unknown</td>\n",
       "      <td>soniya mummy hoti toh covid me magic stick ghu...</td>\n",
       "      <td>Unknown</td>\n",
       "      <td>[('soniya', 'JJ'), ('mummy', 'NN'), ('hot', 'J...</td>\n",
       "      <td>['soniya', 'mummy', 'hot', 'toh', 'couid', 'ma...</td>\n",
       "      <td>['death']</td>\n",
       "      <td>['death']</td>\n",
       "    </tr>\n",
       "    <tr>\n",
       "      <th>1</th>\n",
       "      <td>#pickids : about 20,000 children perlis eligib...</td>\n",
       "      <td>#pickids : about 20,000 children perlis eligib...</td>\n",
       "      <td>ENGLISH</td>\n",
       "      <td>#pickids : about 20,000 children perlis eligib...</td>\n",
       "      <td>ENGLISH</td>\n",
       "      <td>[('pickins', 'NNS'), ('about', 'IN'), ('twenty...</td>\n",
       "      <td>['pickins', 'twenty', 'zero', 'child', 'peril'...</td>\n",
       "      <td>['child', 'peril', 'eligible', 'couid', 'vacci...</td>\n",
       "      <td>['child', 'peril', 'couid', 'vaccination']</td>\n",
       "    </tr>\n",
       "    <tr>\n",
       "      <th>2</th>\n",
       "      <td>previous covid-19 infection – but not vaccinat...</td>\n",
       "      <td>previous covid-19 infection – but not vaccinat...</td>\n",
       "      <td>ENGLISH</td>\n",
       "      <td>previous covid-19 infection – but not vaccinat...</td>\n",
       "      <td>ENGLISH</td>\n",
       "      <td>[('previous', 'JJ'), ('couid', 'NN'), ('ninete...</td>\n",
       "      <td>['previous', 'couid', 'nineteen', 'infection',...</td>\n",
       "      <td>['previous', 'couid', 'infection', 'vaccinatio...</td>\n",
       "      <td>['couid', 'infection', 'vaccination', 'perform...</td>\n",
       "    </tr>\n",
       "    <tr>\n",
       "      <th>3</th>\n",
       "      <td>india’s covid-19 vaccination coverage crosses ...</td>\n",
       "      <td>india’s covid-19 vaccination coverage crosses ...</td>\n",
       "      <td>ENGLISH</td>\n",
       "      <td>india’s covid-19 vaccination coverage crosses ...</td>\n",
       "      <td>ENGLISH</td>\n",
       "      <td>[('india', 'NN'), ('i', 'NN'), ('i', 'VBP'), (...</td>\n",
       "      <td>['india', 'couid', 'nineteen', 'vaccination', ...</td>\n",
       "      <td>['vaccination', 'mark']</td>\n",
       "      <td>['vaccination']</td>\n",
       "    </tr>\n",
       "    <tr>\n",
       "      <th>4</th>\n",
       "      <td>i got call office principal commissioner cgst ...</td>\n",
       "      <td>i got call office principal commissioner cgst ...</td>\n",
       "      <td>ENGLISH</td>\n",
       "      <td>i got call office principal commissioner cgst ...</td>\n",
       "      <td>ENGLISH</td>\n",
       "      <td>[('i', 'NN'), ('got', 'VBD'), ('call', 'JJ'), ...</td>\n",
       "      <td>['got', 'call', 'office', 'principal', 'commis...</td>\n",
       "      <td>['get', 'call', 'office', 'ascertain', 'status...</td>\n",
       "      <td>['office', 'status', 'couid', 'vaccination', '...</td>\n",
       "    </tr>\n",
       "    <tr>\n",
       "      <th>...</th>\n",
       "      <td>...</td>\n",
       "      <td>...</td>\n",
       "      <td>...</td>\n",
       "      <td>...</td>\n",
       "      <td>...</td>\n",
       "      <td>...</td>\n",
       "      <td>...</td>\n",
       "      <td>...</td>\n",
       "      <td>...</td>\n",
       "    </tr>\n",
       "    <tr>\n",
       "      <th>95183</th>\n",
       "      <td>mask up 😷 india 🇮🇳 come forward vaccination ti...</td>\n",
       "      <td>mask up face_with_medical_mask india India com...</td>\n",
       "      <td>ENGLISH, Unknown</td>\n",
       "      <td>mask up face_with_medical_mask india India com...</td>\n",
       "      <td>ENGLISH</td>\n",
       "      <td>[('mask', 'VB'), ('up', 'RP'), ('india', 'JJ')...</td>\n",
       "      <td>['mask', 'india', 'india', 'come_forward', 'va...</td>\n",
       "      <td>['come_forward', 'vaccination', 'tika_tsar', '...</td>\n",
       "      <td>['vaccination', 'syringemicrobe', 'television'...</td>\n",
       "    </tr>\n",
       "    <tr>\n",
       "      <th>95184</th>\n",
       "      <td>our sincere request state central govt 🙏🙏. ple...</td>\n",
       "      <td>our sincere request state central govt folded_...</td>\n",
       "      <td>ENGLISH</td>\n",
       "      <td>our sincere request state central govt folded_...</td>\n",
       "      <td>ENGLISH</td>\n",
       "      <td>[('our', 'PRP$'), ('sincere', 'JJ'), ('request...</td>\n",
       "      <td>['sincere', 'request', 'state', 'central', 'go...</td>\n",
       "      <td>['sincere', 'request', 'state', 'central', 'go...</td>\n",
       "      <td>['request', 'state', 'govt', 'share', 'vaccine...</td>\n",
       "    </tr>\n",
       "    <tr>\n",
       "      <th>95185</th>\n",
       "      <td>thanks your appreciation valuable feedback abo...</td>\n",
       "      <td>thanks your appreciation valuable feedback abo...</td>\n",
       "      <td>ENGLISH</td>\n",
       "      <td>thanks your appreciation valuable feedback abo...</td>\n",
       "      <td>ENGLISH</td>\n",
       "      <td>[('thanks', 'NNS'), ('your', 'PRP$'), ('apprec...</td>\n",
       "      <td>['thank', 'appreciation', 'valuable', 'feedbac...</td>\n",
       "      <td>['thank', 'appreciation', 'valuable', 'feedbac...</td>\n",
       "      <td>['thank', 'appreciation', 'feedback', 'vaccine...</td>\n",
       "    </tr>\n",
       "    <tr>\n",
       "      <th>95186</th>\n",
       "      <td>i can’t wait get my 2nd dose #covidvaccine ove...</td>\n",
       "      <td>i can’t wait get my 2nd dose #covidvaccine ove...</td>\n",
       "      <td>Unknown, ENGLISH</td>\n",
       "      <td>i can’t wait get my 2nd dose #covidvaccine ove...</td>\n",
       "      <td>ENGLISH</td>\n",
       "      <td>[('i', 'NN'), ('can', 'MD'), ('i', 'VB'), ('i'...</td>\n",
       "      <td>['wait', 'get', 'dose', 'covidvaccine', 'amp',...</td>\n",
       "      <td>['wait', 'get', 'dose', 'covidvaccine', 'amp',...</td>\n",
       "      <td>['dose', 'covidvaccine', 'amp', 'amp', 'follow...</td>\n",
       "    </tr>\n",
       "    <tr>\n",
       "      <th>95187</th>\n",
       "      <td>thanks your appreciation valuable feedback abo...</td>\n",
       "      <td>thanks your appreciation valuable feedback abo...</td>\n",
       "      <td>ENGLISH</td>\n",
       "      <td>thanks your appreciation valuable feedback abo...</td>\n",
       "      <td>ENGLISH</td>\n",
       "      <td>[('thanks', 'NNS'), ('your', 'PRP$'), ('apprec...</td>\n",
       "      <td>['thank', 'appreciation', 'valuable', 'feedbac...</td>\n",
       "      <td>['thank', 'appreciation', 'valuable', 'feedbac...</td>\n",
       "      <td>['thank', 'appreciation', 'feedback', 'vaccina...</td>\n",
       "    </tr>\n",
       "  </tbody>\n",
       "</table>\n",
       "<p>95188 rows × 9 columns</p>\n",
       "</div>"
      ],
      "text/plain": [
       "                                                    Text  \\\n",
       "0      soniya mummy hoti toh covid me magic stick ghu...   \n",
       "1      #pickids : about 20,000 children perlis eligib...   \n",
       "2      previous covid-19 infection – but not vaccinat...   \n",
       "3      india’s covid-19 vaccination coverage crosses ...   \n",
       "4      i got call office principal commissioner cgst ...   \n",
       "...                                                  ...   \n",
       "95183  mask up 😷 india 🇮🇳 come forward vaccination ti...   \n",
       "95184  our sincere request state central govt 🙏🙏. ple...   \n",
       "95185  thanks your appreciation valuable feedback abo...   \n",
       "95186  i can’t wait get my 2nd dose #covidvaccine ove...   \n",
       "95187  thanks your appreciation valuable feedback abo...   \n",
       "\n",
       "                                                new_text         languages  \\\n",
       "0      soniya mummy hoti toh covid me magic stick ghu...           Unknown   \n",
       "1      #pickids : about 20,000 children perlis eligib...           ENGLISH   \n",
       "2      previous covid-19 infection – but not vaccinat...           ENGLISH   \n",
       "3      india’s covid-19 vaccination coverage crosses ...           ENGLISH   \n",
       "4      i got call office principal commissioner cgst ...           ENGLISH   \n",
       "...                                                  ...               ...   \n",
       "95183  mask up face_with_medical_mask india India com...  ENGLISH, Unknown   \n",
       "95184  our sincere request state central govt folded_...           ENGLISH   \n",
       "95185  thanks your appreciation valuable feedback abo...           ENGLISH   \n",
       "95186  i can’t wait get my 2nd dose #covidvaccine ove...  Unknown, ENGLISH   \n",
       "95187  thanks your appreciation valuable feedback abo...           ENGLISH   \n",
       "\n",
       "                                              translated new_languages  \\\n",
       "0      soniya mummy hoti toh covid me magic stick ghu...       Unknown   \n",
       "1      #pickids : about 20,000 children perlis eligib...       ENGLISH   \n",
       "2      previous covid-19 infection – but not vaccinat...       ENGLISH   \n",
       "3      india’s covid-19 vaccination coverage crosses ...       ENGLISH   \n",
       "4      i got call office principal commissioner cgst ...       ENGLISH   \n",
       "...                                                  ...           ...   \n",
       "95183  mask up face_with_medical_mask india India com...       ENGLISH   \n",
       "95184  our sincere request state central govt folded_...       ENGLISH   \n",
       "95185  thanks your appreciation valuable feedback abo...       ENGLISH   \n",
       "95186  i can’t wait get my 2nd dose #covidvaccine ove...       ENGLISH   \n",
       "95187  thanks your appreciation valuable feedback abo...       ENGLISH   \n",
       "\n",
       "                                        pos_tagged_words  \\\n",
       "0      [('soniya', 'JJ'), ('mummy', 'NN'), ('hot', 'J...   \n",
       "1      [('pickins', 'NNS'), ('about', 'IN'), ('twenty...   \n",
       "2      [('previous', 'JJ'), ('couid', 'NN'), ('ninete...   \n",
       "3      [('india', 'NN'), ('i', 'NN'), ('i', 'VBP'), (...   \n",
       "4      [('i', 'NN'), ('got', 'VBD'), ('call', 'JJ'), ...   \n",
       "...                                                  ...   \n",
       "95183  [('mask', 'VB'), ('up', 'RP'), ('india', 'JJ')...   \n",
       "95184  [('our', 'PRP$'), ('sincere', 'JJ'), ('request...   \n",
       "95185  [('thanks', 'NNS'), ('your', 'PRP$'), ('apprec...   \n",
       "95186  [('i', 'NN'), ('can', 'MD'), ('i', 'VB'), ('i'...   \n",
       "95187  [('thanks', 'NNS'), ('your', 'PRP$'), ('apprec...   \n",
       "\n",
       "                                     words_processed_all  \\\n",
       "0      ['soniya', 'mummy', 'hot', 'toh', 'couid', 'ma...   \n",
       "1      ['pickins', 'twenty', 'zero', 'child', 'peril'...   \n",
       "2      ['previous', 'couid', 'nineteen', 'infection',...   \n",
       "3      ['india', 'couid', 'nineteen', 'vaccination', ...   \n",
       "4      ['got', 'call', 'office', 'principal', 'commis...   \n",
       "...                                                  ...   \n",
       "95183  ['mask', 'india', 'india', 'come_forward', 'va...   \n",
       "95184  ['sincere', 'request', 'state', 'central', 'go...   \n",
       "95185  ['thank', 'appreciation', 'valuable', 'feedbac...   \n",
       "95186  ['wait', 'get', 'dose', 'covidvaccine', 'amp',...   \n",
       "95187  ['thank', 'appreciation', 'valuable', 'feedbac...   \n",
       "\n",
       "                       words_processed_noun_adj_verb_adv  \\\n",
       "0                                              ['death']   \n",
       "1      ['child', 'peril', 'eligible', 'couid', 'vacci...   \n",
       "2      ['previous', 'couid', 'infection', 'vaccinatio...   \n",
       "3                                ['vaccination', 'mark']   \n",
       "4      ['get', 'call', 'office', 'ascertain', 'status...   \n",
       "...                                                  ...   \n",
       "95183  ['come_forward', 'vaccination', 'tika_tsar', '...   \n",
       "95184  ['sincere', 'request', 'state', 'central', 'go...   \n",
       "95185  ['thank', 'appreciation', 'valuable', 'feedbac...   \n",
       "95186  ['wait', 'get', 'dose', 'covidvaccine', 'amp',...   \n",
       "95187  ['thank', 'appreciation', 'valuable', 'feedbac...   \n",
       "\n",
       "                                    words_processed_noun  \n",
       "0                                              ['death']  \n",
       "1             ['child', 'peril', 'couid', 'vaccination']  \n",
       "2      ['couid', 'infection', 'vaccination', 'perform...  \n",
       "3                                        ['vaccination']  \n",
       "4      ['office', 'status', 'couid', 'vaccination', '...  \n",
       "...                                                  ...  \n",
       "95183  ['vaccination', 'syringemicrobe', 'television'...  \n",
       "95184  ['request', 'state', 'govt', 'share', 'vaccine...  \n",
       "95185  ['thank', 'appreciation', 'feedback', 'vaccine...  \n",
       "95186  ['dose', 'covidvaccine', 'amp', 'amp', 'follow...  \n",
       "95187  ['thank', 'appreciation', 'feedback', 'vaccina...  \n",
       "\n",
       "[95188 rows x 9 columns]"
      ]
     },
     "execution_count": 3,
     "metadata": {},
     "output_type": "execute_result"
    }
   ],
   "source": [
    "whole_df = pd.read_csv(\"../india-v1-preprocessed-overall.csv\")\n",
    "whole_df.drop(['Unnamed: 0'], axis=1, inplace=True)\n",
    "whole_df"
   ]
  },
  {
   "cell_type": "markdown",
   "id": "baab65f5",
   "metadata": {},
   "source": [
    "# Logistic Regression"
   ]
  },
  {
   "cell_type": "code",
   "execution_count": 4,
   "id": "f4f6caa1",
   "metadata": {},
   "outputs": [],
   "source": [
    "training_data, test_data = sklearn.model_selection.train_test_split(labelled_df, train_size = 0.8, random_state=1)"
   ]
  },
  {
   "cell_type": "code",
   "execution_count": 5,
   "id": "dd4abd2a",
   "metadata": {},
   "outputs": [
    {
     "name": "stdout",
     "output_type": "stream",
     "text": [
      "(800, 11)\n",
      "(200, 11)\n"
     ]
    }
   ],
   "source": [
    "print(training_data.shape)\n",
    "print(test_data.shape)"
   ]
  },
  {
   "cell_type": "code",
   "execution_count": 6,
   "id": "94447394",
   "metadata": {},
   "outputs": [],
   "source": [
    "def simple_logistic_classify(X_tr, y_tr, X_test, y_test, description, _C=1.0):\n",
    "    model = LogisticRegression(C=_C).fit(X_tr, y_tr)\n",
    "    y_pred = model.predict(X_test)\n",
    "    accuracy = metrics.accuracy_score(y_test, y_pred)\n",
    "    f1score = f1_score(y_test, y_pred, average='weighted')\n",
    "    print('Accuracy', description, 'features', accuracy)\n",
    "    print('F1 Score', description, 'features', f1score)\n",
    "    return model"
   ]
  },
  {
   "cell_type": "code",
   "execution_count": 7,
   "id": "f58c720f",
   "metadata": {},
   "outputs": [],
   "source": [
    "y_tr = training_data['text_type']\n",
    "y_te = test_data['text_type']"
   ]
  },
  {
   "cell_type": "code",
   "execution_count": 8,
   "id": "8856de28",
   "metadata": {},
   "outputs": [],
   "source": [
    "param_grid_ = {'C': [1e-5, 1e-3, 1e-1, 1e0, 1e1, 1e2]}"
   ]
  },
  {
   "cell_type": "markdown",
   "id": "dd329cab",
   "metadata": {},
   "source": [
    "## Train Model"
   ]
  },
  {
   "cell_type": "markdown",
   "id": "73634237",
   "metadata": {},
   "source": [
    "### BoW"
   ]
  },
  {
   "cell_type": "code",
   "execution_count": 9,
   "id": "49371ffd",
   "metadata": {},
   "outputs": [
    {
     "data": {
      "text/plain": [
       "1385"
      ]
     },
     "execution_count": 9,
     "metadata": {},
     "output_type": "execute_result"
    }
   ],
   "source": [
    "bow_converter = CountVectorizer(tokenizer=lambda doc: doc, lowercase=False)\n",
    "x = bow_converter.fit_transform(whole_df['translated'])\n",
    "\n",
    "words = bow_converter.get_feature_names()\n",
    "len(words)"
   ]
  },
  {
   "cell_type": "code",
   "execution_count": 10,
   "id": "767c84a6",
   "metadata": {},
   "outputs": [],
   "source": [
    "bow_transform = CountVectorizer(tokenizer=lambda doc: doc, ngram_range=[3,3], lowercase=False) "
   ]
  },
  {
   "cell_type": "code",
   "execution_count": 11,
   "id": "b6bdd939",
   "metadata": {},
   "outputs": [],
   "source": [
    "whole_data_bow = bow_transform.fit_transform(whole_df[\"translated\"])"
   ]
  },
  {
   "cell_type": "code",
   "execution_count": 12,
   "id": "a9af92c3",
   "metadata": {},
   "outputs": [
    {
     "data": {
      "text/plain": [
       "<95188x57142 sparse matrix of type '<class 'numpy.int64'>'\n",
       "\twith 12118915 stored elements in Compressed Sparse Row format>"
      ]
     },
     "execution_count": 12,
     "metadata": {},
     "output_type": "execute_result"
    }
   ],
   "source": [
    "whole_data_bow"
   ]
  },
  {
   "cell_type": "code",
   "execution_count": 13,
   "id": "0e72ebff",
   "metadata": {},
   "outputs": [],
   "source": [
    "X_tr_bow = bow_transform.transform(training_data['translated'])"
   ]
  },
  {
   "cell_type": "code",
   "execution_count": 14,
   "id": "ef4942a9",
   "metadata": {},
   "outputs": [
    {
     "data": {
      "text/plain": [
       "<800x57142 sparse matrix of type '<class 'numpy.int64'>'\n",
       "\twith 113487 stored elements in Compressed Sparse Row format>"
      ]
     },
     "execution_count": 14,
     "metadata": {},
     "output_type": "execute_result"
    }
   ],
   "source": [
    "X_tr_bow"
   ]
  },
  {
   "cell_type": "code",
   "execution_count": 15,
   "id": "05e9c0d5",
   "metadata": {},
   "outputs": [
    {
     "data": {
      "text/plain": [
       "57142"
      ]
     },
     "execution_count": 15,
     "metadata": {},
     "output_type": "execute_result"
    }
   ],
   "source": [
    "len(bow_transform.vocabulary_)"
   ]
  },
  {
   "cell_type": "code",
   "execution_count": 16,
   "id": "fa241c84",
   "metadata": {},
   "outputs": [
    {
     "data": {
      "text/plain": [
       "(800, 57142)"
      ]
     },
     "execution_count": 16,
     "metadata": {},
     "output_type": "execute_result"
    }
   ],
   "source": [
    "X_tr_bow.shape"
   ]
  },
  {
   "cell_type": "code",
   "execution_count": 17,
   "id": "7af493eb",
   "metadata": {},
   "outputs": [],
   "source": [
    "X_te_bow = bow_transform.transform(test_data['translated'])"
   ]
  },
  {
   "cell_type": "code",
   "execution_count": 18,
   "id": "5fb8783b",
   "metadata": {},
   "outputs": [
    {
     "data": {
      "text/plain": [
       "<200x57142 sparse matrix of type '<class 'numpy.int64'>'\n",
       "\twith 27756 stored elements in Compressed Sparse Row format>"
      ]
     },
     "execution_count": 18,
     "metadata": {},
     "output_type": "execute_result"
    }
   ],
   "source": [
    "X_te_bow"
   ]
  },
  {
   "cell_type": "code",
   "execution_count": 19,
   "id": "750a23e7",
   "metadata": {},
   "outputs": [
    {
     "name": "stdout",
     "output_type": "stream",
     "text": [
      "Accuracy bow features 0.825\n",
      "F1 Score bow features 0.8179581264839197\n"
     ]
    }
   ],
   "source": [
    "model_bow = simple_logistic_classify(X_tr_bow, y_tr, X_te_bow, y_te, 'bow')"
   ]
  },
  {
   "cell_type": "code",
   "execution_count": 20,
   "id": "6e001146",
   "metadata": {},
   "outputs": [],
   "source": [
    "bow_search = sklearn.model_selection.GridSearchCV(LogisticRegression(), cv=5, param_grid=param_grid_)"
   ]
  },
  {
   "cell_type": "code",
   "execution_count": 21,
   "id": "394682be",
   "metadata": {},
   "outputs": [
    {
     "data": {
      "text/plain": [
       "GridSearchCV(cv=5, estimator=LogisticRegression(),\n",
       "             param_grid={'C': [1e-05, 0.001, 0.1, 1.0, 10.0, 100.0]})"
      ]
     },
     "execution_count": 21,
     "metadata": {},
     "output_type": "execute_result"
    }
   ],
   "source": [
    "bow_search.fit(X_tr_bow, y_tr)"
   ]
  },
  {
   "cell_type": "code",
   "execution_count": 22,
   "id": "07ff332d",
   "metadata": {},
   "outputs": [
    {
     "data": {
      "text/plain": [
       "0.83375"
      ]
     },
     "execution_count": 22,
     "metadata": {},
     "output_type": "execute_result"
    }
   ],
   "source": [
    "bow_search.best_score_"
   ]
  },
  {
   "cell_type": "code",
   "execution_count": 23,
   "id": "b5006bf4",
   "metadata": {},
   "outputs": [
    {
     "data": {
      "text/plain": [
       "{'C': 0.1}"
      ]
     },
     "execution_count": 23,
     "metadata": {},
     "output_type": "execute_result"
    }
   ],
   "source": [
    "bow_search.best_params_"
   ]
  },
  {
   "cell_type": "code",
   "execution_count": 24,
   "id": "be6e7874",
   "metadata": {},
   "outputs": [
    {
     "data": {
      "text/plain": [
       "{'mean_fit_time': array([0.22053623, 0.25046992, 0.49780788, 0.83671269, 0.90165167,\n",
       "        0.86829038]),\n",
       " 'std_fit_time': array([0.00489112, 0.02380017, 0.03221123, 0.04329328, 0.01809082,\n",
       "        0.01743323]),\n",
       " 'mean_score_time': array([0.00090485, 0.00091586, 0.00085945, 0.00107241, 0.00102148,\n",
       "        0.00102515]),\n",
       " 'std_score_time': array([5.85565738e-05, 4.23971253e-05, 1.01589975e-04, 2.04642765e-04,\n",
       "        5.70887002e-05, 9.25043686e-05]),\n",
       " 'param_C': masked_array(data=[1e-05, 0.001, 0.1, 1.0, 10.0, 100.0],\n",
       "              mask=[False, False, False, False, False, False],\n",
       "        fill_value='?',\n",
       "             dtype=object),\n",
       " 'params': [{'C': 1e-05},\n",
       "  {'C': 0.001},\n",
       "  {'C': 0.1},\n",
       "  {'C': 1.0},\n",
       "  {'C': 10.0},\n",
       "  {'C': 100.0}],\n",
       " 'split0_test_score': array([0.66875, 0.7875 , 0.85625, 0.84375, 0.8375 , 0.83125]),\n",
       " 'split1_test_score': array([0.66875, 0.76875, 0.84375, 0.8375 , 0.84375, 0.84375]),\n",
       " 'split2_test_score': array([0.66875, 0.74375, 0.7875 , 0.775  , 0.775  , 0.76875]),\n",
       " 'split3_test_score': array([0.6625, 0.75  , 0.85  , 0.85  , 0.8375, 0.8375]),\n",
       " 'split4_test_score': array([0.6625 , 0.75   , 0.83125, 0.8125 , 0.79375, 0.8    ]),\n",
       " 'mean_test_score': array([0.66625, 0.76   , 0.83375, 0.82375, 0.8175 , 0.81625]),\n",
       " 'std_test_score': array([0.00306186, 0.01610512, 0.0245586 , 0.0275    , 0.02778264,\n",
       "        0.02811805]),\n",
       " 'rank_test_score': array([6, 5, 1, 2, 3, 4], dtype=int32)}"
      ]
     },
     "execution_count": 24,
     "metadata": {},
     "output_type": "execute_result"
    }
   ],
   "source": [
    "bow_search.cv_results_"
   ]
  },
  {
   "cell_type": "code",
   "execution_count": 25,
   "id": "79f59ae7",
   "metadata": {},
   "outputs": [
    {
     "name": "stdout",
     "output_type": "stream",
     "text": [
      "Accuracy bow features 0.83\n",
      "F1 Score bow features 0.822579365079365\n"
     ]
    }
   ],
   "source": [
    "model_bow = simple_logistic_classify(X_tr_bow, y_tr, X_te_bow, y_te, 'bow', \n",
    "                              _C=bow_search.best_params_['C'])"
   ]
  },
  {
   "cell_type": "markdown",
   "id": "aa0982a4",
   "metadata": {},
   "source": [
    "### TF-IDF"
   ]
  },
  {
   "cell_type": "code",
   "execution_count": 26,
   "id": "5f953365",
   "metadata": {},
   "outputs": [],
   "source": [
    "tfidf_transform = text.TfidfTransformer(norm=None)\n",
    "X_tr_tfidf = tfidf_transform.fit_transform(X_tr_bow)"
   ]
  },
  {
   "cell_type": "code",
   "execution_count": 27,
   "id": "74a2ece9",
   "metadata": {},
   "outputs": [
    {
     "data": {
      "text/plain": [
       "<800x57142 sparse matrix of type '<class 'numpy.float64'>'\n",
       "\twith 113487 stored elements in Compressed Sparse Row format>"
      ]
     },
     "execution_count": 27,
     "metadata": {},
     "output_type": "execute_result"
    }
   ],
   "source": [
    "X_tr_tfidf"
   ]
  },
  {
   "cell_type": "code",
   "execution_count": 28,
   "id": "84cb8dcd",
   "metadata": {},
   "outputs": [],
   "source": [
    "X_te_tfidf = tfidf_transform.transform(X_te_bow)"
   ]
  },
  {
   "cell_type": "code",
   "execution_count": 29,
   "id": "980bc3d2",
   "metadata": {},
   "outputs": [
    {
     "data": {
      "text/plain": [
       "<200x57142 sparse matrix of type '<class 'numpy.float64'>'\n",
       "\twith 27756 stored elements in Compressed Sparse Row format>"
      ]
     },
     "execution_count": 29,
     "metadata": {},
     "output_type": "execute_result"
    }
   ],
   "source": [
    "X_te_tfidf"
   ]
  },
  {
   "cell_type": "code",
   "execution_count": 30,
   "id": "9b1e6efd",
   "metadata": {},
   "outputs": [
    {
     "name": "stdout",
     "output_type": "stream",
     "text": [
      "Accuracy tf-idf features 0.84\n",
      "F1 Score tf-idf features 0.8340915225125752\n"
     ]
    }
   ],
   "source": [
    "model_tfidf = simple_logistic_classify(X_tr_tfidf, y_tr, X_te_tfidf, y_te, 'tf-idf')"
   ]
  },
  {
   "cell_type": "code",
   "execution_count": 31,
   "id": "4be11cdc",
   "metadata": {},
   "outputs": [],
   "source": [
    "tfidf_search = sklearn.model_selection.GridSearchCV(LogisticRegression(), cv=5,\n",
    "                                   param_grid=param_grid_)"
   ]
  },
  {
   "cell_type": "code",
   "execution_count": 32,
   "id": "e1df2a7c",
   "metadata": {},
   "outputs": [
    {
     "data": {
      "text/plain": [
       "GridSearchCV(cv=5, estimator=LogisticRegression(),\n",
       "             param_grid={'C': [1e-05, 0.001, 0.1, 1.0, 10.0, 100.0]})"
      ]
     },
     "execution_count": 32,
     "metadata": {},
     "output_type": "execute_result"
    }
   ],
   "source": [
    "tfidf_search.fit(X_tr_tfidf, y_tr)"
   ]
  },
  {
   "cell_type": "code",
   "execution_count": 33,
   "id": "e952ec14",
   "metadata": {},
   "outputs": [
    {
     "data": {
      "text/plain": [
       "0.83625"
      ]
     },
     "execution_count": 33,
     "metadata": {},
     "output_type": "execute_result"
    }
   ],
   "source": [
    "tfidf_search.best_score_"
   ]
  },
  {
   "cell_type": "code",
   "execution_count": 34,
   "id": "7764188a",
   "metadata": {},
   "outputs": [
    {
     "data": {
      "text/plain": [
       "{'C': 0.1}"
      ]
     },
     "execution_count": 34,
     "metadata": {},
     "output_type": "execute_result"
    }
   ],
   "source": [
    "tfidf_search.best_params_"
   ]
  },
  {
   "cell_type": "code",
   "execution_count": 35,
   "id": "0598d827",
   "metadata": {},
   "outputs": [
    {
     "name": "stdout",
     "output_type": "stream",
     "text": [
      "Accuracy tf-idf features 0.84\n",
      "F1 Score tf-idf features 0.8340915225125752\n"
     ]
    }
   ],
   "source": [
    "model_tfidf = simple_logistic_classify(X_tr_tfidf, y_tr, X_te_tfidf, y_te, 'tf-idf', \n",
    "                              _C=tfidf_search.best_params_['C'])"
   ]
  },
  {
   "cell_type": "markdown",
   "id": "1e881ca9",
   "metadata": {},
   "source": [
    "### Overall Comparison - BoW vs TF-IDF"
   ]
  },
  {
   "cell_type": "code",
   "execution_count": 36,
   "id": "eb36f17c",
   "metadata": {},
   "outputs": [],
   "source": [
    "results_file = open('tfidf_gridcv_results.pkl', 'wb')\n",
    "pickle.dump(bow_search, results_file, -1)\n",
    "pickle.dump(tfidf_search, results_file, -1)\n",
    "results_file.close()"
   ]
  },
  {
   "cell_type": "code",
   "execution_count": 37,
   "id": "59d3237e",
   "metadata": {},
   "outputs": [],
   "source": [
    "pkl_file = open('tfidf_gridcv_results.pkl', 'rb')\n",
    "bow_search = pickle.load(pkl_file)\n",
    "tfidf_search = pickle.load(pkl_file)\n",
    "pkl_file.close()"
   ]
  },
  {
   "cell_type": "code",
   "execution_count": 38,
   "id": "a8f61ba0",
   "metadata": {},
   "outputs": [
    {
     "data": {
      "text/html": [
       "<div>\n",
       "<style scoped>\n",
       "    .dataframe tbody tr th:only-of-type {\n",
       "        vertical-align: middle;\n",
       "    }\n",
       "\n",
       "    .dataframe tbody tr th {\n",
       "        vertical-align: top;\n",
       "    }\n",
       "\n",
       "    .dataframe thead th {\n",
       "        text-align: right;\n",
       "    }\n",
       "</style>\n",
       "<table border=\"1\" class=\"dataframe\">\n",
       "  <thead>\n",
       "    <tr style=\"text-align: right;\">\n",
       "      <th></th>\n",
       "      <th>bow</th>\n",
       "      <th>tfidf</th>\n",
       "    </tr>\n",
       "  </thead>\n",
       "  <tbody>\n",
       "    <tr>\n",
       "      <th>0</th>\n",
       "      <td>0.66625</td>\n",
       "      <td>0.66625</td>\n",
       "    </tr>\n",
       "    <tr>\n",
       "      <th>1</th>\n",
       "      <td>0.76000</td>\n",
       "      <td>0.82875</td>\n",
       "    </tr>\n",
       "    <tr>\n",
       "      <th>2</th>\n",
       "      <td>0.83375</td>\n",
       "      <td>0.83625</td>\n",
       "    </tr>\n",
       "    <tr>\n",
       "      <th>3</th>\n",
       "      <td>0.82375</td>\n",
       "      <td>0.83125</td>\n",
       "    </tr>\n",
       "    <tr>\n",
       "      <th>4</th>\n",
       "      <td>0.81750</td>\n",
       "      <td>0.82750</td>\n",
       "    </tr>\n",
       "    <tr>\n",
       "      <th>5</th>\n",
       "      <td>0.81625</td>\n",
       "      <td>0.82375</td>\n",
       "    </tr>\n",
       "  </tbody>\n",
       "</table>\n",
       "</div>"
      ],
      "text/plain": [
       "       bow    tfidf\n",
       "0  0.66625  0.66625\n",
       "1  0.76000  0.82875\n",
       "2  0.83375  0.83625\n",
       "3  0.82375  0.83125\n",
       "4  0.81750  0.82750\n",
       "5  0.81625  0.82375"
      ]
     },
     "execution_count": 38,
     "metadata": {},
     "output_type": "execute_result"
    }
   ],
   "source": [
    "search_results = pd.DataFrame.from_dict({'bow': bow_search.cv_results_['mean_test_score'],\n",
    "                               'tfidf': tfidf_search.cv_results_['mean_test_score']})\n",
    "search_results"
   ]
  },
  {
   "cell_type": "code",
   "execution_count": 39,
   "id": "a663ee87",
   "metadata": {},
   "outputs": [
    {
     "data": {
      "image/png": "[encoded data removed]",
      "text/plain": [
       "<Figure size 432x288 with 1 Axes>"
      ]
     },
     "metadata": {
      "needs_background": "light"
     },
     "output_type": "display_data"
    }
   ],
   "source": [
    "%matplotlib inline\n",
    "ax = sns.boxplot(data=search_results, width=0.4)\n",
    "ax.set_ylabel('Accuracy', size=14)\n",
    "ax.tick_params(labelsize=14)\n",
    "plt.savefig('tfidf_gridcv_results.png')"
   ]
  },
  {
   "cell_type": "markdown",
   "id": "5e1ef594",
   "metadata": {},
   "source": [
    "## Implement on whole df"
   ]
  },
  {
   "cell_type": "code",
   "execution_count": 51,
   "id": "34229dbc",
   "metadata": {},
   "outputs": [
    {
     "data": {
      "text/plain": [
       "<95188x57142 sparse matrix of type '<class 'numpy.int64'>'\n",
       "\twith 12118915 stored elements in Compressed Sparse Row format>"
      ]
     },
     "execution_count": 51,
     "metadata": {},
     "output_type": "execute_result"
    }
   ],
   "source": [
    "whole_data_bow"
   ]
  },
  {
   "cell_type": "code",
   "execution_count": 52,
   "id": "96141573",
   "metadata": {},
   "outputs": [],
   "source": [
    "whole_tfidf = tfidf_transform.fit_transform(whole_data_bow)"
   ]
  },
  {
   "cell_type": "code",
   "execution_count": 54,
   "id": "c2084679",
   "metadata": {},
   "outputs": [
    {
     "data": {
      "text/plain": [
       "<95188x57142 sparse matrix of type '<class 'numpy.float64'>'\n",
       "\twith 12118915 stored elements in Compressed Sparse Row format>"
      ]
     },
     "execution_count": 54,
     "metadata": {},
     "output_type": "execute_result"
    }
   ],
   "source": [
    "whole_tfidf"
   ]
  },
  {
   "cell_type": "code",
   "execution_count": 55,
   "id": "bca2c522",
   "metadata": {},
   "outputs": [],
   "source": [
    "predictions = model_tfidf.predict(whole_tfidf)"
   ]
  },
  {
   "cell_type": "code",
   "execution_count": 56,
   "id": "cd08de28",
   "metadata": {},
   "outputs": [
    {
     "data": {
      "text/plain": [
       "array(['objective', 'objective', 'objective', ..., 'objective',\n",
       "       'subjective', 'objective'], dtype=object)"
      ]
     },
     "execution_count": 56,
     "metadata": {},
     "output_type": "execute_result"
    }
   ],
   "source": [
    "predictions"
   ]
  },
  {
   "cell_type": "code",
   "execution_count": 57,
   "id": "4f1adc39",
   "metadata": {},
   "outputs": [],
   "source": [
    "whole_df[\"text_type\"] = predictions"
   ]
  },
  {
   "cell_type": "code",
   "execution_count": 58,
   "id": "030646ab",
   "metadata": {},
   "outputs": [
    {
     "data": {
      "text/html": [
       "<div>\n",
       "<style scoped>\n",
       "    .dataframe tbody tr th:only-of-type {\n",
       "        vertical-align: middle;\n",
       "    }\n",
       "\n",
       "    .dataframe tbody tr th {\n",
       "        vertical-align: top;\n",
       "    }\n",
       "\n",
       "    .dataframe thead th {\n",
       "        text-align: right;\n",
       "    }\n",
       "</style>\n",
       "<table border=\"1\" class=\"dataframe\">\n",
       "  <thead>\n",
       "    <tr style=\"text-align: right;\">\n",
       "      <th></th>\n",
       "      <th>Text</th>\n",
       "      <th>new_text</th>\n",
       "      <th>languages</th>\n",
       "      <th>translated</th>\n",
       "      <th>new_languages</th>\n",
       "      <th>pos_tagged_words</th>\n",
       "      <th>words_processed_all</th>\n",
       "      <th>words_processed_noun_adj_verb_adv</th>\n",
       "      <th>words_processed_noun</th>\n",
       "      <th>text_type</th>\n",
       "    </tr>\n",
       "  </thead>\n",
       "  <tbody>\n",
       "    <tr>\n",
       "      <th>0</th>\n",
       "      <td>soniya mummy hoti toh covid me magic stick ghu...</td>\n",
       "      <td>soniya mummy hoti toh covid me magic stick ghu...</td>\n",
       "      <td>Unknown</td>\n",
       "      <td>soniya mummy hoti toh covid me magic stick ghu...</td>\n",
       "      <td>Unknown</td>\n",
       "      <td>[('soniya', 'JJ'), ('mummy', 'NN'), ('hot', 'J...</td>\n",
       "      <td>['soniya', 'mummy', 'hot', 'toh', 'couid', 'ma...</td>\n",
       "      <td>['death']</td>\n",
       "      <td>['death']</td>\n",
       "      <td>objective</td>\n",
       "    </tr>\n",
       "    <tr>\n",
       "      <th>1</th>\n",
       "      <td>#pickids : about 20,000 children perlis eligib...</td>\n",
       "      <td>#pickids : about 20,000 children perlis eligib...</td>\n",
       "      <td>ENGLISH</td>\n",
       "      <td>#pickids : about 20,000 children perlis eligib...</td>\n",
       "      <td>ENGLISH</td>\n",
       "      <td>[('pickins', 'NNS'), ('about', 'IN'), ('twenty...</td>\n",
       "      <td>['pickins', 'twenty', 'zero', 'child', 'peril'...</td>\n",
       "      <td>['child', 'peril', 'eligible', 'couid', 'vacci...</td>\n",
       "      <td>['child', 'peril', 'couid', 'vaccination']</td>\n",
       "      <td>objective</td>\n",
       "    </tr>\n",
       "    <tr>\n",
       "      <th>2</th>\n",
       "      <td>previous covid-19 infection – but not vaccinat...</td>\n",
       "      <td>previous covid-19 infection – but not vaccinat...</td>\n",
       "      <td>ENGLISH</td>\n",
       "      <td>previous covid-19 infection – but not vaccinat...</td>\n",
       "      <td>ENGLISH</td>\n",
       "      <td>[('previous', 'JJ'), ('couid', 'NN'), ('ninete...</td>\n",
       "      <td>['previous', 'couid', 'nineteen', 'infection',...</td>\n",
       "      <td>['previous', 'couid', 'infection', 'vaccinatio...</td>\n",
       "      <td>['couid', 'infection', 'vaccination', 'perform...</td>\n",
       "      <td>objective</td>\n",
       "    </tr>\n",
       "    <tr>\n",
       "      <th>3</th>\n",
       "      <td>india’s covid-19 vaccination coverage crosses ...</td>\n",
       "      <td>india’s covid-19 vaccination coverage crosses ...</td>\n",
       "      <td>ENGLISH</td>\n",
       "      <td>india’s covid-19 vaccination coverage crosses ...</td>\n",
       "      <td>ENGLISH</td>\n",
       "      <td>[('india', 'NN'), ('i', 'NN'), ('i', 'VBP'), (...</td>\n",
       "      <td>['india', 'couid', 'nineteen', 'vaccination', ...</td>\n",
       "      <td>['vaccination', 'mark']</td>\n",
       "      <td>['vaccination']</td>\n",
       "      <td>objective</td>\n",
       "    </tr>\n",
       "    <tr>\n",
       "      <th>4</th>\n",
       "      <td>i got call office principal commissioner cgst ...</td>\n",
       "      <td>i got call office principal commissioner cgst ...</td>\n",
       "      <td>ENGLISH</td>\n",
       "      <td>i got call office principal commissioner cgst ...</td>\n",
       "      <td>ENGLISH</td>\n",
       "      <td>[('i', 'NN'), ('got', 'VBD'), ('call', 'JJ'), ...</td>\n",
       "      <td>['got', 'call', 'office', 'principal', 'commis...</td>\n",
       "      <td>['get', 'call', 'office', 'ascertain', 'status...</td>\n",
       "      <td>['office', 'status', 'couid', 'vaccination', '...</td>\n",
       "      <td>objective</td>\n",
       "    </tr>\n",
       "    <tr>\n",
       "      <th>...</th>\n",
       "      <td>...</td>\n",
       "      <td>...</td>\n",
       "      <td>...</td>\n",
       "      <td>...</td>\n",
       "      <td>...</td>\n",
       "      <td>...</td>\n",
       "      <td>...</td>\n",
       "      <td>...</td>\n",
       "      <td>...</td>\n",
       "      <td>...</td>\n",
       "    </tr>\n",
       "    <tr>\n",
       "      <th>95183</th>\n",
       "      <td>mask up 😷 india 🇮🇳 come forward vaccination ti...</td>\n",
       "      <td>mask up face_with_medical_mask india India com...</td>\n",
       "      <td>ENGLISH, Unknown</td>\n",
       "      <td>mask up face_with_medical_mask india India com...</td>\n",
       "      <td>ENGLISH</td>\n",
       "      <td>[('mask', 'VB'), ('up', 'RP'), ('india', 'JJ')...</td>\n",
       "      <td>['mask', 'india', 'india', 'come_forward', 'va...</td>\n",
       "      <td>['come_forward', 'vaccination', 'tika_tsar', '...</td>\n",
       "      <td>['vaccination', 'syringemicrobe', 'television'...</td>\n",
       "      <td>subjective</td>\n",
       "    </tr>\n",
       "    <tr>\n",
       "      <th>95184</th>\n",
       "      <td>our sincere request state central govt 🙏🙏. ple...</td>\n",
       "      <td>our sincere request state central govt folded_...</td>\n",
       "      <td>ENGLISH</td>\n",
       "      <td>our sincere request state central govt folded_...</td>\n",
       "      <td>ENGLISH</td>\n",
       "      <td>[('our', 'PRP$'), ('sincere', 'JJ'), ('request...</td>\n",
       "      <td>['sincere', 'request', 'state', 'central', 'go...</td>\n",
       "      <td>['sincere', 'request', 'state', 'central', 'go...</td>\n",
       "      <td>['request', 'state', 'govt', 'share', 'vaccine...</td>\n",
       "      <td>objective</td>\n",
       "    </tr>\n",
       "    <tr>\n",
       "      <th>95185</th>\n",
       "      <td>thanks your appreciation valuable feedback abo...</td>\n",
       "      <td>thanks your appreciation valuable feedback abo...</td>\n",
       "      <td>ENGLISH</td>\n",
       "      <td>thanks your appreciation valuable feedback abo...</td>\n",
       "      <td>ENGLISH</td>\n",
       "      <td>[('thanks', 'NNS'), ('your', 'PRP$'), ('apprec...</td>\n",
       "      <td>['thank', 'appreciation', 'valuable', 'feedbac...</td>\n",
       "      <td>['thank', 'appreciation', 'valuable', 'feedbac...</td>\n",
       "      <td>['thank', 'appreciation', 'feedback', 'vaccine...</td>\n",
       "      <td>objective</td>\n",
       "    </tr>\n",
       "    <tr>\n",
       "      <th>95186</th>\n",
       "      <td>i can’t wait get my 2nd dose #covidvaccine ove...</td>\n",
       "      <td>i can’t wait get my 2nd dose #covidvaccine ove...</td>\n",
       "      <td>Unknown, ENGLISH</td>\n",
       "      <td>i can’t wait get my 2nd dose #covidvaccine ove...</td>\n",
       "      <td>ENGLISH</td>\n",
       "      <td>[('i', 'NN'), ('can', 'MD'), ('i', 'VB'), ('i'...</td>\n",
       "      <td>['wait', 'get', 'dose', 'covidvaccine', 'amp',...</td>\n",
       "      <td>['wait', 'get', 'dose', 'covidvaccine', 'amp',...</td>\n",
       "      <td>['dose', 'covidvaccine', 'amp', 'amp', 'follow...</td>\n",
       "      <td>subjective</td>\n",
       "    </tr>\n",
       "    <tr>\n",
       "      <th>95187</th>\n",
       "      <td>thanks your appreciation valuable feedback abo...</td>\n",
       "      <td>thanks your appreciation valuable feedback abo...</td>\n",
       "      <td>ENGLISH</td>\n",
       "      <td>thanks your appreciation valuable feedback abo...</td>\n",
       "      <td>ENGLISH</td>\n",
       "      <td>[('thanks', 'NNS'), ('your', 'PRP$'), ('apprec...</td>\n",
       "      <td>['thank', 'appreciation', 'valuable', 'feedbac...</td>\n",
       "      <td>['thank', 'appreciation', 'valuable', 'feedbac...</td>\n",
       "      <td>['thank', 'appreciation', 'feedback', 'vaccina...</td>\n",
       "      <td>objective</td>\n",
       "    </tr>\n",
       "  </tbody>\n",
       "</table>\n",
       "<p>95188 rows × 10 columns</p>\n",
       "</div>"
      ],
      "text/plain": [
       "                                                    Text  \\\n",
       "0      soniya mummy hoti toh covid me magic stick ghu...   \n",
       "1      #pickids : about 20,000 children perlis eligib...   \n",
       "2      previous covid-19 infection – but not vaccinat...   \n",
       "3      india’s covid-19 vaccination coverage crosses ...   \n",
       "4      i got call office principal commissioner cgst ...   \n",
       "...                                                  ...   \n",
       "95183  mask up 😷 india 🇮🇳 come forward vaccination ti...   \n",
       "95184  our sincere request state central govt 🙏🙏. ple...   \n",
       "95185  thanks your appreciation valuable feedback abo...   \n",
       "95186  i can’t wait get my 2nd dose #covidvaccine ove...   \n",
       "95187  thanks your appreciation valuable feedback abo...   \n",
       "\n",
       "                                                new_text         languages  \\\n",
       "0      soniya mummy hoti toh covid me magic stick ghu...           Unknown   \n",
       "1      #pickids : about 20,000 children perlis eligib...           ENGLISH   \n",
       "2      previous covid-19 infection – but not vaccinat...           ENGLISH   \n",
       "3      india’s covid-19 vaccination coverage crosses ...           ENGLISH   \n",
       "4      i got call office principal commissioner cgst ...           ENGLISH   \n",
       "...                                                  ...               ...   \n",
       "95183  mask up face_with_medical_mask india India com...  ENGLISH, Unknown   \n",
       "95184  our sincere request state central govt folded_...           ENGLISH   \n",
       "95185  thanks your appreciation valuable feedback abo...           ENGLISH   \n",
       "95186  i can’t wait get my 2nd dose #covidvaccine ove...  Unknown, ENGLISH   \n",
       "95187  thanks your appreciation valuable feedback abo...           ENGLISH   \n",
       "\n",
       "                                              translated new_languages  \\\n",
       "0      soniya mummy hoti toh covid me magic stick ghu...       Unknown   \n",
       "1      #pickids : about 20,000 children perlis eligib...       ENGLISH   \n",
       "2      previous covid-19 infection – but not vaccinat...       ENGLISH   \n",
       "3      india’s covid-19 vaccination coverage crosses ...       ENGLISH   \n",
       "4      i got call office principal commissioner cgst ...       ENGLISH   \n",
       "...                                                  ...           ...   \n",
       "95183  mask up face_with_medical_mask india India com...       ENGLISH   \n",
       "95184  our sincere request state central govt folded_...       ENGLISH   \n",
       "95185  thanks your appreciation valuable feedback abo...       ENGLISH   \n",
       "95186  i can’t wait get my 2nd dose #covidvaccine ove...       ENGLISH   \n",
       "95187  thanks your appreciation valuable feedback abo...       ENGLISH   \n",
       "\n",
       "                                        pos_tagged_words  \\\n",
       "0      [('soniya', 'JJ'), ('mummy', 'NN'), ('hot', 'J...   \n",
       "1      [('pickins', 'NNS'), ('about', 'IN'), ('twenty...   \n",
       "2      [('previous', 'JJ'), ('couid', 'NN'), ('ninete...   \n",
       "3      [('india', 'NN'), ('i', 'NN'), ('i', 'VBP'), (...   \n",
       "4      [('i', 'NN'), ('got', 'VBD'), ('call', 'JJ'), ...   \n",
       "...                                                  ...   \n",
       "95183  [('mask', 'VB'), ('up', 'RP'), ('india', 'JJ')...   \n",
       "95184  [('our', 'PRP$'), ('sincere', 'JJ'), ('request...   \n",
       "95185  [('thanks', 'NNS'), ('your', 'PRP$'), ('apprec...   \n",
       "95186  [('i', 'NN'), ('can', 'MD'), ('i', 'VB'), ('i'...   \n",
       "95187  [('thanks', 'NNS'), ('your', 'PRP$'), ('apprec...   \n",
       "\n",
       "                                     words_processed_all  \\\n",
       "0      ['soniya', 'mummy', 'hot', 'toh', 'couid', 'ma...   \n",
       "1      ['pickins', 'twenty', 'zero', 'child', 'peril'...   \n",
       "2      ['previous', 'couid', 'nineteen', 'infection',...   \n",
       "3      ['india', 'couid', 'nineteen', 'vaccination', ...   \n",
       "4      ['got', 'call', 'office', 'principal', 'commis...   \n",
       "...                                                  ...   \n",
       "95183  ['mask', 'india', 'india', 'come_forward', 'va...   \n",
       "95184  ['sincere', 'request', 'state', 'central', 'go...   \n",
       "95185  ['thank', 'appreciation', 'valuable', 'feedbac...   \n",
       "95186  ['wait', 'get', 'dose', 'covidvaccine', 'amp',...   \n",
       "95187  ['thank', 'appreciation', 'valuable', 'feedbac...   \n",
       "\n",
       "                       words_processed_noun_adj_verb_adv  \\\n",
       "0                                              ['death']   \n",
       "1      ['child', 'peril', 'eligible', 'couid', 'vacci...   \n",
       "2      ['previous', 'couid', 'infection', 'vaccinatio...   \n",
       "3                                ['vaccination', 'mark']   \n",
       "4      ['get', 'call', 'office', 'ascertain', 'status...   \n",
       "...                                                  ...   \n",
       "95183  ['come_forward', 'vaccination', 'tika_tsar', '...   \n",
       "95184  ['sincere', 'request', 'state', 'central', 'go...   \n",
       "95185  ['thank', 'appreciation', 'valuable', 'feedbac...   \n",
       "95186  ['wait', 'get', 'dose', 'covidvaccine', 'amp',...   \n",
       "95187  ['thank', 'appreciation', 'valuable', 'feedbac...   \n",
       "\n",
       "                                    words_processed_noun   text_type  \n",
       "0                                              ['death']   objective  \n",
       "1             ['child', 'peril', 'couid', 'vaccination']   objective  \n",
       "2      ['couid', 'infection', 'vaccination', 'perform...   objective  \n",
       "3                                        ['vaccination']   objective  \n",
       "4      ['office', 'status', 'couid', 'vaccination', '...   objective  \n",
       "...                                                  ...         ...  \n",
       "95183  ['vaccination', 'syringemicrobe', 'television'...  subjective  \n",
       "95184  ['request', 'state', 'govt', 'share', 'vaccine...   objective  \n",
       "95185  ['thank', 'appreciation', 'feedback', 'vaccine...   objective  \n",
       "95186  ['dose', 'covidvaccine', 'amp', 'amp', 'follow...  subjective  \n",
       "95187  ['thank', 'appreciation', 'feedback', 'vaccina...   objective  \n",
       "\n",
       "[95188 rows x 10 columns]"
      ]
     },
     "execution_count": 58,
     "metadata": {},
     "output_type": "execute_result"
    }
   ],
   "source": [
    "whole_df"
   ]
  },
  {
   "cell_type": "code",
   "execution_count": 59,
   "id": "34c26769",
   "metadata": {},
   "outputs": [
    {
     "data": {
      "text/plain": [
       "objective     58388\n",
       "subjective    36800\n",
       "Name: text_type, dtype: int64"
      ]
     },
     "execution_count": 59,
     "metadata": {},
     "output_type": "execute_result"
    }
   ],
   "source": [
    "whole_df[\"text_type\"].value_counts()"
   ]
  },
  {
   "cell_type": "code",
   "execution_count": 60,
   "id": "1c3eec53",
   "metadata": {},
   "outputs": [],
   "source": [
    "whole_df.to_csv(\"labelled_data_india_LR.csv\")"
   ]
  }
 ],
 "metadata": {
  "kernelspec": {
   "display_name": "Python 3",
   "language": "python",
   "name": "python3"
  },
  "language_info": {
   "codemirror_mode": {
    "name": "ipython",
    "version": 3
   },
   "file_extension": ".py",
   "mimetype": "text/x-python",
   "name": "python",
   "nbconvert_exporter": "python",
   "pygments_lexer": "ipython3",
   "version": "3.8.2"
  },
  "toc": {
   "base_numbering": 1,
   "nav_menu": {},
   "number_sections": true,
   "sideBar": true,
   "skip_h1_title": false,
   "title_cell": "Table of Contents",
   "title_sidebar": "Contents",
   "toc_cell": false,
   "toc_position": {},
   "toc_section_display": true,
   "toc_window_display": false
  }
 },
 "nbformat": 4,
 "nbformat_minor": 5
}
