{
 "cells": [
  {
   "cell_type": "markdown",
   "id": "66c8b582",
   "metadata": {},
   "source": [
    "# Read DF"
   ]
  },
  {
   "cell_type": "code",
   "execution_count": 1,
   "id": "f8174bc6",
   "metadata": {},
   "outputs": [],
   "source": [
    "import matplotlib.pyplot as plt\n",
    "import nltk\n",
    "import numpy as np\n",
    "import pandas as pd\n",
    "import seaborn as sns\n",
    "import re\n",
    "from nltk.corpus import stopwords\n",
    "from nltk.stem import WordNetLemmatizer\n",
    "from sklearn.feature_extraction.text import CountVectorizer\n",
    "import matplotlib.pyplot as plt\n",
    "import seaborn as sns\n",
    "%matplotlib notebook\n",
    "from sklearn.linear_model import LogisticRegression\n",
    "import sklearn.model_selection\n",
    "import sklearn.preprocessing as preproc\n",
    "from sklearn.feature_extraction import text\n",
    "import pickle\n",
    "import warnings\n",
    "warnings.filterwarnings(\"ignore\")"
   ]
  },
  {
   "cell_type": "code",
   "execution_count": 2,
   "id": "db2c45dc",
   "metadata": {},
   "outputs": [
    {
     "data": {
      "text/html": [
       "<div>\n",
       "<style scoped>\n",
       "    .dataframe tbody tr th:only-of-type {\n",
       "        vertical-align: middle;\n",
       "    }\n",
       "\n",
       "    .dataframe tbody tr th {\n",
       "        vertical-align: top;\n",
       "    }\n",
       "\n",
       "    .dataframe thead th {\n",
       "        text-align: right;\n",
       "    }\n",
       "</style>\n",
       "<table border=\"1\" class=\"dataframe\">\n",
       "  <thead>\n",
       "    <tr style=\"text-align: right;\">\n",
       "      <th></th>\n",
       "      <th>Text</th>\n",
       "      <th>new_text</th>\n",
       "      <th>languages</th>\n",
       "      <th>new_text_after_translation</th>\n",
       "      <th>pos_tagged_words</th>\n",
       "      <th>words_processed_all</th>\n",
       "      <th>words_processed_noun_adj_verb_adv</th>\n",
       "      <th>words_processed_noun</th>\n",
       "      <th>subjectivity</th>\n",
       "      <th>text_type</th>\n",
       "    </tr>\n",
       "  </thead>\n",
       "  <tbody>\n",
       "    <tr>\n",
       "      <th>0</th>\n",
       "      <td>want find way end racism try force people inje...</td>\n",
       "      <td>want find way end racism try force people inje...</td>\n",
       "      <td>ENGLISH</td>\n",
       "      <td>want find way end racism try force people inje...</td>\n",
       "      <td>[('want', 'JJ'), ('find', 'VB'), ('way', 'NN')...</td>\n",
       "      <td>['want', 'find', 'way', 'end', 'racism', 'try'...</td>\n",
       "      <td>['want', 'find', 'way', 'end', 'racism', 'try'...</td>\n",
       "      <td>['way', 'end', 'racism', 'force', 'people', 'b...</td>\n",
       "      <td>0.200000</td>\n",
       "      <td>subjective</td>\n",
       "    </tr>\n",
       "    <tr>\n",
       "      <th>1</th>\n",
       "      <td>this child almost died tetanus, spent months h...</td>\n",
       "      <td>this child almost died tetanus, spent months h...</td>\n",
       "      <td>ENGLISH</td>\n",
       "      <td>this child almost died tetanus, spent months h...</td>\n",
       "      <td>[('this', 'DT'), ('child', 'NN'), ('almost', '...</td>\n",
       "      <td>['child', 'almost', 'died', 'tetanus', 'spent'...</td>\n",
       "      <td>['child', 'almost', 'die', 'tetanus', 'spend',...</td>\n",
       "      <td>['child', 'tetanus', 'month', 'hospital', 'cos...</td>\n",
       "      <td>0.100000</td>\n",
       "      <td>subjective</td>\n",
       "    </tr>\n",
       "    <tr>\n",
       "      <th>2</th>\n",
       "      <td>juste se rappeler m. leblanc la pression que l...</td>\n",
       "      <td>juste se rappeler m. leblanc la pression que l...</td>\n",
       "      <td>ENGLISH</td>\n",
       "      <td>just remember mr. leblanc the pressure that th...</td>\n",
       "      <td>[('just', 'RB'), ('remember', 'VB'), ('my', 'P...</td>\n",
       "      <td>['remember', 'leblanc', 'pressure', 'provincia...</td>\n",
       "      <td>['remember', 'leblanc', 'pressure', 'provincia...</td>\n",
       "      <td>['leblanc', 'pressure', 'business', 'world', '...</td>\n",
       "      <td>0.625000</td>\n",
       "      <td>subjective</td>\n",
       "    </tr>\n",
       "    <tr>\n",
       "      <th>3</th>\n",
       "      <td>you would expect cases rise significantly, cou...</td>\n",
       "      <td>you would expect cases rise significantly, cou...</td>\n",
       "      <td>ENGLISH</td>\n",
       "      <td>you would expect cases rise significantly, cou...</td>\n",
       "      <td>[('you', 'PRP'), ('would', 'MD'), ('expect', '...</td>\n",
       "      <td>['would', 'expect', 'case', 'rise', 'significa...</td>\n",
       "      <td>['would', 'expect', 'case', 'rise', 'significa...</td>\n",
       "      <td>['case', 'vaccination', 'rate', 'play', 'space...</td>\n",
       "      <td>0.459821</td>\n",
       "      <td>subjective</td>\n",
       "    </tr>\n",
       "    <tr>\n",
       "      <th>4</th>\n",
       "      <td>depends whether vaccination status is embedded...</td>\n",
       "      <td>depends whether vaccination status is embedded...</td>\n",
       "      <td>ENGLISH</td>\n",
       "      <td>depends whether vaccination status is embedded...</td>\n",
       "      <td>[('depends', 'VBZ'), ('whether', 'IN'), ('vacc...</td>\n",
       "      <td>['depends', 'whether', 'vaccination', 'status'...</td>\n",
       "      <td>['depend', 'vaccination', 'status', 'embed', '...</td>\n",
       "      <td>['vaccination', 'status', 'code', 'link', 'con...</td>\n",
       "      <td>0.000000</td>\n",
       "      <td>subjective</td>\n",
       "    </tr>\n",
       "    <tr>\n",
       "      <th>...</th>\n",
       "      <td>...</td>\n",
       "      <td>...</td>\n",
       "      <td>...</td>\n",
       "      <td>...</td>\n",
       "      <td>...</td>\n",
       "      <td>...</td>\n",
       "      <td>...</td>\n",
       "      <td>...</td>\n",
       "      <td>...</td>\n",
       "      <td>...</td>\n",
       "    </tr>\n",
       "    <tr>\n",
       "      <th>1404</th>\n",
       "      <td>give us two days, we give you headstart hwtc's...</td>\n",
       "      <td>give us two days, we give you headstart hwtc's...</td>\n",
       "      <td>ENGLISH</td>\n",
       "      <td>give us two days, we give you headstart hwtc's...</td>\n",
       "      <td>[('give', 'VB'), ('us', 'PRP'), ('two', 'CD'),...</td>\n",
       "      <td>['give', 'u', 'two', 'day', 'give', 'headstart...</td>\n",
       "      <td>['give', 'day', 'give', 'headstart', 'hit', 'r...</td>\n",
       "      <td>['day', 'headstart', 'restaurant', 'basic', 'c...</td>\n",
       "      <td>0.500000</td>\n",
       "      <td>objective</td>\n",
       "    </tr>\n",
       "    <tr>\n",
       "      <th>1405</th>\n",
       "      <td>serving as biden‚Äôs top science adviser, eric...</td>\n",
       "      <td>serving as biden‚Äôs top science adviser, eric...</td>\n",
       "      <td>ENGLISH</td>\n",
       "      <td>serving as biden‚Äôs top science adviser, eric...</td>\n",
       "      <td>[('serving', 'VBG'), ('as', 'IN'), ('biden', '...</td>\n",
       "      <td>['serving', 'biden', 'top', 'science_adviser',...</td>\n",
       "      <td>['serve', 'biden', 'top', 'office', 'science',...</td>\n",
       "      <td>['top', 'office', 'science', 'technology', 'po...</td>\n",
       "      <td>0.360417</td>\n",
       "      <td>objective</td>\n",
       "    </tr>\n",
       "    <tr>\n",
       "      <th>1406</th>\n",
       "      <td>please read this letter outlining decepticons‚...</td>\n",
       "      <td>please read this letter outlining decepticons‚...</td>\n",
       "      <td>ENGLISH</td>\n",
       "      <td>please read this letter outlining decepticons‚...</td>\n",
       "      <td>[('please', 'VB'), ('read', 'VB'), ('this', 'D...</td>\n",
       "      <td>['please', 'read', 'letter', 'outlining', 'dec...</td>\n",
       "      <td>['read', 'letter', 'outline', 'decepticon', 'e...</td>\n",
       "      <td>['letter', 'decepticon', 'expectation', 'insti...</td>\n",
       "      <td>0.000000</td>\n",
       "      <td>objective</td>\n",
       "    </tr>\n",
       "    <tr>\n",
       "      <th>1407</th>\n",
       "      <td>get your covid-19 vaccination or booster at ib...</td>\n",
       "      <td>get your covid-19 vaccination or booster at ib...</td>\n",
       "      <td>ENGLISH</td>\n",
       "      <td>get your covid-19 vaccination or booster at ib...</td>\n",
       "      <td>[('get', 'VB'), ('your', 'PRP$'), ('couid', 'N...</td>\n",
       "      <td>['get', 'couid', 'nineteen', 'vaccination', 'b...</td>\n",
       "      <td>['couid', 'next', 'vaccine', 'vaccine', 'age',...</td>\n",
       "      <td>['couid', 'vaccine', 'vaccine', 'age', 'chance']</td>\n",
       "      <td>0.000000</td>\n",
       "      <td>objective</td>\n",
       "    </tr>\n",
       "    <tr>\n",
       "      <th>1408</th>\n",
       "      <td>effective march 1, guests will no longer need ...</td>\n",
       "      <td>effective march 1, guests will no longer need ...</td>\n",
       "      <td>ENGLISH</td>\n",
       "      <td>effective march 1, guests will no longer need ...</td>\n",
       "      <td>[('effective', 'JJ'), ('march', 'NN'), ('one',...</td>\n",
       "      <td>['effective', 'march', 'one', 'guest', 'longer...</td>\n",
       "      <td>['effective', 'guest', 'longer', 'need', 'boar...</td>\n",
       "      <td>['guest', 'board', 'cruise', 'port', 'line', '...</td>\n",
       "      <td>0.400000</td>\n",
       "      <td>objective</td>\n",
       "    </tr>\n",
       "  </tbody>\n",
       "</table>\n",
       "<p>1409 rows × 10 columns</p>\n",
       "</div>"
      ],
      "text/plain": [
       "                                                   Text  \\\n",
       "0     want find way end racism try force people inje...   \n",
       "1     this child almost died tetanus, spent months h...   \n",
       "2     juste se rappeler m. leblanc la pression que l...   \n",
       "3     you would expect cases rise significantly, cou...   \n",
       "4     depends whether vaccination status is embedded...   \n",
       "...                                                 ...   \n",
       "1404  give us two days, we give you headstart hwtc's...   \n",
       "1405  serving as biden‚Äôs top science adviser, eric...   \n",
       "1406  please read this letter outlining decepticons‚...   \n",
       "1407  get your covid-19 vaccination or booster at ib...   \n",
       "1408  effective march 1, guests will no longer need ...   \n",
       "\n",
       "                                               new_text languages  \\\n",
       "0     want find way end racism try force people inje...   ENGLISH   \n",
       "1     this child almost died tetanus, spent months h...   ENGLISH   \n",
       "2     juste se rappeler m. leblanc la pression que l...   ENGLISH   \n",
       "3     you would expect cases rise significantly, cou...   ENGLISH   \n",
       "4     depends whether vaccination status is embedded...   ENGLISH   \n",
       "...                                                 ...       ...   \n",
       "1404  give us two days, we give you headstart hwtc's...   ENGLISH   \n",
       "1405  serving as biden‚Äôs top science adviser, eric...   ENGLISH   \n",
       "1406  please read this letter outlining decepticons‚...   ENGLISH   \n",
       "1407  get your covid-19 vaccination or booster at ib...   ENGLISH   \n",
       "1408  effective march 1, guests will no longer need ...   ENGLISH   \n",
       "\n",
       "                             new_text_after_translation  \\\n",
       "0     want find way end racism try force people inje...   \n",
       "1     this child almost died tetanus, spent months h...   \n",
       "2     just remember mr. leblanc the pressure that th...   \n",
       "3     you would expect cases rise significantly, cou...   \n",
       "4     depends whether vaccination status is embedded...   \n",
       "...                                                 ...   \n",
       "1404  give us two days, we give you headstart hwtc's...   \n",
       "1405  serving as biden‚Äôs top science adviser, eric...   \n",
       "1406  please read this letter outlining decepticons‚...   \n",
       "1407  get your covid-19 vaccination or booster at ib...   \n",
       "1408  effective march 1, guests will no longer need ...   \n",
       "\n",
       "                                       pos_tagged_words  \\\n",
       "0     [('want', 'JJ'), ('find', 'VB'), ('way', 'NN')...   \n",
       "1     [('this', 'DT'), ('child', 'NN'), ('almost', '...   \n",
       "2     [('just', 'RB'), ('remember', 'VB'), ('my', 'P...   \n",
       "3     [('you', 'PRP'), ('would', 'MD'), ('expect', '...   \n",
       "4     [('depends', 'VBZ'), ('whether', 'IN'), ('vacc...   \n",
       "...                                                 ...   \n",
       "1404  [('give', 'VB'), ('us', 'PRP'), ('two', 'CD'),...   \n",
       "1405  [('serving', 'VBG'), ('as', 'IN'), ('biden', '...   \n",
       "1406  [('please', 'VB'), ('read', 'VB'), ('this', 'D...   \n",
       "1407  [('get', 'VB'), ('your', 'PRP$'), ('couid', 'N...   \n",
       "1408  [('effective', 'JJ'), ('march', 'NN'), ('one',...   \n",
       "\n",
       "                                    words_processed_all  \\\n",
       "0     ['want', 'find', 'way', 'end', 'racism', 'try'...   \n",
       "1     ['child', 'almost', 'died', 'tetanus', 'spent'...   \n",
       "2     ['remember', 'leblanc', 'pressure', 'provincia...   \n",
       "3     ['would', 'expect', 'case', 'rise', 'significa...   \n",
       "4     ['depends', 'whether', 'vaccination', 'status'...   \n",
       "...                                                 ...   \n",
       "1404  ['give', 'u', 'two', 'day', 'give', 'headstart...   \n",
       "1405  ['serving', 'biden', 'top', 'science_adviser',...   \n",
       "1406  ['please', 'read', 'letter', 'outlining', 'dec...   \n",
       "1407  ['get', 'couid', 'nineteen', 'vaccination', 'b...   \n",
       "1408  ['effective', 'march', 'one', 'guest', 'longer...   \n",
       "\n",
       "                      words_processed_noun_adj_verb_adv  \\\n",
       "0     ['want', 'find', 'way', 'end', 'racism', 'try'...   \n",
       "1     ['child', 'almost', 'die', 'tetanus', 'spend',...   \n",
       "2     ['remember', 'leblanc', 'pressure', 'provincia...   \n",
       "3     ['would', 'expect', 'case', 'rise', 'significa...   \n",
       "4     ['depend', 'vaccination', 'status', 'embed', '...   \n",
       "...                                                 ...   \n",
       "1404  ['give', 'day', 'give', 'headstart', 'hit', 'r...   \n",
       "1405  ['serve', 'biden', 'top', 'office', 'science',...   \n",
       "1406  ['read', 'letter', 'outline', 'decepticon', 'e...   \n",
       "1407  ['couid', 'next', 'vaccine', 'vaccine', 'age',...   \n",
       "1408  ['effective', 'guest', 'longer', 'need', 'boar...   \n",
       "\n",
       "                                   words_processed_noun  subjectivity  \\\n",
       "0     ['way', 'end', 'racism', 'force', 'people', 'b...      0.200000   \n",
       "1     ['child', 'tetanus', 'month', 'hospital', 'cos...      0.100000   \n",
       "2     ['leblanc', 'pressure', 'business', 'world', '...      0.625000   \n",
       "3     ['case', 'vaccination', 'rate', 'play', 'space...      0.459821   \n",
       "4     ['vaccination', 'status', 'code', 'link', 'con...      0.000000   \n",
       "...                                                 ...           ...   \n",
       "1404  ['day', 'headstart', 'restaurant', 'basic', 'c...      0.500000   \n",
       "1405  ['top', 'office', 'science', 'technology', 'po...      0.360417   \n",
       "1406  ['letter', 'decepticon', 'expectation', 'insti...      0.000000   \n",
       "1407   ['couid', 'vaccine', 'vaccine', 'age', 'chance']      0.000000   \n",
       "1408  ['guest', 'board', 'cruise', 'port', 'line', '...      0.400000   \n",
       "\n",
       "       text_type  \n",
       "0     subjective  \n",
       "1     subjective  \n",
       "2     subjective  \n",
       "3     subjective  \n",
       "4     subjective  \n",
       "...          ...  \n",
       "1404   objective  \n",
       "1405   objective  \n",
       "1406   objective  \n",
       "1407   objective  \n",
       "1408   objective  \n",
       "\n",
       "[1409 rows x 10 columns]"
      ]
     },
     "execution_count": 2,
     "metadata": {},
     "output_type": "execute_result"
    }
   ],
   "source": [
    "labelled_df = pd.read_csv(\"training_data_usa.csv\")\n",
    "labelled_df.drop(['Unnamed: 0'], axis=1, inplace=True)\n",
    "labelled_df"
   ]
  },
  {
   "cell_type": "code",
   "execution_count": 3,
   "id": "eba42c9f",
   "metadata": {},
   "outputs": [
    {
     "data": {
      "text/html": [
       "<div>\n",
       "<style scoped>\n",
       "    .dataframe tbody tr th:only-of-type {\n",
       "        vertical-align: middle;\n",
       "    }\n",
       "\n",
       "    .dataframe tbody tr th {\n",
       "        vertical-align: top;\n",
       "    }\n",
       "\n",
       "    .dataframe thead th {\n",
       "        text-align: right;\n",
       "    }\n",
       "</style>\n",
       "<table border=\"1\" class=\"dataframe\">\n",
       "  <thead>\n",
       "    <tr style=\"text-align: right;\">\n",
       "      <th></th>\n",
       "      <th>Text</th>\n",
       "      <th>new_text</th>\n",
       "      <th>languages</th>\n",
       "      <th>new_text_after_translation</th>\n",
       "      <th>pos_tagged_words</th>\n",
       "      <th>words_processed_all</th>\n",
       "      <th>words_processed_noun_adj_verb_adv</th>\n",
       "      <th>words_processed_noun</th>\n",
       "    </tr>\n",
       "  </thead>\n",
       "  <tbody>\n",
       "    <tr>\n",
       "      <th>0</th>\n",
       "      <td>want find way end racism try force people inje...</td>\n",
       "      <td>want find way end racism try force people inje...</td>\n",
       "      <td>ENGLISH</td>\n",
       "      <td>want find way end racism try force people inje...</td>\n",
       "      <td>[('want', 'JJ'), ('find', 'VB'), ('way', 'NN')...</td>\n",
       "      <td>['want', 'find', 'way', 'end', 'racism', 'try'...</td>\n",
       "      <td>['want', 'find', 'way', 'end', 'racism', 'try'...</td>\n",
       "      <td>['way', 'end', 'racism', 'force', 'people', 'b...</td>\n",
       "    </tr>\n",
       "    <tr>\n",
       "      <th>1</th>\n",
       "      <td>this child almost died tetanus, spent months h...</td>\n",
       "      <td>this child almost died tetanus, spent months h...</td>\n",
       "      <td>ENGLISH</td>\n",
       "      <td>this child almost died tetanus, spent months h...</td>\n",
       "      <td>[('this', 'DT'), ('child', 'NN'), ('almost', '...</td>\n",
       "      <td>['child', 'almost', 'died', 'tetanus', 'spent'...</td>\n",
       "      <td>['child', 'almost', 'die', 'tetanus', 'spend',...</td>\n",
       "      <td>['child', 'tetanus', 'month', 'hospital', 'cos...</td>\n",
       "    </tr>\n",
       "    <tr>\n",
       "      <th>2</th>\n",
       "      <td>juste se rappeler m. leblanc la pression que l...</td>\n",
       "      <td>juste se rappeler m. leblanc la pression que l...</td>\n",
       "      <td>FRENCH</td>\n",
       "      <td>just remember mr. leblanc the pressure that th...</td>\n",
       "      <td>[('just', 'RB'), ('remember', 'VB'), ('my', 'P...</td>\n",
       "      <td>['remember', 'leblanc', 'pressure', 'provincia...</td>\n",
       "      <td>['remember', 'leblanc', 'pressure', 'provincia...</td>\n",
       "      <td>['leblanc', 'pressure', 'business', 'world', '...</td>\n",
       "    </tr>\n",
       "    <tr>\n",
       "      <th>3</th>\n",
       "      <td>you would expect cases rise significantly, cou...</td>\n",
       "      <td>you would expect cases rise significantly, cou...</td>\n",
       "      <td>ENGLISH</td>\n",
       "      <td>you would expect cases rise significantly, cou...</td>\n",
       "      <td>[('you', 'PRP'), ('would', 'MD'), ('expect', '...</td>\n",
       "      <td>['would', 'expect', 'case', 'rise', 'significa...</td>\n",
       "      <td>['would', 'expect', 'case', 'rise', 'significa...</td>\n",
       "      <td>['case', 'vaccination', 'rate', 'play', 'space...</td>\n",
       "    </tr>\n",
       "    <tr>\n",
       "      <th>4</th>\n",
       "      <td>depends whether vaccination status is embedded...</td>\n",
       "      <td>depends whether vaccination status is embedded...</td>\n",
       "      <td>ENGLISH</td>\n",
       "      <td>depends whether vaccination status is embedded...</td>\n",
       "      <td>[('depends', 'VBZ'), ('whether', 'IN'), ('vacc...</td>\n",
       "      <td>['depends', 'whether', 'vaccination', 'status'...</td>\n",
       "      <td>['depend', 'vaccination', 'status', 'embed', '...</td>\n",
       "      <td>['vaccination', 'status', 'code', 'link', 'con...</td>\n",
       "    </tr>\n",
       "    <tr>\n",
       "      <th>...</th>\n",
       "      <td>...</td>\n",
       "      <td>...</td>\n",
       "      <td>...</td>\n",
       "      <td>...</td>\n",
       "      <td>...</td>\n",
       "      <td>...</td>\n",
       "      <td>...</td>\n",
       "      <td>...</td>\n",
       "    </tr>\n",
       "    <tr>\n",
       "      <th>404260</th>\n",
       "      <td>if you are eligible, please pre- register covi...</td>\n",
       "      <td>if you are eligible, please pre- register covi...</td>\n",
       "      <td>ENGLISH</td>\n",
       "      <td>if you are eligible, please pre- register covi...</td>\n",
       "      <td>[('if', 'IN'), ('you', 'PRP'), ('are', 'VBP'),...</td>\n",
       "      <td>['eligible', 'please', 'pre', 'register', 'cou...</td>\n",
       "      <td>['eligible', 'pre', 'register', 'couid', 'vacc...</td>\n",
       "      <td>['couid', 'vaccination', 'appointment', 'vacci...</td>\n",
       "    </tr>\n",
       "    <tr>\n",
       "      <th>404261</th>\n",
       "      <td>do it others.... 💪🎉💉🤙 #vaccinesaveslives</td>\n",
       "      <td>do it others.... flexed_bicepsparty_poppersyri...</td>\n",
       "      <td>ENGLISH</td>\n",
       "      <td>do it others.... flexed_bicepsparty_poppersyri...</td>\n",
       "      <td>[('do', 'VB'), ('it', 'PRP'), ('others', 'NNS'...</td>\n",
       "      <td>['others', 'vaccinesaveslives']</td>\n",
       "      <td>['other', 'vaccinesaveslive']</td>\n",
       "      <td>['other', 'vaccinesaveslive']</td>\n",
       "    </tr>\n",
       "    <tr>\n",
       "      <th>404262</th>\n",
       "      <td>#fauciouchie #2 #vaccinated #vaccinesaveslives...</td>\n",
       "      <td>#fauciouchie #2 #vaccinated #vaccinesaveslives...</td>\n",
       "      <td>ENGLISH</td>\n",
       "      <td>#fauciouchie #2 #vaccinated #vaccinesaveslives...</td>\n",
       "      <td>[('fauciouchie', 'RB'), ('two', 'CD'), ('vacci...</td>\n",
       "      <td>['fauciouchie', 'two', 'vaccinated', 'vaccines...</td>\n",
       "      <td>['vaccinated', 'vaccinesaveslive', 'getyourshot']</td>\n",
       "      <td>['vaccinesaveslive', 'getyourshot']</td>\n",
       "    </tr>\n",
       "    <tr>\n",
       "      <th>404263</th>\n",
       "      <td>yay 🙌🏻 congrats dr. j being fully vaccinated i...</td>\n",
       "      <td>yay raising_handslight_skin_tone congrats dr. ...</td>\n",
       "      <td>ENGLISH</td>\n",
       "      <td>yay raising_handslight_skin_tone congrats dr. ...</td>\n",
       "      <td>[('yay', 'NN'), ('congrats', 'NNS'), ('do', 'V...</td>\n",
       "      <td>['yay', 'congrats', 'fully', 'vaccinated', 'be...</td>\n",
       "      <td>['congrat', 'fully', 'vaccinate', 'good', 'fee...</td>\n",
       "      <td>['congrat', 'feeling', 'safetyfirst', 'vaccine...</td>\n",
       "    </tr>\n",
       "    <tr>\n",
       "      <th>404264</th>\n",
       "      <td>we all have do our part end this pandemic— get...</td>\n",
       "      <td>we all have do our part end this pandemic— get...</td>\n",
       "      <td>ENGLISH</td>\n",
       "      <td>we all have do our part end this pandemic— get...</td>\n",
       "      <td>[('we', 'PRP'), ('all', 'DT'), ('have', 'VBP')...</td>\n",
       "      <td>['part', 'end', 'pandemic', 'get', 'vaccine', ...</td>\n",
       "      <td>['part', 'end', 'pandemic', 'get', 'vaccine', ...</td>\n",
       "      <td>['part', 'end', 'vaccine', 'help', 'other', 'v...</td>\n",
       "    </tr>\n",
       "  </tbody>\n",
       "</table>\n",
       "<p>404265 rows × 8 columns</p>\n",
       "</div>"
      ],
      "text/plain": [
       "                                                     Text  \\\n",
       "0       want find way end racism try force people inje...   \n",
       "1       this child almost died tetanus, spent months h...   \n",
       "2       juste se rappeler m. leblanc la pression que l...   \n",
       "3       you would expect cases rise significantly, cou...   \n",
       "4       depends whether vaccination status is embedded...   \n",
       "...                                                   ...   \n",
       "404260  if you are eligible, please pre- register covi...   \n",
       "404261           do it others.... 💪🎉💉🤙 #vaccinesaveslives   \n",
       "404262  #fauciouchie #2 #vaccinated #vaccinesaveslives...   \n",
       "404263  yay 🙌🏻 congrats dr. j being fully vaccinated i...   \n",
       "404264  we all have do our part end this pandemic— get...   \n",
       "\n",
       "                                                 new_text languages  \\\n",
       "0       want find way end racism try force people inje...   ENGLISH   \n",
       "1       this child almost died tetanus, spent months h...   ENGLISH   \n",
       "2       juste se rappeler m. leblanc la pression que l...    FRENCH   \n",
       "3       you would expect cases rise significantly, cou...   ENGLISH   \n",
       "4       depends whether vaccination status is embedded...   ENGLISH   \n",
       "...                                                   ...       ...   \n",
       "404260  if you are eligible, please pre- register covi...   ENGLISH   \n",
       "404261  do it others.... flexed_bicepsparty_poppersyri...   ENGLISH   \n",
       "404262  #fauciouchie #2 #vaccinated #vaccinesaveslives...   ENGLISH   \n",
       "404263  yay raising_handslight_skin_tone congrats dr. ...   ENGLISH   \n",
       "404264  we all have do our part end this pandemic— get...   ENGLISH   \n",
       "\n",
       "                               new_text_after_translation  \\\n",
       "0       want find way end racism try force people inje...   \n",
       "1       this child almost died tetanus, spent months h...   \n",
       "2       just remember mr. leblanc the pressure that th...   \n",
       "3       you would expect cases rise significantly, cou...   \n",
       "4       depends whether vaccination status is embedded...   \n",
       "...                                                   ...   \n",
       "404260  if you are eligible, please pre- register covi...   \n",
       "404261  do it others.... flexed_bicepsparty_poppersyri...   \n",
       "404262  #fauciouchie #2 #vaccinated #vaccinesaveslives...   \n",
       "404263  yay raising_handslight_skin_tone congrats dr. ...   \n",
       "404264  we all have do our part end this pandemic— get...   \n",
       "\n",
       "                                         pos_tagged_words  \\\n",
       "0       [('want', 'JJ'), ('find', 'VB'), ('way', 'NN')...   \n",
       "1       [('this', 'DT'), ('child', 'NN'), ('almost', '...   \n",
       "2       [('just', 'RB'), ('remember', 'VB'), ('my', 'P...   \n",
       "3       [('you', 'PRP'), ('would', 'MD'), ('expect', '...   \n",
       "4       [('depends', 'VBZ'), ('whether', 'IN'), ('vacc...   \n",
       "...                                                   ...   \n",
       "404260  [('if', 'IN'), ('you', 'PRP'), ('are', 'VBP'),...   \n",
       "404261  [('do', 'VB'), ('it', 'PRP'), ('others', 'NNS'...   \n",
       "404262  [('fauciouchie', 'RB'), ('two', 'CD'), ('vacci...   \n",
       "404263  [('yay', 'NN'), ('congrats', 'NNS'), ('do', 'V...   \n",
       "404264  [('we', 'PRP'), ('all', 'DT'), ('have', 'VBP')...   \n",
       "\n",
       "                                      words_processed_all  \\\n",
       "0       ['want', 'find', 'way', 'end', 'racism', 'try'...   \n",
       "1       ['child', 'almost', 'died', 'tetanus', 'spent'...   \n",
       "2       ['remember', 'leblanc', 'pressure', 'provincia...   \n",
       "3       ['would', 'expect', 'case', 'rise', 'significa...   \n",
       "4       ['depends', 'whether', 'vaccination', 'status'...   \n",
       "...                                                   ...   \n",
       "404260  ['eligible', 'please', 'pre', 'register', 'cou...   \n",
       "404261                    ['others', 'vaccinesaveslives']   \n",
       "404262  ['fauciouchie', 'two', 'vaccinated', 'vaccines...   \n",
       "404263  ['yay', 'congrats', 'fully', 'vaccinated', 'be...   \n",
       "404264  ['part', 'end', 'pandemic', 'get', 'vaccine', ...   \n",
       "\n",
       "                        words_processed_noun_adj_verb_adv  \\\n",
       "0       ['want', 'find', 'way', 'end', 'racism', 'try'...   \n",
       "1       ['child', 'almost', 'die', 'tetanus', 'spend',...   \n",
       "2       ['remember', 'leblanc', 'pressure', 'provincia...   \n",
       "3       ['would', 'expect', 'case', 'rise', 'significa...   \n",
       "4       ['depend', 'vaccination', 'status', 'embed', '...   \n",
       "...                                                   ...   \n",
       "404260  ['eligible', 'pre', 'register', 'couid', 'vacc...   \n",
       "404261                      ['other', 'vaccinesaveslive']   \n",
       "404262  ['vaccinated', 'vaccinesaveslive', 'getyourshot']   \n",
       "404263  ['congrat', 'fully', 'vaccinate', 'good', 'fee...   \n",
       "404264  ['part', 'end', 'pandemic', 'get', 'vaccine', ...   \n",
       "\n",
       "                                     words_processed_noun  \n",
       "0       ['way', 'end', 'racism', 'force', 'people', 'b...  \n",
       "1       ['child', 'tetanus', 'month', 'hospital', 'cos...  \n",
       "2       ['leblanc', 'pressure', 'business', 'world', '...  \n",
       "3       ['case', 'vaccination', 'rate', 'play', 'space...  \n",
       "4       ['vaccination', 'status', 'code', 'link', 'con...  \n",
       "...                                                   ...  \n",
       "404260  ['couid', 'vaccination', 'appointment', 'vacci...  \n",
       "404261                      ['other', 'vaccinesaveslive']  \n",
       "404262                ['vaccinesaveslive', 'getyourshot']  \n",
       "404263  ['congrat', 'feeling', 'safetyfirst', 'vaccine...  \n",
       "404264  ['part', 'end', 'vaccine', 'help', 'other', 'v...  \n",
       "\n",
       "[404265 rows x 8 columns]"
      ]
     },
     "execution_count": 3,
     "metadata": {},
     "output_type": "execute_result"
    }
   ],
   "source": [
    "whole_df = pd.read_csv(\"usa-v2-preprocessed-overall.csv\")\n",
    "whole_df.drop(['Unnamed: 0'], axis=1, inplace=True)\n",
    "whole_df"
   ]
  },
  {
   "cell_type": "code",
   "execution_count": 4,
   "id": "75cdc42b",
   "metadata": {},
   "outputs": [],
   "source": [
    "whole_df.drop(69103, axis=0, inplace=True)"
   ]
  },
  {
   "cell_type": "markdown",
   "id": "baab65f5",
   "metadata": {},
   "source": [
    "# Logistic Regression"
   ]
  },
  {
   "cell_type": "code",
   "execution_count": 5,
   "id": "f4f6caa1",
   "metadata": {},
   "outputs": [],
   "source": [
    "training_data, test_data = sklearn.model_selection.train_test_split(labelled_df, train_size = 0.8, random_state=1)"
   ]
  },
  {
   "cell_type": "code",
   "execution_count": 6,
   "id": "dd4abd2a",
   "metadata": {},
   "outputs": [
    {
     "name": "stdout",
     "output_type": "stream",
     "text": [
      "(1127, 10)\n",
      "(282, 10)\n"
     ]
    }
   ],
   "source": [
    "print(training_data.shape)\n",
    "print(test_data.shape)"
   ]
  },
  {
   "cell_type": "code",
   "execution_count": 7,
   "id": "94447394",
   "metadata": {},
   "outputs": [],
   "source": [
    "def simple_logistic_classify(X_tr, y_tr, X_test, y_test, description, _C=1.0):\n",
    "    model = LogisticRegression(C=_C).fit(X_tr, y_tr)\n",
    "    score = model.score(X_test, y_test)\n",
    "    print('Test Score with', description, 'features', score)\n",
    "    return model"
   ]
  },
  {
   "cell_type": "code",
   "execution_count": 8,
   "id": "f58c720f",
   "metadata": {},
   "outputs": [],
   "source": [
    "y_tr = training_data['text_type']\n",
    "y_te = test_data['text_type']"
   ]
  },
  {
   "cell_type": "code",
   "execution_count": 9,
   "id": "8856de28",
   "metadata": {},
   "outputs": [],
   "source": [
    "param_grid_ = {'C': [1e-5, 1e-3, 1e-1, 1e0, 1e1, 1e2]}"
   ]
  },
  {
   "cell_type": "markdown",
   "id": "dd329cab",
   "metadata": {},
   "source": [
    "## Train Model"
   ]
  },
  {
   "cell_type": "markdown",
   "id": "73634237",
   "metadata": {},
   "source": [
    "### BoW"
   ]
  },
  {
   "cell_type": "code",
   "execution_count": 10,
   "id": "49371ffd",
   "metadata": {},
   "outputs": [
    {
     "data": {
      "text/plain": [
       "965"
      ]
     },
     "execution_count": 10,
     "metadata": {},
     "output_type": "execute_result"
    }
   ],
   "source": [
    "bow_converter = CountVectorizer(tokenizer=lambda doc: doc, lowercase=False)\n",
    "x = bow_converter.fit_transform(whole_df['new_text_after_translation'])\n",
    "\n",
    "words = bow_converter.get_feature_names()\n",
    "len(words)"
   ]
  },
  {
   "cell_type": "code",
   "execution_count": 11,
   "id": "767c84a6",
   "metadata": {},
   "outputs": [],
   "source": [
    "bow_transform = CountVectorizer(tokenizer=lambda doc: doc, ngram_range=[3,3], lowercase=False) "
   ]
  },
  {
   "cell_type": "code",
   "execution_count": 12,
   "id": "b6bdd939",
   "metadata": {},
   "outputs": [],
   "source": [
    "whole_data_bow = bow_transform.fit_transform(whole_df[\"new_text_after_translation\"])"
   ]
  },
  {
   "cell_type": "code",
   "execution_count": 13,
   "id": "a9af92c3",
   "metadata": {},
   "outputs": [
    {
     "data": {
      "text/plain": [
       "<404264x62449 sparse matrix of type '<class 'numpy.int64'>'\n",
       "\twith 49627035 stored elements in Compressed Sparse Row format>"
      ]
     },
     "execution_count": 13,
     "metadata": {},
     "output_type": "execute_result"
    }
   ],
   "source": [
    "whole_data_bow"
   ]
  },
  {
   "cell_type": "code",
   "execution_count": 14,
   "id": "0e72ebff",
   "metadata": {},
   "outputs": [],
   "source": [
    "X_tr_bow = bow_transform.transform(training_data['new_text_after_translation'])"
   ]
  },
  {
   "cell_type": "code",
   "execution_count": 15,
   "id": "ef4942a9",
   "metadata": {},
   "outputs": [
    {
     "data": {
      "text/plain": [
       "<1127x62449 sparse matrix of type '<class 'numpy.int64'>'\n",
       "\twith 163033 stored elements in Compressed Sparse Row format>"
      ]
     },
     "execution_count": 15,
     "metadata": {},
     "output_type": "execute_result"
    }
   ],
   "source": [
    "X_tr_bow"
   ]
  },
  {
   "cell_type": "code",
   "execution_count": 16,
   "id": "05e9c0d5",
   "metadata": {},
   "outputs": [
    {
     "data": {
      "text/plain": [
       "62449"
      ]
     },
     "execution_count": 16,
     "metadata": {},
     "output_type": "execute_result"
    }
   ],
   "source": [
    "len(bow_transform.vocabulary_)"
   ]
  },
  {
   "cell_type": "code",
   "execution_count": 17,
   "id": "fa241c84",
   "metadata": {},
   "outputs": [
    {
     "data": {
      "text/plain": [
       "(1127, 62449)"
      ]
     },
     "execution_count": 17,
     "metadata": {},
     "output_type": "execute_result"
    }
   ],
   "source": [
    "X_tr_bow.shape"
   ]
  },
  {
   "cell_type": "code",
   "execution_count": 18,
   "id": "7af493eb",
   "metadata": {},
   "outputs": [],
   "source": [
    "X_te_bow = bow_transform.transform(test_data['new_text_after_translation'])"
   ]
  },
  {
   "cell_type": "code",
   "execution_count": 19,
   "id": "5fb8783b",
   "metadata": {},
   "outputs": [
    {
     "data": {
      "text/plain": [
       "<282x62449 sparse matrix of type '<class 'numpy.int64'>'\n",
       "\twith 39641 stored elements in Compressed Sparse Row format>"
      ]
     },
     "execution_count": 19,
     "metadata": {},
     "output_type": "execute_result"
    }
   ],
   "source": [
    "X_te_bow"
   ]
  },
  {
   "cell_type": "code",
   "execution_count": 20,
   "id": "750a23e7",
   "metadata": {},
   "outputs": [
    {
     "name": "stdout",
     "output_type": "stream",
     "text": [
      "Test Score with bow features 0.8581560283687943\n"
     ]
    }
   ],
   "source": [
    "model_bow = simple_logistic_classify(X_tr_bow, y_tr, X_te_bow, y_te, 'bow')"
   ]
  },
  {
   "cell_type": "code",
   "execution_count": 21,
   "id": "6e001146",
   "metadata": {},
   "outputs": [],
   "source": [
    "bow_search = sklearn.model_selection.GridSearchCV(LogisticRegression(), cv=5, param_grid=param_grid_)"
   ]
  },
  {
   "cell_type": "code",
   "execution_count": 22,
   "id": "394682be",
   "metadata": {},
   "outputs": [
    {
     "data": {
      "text/plain": [
       "GridSearchCV(cv=5, estimator=LogisticRegression(),\n",
       "             param_grid={'C': [1e-05, 0.001, 0.1, 1.0, 10.0, 100.0]})"
      ]
     },
     "execution_count": 22,
     "metadata": {},
     "output_type": "execute_result"
    }
   ],
   "source": [
    "bow_search.fit(X_tr_bow, y_tr)"
   ]
  },
  {
   "cell_type": "code",
   "execution_count": 23,
   "id": "07ff332d",
   "metadata": {},
   "outputs": [
    {
     "data": {
      "text/plain": [
       "0.833195673549656"
      ]
     },
     "execution_count": 23,
     "metadata": {},
     "output_type": "execute_result"
    }
   ],
   "source": [
    "bow_search.best_score_"
   ]
  },
  {
   "cell_type": "code",
   "execution_count": 24,
   "id": "b5006bf4",
   "metadata": {},
   "outputs": [
    {
     "data": {
      "text/plain": [
       "{'C': 0.1}"
      ]
     },
     "execution_count": 24,
     "metadata": {},
     "output_type": "execute_result"
    }
   ],
   "source": [
    "bow_search.best_params_"
   ]
  },
  {
   "cell_type": "code",
   "execution_count": 25,
   "id": "be6e7874",
   "metadata": {},
   "outputs": [
    {
     "data": {
      "text/plain": [
       "{'mean_fit_time': array([0.20570045, 0.24273872, 0.39804397, 0.60790639, 0.78392329,\n",
       "        0.81747522]),\n",
       " 'std_fit_time': array([0.00514344, 0.0144259 , 0.02636188, 0.03254041, 0.0149318 ,\n",
       "        0.01208405]),\n",
       " 'mean_score_time': array([0.00086813, 0.00086966, 0.00085154, 0.00080266, 0.00083642,\n",
       "        0.00095096]),\n",
       " 'std_score_time': array([1.00496460e-04, 4.92126442e-05, 7.18591541e-05, 8.01081601e-05,\n",
       "        9.29709451e-05, 4.56277601e-05]),\n",
       " 'param_C': masked_array(data=[1e-05, 0.001, 0.1, 1.0, 10.0, 100.0],\n",
       "              mask=[False, False, False, False, False, False],\n",
       "        fill_value='?',\n",
       "             dtype=object),\n",
       " 'params': [{'C': 1e-05},\n",
       "  {'C': 0.001},\n",
       "  {'C': 0.1},\n",
       "  {'C': 1.0},\n",
       "  {'C': 10.0},\n",
       "  {'C': 100.0}],\n",
       " 'split0_test_score': array([0.74336283, 0.75663717, 0.81858407, 0.79646018, 0.80530973,\n",
       "        0.79646018]),\n",
       " 'split1_test_score': array([0.74336283, 0.75221239, 0.83628319, 0.82743363, 0.83628319,\n",
       "        0.81415929]),\n",
       " 'split2_test_score': array([0.74666667, 0.74666667, 0.83555556, 0.82222222, 0.81333333,\n",
       "        0.79111111]),\n",
       " 'split3_test_score': array([0.74222222, 0.75111111, 0.84444444, 0.84888889, 0.84      ,\n",
       "        0.83555556]),\n",
       " 'split4_test_score': array([0.74222222, 0.75555556, 0.83111111, 0.84      , 0.81777778,\n",
       "        0.81333333]),\n",
       " 'mean_test_score': array([0.74356735, 0.75243658, 0.83319567, 0.82700098, 0.82254081,\n",
       "        0.81012389]),\n",
       " 'std_test_score': array([0.00163145, 0.00353474, 0.00847916, 0.01790988, 0.01340187,\n",
       "        0.01563034]),\n",
       " 'rank_test_score': array([6, 5, 1, 2, 3, 4], dtype=int32)}"
      ]
     },
     "execution_count": 25,
     "metadata": {},
     "output_type": "execute_result"
    }
   ],
   "source": [
    "bow_search.cv_results_"
   ]
  },
  {
   "cell_type": "code",
   "execution_count": 26,
   "id": "79f59ae7",
   "metadata": {},
   "outputs": [
    {
     "name": "stdout",
     "output_type": "stream",
     "text": [
      "Test Score with bow features 0.875886524822695\n"
     ]
    }
   ],
   "source": [
    "model_bow = simple_logistic_classify(X_tr_bow, y_tr, X_te_bow, y_te, 'bow', \n",
    "                              _C=bow_search.best_params_['C'])"
   ]
  },
  {
   "cell_type": "markdown",
   "id": "aa0982a4",
   "metadata": {},
   "source": [
    "### TF-IDF"
   ]
  },
  {
   "cell_type": "code",
   "execution_count": 27,
   "id": "5f953365",
   "metadata": {},
   "outputs": [],
   "source": [
    "tfidf_transform = text.TfidfTransformer(norm=None)\n",
    "X_tr_tfidf = tfidf_transform.fit_transform(X_tr_bow)"
   ]
  },
  {
   "cell_type": "code",
   "execution_count": 28,
   "id": "74a2ece9",
   "metadata": {},
   "outputs": [
    {
     "data": {
      "text/plain": [
       "<1127x62449 sparse matrix of type '<class 'numpy.float64'>'\n",
       "\twith 163033 stored elements in Compressed Sparse Row format>"
      ]
     },
     "execution_count": 28,
     "metadata": {},
     "output_type": "execute_result"
    }
   ],
   "source": [
    "X_tr_tfidf"
   ]
  },
  {
   "cell_type": "code",
   "execution_count": 29,
   "id": "84cb8dcd",
   "metadata": {},
   "outputs": [],
   "source": [
    "X_te_tfidf = tfidf_transform.transform(X_te_bow)"
   ]
  },
  {
   "cell_type": "code",
   "execution_count": 30,
   "id": "980bc3d2",
   "metadata": {},
   "outputs": [
    {
     "data": {
      "text/plain": [
       "<282x62449 sparse matrix of type '<class 'numpy.float64'>'\n",
       "\twith 39641 stored elements in Compressed Sparse Row format>"
      ]
     },
     "execution_count": 30,
     "metadata": {},
     "output_type": "execute_result"
    }
   ],
   "source": [
    "X_te_tfidf"
   ]
  },
  {
   "cell_type": "code",
   "execution_count": 31,
   "id": "9b1e6efd",
   "metadata": {},
   "outputs": [
    {
     "name": "stdout",
     "output_type": "stream",
     "text": [
      "Test Score with tf-idf features 0.8439716312056738\n"
     ]
    }
   ],
   "source": [
    "model_tfidf = simple_logistic_classify(X_tr_tfidf, y_tr, X_te_tfidf, y_te, 'tf-idf')"
   ]
  },
  {
   "cell_type": "code",
   "execution_count": 32,
   "id": "4be11cdc",
   "metadata": {},
   "outputs": [],
   "source": [
    "tfidf_search = sklearn.model_selection.GridSearchCV(LogisticRegression(), cv=5,\n",
    "                                   param_grid=param_grid_)"
   ]
  },
  {
   "cell_type": "code",
   "execution_count": 33,
   "id": "e1df2a7c",
   "metadata": {},
   "outputs": [
    {
     "data": {
      "text/plain": [
       "GridSearchCV(cv=5, estimator=LogisticRegression(),\n",
       "             param_grid={'C': [1e-05, 0.001, 0.1, 1.0, 10.0, 100.0]})"
      ]
     },
     "execution_count": 33,
     "metadata": {},
     "output_type": "execute_result"
    }
   ],
   "source": [
    "tfidf_search.fit(X_tr_tfidf, y_tr)"
   ]
  },
  {
   "cell_type": "code",
   "execution_count": 34,
   "id": "e952ec14",
   "metadata": {},
   "outputs": [
    {
     "data": {
      "text/plain": [
       "0.8305132743362831"
      ]
     },
     "execution_count": 34,
     "metadata": {},
     "output_type": "execute_result"
    }
   ],
   "source": [
    "tfidf_search.best_score_"
   ]
  },
  {
   "cell_type": "code",
   "execution_count": 35,
   "id": "7764188a",
   "metadata": {},
   "outputs": [
    {
     "data": {
      "text/plain": [
       "{'C': 1.0}"
      ]
     },
     "execution_count": 35,
     "metadata": {},
     "output_type": "execute_result"
    }
   ],
   "source": [
    "tfidf_search.best_params_"
   ]
  },
  {
   "cell_type": "code",
   "execution_count": 36,
   "id": "0598d827",
   "metadata": {},
   "outputs": [
    {
     "name": "stdout",
     "output_type": "stream",
     "text": [
      "Test Score with tf-idf features 0.8439716312056738\n"
     ]
    }
   ],
   "source": [
    "model_tfidf = simple_logistic_classify(X_tr_tfidf, y_tr, X_te_tfidf, y_te, 'tf-idf', \n",
    "                              _C=tfidf_search.best_params_['C'])"
   ]
  },
  {
   "cell_type": "markdown",
   "id": "1e881ca9",
   "metadata": {},
   "source": [
    "### Overall Comparison - BoW vs TF-IDF"
   ]
  },
  {
   "cell_type": "code",
   "execution_count": 37,
   "id": "eb36f17c",
   "metadata": {},
   "outputs": [],
   "source": [
    "results_file = open('tfidf_gridcv_results.pkl', 'wb')\n",
    "pickle.dump(bow_search, results_file, -1)\n",
    "pickle.dump(tfidf_search, results_file, -1)\n",
    "results_file.close()"
   ]
  },
  {
   "cell_type": "code",
   "execution_count": 38,
   "id": "59d3237e",
   "metadata": {},
   "outputs": [],
   "source": [
    "pkl_file = open('tfidf_gridcv_results.pkl', 'rb')\n",
    "bow_search = pickle.load(pkl_file)\n",
    "tfidf_search = pickle.load(pkl_file)\n",
    "pkl_file.close()"
   ]
  },
  {
   "cell_type": "code",
   "execution_count": 39,
   "id": "a8f61ba0",
   "metadata": {},
   "outputs": [
    {
     "data": {
      "text/html": [
       "<div>\n",
       "<style scoped>\n",
       "    .dataframe tbody tr th:only-of-type {\n",
       "        vertical-align: middle;\n",
       "    }\n",
       "\n",
       "    .dataframe tbody tr th {\n",
       "        vertical-align: top;\n",
       "    }\n",
       "\n",
       "    .dataframe thead th {\n",
       "        text-align: right;\n",
       "    }\n",
       "</style>\n",
       "<table border=\"1\" class=\"dataframe\">\n",
       "  <thead>\n",
       "    <tr style=\"text-align: right;\">\n",
       "      <th></th>\n",
       "      <th>bow</th>\n",
       "      <th>tfidf</th>\n",
       "    </tr>\n",
       "  </thead>\n",
       "  <tbody>\n",
       "    <tr>\n",
       "      <th>0</th>\n",
       "      <td>0.743567</td>\n",
       "      <td>0.743567</td>\n",
       "    </tr>\n",
       "    <tr>\n",
       "      <th>1</th>\n",
       "      <td>0.752437</td>\n",
       "      <td>0.827878</td>\n",
       "    </tr>\n",
       "    <tr>\n",
       "      <th>2</th>\n",
       "      <td>0.833196</td>\n",
       "      <td>0.826962</td>\n",
       "    </tr>\n",
       "    <tr>\n",
       "      <th>3</th>\n",
       "      <td>0.827001</td>\n",
       "      <td>0.830513</td>\n",
       "    </tr>\n",
       "    <tr>\n",
       "      <th>4</th>\n",
       "      <td>0.822541</td>\n",
       "      <td>0.818973</td>\n",
       "    </tr>\n",
       "    <tr>\n",
       "      <th>5</th>\n",
       "      <td>0.810124</td>\n",
       "      <td>0.819870</td>\n",
       "    </tr>\n",
       "  </tbody>\n",
       "</table>\n",
       "</div>"
      ],
      "text/plain": [
       "        bow     tfidf\n",
       "0  0.743567  0.743567\n",
       "1  0.752437  0.827878\n",
       "2  0.833196  0.826962\n",
       "3  0.827001  0.830513\n",
       "4  0.822541  0.818973\n",
       "5  0.810124  0.819870"
      ]
     },
     "execution_count": 39,
     "metadata": {},
     "output_type": "execute_result"
    }
   ],
   "source": [
    "search_results = pd.DataFrame.from_dict({'bow': bow_search.cv_results_['mean_test_score'],\n",
    "                               'tfidf': tfidf_search.cv_results_['mean_test_score']})\n",
    "search_results"
   ]
  },
  {
   "cell_type": "code",
   "execution_count": 40,
   "id": "a663ee87",
   "metadata": {},
   "outputs": [
    {
     "data": {
      "image/png": "[encoded data removed]",
      "text/plain": [
       "<Figure size 432x288 with 1 Axes>"
      ]
     },
     "metadata": {
      "needs_background": "light"
     },
     "output_type": "display_data"
    }
   ],
   "source": [
    "%matplotlib inline\n",
    "ax = sns.boxplot(data=search_results, width=0.4)\n",
    "ax.set_ylabel('Accuracy', size=14)\n",
    "ax.tick_params(labelsize=14)\n",
    "plt.savefig('tfidf_gridcv_results.png')"
   ]
  },
  {
   "cell_type": "markdown",
   "id": "5e1ef594",
   "metadata": {},
   "source": [
    "## Implement on whole df"
   ]
  },
  {
   "cell_type": "code",
   "execution_count": 41,
   "id": "34229dbc",
   "metadata": {},
   "outputs": [
    {
     "data": {
      "text/plain": [
       "<404264x62449 sparse matrix of type '<class 'numpy.int64'>'\n",
       "\twith 49627035 stored elements in Compressed Sparse Row format>"
      ]
     },
     "execution_count": 41,
     "metadata": {},
     "output_type": "execute_result"
    }
   ],
   "source": [
    "whole_data_bow"
   ]
  },
  {
   "cell_type": "code",
   "execution_count": 42,
   "id": "96141573",
   "metadata": {},
   "outputs": [],
   "source": [
    "whole_tfidf = tfidf_transform.fit_transform(whole_data_bow)"
   ]
  },
  {
   "cell_type": "code",
   "execution_count": 43,
   "id": "c2084679",
   "metadata": {},
   "outputs": [
    {
     "data": {
      "text/plain": [
       "<404264x62449 sparse matrix of type '<class 'numpy.float64'>'\n",
       "\twith 49627035 stored elements in Compressed Sparse Row format>"
      ]
     },
     "execution_count": 43,
     "metadata": {},
     "output_type": "execute_result"
    }
   ],
   "source": [
    "whole_tfidf"
   ]
  },
  {
   "cell_type": "code",
   "execution_count": 44,
   "id": "bca2c522",
   "metadata": {},
   "outputs": [],
   "source": [
    "predictions = model_tfidf.predict(whole_tfidf)"
   ]
  },
  {
   "cell_type": "code",
   "execution_count": 45,
   "id": "cd08de28",
   "metadata": {},
   "outputs": [
    {
     "data": {
      "text/plain": [
       "array(['subjective', 'subjective', 'subjective', ..., 'objective',\n",
       "       'subjective', 'subjective'], dtype=object)"
      ]
     },
     "execution_count": 45,
     "metadata": {},
     "output_type": "execute_result"
    }
   ],
   "source": [
    "predictions"
   ]
  },
  {
   "cell_type": "code",
   "execution_count": 46,
   "id": "4f1adc39",
   "metadata": {},
   "outputs": [],
   "source": [
    "whole_df[\"text_type\"] = predictions"
   ]
  },
  {
   "cell_type": "code",
   "execution_count": 47,
   "id": "030646ab",
   "metadata": {},
   "outputs": [
    {
     "data": {
      "text/html": [
       "<div>\n",
       "<style scoped>\n",
       "    .dataframe tbody tr th:only-of-type {\n",
       "        vertical-align: middle;\n",
       "    }\n",
       "\n",
       "    .dataframe tbody tr th {\n",
       "        vertical-align: top;\n",
       "    }\n",
       "\n",
       "    .dataframe thead th {\n",
       "        text-align: right;\n",
       "    }\n",
       "</style>\n",
       "<table border=\"1\" class=\"dataframe\">\n",
       "  <thead>\n",
       "    <tr style=\"text-align: right;\">\n",
       "      <th></th>\n",
       "      <th>Text</th>\n",
       "      <th>new_text</th>\n",
       "      <th>languages</th>\n",
       "      <th>new_text_after_translation</th>\n",
       "      <th>pos_tagged_words</th>\n",
       "      <th>words_processed_all</th>\n",
       "      <th>words_processed_noun_adj_verb_adv</th>\n",
       "      <th>words_processed_noun</th>\n",
       "      <th>text_type</th>\n",
       "    </tr>\n",
       "  </thead>\n",
       "  <tbody>\n",
       "    <tr>\n",
       "      <th>0</th>\n",
       "      <td>want find way end racism try force people inje...</td>\n",
       "      <td>want find way end racism try force people inje...</td>\n",
       "      <td>ENGLISH</td>\n",
       "      <td>want find way end racism try force people inje...</td>\n",
       "      <td>[('want', 'JJ'), ('find', 'VB'), ('way', 'NN')...</td>\n",
       "      <td>['want', 'find', 'way', 'end', 'racism', 'try'...</td>\n",
       "      <td>['want', 'find', 'way', 'end', 'racism', 'try'...</td>\n",
       "      <td>['way', 'end', 'racism', 'force', 'people', 'b...</td>\n",
       "      <td>subjective</td>\n",
       "    </tr>\n",
       "    <tr>\n",
       "      <th>1</th>\n",
       "      <td>this child almost died tetanus, spent months h...</td>\n",
       "      <td>this child almost died tetanus, spent months h...</td>\n",
       "      <td>ENGLISH</td>\n",
       "      <td>this child almost died tetanus, spent months h...</td>\n",
       "      <td>[('this', 'DT'), ('child', 'NN'), ('almost', '...</td>\n",
       "      <td>['child', 'almost', 'died', 'tetanus', 'spent'...</td>\n",
       "      <td>['child', 'almost', 'die', 'tetanus', 'spend',...</td>\n",
       "      <td>['child', 'tetanus', 'month', 'hospital', 'cos...</td>\n",
       "      <td>subjective</td>\n",
       "    </tr>\n",
       "    <tr>\n",
       "      <th>2</th>\n",
       "      <td>juste se rappeler m. leblanc la pression que l...</td>\n",
       "      <td>juste se rappeler m. leblanc la pression que l...</td>\n",
       "      <td>FRENCH</td>\n",
       "      <td>just remember mr. leblanc the pressure that th...</td>\n",
       "      <td>[('just', 'RB'), ('remember', 'VB'), ('my', 'P...</td>\n",
       "      <td>['remember', 'leblanc', 'pressure', 'provincia...</td>\n",
       "      <td>['remember', 'leblanc', 'pressure', 'provincia...</td>\n",
       "      <td>['leblanc', 'pressure', 'business', 'world', '...</td>\n",
       "      <td>subjective</td>\n",
       "    </tr>\n",
       "    <tr>\n",
       "      <th>3</th>\n",
       "      <td>you would expect cases rise significantly, cou...</td>\n",
       "      <td>you would expect cases rise significantly, cou...</td>\n",
       "      <td>ENGLISH</td>\n",
       "      <td>you would expect cases rise significantly, cou...</td>\n",
       "      <td>[('you', 'PRP'), ('would', 'MD'), ('expect', '...</td>\n",
       "      <td>['would', 'expect', 'case', 'rise', 'significa...</td>\n",
       "      <td>['would', 'expect', 'case', 'rise', 'significa...</td>\n",
       "      <td>['case', 'vaccination', 'rate', 'play', 'space...</td>\n",
       "      <td>subjective</td>\n",
       "    </tr>\n",
       "    <tr>\n",
       "      <th>4</th>\n",
       "      <td>depends whether vaccination status is embedded...</td>\n",
       "      <td>depends whether vaccination status is embedded...</td>\n",
       "      <td>ENGLISH</td>\n",
       "      <td>depends whether vaccination status is embedded...</td>\n",
       "      <td>[('depends', 'VBZ'), ('whether', 'IN'), ('vacc...</td>\n",
       "      <td>['depends', 'whether', 'vaccination', 'status'...</td>\n",
       "      <td>['depend', 'vaccination', 'status', 'embed', '...</td>\n",
       "      <td>['vaccination', 'status', 'code', 'link', 'con...</td>\n",
       "      <td>subjective</td>\n",
       "    </tr>\n",
       "    <tr>\n",
       "      <th>...</th>\n",
       "      <td>...</td>\n",
       "      <td>...</td>\n",
       "      <td>...</td>\n",
       "      <td>...</td>\n",
       "      <td>...</td>\n",
       "      <td>...</td>\n",
       "      <td>...</td>\n",
       "      <td>...</td>\n",
       "      <td>...</td>\n",
       "    </tr>\n",
       "    <tr>\n",
       "      <th>404260</th>\n",
       "      <td>if you are eligible, please pre- register covi...</td>\n",
       "      <td>if you are eligible, please pre- register covi...</td>\n",
       "      <td>ENGLISH</td>\n",
       "      <td>if you are eligible, please pre- register covi...</td>\n",
       "      <td>[('if', 'IN'), ('you', 'PRP'), ('are', 'VBP'),...</td>\n",
       "      <td>['eligible', 'please', 'pre', 'register', 'cou...</td>\n",
       "      <td>['eligible', 'pre', 'register', 'couid', 'vacc...</td>\n",
       "      <td>['couid', 'vaccination', 'appointment', 'vacci...</td>\n",
       "      <td>objective</td>\n",
       "    </tr>\n",
       "    <tr>\n",
       "      <th>404261</th>\n",
       "      <td>do it others.... 💪🎉💉🤙 #vaccinesaveslives</td>\n",
       "      <td>do it others.... flexed_bicepsparty_poppersyri...</td>\n",
       "      <td>ENGLISH</td>\n",
       "      <td>do it others.... flexed_bicepsparty_poppersyri...</td>\n",
       "      <td>[('do', 'VB'), ('it', 'PRP'), ('others', 'NNS'...</td>\n",
       "      <td>['others', 'vaccinesaveslives']</td>\n",
       "      <td>['other', 'vaccinesaveslive']</td>\n",
       "      <td>['other', 'vaccinesaveslive']</td>\n",
       "      <td>subjective</td>\n",
       "    </tr>\n",
       "    <tr>\n",
       "      <th>404262</th>\n",
       "      <td>#fauciouchie #2 #vaccinated #vaccinesaveslives...</td>\n",
       "      <td>#fauciouchie #2 #vaccinated #vaccinesaveslives...</td>\n",
       "      <td>ENGLISH</td>\n",
       "      <td>#fauciouchie #2 #vaccinated #vaccinesaveslives...</td>\n",
       "      <td>[('fauciouchie', 'RB'), ('two', 'CD'), ('vacci...</td>\n",
       "      <td>['fauciouchie', 'two', 'vaccinated', 'vaccines...</td>\n",
       "      <td>['vaccinated', 'vaccinesaveslive', 'getyourshot']</td>\n",
       "      <td>['vaccinesaveslive', 'getyourshot']</td>\n",
       "      <td>objective</td>\n",
       "    </tr>\n",
       "    <tr>\n",
       "      <th>404263</th>\n",
       "      <td>yay 🙌🏻 congrats dr. j being fully vaccinated i...</td>\n",
       "      <td>yay raising_handslight_skin_tone congrats dr. ...</td>\n",
       "      <td>ENGLISH</td>\n",
       "      <td>yay raising_handslight_skin_tone congrats dr. ...</td>\n",
       "      <td>[('yay', 'NN'), ('congrats', 'NNS'), ('do', 'V...</td>\n",
       "      <td>['yay', 'congrats', 'fully', 'vaccinated', 'be...</td>\n",
       "      <td>['congrat', 'fully', 'vaccinate', 'good', 'fee...</td>\n",
       "      <td>['congrat', 'feeling', 'safetyfirst', 'vaccine...</td>\n",
       "      <td>subjective</td>\n",
       "    </tr>\n",
       "    <tr>\n",
       "      <th>404264</th>\n",
       "      <td>we all have do our part end this pandemic— get...</td>\n",
       "      <td>we all have do our part end this pandemic— get...</td>\n",
       "      <td>ENGLISH</td>\n",
       "      <td>we all have do our part end this pandemic— get...</td>\n",
       "      <td>[('we', 'PRP'), ('all', 'DT'), ('have', 'VBP')...</td>\n",
       "      <td>['part', 'end', 'pandemic', 'get', 'vaccine', ...</td>\n",
       "      <td>['part', 'end', 'pandemic', 'get', 'vaccine', ...</td>\n",
       "      <td>['part', 'end', 'vaccine', 'help', 'other', 'v...</td>\n",
       "      <td>subjective</td>\n",
       "    </tr>\n",
       "  </tbody>\n",
       "</table>\n",
       "<p>404264 rows × 9 columns</p>\n",
       "</div>"
      ],
      "text/plain": [
       "                                                     Text  \\\n",
       "0       want find way end racism try force people inje...   \n",
       "1       this child almost died tetanus, spent months h...   \n",
       "2       juste se rappeler m. leblanc la pression que l...   \n",
       "3       you would expect cases rise significantly, cou...   \n",
       "4       depends whether vaccination status is embedded...   \n",
       "...                                                   ...   \n",
       "404260  if you are eligible, please pre- register covi...   \n",
       "404261           do it others.... 💪🎉💉🤙 #vaccinesaveslives   \n",
       "404262  #fauciouchie #2 #vaccinated #vaccinesaveslives...   \n",
       "404263  yay 🙌🏻 congrats dr. j being fully vaccinated i...   \n",
       "404264  we all have do our part end this pandemic— get...   \n",
       "\n",
       "                                                 new_text languages  \\\n",
       "0       want find way end racism try force people inje...   ENGLISH   \n",
       "1       this child almost died tetanus, spent months h...   ENGLISH   \n",
       "2       juste se rappeler m. leblanc la pression que l...    FRENCH   \n",
       "3       you would expect cases rise significantly, cou...   ENGLISH   \n",
       "4       depends whether vaccination status is embedded...   ENGLISH   \n",
       "...                                                   ...       ...   \n",
       "404260  if you are eligible, please pre- register covi...   ENGLISH   \n",
       "404261  do it others.... flexed_bicepsparty_poppersyri...   ENGLISH   \n",
       "404262  #fauciouchie #2 #vaccinated #vaccinesaveslives...   ENGLISH   \n",
       "404263  yay raising_handslight_skin_tone congrats dr. ...   ENGLISH   \n",
       "404264  we all have do our part end this pandemic— get...   ENGLISH   \n",
       "\n",
       "                               new_text_after_translation  \\\n",
       "0       want find way end racism try force people inje...   \n",
       "1       this child almost died tetanus, spent months h...   \n",
       "2       just remember mr. leblanc the pressure that th...   \n",
       "3       you would expect cases rise significantly, cou...   \n",
       "4       depends whether vaccination status is embedded...   \n",
       "...                                                   ...   \n",
       "404260  if you are eligible, please pre- register covi...   \n",
       "404261  do it others.... flexed_bicepsparty_poppersyri...   \n",
       "404262  #fauciouchie #2 #vaccinated #vaccinesaveslives...   \n",
       "404263  yay raising_handslight_skin_tone congrats dr. ...   \n",
       "404264  we all have do our part end this pandemic— get...   \n",
       "\n",
       "                                         pos_tagged_words  \\\n",
       "0       [('want', 'JJ'), ('find', 'VB'), ('way', 'NN')...   \n",
       "1       [('this', 'DT'), ('child', 'NN'), ('almost', '...   \n",
       "2       [('just', 'RB'), ('remember', 'VB'), ('my', 'P...   \n",
       "3       [('you', 'PRP'), ('would', 'MD'), ('expect', '...   \n",
       "4       [('depends', 'VBZ'), ('whether', 'IN'), ('vacc...   \n",
       "...                                                   ...   \n",
       "404260  [('if', 'IN'), ('you', 'PRP'), ('are', 'VBP'),...   \n",
       "404261  [('do', 'VB'), ('it', 'PRP'), ('others', 'NNS'...   \n",
       "404262  [('fauciouchie', 'RB'), ('two', 'CD'), ('vacci...   \n",
       "404263  [('yay', 'NN'), ('congrats', 'NNS'), ('do', 'V...   \n",
       "404264  [('we', 'PRP'), ('all', 'DT'), ('have', 'VBP')...   \n",
       "\n",
       "                                      words_processed_all  \\\n",
       "0       ['want', 'find', 'way', 'end', 'racism', 'try'...   \n",
       "1       ['child', 'almost', 'died', 'tetanus', 'spent'...   \n",
       "2       ['remember', 'leblanc', 'pressure', 'provincia...   \n",
       "3       ['would', 'expect', 'case', 'rise', 'significa...   \n",
       "4       ['depends', 'whether', 'vaccination', 'status'...   \n",
       "...                                                   ...   \n",
       "404260  ['eligible', 'please', 'pre', 'register', 'cou...   \n",
       "404261                    ['others', 'vaccinesaveslives']   \n",
       "404262  ['fauciouchie', 'two', 'vaccinated', 'vaccines...   \n",
       "404263  ['yay', 'congrats', 'fully', 'vaccinated', 'be...   \n",
       "404264  ['part', 'end', 'pandemic', 'get', 'vaccine', ...   \n",
       "\n",
       "                        words_processed_noun_adj_verb_adv  \\\n",
       "0       ['want', 'find', 'way', 'end', 'racism', 'try'...   \n",
       "1       ['child', 'almost', 'die', 'tetanus', 'spend',...   \n",
       "2       ['remember', 'leblanc', 'pressure', 'provincia...   \n",
       "3       ['would', 'expect', 'case', 'rise', 'significa...   \n",
       "4       ['depend', 'vaccination', 'status', 'embed', '...   \n",
       "...                                                   ...   \n",
       "404260  ['eligible', 'pre', 'register', 'couid', 'vacc...   \n",
       "404261                      ['other', 'vaccinesaveslive']   \n",
       "404262  ['vaccinated', 'vaccinesaveslive', 'getyourshot']   \n",
       "404263  ['congrat', 'fully', 'vaccinate', 'good', 'fee...   \n",
       "404264  ['part', 'end', 'pandemic', 'get', 'vaccine', ...   \n",
       "\n",
       "                                     words_processed_noun   text_type  \n",
       "0       ['way', 'end', 'racism', 'force', 'people', 'b...  subjective  \n",
       "1       ['child', 'tetanus', 'month', 'hospital', 'cos...  subjective  \n",
       "2       ['leblanc', 'pressure', 'business', 'world', '...  subjective  \n",
       "3       ['case', 'vaccination', 'rate', 'play', 'space...  subjective  \n",
       "4       ['vaccination', 'status', 'code', 'link', 'con...  subjective  \n",
       "...                                                   ...         ...  \n",
       "404260  ['couid', 'vaccination', 'appointment', 'vacci...   objective  \n",
       "404261                      ['other', 'vaccinesaveslive']  subjective  \n",
       "404262                ['vaccinesaveslive', 'getyourshot']   objective  \n",
       "404263  ['congrat', 'feeling', 'safetyfirst', 'vaccine...  subjective  \n",
       "404264  ['part', 'end', 'vaccine', 'help', 'other', 'v...  subjective  \n",
       "\n",
       "[404264 rows x 9 columns]"
      ]
     },
     "execution_count": 47,
     "metadata": {},
     "output_type": "execute_result"
    }
   ],
   "source": [
    "whole_df"
   ]
  },
  {
   "cell_type": "code",
   "execution_count": 48,
   "id": "34c26769",
   "metadata": {},
   "outputs": [
    {
     "data": {
      "text/plain": [
       "subjective    320127\n",
       "objective      84137\n",
       "Name: text_type, dtype: int64"
      ]
     },
     "execution_count": 48,
     "metadata": {},
     "output_type": "execute_result"
    }
   ],
   "source": [
    "whole_df[\"text_type\"].value_counts()"
   ]
  },
  {
   "cell_type": "code",
   "execution_count": 49,
   "id": "1c3eec53",
   "metadata": {},
   "outputs": [],
   "source": [
    "whole_df.to_csv(\"labelled_data_usa_LR.csv\")"
   ]
  }
 ],
 "metadata": {
  "kernelspec": {
   "display_name": "Python 3 (ipykernel)",
   "language": "python",
   "name": "python3"
  },
  "language_info": {
   "codemirror_mode": {
    "name": "ipython",
    "version": 3
   },
   "file_extension": ".py",
   "mimetype": "text/x-python",
   "name": "python",
   "nbconvert_exporter": "python",
   "pygments_lexer": "ipython3",
   "version": "3.8.8"
  },
  "toc": {
   "base_numbering": 1,
   "nav_menu": {},
   "number_sections": true,
   "sideBar": true,
   "skip_h1_title": false,
   "title_cell": "Table of Contents",
   "title_sidebar": "Contents",
   "toc_cell": false,
   "toc_position": {},
   "toc_section_display": true,
   "toc_window_display": false
  }
 },
 "nbformat": 4,
 "nbformat_minor": 5
}
