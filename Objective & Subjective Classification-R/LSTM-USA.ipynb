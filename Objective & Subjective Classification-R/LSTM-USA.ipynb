{
 "cells": [
  {
   "cell_type": "markdown",
   "metadata": {
    "colab_type": "text",
    "id": "6rcYCu-4eYVi"
   },
   "source": [
    "## **IMPORTING REQUIRED MODULES**"
   ]
  },
  {
   "cell_type": "code",
   "execution_count": 2,
   "metadata": {
    "colab": {
     "base_uri": "https://localhost:8080/",
     "height": 218
    },
    "colab_type": "code",
    "id": "w-B27WfoMWhK",
    "outputId": "5f9a6f6e-4155-495f-c80d-5fd954c390af"
   },
   "outputs": [
    {
     "name": "stdout",
     "output_type": "stream",
     "text": [
      "Requirement already satisfied: keras-metrics in c:\\users\\rachel\\anaconda3\\envs\\tf\\lib\\site-packages (1.1.0)Note: you may need to restart the kernel to use updated packages.\n",
      "Requirement already satisfied: Keras>=2.1.5 in c:\\users\\rachel\\anaconda3\\envs\\tf\\lib\\site-packages (from keras-metrics) (2.6.0)\n",
      "\n"
     ]
    }
   ],
   "source": [
    "pip install keras-metrics"
   ]
  },
  {
   "cell_type": "code",
   "execution_count": 3,
   "metadata": {
    "colab": {
     "base_uri": "https://localhost:8080/",
     "height": 252
    },
    "colab_type": "code",
    "id": "t3hI3tAHMeCj",
    "outputId": "c19a519e-42b2-4f43-f78d-ce1126c6c0b1"
   },
   "outputs": [
    {
     "name": "stdout",
     "output_type": "stream",
     "text": [
      "Requirement already satisfied: scikit-plot in c:\\users\\rachel\\anaconda3\\envs\\tf\\lib\\site-packages (0.3.7)\n",
      "Requirement already satisfied: joblib>=0.10 in c:\\users\\rachel\\anaconda3\\envs\\tf\\lib\\site-packages (from scikit-plot) (1.1.0)\n",
      "Requirement already satisfied: scikit-learn>=0.18 in c:\\users\\rachel\\anaconda3\\envs\\tf\\lib\\site-packages (from scikit-plot) (1.0.2)\n",
      "Requirement already satisfied: scipy>=0.9 in c:\\users\\rachel\\anaconda3\\envs\\tf\\lib\\site-packages (from scikit-plot) (1.7.3)\n",
      "Requirement already satisfied: matplotlib>=1.4.0 in c:\\users\\rachel\\anaconda3\\envs\\tf\\lib\\site-packages (from scikit-plot) (3.5.1)\n",
      "Requirement already satisfied: packaging>=20.0 in c:\\users\\rachel\\anaconda3\\envs\\tf\\lib\\site-packages (from matplotlib>=1.4.0->scikit-plot) (21.3)\n",
      "Requirement already satisfied: cycler>=0.10 in c:\\users\\rachel\\anaconda3\\envs\\tf\\lib\\site-packages (from matplotlib>=1.4.0->scikit-plot) (0.11.0)\n",
      "Requirement already satisfied: kiwisolver>=1.0.1 in c:\\users\\rachel\\anaconda3\\envs\\tf\\lib\\site-packages (from matplotlib>=1.4.0->scikit-plot) (1.3.2)\n",
      "Requirement already satisfied: pillow>=6.2.0 in c:\\users\\rachel\\anaconda3\\envs\\tf\\lib\\site-packages (from matplotlib>=1.4.0->scikit-plot) (9.0.1)\n",
      "Requirement already satisfied: python-dateutil>=2.7 in c:\\users\\rachel\\anaconda3\\envs\\tf\\lib\\site-packages (from matplotlib>=1.4.0->scikit-plot) (2.8.2)\n",
      "Requirement already satisfied: fonttools>=4.22.0 in c:\\users\\rachel\\anaconda3\\envs\\tf\\lib\\site-packages (from matplotlib>=1.4.0->scikit-plot) (4.29.1)\n",
      "Requirement already satisfied: pyparsing>=2.2.1 in c:\\users\\rachel\\anaconda3\\envs\\tf\\lib\\site-packages (from matplotlib>=1.4.0->scikit-plot) (3.0.4)\n",
      "Requirement already satisfied: numpy>=1.17 in c:\\users\\rachel\\anaconda3\\envs\\tf\\lib\\site-packages (from matplotlib>=1.4.0->scikit-plot) (1.22.2)\n",
      "Requirement already satisfied: six>=1.5 in c:\\users\\rachel\\anaconda3\\envs\\tf\\lib\\site-packages (from python-dateutil>=2.7->matplotlib>=1.4.0->scikit-plot) (1.16.0)\n",
      "Requirement already satisfied: threadpoolctl>=2.0.0 in c:\\users\\rachel\\anaconda3\\envs\\tf\\lib\\site-packages (from scikit-learn>=0.18->scikit-plot) (3.1.0)\n",
      "Note: you may need to restart the kernel to use updated packages.\n"
     ]
    }
   ],
   "source": [
    "pip install scikit-plot"
   ]
  },
  {
   "cell_type": "code",
   "execution_count": 4,
   "metadata": {},
   "outputs": [
    {
     "name": "stdout",
     "output_type": "stream",
     "text": [
      "Requirement already satisfied: nltk in c:\\users\\rachel\\anaconda3\\envs\\tf\\lib\\site-packages (3.7)\n",
      "Requirement already satisfied: regex>=2021.8.3 in c:\\users\\rachel\\anaconda3\\envs\\tf\\lib\\site-packages (from nltk) (2022.3.2)\n",
      "Requirement already satisfied: joblib in c:\\users\\rachel\\anaconda3\\envs\\tf\\lib\\site-packages (from nltk) (1.1.0)\n",
      "Requirement already satisfied: tqdm in c:\\users\\rachel\\anaconda3\\envs\\tf\\lib\\site-packages (from nltk) (4.63.0)\n",
      "Requirement already satisfied: click in c:\\users\\rachel\\anaconda3\\envs\\tf\\lib\\site-packages (from nltk) (8.0.4)\n",
      "Requirement already satisfied: colorama in c:\\users\\rachel\\anaconda3\\envs\\tf\\lib\\site-packages (from click->nltk) (0.4.4)\n",
      "Note: you may need to restart the kernel to use updated packages.\n"
     ]
    }
   ],
   "source": [
    "pip install nltk"
   ]
  },
  {
   "cell_type": "code",
   "execution_count": 5,
   "metadata": {
    "colab": {
     "base_uri": "https://localhost:8080/",
     "height": 134
    },
    "colab_type": "code",
    "id": "JMYf6jqOeN12",
    "outputId": "c05b9e80-ed9b-42d4-f0e1-1b095a44feb9"
   },
   "outputs": [],
   "source": [
    "import pandas as pd\n",
    "import re\n",
    "import nltk\n",
    "# nltk.download('punkt')\n",
    "from nltk.tokenize import word_tokenize\n",
    "from nltk.corpus import stopwords\n",
    "# nltk.download('stopwords')\n",
    "# nltk.download('wordnet')\n",
    "from nltk.stem import WordNetLemmatizer \n",
    "lemmatizer = WordNetLemmatizer() \n",
    "from tqdm import tqdm\n",
    "import pickle\n",
    "from collections import Counter\n",
    "import operator\n",
    "import matplotlib.pyplot as plt\n",
    "from sklearn.model_selection import train_test_split\n",
    "import numpy as np\n",
    "from sklearn.metrics import confusion_matrix\n",
    "from sklearn import metrics\n",
    "import warnings\n",
    "warnings.filterwarnings(\"ignore\")\n",
    "from keras.models import Sequential\n",
    "from keras.layers import Dense\n",
    "from keras.layers import LSTM\n",
    "from keras.layers.embeddings import Embedding\n",
    "from keras.preprocessing import sequence\n",
    "from keras.layers import Dropout\n",
    "from IPython.display import display\n",
    "import keras_metrics\n",
    "import keras\n",
    "import matplotlib.pyplot as plt\n",
    "from keras.models import load_model\n",
    "from keras.callbacks import ModelCheckpoint, EarlyStopping\n",
    "import scikitplot as skplt\n",
    "from keras.layers import Dense, Dropout, Embedding, LSTM, Bidirectional"
   ]
  },
  {
   "cell_type": "markdown",
   "metadata": {
    "colab_type": "text",
    "id": "MLpfVavJed_K"
   },
   "source": [
    "## **READING THE DATA**"
   ]
  },
  {
   "cell_type": "code",
   "execution_count": 6,
   "metadata": {
    "colab": {
     "base_uri": "https://localhost:8080/",
     "height": 196
    },
    "colab_type": "code",
    "id": "imJUcTb1eeVL",
    "outputId": "9af7cb46-6731-4a6a-f16a-de085f51fe84"
   },
   "outputs": [
    {
     "data": {
      "text/html": [
       "<div>\n",
       "<style scoped>\n",
       "    .dataframe tbody tr th:only-of-type {\n",
       "        vertical-align: middle;\n",
       "    }\n",
       "\n",
       "    .dataframe tbody tr th {\n",
       "        vertical-align: top;\n",
       "    }\n",
       "\n",
       "    .dataframe thead th {\n",
       "        text-align: right;\n",
       "    }\n",
       "</style>\n",
       "<table border=\"1\" class=\"dataframe\">\n",
       "  <thead>\n",
       "    <tr style=\"text-align: right;\">\n",
       "      <th></th>\n",
       "      <th>Text</th>\n",
       "      <th>Label</th>\n",
       "    </tr>\n",
       "  </thead>\n",
       "  <tbody>\n",
       "    <tr>\n",
       "      <th>0</th>\n",
       "      <td>want find way end racism try force people inje...</td>\n",
       "      <td>0</td>\n",
       "    </tr>\n",
       "    <tr>\n",
       "      <th>1</th>\n",
       "      <td>this child almost died tetanus, spent months h...</td>\n",
       "      <td>0</td>\n",
       "    </tr>\n",
       "    <tr>\n",
       "      <th>2</th>\n",
       "      <td>just remember mr. leblanc the pressure that th...</td>\n",
       "      <td>0</td>\n",
       "    </tr>\n",
       "    <tr>\n",
       "      <th>3</th>\n",
       "      <td>you would expect cases rise significantly, cou...</td>\n",
       "      <td>0</td>\n",
       "    </tr>\n",
       "    <tr>\n",
       "      <th>4</th>\n",
       "      <td>depends whether vaccination status is embedded...</td>\n",
       "      <td>0</td>\n",
       "    </tr>\n",
       "  </tbody>\n",
       "</table>\n",
       "</div>"
      ],
      "text/plain": [
       "                                                Text  Label\n",
       "0  want find way end racism try force people inje...      0\n",
       "1  this child almost died tetanus, spent months h...      0\n",
       "2  just remember mr. leblanc the pressure that th...      0\n",
       "3  you would expect cases rise significantly, cou...      0\n",
       "4  depends whether vaccination status is embedded...      0"
      ]
     },
     "execution_count": 6,
     "metadata": {},
     "output_type": "execute_result"
    }
   ],
   "source": [
    "total_data = pd.read_csv(\"./USA-rachVersion.csv\")\n",
    "total_data.head()"
   ]
  },
  {
   "cell_type": "code",
   "execution_count": 7,
   "metadata": {},
   "outputs": [],
   "source": [
    "# total_data.drop(['Unnamed: 0'], axis=1, inplace=True)"
   ]
  },
  {
   "cell_type": "code",
   "execution_count": 8,
   "metadata": {},
   "outputs": [
    {
     "data": {
      "text/html": [
       "<div>\n",
       "<style scoped>\n",
       "    .dataframe tbody tr th:only-of-type {\n",
       "        vertical-align: middle;\n",
       "    }\n",
       "\n",
       "    .dataframe tbody tr th {\n",
       "        vertical-align: top;\n",
       "    }\n",
       "\n",
       "    .dataframe thead th {\n",
       "        text-align: right;\n",
       "    }\n",
       "</style>\n",
       "<table border=\"1\" class=\"dataframe\">\n",
       "  <thead>\n",
       "    <tr style=\"text-align: right;\">\n",
       "      <th></th>\n",
       "      <th>Text</th>\n",
       "      <th>Label</th>\n",
       "    </tr>\n",
       "  </thead>\n",
       "  <tbody>\n",
       "    <tr>\n",
       "      <th>0</th>\n",
       "      <td>want find way end racism try force people inje...</td>\n",
       "      <td>0</td>\n",
       "    </tr>\n",
       "    <tr>\n",
       "      <th>1</th>\n",
       "      <td>this child almost died tetanus, spent months h...</td>\n",
       "      <td>0</td>\n",
       "    </tr>\n",
       "    <tr>\n",
       "      <th>2</th>\n",
       "      <td>just remember mr. leblanc the pressure that th...</td>\n",
       "      <td>0</td>\n",
       "    </tr>\n",
       "    <tr>\n",
       "      <th>3</th>\n",
       "      <td>you would expect cases rise significantly, cou...</td>\n",
       "      <td>0</td>\n",
       "    </tr>\n",
       "    <tr>\n",
       "      <th>4</th>\n",
       "      <td>depends whether vaccination status is embedded...</td>\n",
       "      <td>0</td>\n",
       "    </tr>\n",
       "  </tbody>\n",
       "</table>\n",
       "</div>"
      ],
      "text/plain": [
       "                                                Text  Label\n",
       "0  want find way end racism try force people inje...      0\n",
       "1  this child almost died tetanus, spent months h...      0\n",
       "2  just remember mr. leblanc the pressure that th...      0\n",
       "3  you would expect cases rise significantly, cou...      0\n",
       "4  depends whether vaccination status is embedded...      0"
      ]
     },
     "execution_count": 8,
     "metadata": {},
     "output_type": "execute_result"
    }
   ],
   "source": [
    "total_data.head()"
   ]
  },
  {
   "cell_type": "markdown",
   "metadata": {
    "colab_type": "text",
    "id": "apULqVzrlN4H"
   },
   "source": [
    "## **CLASS-WISE COUNT OF SAMPLES IN THE ENTIRE DATA**"
   ]
  },
  {
   "cell_type": "code",
   "execution_count": 9,
   "metadata": {
    "colab": {
     "base_uri": "https://localhost:8080/",
     "height": 265
    },
    "colab_type": "code",
    "id": "wlbBGwUglS_n",
    "outputId": "28d94415-d949-4914-e726-8a28253d1f05"
   },
   "outputs": [
    {
     "data": {
      "image/png": "[encoded data removed]",
      "text/plain": [
       "<Figure size 432x288 with 1 Axes>"
      ]
     },
     "metadata": {
      "needs_background": "light"
     },
     "output_type": "display_data"
    }
   ],
   "source": [
    "total_data['Label'].value_counts().plot(kind='bar')\n",
    "plt.grid()\n",
    "plt.xticks([0,1],[\"Opinions(0)\",\"Facts(1)\"],rotation=360)\n",
    "plt.ylabel(\"Count of Samples\")\n",
    "plt.show()"
   ]
  },
  {
   "cell_type": "markdown",
   "metadata": {
    "colab_type": "text",
    "id": "LJRLRsVVhS80"
   },
   "source": [
    "## **DATA PREPROCESSING**\n"
   ]
  },
  {
   "cell_type": "code",
   "execution_count": 10,
   "metadata": {
    "colab": {},
    "colab_type": "code",
    "id": "7d4RaaRcfli7"
   },
   "outputs": [],
   "source": [
    "def preproc(data):\n",
    "  stopword=\"\"\n",
    "  cleantext = \" \"\n",
    "  stopword = set(stopwords.words('english'))\n",
    "  for i in word_tokenize(data):\n",
    "    if(any(j.isdigit() for j in i)): ## checking if the word has any numerics...\n",
    "      continue\n",
    "    i=i.lower()\n",
    "    if (i not in stopword) and (len(i)>2):\n",
    "      pattern1 = '[!.?$\\[\\]/\\}#=<>\"\\*:,|_~;()^\\']'\n",
    "      pattern2 = '[\\n\\n]+'\n",
    "      pattern3 = '[\\ \\ ]+'\n",
    "      wout_sc = re.sub(pattern1,'',i) #removing special characters\n",
    "      wout_el = re.sub(pattern2,'\\n',wout_sc) # removing empty lines (which are greater than 2)\n",
    "      wout_mspaces = re.sub(pattern3,' ',wout_el) # removing multiple spaces\n",
    "      cleaned_text = wout_mspaces.strip()\n",
    "      cleaned_text=lemmatizer.lemmatize(cleaned_text)\n",
    "      if (i not in stopword) and (len(i)>2):\n",
    "        cleantext = cleantext+cleaned_text+\" \"\n",
    "  return cleantext.strip()"
   ]
  },
  {
   "cell_type": "code",
   "execution_count": 11,
   "metadata": {},
   "outputs": [
    {
     "name": "stderr",
     "output_type": "stream",
     "text": [
      "[nltk_data] Downloading package omw-1.4 to\n",
      "[nltk_data]     C:\\Users\\rachel\\AppData\\Roaming\\nltk_data...\n",
      "[nltk_data]   Package omw-1.4 is already up-to-date!\n"
     ]
    },
    {
     "data": {
      "text/plain": [
       "True"
      ]
     },
     "execution_count": 11,
     "metadata": {},
     "output_type": "execute_result"
    }
   ],
   "source": [
    "import nltk\n",
    "nltk.download('omw-1.4')"
   ]
  },
  {
   "cell_type": "code",
   "execution_count": 12,
   "metadata": {
    "colab": {
     "base_uri": "https://localhost:8080/",
     "height": 33
    },
    "colab_type": "code",
    "id": "yscZrOvel80N",
    "outputId": "75fadce6-01b0-48df-da38-5b09f7c67f69"
   },
   "outputs": [
    {
     "name": "stderr",
     "output_type": "stream",
     "text": [
      "100%|██████████| 1409/1409 [00:17<00:00, 81.36it/s] \n"
     ]
    }
   ],
   "source": [
    "for i in tqdm(range(len(total_data)),leave=True,position=0):\n",
    "  total_data.iloc[i,0] = preproc(total_data.iloc[i,0])"
   ]
  },
  {
   "cell_type": "markdown",
   "metadata": {
    "colab_type": "text",
    "id": "-1ikOjea1v6C"
   },
   "source": [
    "## **PREPROCESSED DATA PICKLED**"
   ]
  },
  {
   "cell_type": "code",
   "execution_count": 16,
   "metadata": {
    "colab": {},
    "colab_type": "code",
    "id": "qXq1jG0M1T1q"
   },
   "outputs": [],
   "source": [
    "pickle_out = open(\"./facts_opinions_USAv1.csv\",\"wb\")\n",
    "pickle.dump(total_data, pickle_out)"
   ]
  },
  {
   "cell_type": "code",
   "execution_count": 17,
   "metadata": {},
   "outputs": [
    {
     "data": {
      "text/plain": [
       "<function _pickle.dump(obj, file, protocol=None, *, fix_imports=True, buffer_callback=None)>"
      ]
     },
     "execution_count": 17,
     "metadata": {},
     "output_type": "execute_result"
    }
   ],
   "source": [
    "pickle.dump"
   ]
  },
  {
   "cell_type": "markdown",
   "metadata": {
    "colab_type": "text",
    "id": "vYsQ5pnf6_MS"
   },
   "source": [
    "## **LOADING THE PREPROCESSED DATA**"
   ]
  },
  {
   "cell_type": "code",
   "execution_count": 18,
   "metadata": {
    "colab": {},
    "colab_type": "code",
    "id": "QbkO5gwh6_qX"
   },
   "outputs": [],
   "source": [
    "pickle_in = open(\"./facts_opinions_USAv1.csv\",\"rb\")\n",
    "total_data = pickle.load(pickle_in)"
   ]
  },
  {
   "cell_type": "markdown",
   "metadata": {
    "colab_type": "text",
    "id": "udIXVlIXqjMI"
   },
   "source": [
    "## **DATA AFTER PRE-PROCESSING**"
   ]
  },
  {
   "cell_type": "code",
   "execution_count": 19,
   "metadata": {
    "colab": {
     "base_uri": "https://localhost:8080/",
     "height": 195
    },
    "colab_type": "code",
    "id": "zHdJIqJzrkZ1",
    "outputId": "7ea62223-a688-4ca6-cef5-274d94036604"
   },
   "outputs": [
    {
     "data": {
      "text/html": [
       "<div>\n",
       "<style scoped>\n",
       "    .dataframe tbody tr th:only-of-type {\n",
       "        vertical-align: middle;\n",
       "    }\n",
       "\n",
       "    .dataframe tbody tr th {\n",
       "        vertical-align: top;\n",
       "    }\n",
       "\n",
       "    .dataframe thead th {\n",
       "        text-align: right;\n",
       "    }\n",
       "</style>\n",
       "<table border=\"1\" class=\"dataframe\">\n",
       "  <thead>\n",
       "    <tr style=\"text-align: right;\">\n",
       "      <th></th>\n",
       "      <th>Text</th>\n",
       "      <th>Label</th>\n",
       "    </tr>\n",
       "  </thead>\n",
       "  <tbody>\n",
       "    <tr>\n",
       "      <th>0</th>\n",
       "      <td>want find way end racism try force people inje...</td>\n",
       "      <td>0</td>\n",
       "    </tr>\n",
       "    <tr>\n",
       "      <th>1</th>\n",
       "      <td>child almost died tetanus spent month hospital...</td>\n",
       "      <td>0</td>\n",
       "    </tr>\n",
       "    <tr>\n",
       "      <th>2</th>\n",
       "      <td>remember mr leblanc pressure provincial busine...</td>\n",
       "      <td>0</td>\n",
       "    </tr>\n",
       "    <tr>\n",
       "      <th>3</th>\n",
       "      <td>would expect case rise significantly course va...</td>\n",
       "      <td>0</td>\n",
       "    </tr>\n",
       "    <tr>\n",
       "      <th>4</th>\n",
       "      <td>depends whether vaccination status embedded co...</td>\n",
       "      <td>0</td>\n",
       "    </tr>\n",
       "  </tbody>\n",
       "</table>\n",
       "</div>"
      ],
      "text/plain": [
       "                                                Text  Label\n",
       "0  want find way end racism try force people inje...      0\n",
       "1  child almost died tetanus spent month hospital...      0\n",
       "2  remember mr leblanc pressure provincial busine...      0\n",
       "3  would expect case rise significantly course va...      0\n",
       "4  depends whether vaccination status embedded co...      0"
      ]
     },
     "execution_count": 19,
     "metadata": {},
     "output_type": "execute_result"
    }
   ],
   "source": [
    "total_data.head()"
   ]
  },
  {
   "cell_type": "markdown",
   "metadata": {
    "colab_type": "text",
    "id": "6YYY25xw77af"
   },
   "source": [
    "## **SEPERATING OUT TEXT AND CORRESPONDING LABELS**"
   ]
  },
  {
   "cell_type": "code",
   "execution_count": 20,
   "metadata": {
    "colab": {},
    "colab_type": "code",
    "id": "xPGbO2kg8AqY"
   },
   "outputs": [],
   "source": [
    "data_y = pd.DataFrame(data=total_data['Label'],columns=['Label'])\n",
    "data_x = total_data.drop(columns=\"Label\")"
   ]
  },
  {
   "cell_type": "code",
   "execution_count": 21,
   "metadata": {
    "colab": {
     "base_uri": "https://localhost:8080/",
     "height": 34
    },
    "colab_type": "code",
    "id": "zzJ6lpZp8oaJ",
    "outputId": "a4b2593b-9f14-4f8c-a0dc-838667fc5b9d"
   },
   "outputs": [
    {
     "data": {
      "text/plain": [
       "(Index(['Label'], dtype='object'), Index(['Text'], dtype='object'))"
      ]
     },
     "execution_count": 21,
     "metadata": {},
     "output_type": "execute_result"
    }
   ],
   "source": [
    "data_y.columns,data_x.columns"
   ]
  },
  {
   "cell_type": "markdown",
   "metadata": {
    "colab_type": "text",
    "id": "sNXy9Tqgq4Cz"
   },
   "source": [
    "## **PERFORMING TRAIN-CV-TEST SPLITS**"
   ]
  },
  {
   "cell_type": "code",
   "execution_count": 32,
   "metadata": {
    "colab": {
     "base_uri": "https://localhost:8080/",
     "height": 118
    },
    "colab_type": "code",
    "id": "813irARBq_mc",
    "outputId": "65edd87f-ea65-4e35-96a1-d9e0aa1a2bc9"
   },
   "outputs": [
    {
     "name": "stdout",
     "output_type": "stream",
     "text": [
      "Shape of X_Train:: (901, 1)\n",
      "Shape of X_Cv:: (226, 1)\n",
      "Shape of X_Test:: (282, 1)\n",
      "Shape of Y_Train:: (901, 1)\n",
      "Shape of Y_Cv:: (226, 1)\n",
      "Shape of Y_Test:: (282, 1)\n"
     ]
    }
   ],
   "source": [
    "x_train,x_test,y_train,y_test = train_test_split(data_x,data_y,train_size=0.8,random_state=1)\n",
    "x_train,x_cv,y_train,y_cv = train_test_split(x_train,y_train,train_size=0.8,random_state=1)\n",
    "print(\"Shape of X_Train::\",x_train.shape)\n",
    "print(\"Shape of X_Cv::\",x_cv.shape)\n",
    "print(\"Shape of X_Test::\",x_test.shape)\n",
    "print(\"Shape of Y_Train::\",y_train.shape)\n",
    "print(\"Shape of Y_Cv::\",y_cv.shape)\n",
    "print(\"Shape of Y_Test::\",y_test.shape)"
   ]
  },
  {
   "cell_type": "markdown",
   "metadata": {
    "colab_type": "text",
    "id": "JHgmQA-cMnq1"
   },
   "source": [
    "## **WRITING TEST DATA INTO CSV FOR VERIFICATION DURING DEPLOYMENT**"
   ]
  },
  {
   "cell_type": "code",
   "execution_count": 33,
   "metadata": {
    "colab": {},
    "colab_type": "code",
    "id": "4-_wMFSwMHE2"
   },
   "outputs": [],
   "source": [
    "x_test.to_csv(\"./x_testUSA.csv\",index=False)\n",
    "y_test.to_csv(\"./y_testUSA.csv\",index=False)"
   ]
  },
  {
   "cell_type": "markdown",
   "metadata": {
    "colab_type": "text",
    "id": "VIq2eiXL-w7Z"
   },
   "source": [
    "## **CLASS-WISE COUNT OF SAMPLES IN TRAINING DATA**"
   ]
  },
  {
   "cell_type": "code",
   "execution_count": 34,
   "metadata": {
    "colab": {
     "base_uri": "https://localhost:8080/",
     "height": 265
    },
    "colab_type": "code",
    "id": "OSZ9GA2V-I1M",
    "outputId": "db7406b2-86d2-41c5-ac01-ea2041ac950b"
   },
   "outputs": [
    {
     "data": {
      "image/png": "[encoded data removed]",
      "text/plain": [
       "<Figure size 432x288 with 1 Axes>"
      ]
     },
     "metadata": {
      "needs_background": "light"
     },
     "output_type": "display_data"
    }
   ],
   "source": [
    "y_train['Label'].value_counts().plot(kind='bar')\n",
    "plt.grid()\n",
    "plt.xticks([0,1],[\"Opinions(0)\",\"Facts(1)\"],rotation=360)\n",
    "plt.ylabel(\"Count of Samples\")\n",
    "plt.show()\n",
    "plt.show()"
   ]
  },
  {
   "cell_type": "markdown",
   "metadata": {
    "colab_type": "text",
    "id": "9OnLofPq_AZH"
   },
   "source": [
    "## **CLASS-WISE COUNT OF SAMPLES IN CV DATA**"
   ]
  },
  {
   "cell_type": "code",
   "execution_count": 35,
   "metadata": {
    "colab": {
     "base_uri": "https://localhost:8080/",
     "height": 265
    },
    "colab_type": "code",
    "id": "pc0o9FTU-Q-n",
    "outputId": "10215865-aabb-4073-a8da-625e3dffbc83"
   },
   "outputs": [
    {
     "data": {
      "image/png": "[encoded data removed]",
      "text/plain": [
       "<Figure size 432x288 with 1 Axes>"
      ]
     },
     "metadata": {
      "needs_background": "light"
     },
     "output_type": "display_data"
    }
   ],
   "source": [
    "y_cv['Label'].value_counts().plot(kind='bar')\n",
    "plt.grid()\n",
    "plt.xticks([0,1],[\"Opinions(0)\",\"Facts(1)\"],rotation=360)\n",
    "plt.ylabel(\"Count of Samples\")\n",
    "plt.show()\n",
    "plt.show()"
   ]
  },
  {
   "cell_type": "markdown",
   "metadata": {
    "colab_type": "text",
    "id": "w9gIDxoF-5Qj"
   },
   "source": [
    "## **CLASS-WISE COUNT OF SAMPLES IN TEST DATA**"
   ]
  },
  {
   "cell_type": "code",
   "execution_count": 36,
   "metadata": {
    "colab": {
     "base_uri": "https://localhost:8080/",
     "height": 265
    },
    "colab_type": "code",
    "id": "GVyVNjY6-5gf",
    "outputId": "43d7978a-0ac5-40c2-fdf4-21ecb5ada6ae"
   },
   "outputs": [
    {
     "data": {
      "image/png": "[encoded data removed]",
      "text/plain": [
       "<Figure size 432x288 with 1 Axes>"
      ]
     },
     "metadata": {
      "needs_background": "light"
     },
     "output_type": "display_data"
    }
   ],
   "source": [
    "y_test['Label'].value_counts().plot(kind='bar')\n",
    "plt.grid()\n",
    "plt.xticks([0,1],[\"Opinions(0)\",\"Facts(1)\"],rotation=360)\n",
    "plt.ylabel(\"Count of Samples\")\n",
    "plt.show()\n",
    "plt.show()"
   ]
  },
  {
   "cell_type": "markdown",
   "metadata": {
    "colab_type": "text",
    "id": "vGNtonLFDQkf"
   },
   "source": [
    "## **MAXIMUM LENGTH OF THE TEXT IN TRAINING DATA**"
   ]
  },
  {
   "cell_type": "code",
   "execution_count": 37,
   "metadata": {
    "colab": {
     "base_uri": "https://localhost:8080/",
     "height": 34
    },
    "colab_type": "code",
    "id": "Hbq-aFVqA-1z",
    "outputId": "d5ec4eb3-28ef-4efd-ac6c-ae765a50fca1"
   },
   "outputs": [
    {
     "name": "stdout",
     "output_type": "stream",
     "text": [
      "Maximum length of sentence:: 35\n"
     ]
    }
   ],
   "source": [
    "max_len=0\n",
    "l=[]\n",
    "index=[]\n",
    "for i in range(len(x_train)):\n",
    "  cur_len = len(x_train.iloc[i,0].split())\n",
    "  if(cur_len>max_len):\n",
    "    max_len=cur_len\n",
    "print(\"Maximum length of sentence::\",max_len)"
   ]
  },
  {
   "cell_type": "markdown",
   "metadata": {
    "colab_type": "text",
    "id": "JrLDLjiaRkkt"
   },
   "source": [
    "## **GENEARTING VOCABULARY FROM TRAINING DATA**"
   ]
  },
  {
   "cell_type": "code",
   "execution_count": 38,
   "metadata": {
    "colab": {
     "base_uri": "https://localhost:8080/",
     "height": 34
    },
    "colab_type": "code",
    "id": "3AepD9krR0Qf",
    "outputId": "10174484-5005-41b0-f302-a2e8d2f8e9c4"
   },
   "outputs": [
    {
     "name": "stderr",
     "output_type": "stream",
     "text": [
      "100%|██████████| 901/901 [00:00<00:00, 50186.82it/s]\n"
     ]
    }
   ],
   "source": [
    "vocab={}\n",
    "for i in tqdm(x_train['Text'],position=0,leave=True):\n",
    "  for j in i.split():\n",
    "    if j not in vocab:\n",
    "      vocab[j]=1\n",
    "    else:\n",
    "      vocab[j]+=1\n",
    "vocab = sorted(vocab, key=vocab.get, reverse=True)"
   ]
  },
  {
   "cell_type": "markdown",
   "metadata": {
    "colab_type": "text",
    "id": "JWK-oAbe_rKR"
   },
   "source": [
    "## **VECTORIZING THE DATA**"
   ]
  },
  {
   "cell_type": "code",
   "execution_count": 39,
   "metadata": {
    "colab": {},
    "colab_type": "code",
    "id": "0XTV1g1-_u_1"
   },
   "outputs": [],
   "source": [
    "def vectorize(data,vocab):\n",
    "  print(\"\\nGenerating Vectors......\")\n",
    "  max_seq_len=1400\n",
    "  row=0\n",
    "  ## converting sequence to vector...\n",
    "  new_data = pd.DataFrame(columns=[\"Text\"])\n",
    "  for i in tqdm(data['Text'],position=0,leave=True):\n",
    "    sent=[]\n",
    "    for j in i.split():\n",
    "      try:\n",
    "        sent.append((vocab.index(j))+1)\n",
    "      except:\n",
    "        continue\n",
    "    new_data.loc[row] = [sent]\n",
    "    row+=1\n",
    "  new_data = sequence.pad_sequences(new_data['Text'], maxlen=max_seq_len)\n",
    "  return new_data ## if its CV/TEST data we return the numerical vectors computed w.r.t training vocab"
   ]
  },
  {
   "cell_type": "code",
   "execution_count": 40,
   "metadata": {
    "colab": {
     "base_uri": "https://localhost:8080/",
     "height": 168
    },
    "colab_type": "code",
    "id": "FVZd4xMBAAk1",
    "outputId": "25d698c0-6ba0-4728-aded-9718aa1842b5"
   },
   "outputs": [
    {
     "name": "stdout",
     "output_type": "stream",
     "text": [
      "\n",
      "Generating Vectors......\n"
     ]
    },
    {
     "name": "stderr",
     "output_type": "stream",
     "text": [
      "100%|██████████| 901/901 [00:06<00:00, 142.92it/s]\n"
     ]
    },
    {
     "name": "stdout",
     "output_type": "stream",
     "text": [
      "\n",
      "Generating Vectors......\n"
     ]
    },
    {
     "name": "stderr",
     "output_type": "stream",
     "text": [
      "100%|██████████| 226/226 [00:01<00:00, 144.48it/s]\n"
     ]
    },
    {
     "name": "stdout",
     "output_type": "stream",
     "text": [
      "\n",
      "Generating Vectors......\n"
     ]
    },
    {
     "name": "stderr",
     "output_type": "stream",
     "text": [
      "100%|██████████| 282/282 [00:02<00:00, 108.38it/s]\n"
     ]
    }
   ],
   "source": [
    "x_train_vec = vectorize(x_train,vocab)\n",
    "x_cv_vec = vectorize(x_cv,vocab)\n",
    "x_test_vec = vectorize(x_test,vocab)"
   ]
  },
  {
   "cell_type": "markdown",
   "metadata": {
    "colab_type": "text",
    "id": "IY0_HjPz_j_S"
   },
   "source": [
    "## **THE LSTM ARCHITECTURE**"
   ]
  },
  {
   "cell_type": "code",
   "execution_count": 41,
   "metadata": {
    "colab": {
     "base_uri": "https://localhost:8080/",
     "height": 235
    },
    "colab_type": "code",
    "id": "HEC95JIn-9Ou",
    "outputId": "e51b2802-606d-47f6-9291-63b9c2028cfe"
   },
   "outputs": [
    {
     "name": "stdout",
     "output_type": "stream",
     "text": [
      "Epoch 1/20\n",
      "1/1 [==============================] - 52s 52s/step - loss: 0.6930 - acc: 0.5294 - val_loss: 0.6706 - val_acc: 0.7876\n",
      "\n",
      "Epoch 00001: val_loss improved from inf to 0.67062, saving model to ./saved models\\model-001-0.529412-0.787611.h5\n",
      "Epoch 2/20\n",
      "1/1 [==============================] - 37s 37s/step - loss: 0.6731 - acc: 0.7325 - val_loss: 0.6346 - val_acc: 0.7876\n",
      "\n",
      "Epoch 00002: val_loss improved from 0.67062 to 0.63460, saving model to ./saved models\\model-002-0.732519-0.787611.h5\n",
      "Epoch 3/20\n",
      "1/1 [==============================] - 35s 35s/step - loss: 0.6404 - acc: 0.7325 - val_loss: 0.5758 - val_acc: 0.7876\n",
      "\n",
      "Epoch 00003: val_loss improved from 0.63460 to 0.57583, saving model to ./saved models\\model-003-0.732519-0.787611.h5\n",
      "Epoch 4/20\n",
      "1/1 [==============================] - 25s 25s/step - loss: 0.5882 - acc: 0.7325 - val_loss: 0.5207 - val_acc: 0.7876\n",
      "\n",
      "Epoch 00004: val_loss improved from 0.57583 to 0.52067, saving model to ./saved models\\model-004-0.732519-0.787611.h5\n",
      "Epoch 5/20\n",
      "1/1 [==============================] - 27s 27s/step - loss: 0.5494 - acc: 0.7325 - val_loss: 0.5070 - val_acc: 0.7876\n",
      "\n",
      "Epoch 00005: val_loss improved from 0.52067 to 0.50700, saving model to ./saved models\\model-005-0.732519-0.787611.h5\n",
      "Epoch 6/20\n",
      "1/1 [==============================] - 37s 37s/step - loss: 0.5496 - acc: 0.7325 - val_loss: 0.4964 - val_acc: 0.7876\n",
      "\n",
      "Epoch 00006: val_loss improved from 0.50700 to 0.49643, saving model to ./saved models\\model-006-0.732519-0.787611.h5\n",
      "Epoch 7/20\n",
      "1/1 [==============================] - 38s 38s/step - loss: 0.5224 - acc: 0.7325 - val_loss: 0.4828 - val_acc: 0.7876\n",
      "\n",
      "Epoch 00007: val_loss improved from 0.49643 to 0.48278, saving model to ./saved models\\model-007-0.732519-0.787611.h5\n",
      "Epoch 8/20\n",
      "1/1 [==============================] - 42s 42s/step - loss: 0.4769 - acc: 0.7325 - val_loss: 0.4726 - val_acc: 0.7965\n",
      "\n",
      "Epoch 00008: val_loss improved from 0.48278 to 0.47257, saving model to ./saved models\\model-008-0.732519-0.796460.h5\n",
      "Epoch 9/20\n",
      "1/1 [==============================] - 32s 32s/step - loss: 0.4331 - acc: 0.7503 - val_loss: 0.4625 - val_acc: 0.7965\n",
      "\n",
      "Epoch 00009: val_loss improved from 0.47257 to 0.46255, saving model to ./saved models\\model-009-0.750277-0.796460.h5\n",
      "Epoch 10/20\n",
      "1/1 [==============================] - 30s 30s/step - loss: 0.3938 - acc: 0.8069 - val_loss: 0.4473 - val_acc: 0.7965\n",
      "\n",
      "Epoch 00010: val_loss improved from 0.46255 to 0.44731, saving model to ./saved models\\model-010-0.806881-0.796460.h5\n",
      "Epoch 11/20\n",
      "1/1 [==============================] - 39s 39s/step - loss: 0.3526 - acc: 0.8735 - val_loss: 0.4260 - val_acc: 0.8142\n",
      "\n",
      "Epoch 00011: val_loss improved from 0.44731 to 0.42596, saving model to ./saved models\\model-011-0.873474-0.814159.h5\n",
      "Epoch 12/20\n",
      "1/1 [==============================] - 42s 42s/step - loss: 0.3080 - acc: 0.9156 - val_loss: 0.4029 - val_acc: 0.8097\n",
      "\n",
      "Epoch 00012: val_loss improved from 0.42596 to 0.40294, saving model to ./saved models\\model-012-0.915649-0.809735.h5\n",
      "Epoch 13/20\n",
      "1/1 [==============================] - 36s 36s/step - loss: 0.2649 - acc: 0.9378 - val_loss: 0.3846 - val_acc: 0.8097\n",
      "\n",
      "Epoch 00013: val_loss improved from 0.40294 to 0.38458, saving model to ./saved models\\model-013-0.937847-0.809735.h5\n",
      "Epoch 14/20\n",
      "1/1 [==============================] - 30s 30s/step - loss: 0.2289 - acc: 0.9556 - val_loss: 0.3735 - val_acc: 0.8186\n",
      "\n",
      "Epoch 00014: val_loss improved from 0.38458 to 0.37350, saving model to ./saved models\\model-014-0.955605-0.818584.h5\n",
      "Epoch 15/20\n",
      "1/1 [==============================] - 26s 26s/step - loss: 0.2010 - acc: 0.9634 - val_loss: 0.3686 - val_acc: 0.8142\n",
      "\n",
      "Epoch 00015: val_loss improved from 0.37350 to 0.36855, saving model to ./saved models\\model-015-0.963374-0.814159.h5\n",
      "Epoch 16/20\n",
      "1/1 [==============================] - 40s 40s/step - loss: 0.1791 - acc: 0.9711 - val_loss: 0.3677 - val_acc: 0.8186\n",
      "\n",
      "Epoch 00016: val_loss improved from 0.36855 to 0.36771, saving model to ./saved models\\model-016-0.971143-0.818584.h5\n",
      "Epoch 17/20\n",
      "1/1 [==============================] - 38s 38s/step - loss: 0.1608 - acc: 0.9734 - val_loss: 0.3694 - val_acc: 0.8053\n",
      "\n",
      "Epoch 00017: val_loss did not improve from 0.36771\n",
      "Epoch 18/20\n",
      "1/1 [==============================] - 52s 52s/step - loss: 0.1451 - acc: 0.9789 - val_loss: 0.3723 - val_acc: 0.8053\n",
      "\n",
      "Epoch 00018: val_loss did not improve from 0.36771\n",
      "Epoch 19/20\n",
      "1/1 [==============================] - 38s 38s/step - loss: 0.1317 - acc: 0.9845 - val_loss: 0.3759 - val_acc: 0.8053\n",
      "\n",
      "Epoch 00019: val_loss did not improve from 0.36771\n",
      "Epoch 20/20\n",
      "1/1 [==============================] - 3s 3s/step - loss: 0.1201 - acc: 0.9878 - val_loss: 0.3798 - val_acc: 0.8009\n",
      "\n",
      "Epoch 00020: val_loss did not improve from 0.36771\n"
     ]
    }
   ],
   "source": [
    "from keras.utils import np_utils\n",
    "from tensorflow.keras import models\n",
    "import tensorflow as tf\n",
    "lstm_model = Sequential()\n",
    "lstm_model.add(Embedding(1+len(vocab),20,input_length=1400)) #taking whole length of vocab\n",
    "lstm_model.add(LSTM(20))\n",
    "lstm_model.add(Dense(2, activation='softmax'))\n",
    "checkpoint = ModelCheckpoint('./saved models/model-{epoch:03d}-{acc:03f}-{val_acc:03f}.h5', verbose=1, monitor='val_loss',save_best_only=True, mode='auto')  \n",
    "lstm_model.compile(loss='binary_crossentropy', optimizer=tf.keras.optimizers.Adam(0.01), metrics=['acc'])\n",
    "values=lstm_model.fit(x_train_vec,keras.utils.np_utils.to_categorical(y_train,num_classes=2),epochs=20,batch_size=1000,validation_data=(x_cv_vec,keras.utils.np_utils.to_categorical(y_cv,num_classes=2)),callbacks=[checkpoint])"
   ]
  },
  {
   "cell_type": "code",
   "execution_count": 42,
   "metadata": {},
   "outputs": [],
   "source": [
    "# pip install tensorflow --upgrade --force-reinstall"
   ]
  },
  {
   "cell_type": "markdown",
   "metadata": {
    "colab_type": "text",
    "id": "s1PZ5t-beC-c"
   },
   "source": [
    "## **EPOCHS V/S LOSS**"
   ]
  },
  {
   "cell_type": "code",
   "execution_count": 43,
   "metadata": {
    "colab": {
     "base_uri": "https://localhost:8080/",
     "height": 283
    },
    "colab_type": "code",
    "id": "YIQBW-2EeDoE",
    "outputId": "3e842a31-a576-499d-e577-7fdf68118f47"
   },
   "outputs": [
    {
     "data": {
      "image/png": "[encoded data removed]",
      "text/plain": [
       "<Figure size 432x288 with 1 Axes>"
      ]
     },
     "metadata": {
      "needs_background": "light"
     },
     "output_type": "display_data"
    }
   ],
   "source": [
    "plt.plot(values.history['loss'],label = \"Training Loss\")\n",
    "plt.plot(values.history['val_loss'],label = \"Cross Validation Loss\")\n",
    "plt.ylim([0,1])\n",
    "plt.xlabel(\"Epochs\")\n",
    "plt.ylabel(\"Loss\")\n",
    "plt.grid()\n",
    "plt.legend()\n",
    "plt.show()"
   ]
  },
  {
   "cell_type": "markdown",
   "metadata": {
    "colab_type": "text",
    "id": "YgUFqEDDeB0T"
   },
   "source": [
    "## **EPOCHS V/S ACCURACY**"
   ]
  },
  {
   "cell_type": "code",
   "execution_count": 44,
   "metadata": {
    "colab": {
     "base_uri": "https://localhost:8080/",
     "height": 279
    },
    "colab_type": "code",
    "id": "yfeE9IDDeCQM",
    "outputId": "784867b5-c638-496e-a56d-b1671e9a6b1d"
   },
   "outputs": [
    {
     "data": {
      "image/png": "[encoded data removed]",
      "text/plain": [
       "<Figure size 432x288 with 1 Axes>"
      ]
     },
     "metadata": {
      "needs_background": "light"
     },
     "output_type": "display_data"
    }
   ],
   "source": [
    "plt.plot(values.history['acc'],label = \"Training Accuracy\")\n",
    "plt.plot(values.history['val_acc'],label = \"Cross Validation Accuracy\")\n",
    "plt.xlabel(\"Epochs\")\n",
    "plt.ylabel(\"Accuracy\")\n",
    "plt.ylim([0,1])\n",
    "plt.grid()\n",
    "plt.legend()\n",
    "plt.show()"
   ]
  },
  {
   "cell_type": "markdown",
   "metadata": {
    "colab_type": "text",
    "id": "p2jqEGqQd18h"
   },
   "source": [
    "## **PERFORMANCE ON TEST DATA**"
   ]
  },
  {
   "cell_type": "markdown",
   "metadata": {
    "colab_type": "text",
    "id": "7BRxJxEopw6t"
   },
   "source": [
    "#### **CONFUSION MATRIX ON TEST DATA**"
   ]
  },
  {
   "cell_type": "code",
   "execution_count": 45,
   "metadata": {
    "colab": {
     "base_uri": "https://localhost:8080/",
     "height": 136
    },
    "colab_type": "code",
    "id": "nxwMHz_NJv9z",
    "outputId": "9aa1afdb-6a7c-418d-8285-886a3df90961"
   },
   "outputs": [
    {
     "data": {
      "text/html": [
       "<div>\n",
       "<style scoped>\n",
       "    .dataframe tbody tr th:only-of-type {\n",
       "        vertical-align: middle;\n",
       "    }\n",
       "\n",
       "    .dataframe tbody tr th {\n",
       "        vertical-align: top;\n",
       "    }\n",
       "\n",
       "    .dataframe thead th {\n",
       "        text-align: right;\n",
       "    }\n",
       "</style>\n",
       "<table border=\"1\" class=\"dataframe\">\n",
       "  <thead>\n",
       "    <tr style=\"text-align: right;\">\n",
       "      <th></th>\n",
       "      <th>Opinions</th>\n",
       "      <th>Facts</th>\n",
       "    </tr>\n",
       "    <tr>\n",
       "      <th>True labels</th>\n",
       "      <th></th>\n",
       "      <th></th>\n",
       "    </tr>\n",
       "  </thead>\n",
       "  <tbody>\n",
       "    <tr>\n",
       "      <th>Opinions</th>\n",
       "      <td>197</td>\n",
       "      <td>20</td>\n",
       "    </tr>\n",
       "    <tr>\n",
       "      <th>Facts</th>\n",
       "      <td>23</td>\n",
       "      <td>42</td>\n",
       "    </tr>\n",
       "  </tbody>\n",
       "</table>\n",
       "</div>"
      ],
      "text/plain": [
       "             Opinions  Facts\n",
       "True labels                 \n",
       "Opinions          197     20\n",
       "Facts              23     42"
      ]
     },
     "metadata": {},
     "output_type": "display_data"
    }
   ],
   "source": [
    "from sklearn.metrics import confusion_matrix\n",
    "from IPython.display import display\n",
    "classes=[\"Opinions\",\"Facts\"]\n",
    "y_pred = np.argmax(lstm_model.predict(x_test_vec), axis=-1)\n",
    "# y_pred = lstm_model.predict(x_test_vec)\n",
    "conf_df = pd.DataFrame(confusion_matrix(y_test,y_pred),columns=classes,index=classes)\n",
    "conf_df.index.name = 'True labels'\n",
    "display(conf_df)"
   ]
  },
  {
   "cell_type": "markdown",
   "metadata": {
    "colab_type": "text",
    "id": "qEaK2vOIp4f4"
   },
   "source": [
    "#### **ACCURACY ON TEST DATA**"
   ]
  },
  {
   "cell_type": "code",
   "execution_count": 46,
   "metadata": {
    "colab": {
     "base_uri": "https://localhost:8080/",
     "height": 34
    },
    "colab_type": "code",
    "id": "p7aOFBkzp73k",
    "outputId": "9a28be7b-740a-482e-e549-9285f4eb053f"
   },
   "outputs": [
    {
     "name": "stdout",
     "output_type": "stream",
     "text": [
      "Accuracy on Test Data:: 84.7517730496454\n"
     ]
    }
   ],
   "source": [
    "numer = conf_df.iloc[0,0]+conf_df.iloc[1,1]\n",
    "denom = conf_df.iloc[0,0]+conf_df.iloc[0,1]+conf_df.iloc[1,0]+conf_df.iloc[1,1]\n",
    "print(\"Accuracy on Test Data::\",100*numer/denom)"
   ]
  },
  {
   "cell_type": "code",
   "execution_count": 47,
   "metadata": {},
   "outputs": [
    {
     "name": "stdout",
     "output_type": "stream",
     "text": [
      "\n"
     ]
    }
   ],
   "source": [
    "print()"
   ]
  },
  {
   "cell_type": "code",
   "execution_count": 48,
   "metadata": {},
   "outputs": [
    {
     "name": "stdout",
     "output_type": "stream",
     "text": [
      "Accuracy =84.75%\n",
      "F1 score =84.62%\n",
      "Precision score =78.64%\n",
      "Recall score =77.70%\n"
     ]
    }
   ],
   "source": [
    "from sklearn.metrics import *\n",
    "print(\"Accuracy ={:.2f}%\".format(accuracy_score(y_test, y_pred)*100))\n",
    "print(\"F1 score ={:.2f}%\".format(f1_score(y_test, y_pred, average=\"weighted\")*100))\n",
    "print(\"Precision score ={:.2f}%\".format(precision_score(y_test, y_pred, average=\"macro\")*100))\n",
    "print(\"Recall score ={:.2f}%\".format(recall_score(y_test, y_pred, average=\"macro\")*100))"
   ]
  },
  {
   "cell_type": "markdown",
   "metadata": {
    "colab_type": "text",
    "id": "gz7x_WurAs-x"
   },
   "source": [
    "## **VOCABULARY WRITTEN TO A PICKLE FILE**"
   ]
  },
  {
   "cell_type": "code",
   "execution_count": null,
   "metadata": {
    "colab": {},
    "colab_type": "code",
    "id": "4VT-H_kb6Ibb"
   },
   "outputs": [],
   "source": [
    "#pickle_out = open(\"/content/drive/My Drive/IR_PROJECT/vocab\",\"wb\")\n",
    "#pickle.dump(vocab, pickle_out)"
   ]
  },
  {
   "cell_type": "code",
   "execution_count": null,
   "metadata": {
    "colab": {},
    "colab_type": "code",
    "id": "e_6Y9d1L6ZTF"
   },
   "outputs": [],
   "source": [
    "pickle_in = open(\"/content/drive/My Drive/IR_PROJECT/vocab\",\"rb\")\n",
    "vocab2 = pickle.load(pickle_in)"
   ]
  },
  {
   "cell_type": "markdown",
   "metadata": {
    "colab_type": "text",
    "id": "wruGVCigA1JI"
   },
   "source": [
    "## **SAVING THE MODEL**"
   ]
  },
  {
   "cell_type": "code",
   "execution_count": null,
   "metadata": {
    "colab": {},
    "colab_type": "code",
    "id": "iEw-uah9_51g"
   },
   "outputs": [],
   "source": [
    "#pickle_out = open(\"/content/drive/My Drive/IR_PROJECT/saved models/LSTM_model_2\",\"wb\")\n",
    "#pickle.dump(lstm_model, pickle_out)"
   ]
  },
  {
   "cell_type": "code",
   "execution_count": null,
   "metadata": {
    "colab": {},
    "colab_type": "code",
    "id": "YhbPV5eX_-Tm"
   },
   "outputs": [],
   "source": [
    "pickle_in = open(\"/content/drive/My Drive/IR_PROJECT/saved models/LSTM_model_2\",\"rb\")\n",
    "lstmtest = pickle.load(pickle_in)"
   ]
  }
 ],
 "metadata": {
  "colab": {
   "name": "OPINION-FACT CLASSIFICATION-IR Project - LSTM.ipynb",
   "provenance": []
  },
  "kernelspec": {
   "display_name": "Python 3 (ipykernel)",
   "language": "python",
   "name": "python3"
  },
  "language_info": {
   "codemirror_mode": {
    "name": "ipython",
    "version": 3
   },
   "file_extension": ".py",
   "mimetype": "text/x-python",
   "name": "python",
   "nbconvert_exporter": "python",
   "pygments_lexer": "ipython3",
   "version": "3.9.7"
  }
 },
 "nbformat": 4,
 "nbformat_minor": 1
}
