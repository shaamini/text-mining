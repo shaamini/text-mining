{
 "cells": [
  {
   "cell_type": "markdown",
   "metadata": {
    "colab_type": "text",
    "id": "6rcYCu-4eYVi"
   },
   "source": [
    "## **IMPORTING REQUIRED MODULES**"
   ]
  },
  {
   "cell_type": "code",
   "execution_count": 1,
   "metadata": {
    "colab": {
     "base_uri": "https://localhost:8080/",
     "height": 218
    },
    "colab_type": "code",
    "id": "w-B27WfoMWhK",
    "outputId": "5f9a6f6e-4155-495f-c80d-5fd954c390af"
   },
   "outputs": [
    {
     "name": "stdout",
     "output_type": "stream",
     "text": [
      "Collecting keras-metrics\n",
      "  Using cached keras_metrics-1.1.0-py2.py3-none-any.whl (5.6 kB)\n",
      "Requirement already satisfied: Keras>=2.1.5 in c:\\users\\rachel\\anaconda3\\envs\\tf\\lib\\site-packages (from keras-metrics) (2.6.0)\n",
      "Installing collected packages: keras-metrics\n",
      "Successfully installed keras-metrics-1.1.0\n",
      "Note: you may need to restart the kernel to use updated packages.\n"
     ]
    }
   ],
   "source": [
    "pip install keras-metrics"
   ]
  },
  {
   "cell_type": "code",
   "execution_count": 2,
   "metadata": {
    "colab": {
     "base_uri": "https://localhost:8080/",
     "height": 252
    },
    "colab_type": "code",
    "id": "t3hI3tAHMeCj",
    "outputId": "c19a519e-42b2-4f43-f78d-ce1126c6c0b1"
   },
   "outputs": [
    {
     "name": "stdout",
     "output_type": "stream",
     "text": [
      "Collecting scikit-plot\n",
      "  Using cached scikit_plot-0.3.7-py3-none-any.whl (33 kB)\n",
      "Requirement already satisfied: scipy>=0.9 in c:\\users\\rachel\\anaconda3\\envs\\tf\\lib\\site-packages (from scikit-plot) (1.7.3)\n",
      "Collecting matplotlib>=1.4.0\n",
      "  Downloading matplotlib-3.5.1-cp39-cp39-win_amd64.whl (7.2 MB)\n",
      "Collecting joblib>=0.10\n",
      "  Downloading joblib-1.1.0-py2.py3-none-any.whl (306 kB)\n",
      "Collecting scikit-learn>=0.18\n",
      "  Downloading scikit_learn-1.0.2-cp39-cp39-win_amd64.whl (7.2 MB)\n",
      "Collecting fonttools>=4.22.0\n",
      "  Downloading fonttools-4.29.1-py3-none-any.whl (895 kB)\n",
      "Collecting cycler>=0.10\n",
      "  Downloading cycler-0.11.0-py3-none-any.whl (6.4 kB)\n",
      "Collecting pillow>=6.2.0\n",
      "  Downloading Pillow-9.0.1-cp39-cp39-win_amd64.whl (3.2 MB)\n",
      "Requirement already satisfied: python-dateutil>=2.7 in c:\\users\\rachel\\anaconda3\\envs\\tf\\lib\\site-packages (from matplotlib>=1.4.0->scikit-plot) (2.8.2)\n",
      "Requirement already satisfied: pyparsing>=2.2.1 in c:\\users\\rachel\\anaconda3\\envs\\tf\\lib\\site-packages (from matplotlib>=1.4.0->scikit-plot) (3.0.4)\n",
      "Requirement already satisfied: packaging>=20.0 in c:\\users\\rachel\\anaconda3\\envs\\tf\\lib\\site-packages (from matplotlib>=1.4.0->scikit-plot) (21.3)\n",
      "Requirement already satisfied: numpy>=1.17 in c:\\users\\rachel\\anaconda3\\envs\\tf\\lib\\site-packages (from matplotlib>=1.4.0->scikit-plot) (1.21.5)\n",
      "Collecting kiwisolver>=1.0.1\n",
      "  Downloading kiwisolver-1.3.2-cp39-cp39-win_amd64.whl (52 kB)\n",
      "Requirement already satisfied: six>=1.5 in c:\\users\\rachel\\anaconda3\\envs\\tf\\lib\\site-packages (from python-dateutil>=2.7->matplotlib>=1.4.0->scikit-plot) (1.16.0)\n",
      "Collecting threadpoolctl>=2.0.0\n",
      "  Downloading threadpoolctl-3.1.0-py3-none-any.whl (14 kB)\n",
      "Installing collected packages: threadpoolctl, pillow, kiwisolver, joblib, fonttools, cycler, scikit-learn, matplotlib, scikit-plot\n",
      "Successfully installed cycler-0.11.0 fonttools-4.29.1 joblib-1.1.0 kiwisolver-1.3.2 matplotlib-3.5.1 pillow-9.0.1 scikit-learn-1.0.2 scikit-plot-0.3.7 threadpoolctl-3.1.0\n",
      "Note: you may need to restart the kernel to use updated packages.\n"
     ]
    }
   ],
   "source": [
    "pip install scikit-plot"
   ]
  },
  {
   "cell_type": "code",
   "execution_count": 2,
   "metadata": {},
   "outputs": [
    {
     "name": "stdout",
     "output_type": "stream",
     "text": [
      "Collecting nltk\n",
      "  Downloading nltk-3.7-py3-none-any.whl (1.5 MB)\n",
      "Collecting regex>=2021.8.3\n",
      "  Downloading regex-2022.3.2-cp39-cp39-win_amd64.whl (274 kB)\n",
      "Requirement already satisfied: joblib in c:\\users\\rachel\\anaconda3\\envs\\tf\\lib\\site-packages (from nltk) (1.1.0)\n",
      "Collecting tqdm\n",
      "  Using cached tqdm-4.63.0-py2.py3-none-any.whl (76 kB)\n",
      "Requirement already satisfied: click in c:\\users\\rachel\\anaconda3\\envs\\tf\\lib\\site-packages (from nltk) (8.0.4)\n",
      "Requirement already satisfied: colorama in c:\\users\\rachel\\anaconda3\\envs\\tf\\lib\\site-packages (from click->nltk) (0.4.4)\n",
      "Installing collected packages: tqdm, regex, nltk\n",
      "Successfully installed nltk-3.7 regex-2022.3.2 tqdm-4.63.0\n",
      "Note: you may need to restart the kernel to use updated packages.\n"
     ]
    }
   ],
   "source": [
    "pip install nltk"
   ]
  },
  {
   "cell_type": "code",
   "execution_count": 1,
   "metadata": {
    "colab": {
     "base_uri": "https://localhost:8080/",
     "height": 134
    },
    "colab_type": "code",
    "id": "JMYf6jqOeN12",
    "outputId": "c05b9e80-ed9b-42d4-f0e1-1b095a44feb9"
   },
   "outputs": [
    {
     "name": "stderr",
     "output_type": "stream",
     "text": [
      "[nltk_data] Downloading package punkt to\n",
      "[nltk_data]     C:\\Users\\rachel\\AppData\\Roaming\\nltk_data...\n",
      "[nltk_data]   Package punkt is already up-to-date!\n",
      "[nltk_data] Downloading package stopwords to\n",
      "[nltk_data]     C:\\Users\\rachel\\AppData\\Roaming\\nltk_data...\n",
      "[nltk_data]   Package stopwords is already up-to-date!\n",
      "[nltk_data] Downloading package wordnet to\n",
      "[nltk_data]     C:\\Users\\rachel\\AppData\\Roaming\\nltk_data...\n",
      "[nltk_data]   Package wordnet is already up-to-date!\n"
     ]
    }
   ],
   "source": [
    "import pandas as pd\n",
    "import re\n",
    "import nltk\n",
    "nltk.download('punkt')\n",
    "from nltk.tokenize import word_tokenize\n",
    "from nltk.corpus import stopwords\n",
    "nltk.download('stopwords')\n",
    "nltk.download('wordnet')\n",
    "from nltk.stem import WordNetLemmatizer \n",
    "lemmatizer = WordNetLemmatizer() \n",
    "from tqdm import tqdm\n",
    "import pickle\n",
    "from collections import Counter\n",
    "import operator\n",
    "import matplotlib.pyplot as plt\n",
    "from sklearn.model_selection import train_test_split\n",
    "import numpy as np\n",
    "from sklearn.metrics import confusion_matrix\n",
    "from sklearn import metrics\n",
    "import warnings\n",
    "warnings.filterwarnings(\"ignore\")\n",
    "from keras.models import Sequential\n",
    "from keras.layers import Dense\n",
    "from keras.layers import LSTM\n",
    "from keras.layers.embeddings import Embedding\n",
    "from keras.preprocessing import sequence\n",
    "from keras.layers import Dropout\n",
    "from IPython.display import display\n",
    "import keras_metrics\n",
    "import keras\n",
    "import matplotlib.pyplot as plt\n",
    "from keras.models import load_model\n",
    "from keras.callbacks import ModelCheckpoint, EarlyStopping\n",
    "import scikitplot as skplt\n",
    "from keras.layers import Dense, Dropout, Embedding, LSTM, Bidirectional"
   ]
  },
  {
   "cell_type": "markdown",
   "metadata": {
    "colab_type": "text",
    "id": "MLpfVavJed_K"
   },
   "source": [
    "## **READING THE DATA**"
   ]
  },
  {
   "cell_type": "code",
   "execution_count": 2,
   "metadata": {
    "colab": {
     "base_uri": "https://localhost:8080/",
     "height": 196
    },
    "colab_type": "code",
    "id": "imJUcTb1eeVL",
    "outputId": "9af7cb46-6731-4a6a-f16a-de085f51fe84"
   },
   "outputs": [
    {
     "data": {
      "text/html": [
       "<div>\n",
       "<style scoped>\n",
       "    .dataframe tbody tr th:only-of-type {\n",
       "        vertical-align: middle;\n",
       "    }\n",
       "\n",
       "    .dataframe tbody tr th {\n",
       "        vertical-align: top;\n",
       "    }\n",
       "\n",
       "    .dataframe thead th {\n",
       "        text-align: right;\n",
       "    }\n",
       "</style>\n",
       "<table border=\"1\" class=\"dataframe\">\n",
       "  <thead>\n",
       "    <tr style=\"text-align: right;\">\n",
       "      <th></th>\n",
       "      <th>Text</th>\n",
       "      <th>Label</th>\n",
       "    </tr>\n",
       "  </thead>\n",
       "  <tbody>\n",
       "    <tr>\n",
       "      <th>0</th>\n",
       "      <td>want find way end racism try force people inje...</td>\n",
       "      <td>0</td>\n",
       "    </tr>\n",
       "    <tr>\n",
       "      <th>1</th>\n",
       "      <td>this child almost died tetanus, spent months h...</td>\n",
       "      <td>1</td>\n",
       "    </tr>\n",
       "    <tr>\n",
       "      <th>2</th>\n",
       "      <td>just remember mr. leblanc the pressure that th...</td>\n",
       "      <td>0</td>\n",
       "    </tr>\n",
       "    <tr>\n",
       "      <th>3</th>\n",
       "      <td>you would expect cases rise significantly, cou...</td>\n",
       "      <td>0</td>\n",
       "    </tr>\n",
       "    <tr>\n",
       "      <th>4</th>\n",
       "      <td>depends whether vaccination status is embedded...</td>\n",
       "      <td>0</td>\n",
       "    </tr>\n",
       "  </tbody>\n",
       "</table>\n",
       "</div>"
      ],
      "text/plain": [
       "                                                Text  Label\n",
       "0  want find way end racism try force people inje...      0\n",
       "1  this child almost died tetanus, spent months h...      1\n",
       "2  just remember mr. leblanc the pressure that th...      0\n",
       "3  you would expect cases rise significantly, cou...      0\n",
       "4  depends whether vaccination status is embedded...      0"
      ]
     },
     "execution_count": 2,
     "metadata": {},
     "output_type": "execute_result"
    }
   ],
   "source": [
    "total_data = pd.read_csv(\"./sample_USA_subjectivity.csv\")\n",
    "total_data.head()"
   ]
  },
  {
   "cell_type": "markdown",
   "metadata": {
    "colab_type": "text",
    "id": "apULqVzrlN4H"
   },
   "source": [
    "## **CLASS-WISE COUNT OF SAMPLES IN THE ENTIRE DATA**"
   ]
  },
  {
   "cell_type": "code",
   "execution_count": 3,
   "metadata": {
    "colab": {
     "base_uri": "https://localhost:8080/",
     "height": 265
    },
    "colab_type": "code",
    "id": "wlbBGwUglS_n",
    "outputId": "28d94415-d949-4914-e726-8a28253d1f05"
   },
   "outputs": [
    {
     "data": {
      "image/png": "[encoded data removed]",
      "text/plain": [
       "<Figure size 432x288 with 1 Axes>"
      ]
     },
     "metadata": {
      "needs_background": "light"
     },
     "output_type": "display_data"
    }
   ],
   "source": [
    "total_data['Label'].value_counts().plot(kind='bar')\n",
    "plt.grid()\n",
    "plt.xticks([0,1],[\"Opinions(0)\",\"Facts(1)\"],rotation=360)\n",
    "plt.ylabel(\"Count of Samples\")\n",
    "plt.show()"
   ]
  },
  {
   "cell_type": "markdown",
   "metadata": {
    "colab_type": "text",
    "id": "LJRLRsVVhS80"
   },
   "source": [
    "## **DATA PREPROCESSING**\n"
   ]
  },
  {
   "cell_type": "code",
   "execution_count": 4,
   "metadata": {
    "colab": {},
    "colab_type": "code",
    "id": "7d4RaaRcfli7"
   },
   "outputs": [],
   "source": [
    "def preproc(data):\n",
    "  stopword=\"\"\n",
    "  cleantext = \" \"\n",
    "  stopword = set(stopwords.words('english'))\n",
    "  for i in word_tokenize(data):\n",
    "    if(any(j.isdigit() for j in i)): ## checking if the word has any numerics...\n",
    "      continue\n",
    "    i=i.lower()\n",
    "    if (i not in stopword) and (len(i)>2):\n",
    "      pattern1 = '[!.?$\\[\\]/\\}#=<>\"\\*:,|_~;()^\\']'\n",
    "      pattern2 = '[\\n\\n]+'\n",
    "      pattern3 = '[\\ \\ ]+'\n",
    "      wout_sc = re.sub(pattern1,'',i) #removing special characters\n",
    "      wout_el = re.sub(pattern2,'\\n',wout_sc) # removing empty lines (which are greater than 2)\n",
    "      wout_mspaces = re.sub(pattern3,' ',wout_el) # removing multiple spaces\n",
    "      cleaned_text = wout_mspaces.strip()\n",
    "      cleaned_text=lemmatizer.lemmatize(cleaned_text)\n",
    "      if (i not in stopword) and (len(i)>2):\n",
    "        cleantext = cleantext+cleaned_text+\" \"\n",
    "  return cleantext.strip()"
   ]
  },
  {
   "cell_type": "code",
   "execution_count": 5,
   "metadata": {},
   "outputs": [
    {
     "name": "stderr",
     "output_type": "stream",
     "text": [
      "[nltk_data] Downloading package omw-1.4 to\n",
      "[nltk_data]     C:\\Users\\rachel\\AppData\\Roaming\\nltk_data...\n",
      "[nltk_data]   Package omw-1.4 is already up-to-date!\n"
     ]
    },
    {
     "data": {
      "text/plain": [
       "True"
      ]
     },
     "execution_count": 5,
     "metadata": {},
     "output_type": "execute_result"
    }
   ],
   "source": [
    "import nltk\n",
    "nltk.download('omw-1.4')"
   ]
  },
  {
   "cell_type": "code",
   "execution_count": 6,
   "metadata": {
    "colab": {
     "base_uri": "https://localhost:8080/",
     "height": 33
    },
    "colab_type": "code",
    "id": "yscZrOvel80N",
    "outputId": "75fadce6-01b0-48df-da38-5b09f7c67f69"
   },
   "outputs": [
    {
     "name": "stderr",
     "output_type": "stream",
     "text": [
      "100%|██████████| 801/801 [00:01<00:00, 405.44it/s]\n"
     ]
    }
   ],
   "source": [
    "for i in tqdm(range(len(total_data)),leave=True,position=0):\n",
    "  total_data.iloc[i,0] = preproc(total_data.iloc[i,0])"
   ]
  },
  {
   "cell_type": "markdown",
   "metadata": {
    "colab_type": "text",
    "id": "-1ikOjea1v6C"
   },
   "source": [
    "## **PREPROCESSED DATA PICKLED**"
   ]
  },
  {
   "cell_type": "code",
   "execution_count": 7,
   "metadata": {
    "colab": {},
    "colab_type": "code",
    "id": "qXq1jG0M1T1q"
   },
   "outputs": [],
   "source": [
    "pickle_out = open(\"./facts_opinions_ppdata2.csv\",\"wb\")\n",
    "pickle.dump(total_data, pickle_out)"
   ]
  },
  {
   "cell_type": "markdown",
   "metadata": {
    "colab_type": "text",
    "id": "vYsQ5pnf6_MS"
   },
   "source": [
    "## **LOADING THE PREPROCESSED DATA**"
   ]
  },
  {
   "cell_type": "code",
   "execution_count": 8,
   "metadata": {
    "colab": {},
    "colab_type": "code",
    "id": "QbkO5gwh6_qX"
   },
   "outputs": [],
   "source": [
    "pickle_in = open(\"./facts_opinions_ppdata2.csv\",\"rb\")\n",
    "total_data = pickle.load(pickle_in)"
   ]
  },
  {
   "cell_type": "markdown",
   "metadata": {
    "colab_type": "text",
    "id": "udIXVlIXqjMI"
   },
   "source": [
    "## **DATA AFTER PRE-PROCESSING**"
   ]
  },
  {
   "cell_type": "code",
   "execution_count": 9,
   "metadata": {
    "colab": {
     "base_uri": "https://localhost:8080/",
     "height": 195
    },
    "colab_type": "code",
    "id": "zHdJIqJzrkZ1",
    "outputId": "7ea62223-a688-4ca6-cef5-274d94036604"
   },
   "outputs": [
    {
     "data": {
      "text/html": [
       "<div>\n",
       "<style scoped>\n",
       "    .dataframe tbody tr th:only-of-type {\n",
       "        vertical-align: middle;\n",
       "    }\n",
       "\n",
       "    .dataframe tbody tr th {\n",
       "        vertical-align: top;\n",
       "    }\n",
       "\n",
       "    .dataframe thead th {\n",
       "        text-align: right;\n",
       "    }\n",
       "</style>\n",
       "<table border=\"1\" class=\"dataframe\">\n",
       "  <thead>\n",
       "    <tr style=\"text-align: right;\">\n",
       "      <th></th>\n",
       "      <th>Text</th>\n",
       "      <th>Label</th>\n",
       "    </tr>\n",
       "  </thead>\n",
       "  <tbody>\n",
       "    <tr>\n",
       "      <th>0</th>\n",
       "      <td>want find way end racism try force people inje...</td>\n",
       "      <td>0</td>\n",
       "    </tr>\n",
       "    <tr>\n",
       "      <th>1</th>\n",
       "      <td>child almost died tetanus spent month hospital...</td>\n",
       "      <td>1</td>\n",
       "    </tr>\n",
       "    <tr>\n",
       "      <th>2</th>\n",
       "      <td>remember mr leblanc pressure provincial busine...</td>\n",
       "      <td>0</td>\n",
       "    </tr>\n",
       "    <tr>\n",
       "      <th>3</th>\n",
       "      <td>would expect case rise significantly course va...</td>\n",
       "      <td>0</td>\n",
       "    </tr>\n",
       "    <tr>\n",
       "      <th>4</th>\n",
       "      <td>depends whether vaccination status embedded co...</td>\n",
       "      <td>0</td>\n",
       "    </tr>\n",
       "  </tbody>\n",
       "</table>\n",
       "</div>"
      ],
      "text/plain": [
       "                                                Text  Label\n",
       "0  want find way end racism try force people inje...      0\n",
       "1  child almost died tetanus spent month hospital...      1\n",
       "2  remember mr leblanc pressure provincial busine...      0\n",
       "3  would expect case rise significantly course va...      0\n",
       "4  depends whether vaccination status embedded co...      0"
      ]
     },
     "execution_count": 9,
     "metadata": {},
     "output_type": "execute_result"
    }
   ],
   "source": [
    "total_data.head()"
   ]
  },
  {
   "cell_type": "markdown",
   "metadata": {
    "colab_type": "text",
    "id": "6YYY25xw77af"
   },
   "source": [
    "## **SEPERATING OUT TEXT AND CORRESPONDING LABELS**"
   ]
  },
  {
   "cell_type": "code",
   "execution_count": 10,
   "metadata": {
    "colab": {},
    "colab_type": "code",
    "id": "xPGbO2kg8AqY"
   },
   "outputs": [],
   "source": [
    "data_y = pd.DataFrame(data=total_data['Label'],columns=['Label'])\n",
    "data_x = total_data.drop(columns=\"Label\")"
   ]
  },
  {
   "cell_type": "code",
   "execution_count": 11,
   "metadata": {
    "colab": {
     "base_uri": "https://localhost:8080/",
     "height": 34
    },
    "colab_type": "code",
    "id": "zzJ6lpZp8oaJ",
    "outputId": "a4b2593b-9f14-4f8c-a0dc-838667fc5b9d"
   },
   "outputs": [
    {
     "data": {
      "text/plain": [
       "(Index(['Label'], dtype='object'), Index(['Text'], dtype='object'))"
      ]
     },
     "execution_count": 11,
     "metadata": {},
     "output_type": "execute_result"
    }
   ],
   "source": [
    "data_y.columns,data_x.columns"
   ]
  },
  {
   "cell_type": "markdown",
   "metadata": {
    "colab_type": "text",
    "id": "sNXy9Tqgq4Cz"
   },
   "source": [
    "## **PERFORMING TRAIN-CV-TEST SPLITS**"
   ]
  },
  {
   "cell_type": "code",
   "execution_count": 12,
   "metadata": {
    "colab": {
     "base_uri": "https://localhost:8080/",
     "height": 118
    },
    "colab_type": "code",
    "id": "813irARBq_mc",
    "outputId": "65edd87f-ea65-4e35-96a1-d9e0aa1a2bc9"
   },
   "outputs": [
    {
     "name": "stdout",
     "output_type": "stream",
     "text": [
      "Shape of X_Train:: (392, 1)\n",
      "Shape of X_Cv:: (168, 1)\n",
      "Shape of X_Test:: (241, 1)\n",
      "Shape of Y_Train:: (392, 1)\n",
      "Shape of Y_Cv:: (168, 1)\n",
      "Shape of Y_Test:: (241, 1)\n"
     ]
    }
   ],
   "source": [
    "x_train,x_test,y_train,y_test = train_test_split(data_x,data_y,train_size=0.7,random_state=42)\n",
    "x_train,x_cv,y_train,y_cv = train_test_split(x_train,y_train,train_size=0.7,random_state=42)\n",
    "print(\"Shape of X_Train::\",x_train.shape)\n",
    "print(\"Shape of X_Cv::\",x_cv.shape)\n",
    "print(\"Shape of X_Test::\",x_test.shape)\n",
    "print(\"Shape of Y_Train::\",y_train.shape)\n",
    "print(\"Shape of Y_Cv::\",y_cv.shape)\n",
    "print(\"Shape of Y_Test::\",y_test.shape)"
   ]
  },
  {
   "cell_type": "markdown",
   "metadata": {
    "colab_type": "text",
    "id": "JHgmQA-cMnq1"
   },
   "source": [
    "## **WRITING TEST DATA INTO CSV FOR VERIFICATION DURING DEPLOYMENT**"
   ]
  },
  {
   "cell_type": "code",
   "execution_count": 13,
   "metadata": {
    "colab": {},
    "colab_type": "code",
    "id": "4-_wMFSwMHE2"
   },
   "outputs": [],
   "source": [
    "x_test.to_csv(\"./x_test2.csv\",index=False)\n",
    "y_test.to_csv(\"./y_test2.csv\",index=False)"
   ]
  },
  {
   "cell_type": "markdown",
   "metadata": {
    "colab_type": "text",
    "id": "VIq2eiXL-w7Z"
   },
   "source": [
    "## **CLASS-WISE COUNT OF SAMPLES IN TRAINING DATA**"
   ]
  },
  {
   "cell_type": "code",
   "execution_count": 14,
   "metadata": {
    "colab": {
     "base_uri": "https://localhost:8080/",
     "height": 265
    },
    "colab_type": "code",
    "id": "OSZ9GA2V-I1M",
    "outputId": "db7406b2-86d2-41c5-ac01-ea2041ac950b"
   },
   "outputs": [
    {
     "data": {
      "image/png": "[encoded data removed]",
      "text/plain": [
       "<Figure size 432x288 with 1 Axes>"
      ]
     },
     "metadata": {
      "needs_background": "light"
     },
     "output_type": "display_data"
    }
   ],
   "source": [
    "y_train['Label'].value_counts().plot(kind='bar')\n",
    "plt.grid()\n",
    "plt.xticks([0,1],[\"Opinions(0)\",\"Facts(1)\"],rotation=360)\n",
    "plt.ylabel(\"Count of Samples\")\n",
    "plt.show()\n",
    "plt.show()"
   ]
  },
  {
   "cell_type": "markdown",
   "metadata": {
    "colab_type": "text",
    "id": "9OnLofPq_AZH"
   },
   "source": [
    "## **CLASS-WISE COUNT OF SAMPLES IN CV DATA**"
   ]
  },
  {
   "cell_type": "code",
   "execution_count": 15,
   "metadata": {
    "colab": {
     "base_uri": "https://localhost:8080/",
     "height": 265
    },
    "colab_type": "code",
    "id": "pc0o9FTU-Q-n",
    "outputId": "10215865-aabb-4073-a8da-625e3dffbc83"
   },
   "outputs": [
    {
     "data": {
      "image/png": "[encoded data removed]",
      "text/plain": [
       "<Figure size 432x288 with 1 Axes>"
      ]
     },
     "metadata": {
      "needs_background": "light"
     },
     "output_type": "display_data"
    }
   ],
   "source": [
    "y_cv['Label'].value_counts().plot(kind='bar')\n",
    "plt.grid()\n",
    "plt.xticks([0,1],[\"Opinions(0)\",\"Facts(1)\"],rotation=360)\n",
    "plt.ylabel(\"Count of Samples\")\n",
    "plt.show()\n",
    "plt.show()"
   ]
  },
  {
   "cell_type": "markdown",
   "metadata": {
    "colab_type": "text",
    "id": "w9gIDxoF-5Qj"
   },
   "source": [
    "## **CLASS-WISE COUNT OF SAMPLES IN TEST DATA**"
   ]
  },
  {
   "cell_type": "code",
   "execution_count": 16,
   "metadata": {
    "colab": {
     "base_uri": "https://localhost:8080/",
     "height": 265
    },
    "colab_type": "code",
    "id": "GVyVNjY6-5gf",
    "outputId": "43d7978a-0ac5-40c2-fdf4-21ecb5ada6ae"
   },
   "outputs": [
    {
     "data": {
      "image/png": "[encoded data removed]",
      "text/plain": [
       "<Figure size 432x288 with 1 Axes>"
      ]
     },
     "metadata": {
      "needs_background": "light"
     },
     "output_type": "display_data"
    }
   ],
   "source": [
    "y_test['Label'].value_counts().plot(kind='bar')\n",
    "plt.grid()\n",
    "plt.xticks([0,1],[\"Opinions(0)\",\"Facts(1)\"],rotation=360)\n",
    "plt.ylabel(\"Count of Samples\")\n",
    "plt.show()\n",
    "plt.show()"
   ]
  },
  {
   "cell_type": "markdown",
   "metadata": {
    "colab_type": "text",
    "id": "vGNtonLFDQkf"
   },
   "source": [
    "## **MAXIMUM LENGTH OF THE TEXT IN TRAINING DATA**"
   ]
  },
  {
   "cell_type": "code",
   "execution_count": 17,
   "metadata": {
    "colab": {
     "base_uri": "https://localhost:8080/",
     "height": 34
    },
    "colab_type": "code",
    "id": "Hbq-aFVqA-1z",
    "outputId": "d5ec4eb3-28ef-4efd-ac6c-ae765a50fca1"
   },
   "outputs": [
    {
     "name": "stdout",
     "output_type": "stream",
     "text": [
      "Maximum length of sentence:: 35\n"
     ]
    }
   ],
   "source": [
    "max_len=0\n",
    "l=[]\n",
    "index=[]\n",
    "for i in range(len(x_train)):\n",
    "  cur_len = len(x_train.iloc[i,0].split())\n",
    "  if(cur_len>max_len):\n",
    "    max_len=cur_len\n",
    "print(\"Maximum length of sentence::\",max_len)"
   ]
  },
  {
   "cell_type": "markdown",
   "metadata": {
    "colab_type": "text",
    "id": "JrLDLjiaRkkt"
   },
   "source": [
    "## **GENEARTING VOCABULARY FROM TRAINING DATA**"
   ]
  },
  {
   "cell_type": "code",
   "execution_count": 18,
   "metadata": {
    "colab": {
     "base_uri": "https://localhost:8080/",
     "height": 34
    },
    "colab_type": "code",
    "id": "3AepD9krR0Qf",
    "outputId": "10174484-5005-41b0-f302-a2e8d2f8e9c4"
   },
   "outputs": [
    {
     "name": "stderr",
     "output_type": "stream",
     "text": [
      "100%|██████████| 392/392 [00:00<00:00, 268742.59it/s]\n"
     ]
    }
   ],
   "source": [
    "vocab={}\n",
    "for i in tqdm(x_train['Text'],position=0,leave=True):\n",
    "  for j in i.split():\n",
    "    if j not in vocab:\n",
    "      vocab[j]=1\n",
    "    else:\n",
    "      vocab[j]+=1\n",
    "vocab = sorted(vocab, key=vocab.get, reverse=True)"
   ]
  },
  {
   "cell_type": "markdown",
   "metadata": {
    "colab_type": "text",
    "id": "JWK-oAbe_rKR"
   },
   "source": [
    "## **VECTORIZING THE DATA**"
   ]
  },
  {
   "cell_type": "code",
   "execution_count": 19,
   "metadata": {
    "colab": {},
    "colab_type": "code",
    "id": "0XTV1g1-_u_1"
   },
   "outputs": [],
   "source": [
    "def vectorize(data,vocab):\n",
    "  print(\"\\nGenerating Vectors......\")\n",
    "  max_seq_len=1400\n",
    "  row=0\n",
    "  ## converting sequence to vector...\n",
    "  new_data = pd.DataFrame(columns=[\"Text\"])\n",
    "  for i in tqdm(data['Text'],position=0,leave=True):\n",
    "    sent=[]\n",
    "    for j in i.split():\n",
    "      try:\n",
    "        sent.append((vocab.index(j))+1)\n",
    "      except:\n",
    "        continue\n",
    "    new_data.loc[row] = [sent]\n",
    "    row+=1\n",
    "  new_data = sequence.pad_sequences(new_data['Text'], maxlen=max_seq_len)\n",
    "  return new_data ## if its CV/TEST data we return the numerical vectors computed w.r.t training vocab"
   ]
  },
  {
   "cell_type": "code",
   "execution_count": 20,
   "metadata": {
    "colab": {
     "base_uri": "https://localhost:8080/",
     "height": 168
    },
    "colab_type": "code",
    "id": "FVZd4xMBAAk1",
    "outputId": "25d698c0-6ba0-4728-aded-9718aa1842b5"
   },
   "outputs": [
    {
     "name": "stdout",
     "output_type": "stream",
     "text": [
      "\n",
      "Generating Vectors......\n"
     ]
    },
    {
     "name": "stderr",
     "output_type": "stream",
     "text": [
      "100%|██████████| 392/392 [00:00<00:00, 1106.63it/s]\n"
     ]
    },
    {
     "name": "stdout",
     "output_type": "stream",
     "text": [
      "\n",
      "Generating Vectors......\n"
     ]
    },
    {
     "name": "stderr",
     "output_type": "stream",
     "text": [
      "100%|██████████| 168/168 [00:00<00:00, 1054.26it/s]\n"
     ]
    },
    {
     "name": "stdout",
     "output_type": "stream",
     "text": [
      "\n",
      "Generating Vectors......\n"
     ]
    },
    {
     "name": "stderr",
     "output_type": "stream",
     "text": [
      "100%|██████████| 241/241 [00:00<00:00, 1042.29it/s]\n"
     ]
    }
   ],
   "source": [
    "x_train_vec = vectorize(x_train,vocab)\n",
    "x_cv_vec = vectorize(x_cv,vocab)\n",
    "x_test_vec = vectorize(x_test,vocab)"
   ]
  },
  {
   "cell_type": "markdown",
   "metadata": {
    "colab_type": "text",
    "id": "IY0_HjPz_j_S"
   },
   "source": [
    "## **THE LSTM ARCHITECTURE**"
   ]
  },
  {
   "cell_type": "code",
   "execution_count": 21,
   "metadata": {
    "colab": {
     "base_uri": "https://localhost:8080/",
     "height": 235
    },
    "colab_type": "code",
    "id": "HEC95JIn-9Ou",
    "outputId": "e51b2802-606d-47f6-9291-63b9c2028cfe"
   },
   "outputs": [
    {
     "name": "stdout",
     "output_type": "stream",
     "text": [
      "Epoch 1/20\n",
      "1/1 [==============================] - 3s 3s/step - loss: 0.6933 - acc: 0.4872 - val_loss: 0.6828 - val_acc: 0.6667\n",
      "\n",
      "Epoch 00001: val_loss improved from inf to 0.68276, saving model to ./saved models\\model-001-0.487245-0.666667.h5\n",
      "Epoch 2/20\n",
      "1/1 [==============================] - 1s 1s/step - loss: 0.6787 - acc: 0.6607 - val_loss: 0.6671 - val_acc: 0.6667\n",
      "\n",
      "Epoch 00002: val_loss improved from 0.68276 to 0.66714, saving model to ./saved models\\model-002-0.660714-0.666667.h5\n",
      "Epoch 3/20\n",
      "1/1 [==============================] - 1s 1s/step - loss: 0.6556 - acc: 0.6607 - val_loss: 0.6437 - val_acc: 0.6667\n",
      "\n",
      "Epoch 00003: val_loss improved from 0.66714 to 0.64373, saving model to ./saved models\\model-003-0.660714-0.666667.h5\n",
      "Epoch 4/20\n",
      "1/1 [==============================] - 1s 1s/step - loss: 0.6175 - acc: 0.6607 - val_loss: 0.6337 - val_acc: 0.6667\n",
      "\n",
      "Epoch 00004: val_loss improved from 0.64373 to 0.63374, saving model to ./saved models\\model-004-0.660714-0.666667.h5\n",
      "Epoch 5/20\n",
      "1/1 [==============================] - 1s 1s/step - loss: 0.5866 - acc: 0.6607 - val_loss: 0.6374 - val_acc: 0.6667\n",
      "\n",
      "Epoch 00005: val_loss did not improve from 0.63374\n",
      "Epoch 6/20\n",
      "1/1 [==============================] - 1s 1s/step - loss: 0.5589 - acc: 0.6607 - val_loss: 0.6222 - val_acc: 0.6667\n",
      "\n",
      "Epoch 00006: val_loss improved from 0.63374 to 0.62220, saving model to ./saved models\\model-006-0.660714-0.666667.h5\n",
      "Epoch 7/20\n",
      "1/1 [==============================] - 1s 1s/step - loss: 0.5010 - acc: 0.6658 - val_loss: 0.6104 - val_acc: 0.6786\n",
      "\n",
      "Epoch 00007: val_loss improved from 0.62220 to 0.61037, saving model to ./saved models\\model-007-0.665816-0.678571.h5\n",
      "Epoch 8/20\n",
      "1/1 [==============================] - 1s 1s/step - loss: 0.4464 - acc: 0.7602 - val_loss: 0.6030 - val_acc: 0.6786\n",
      "\n",
      "Epoch 00008: val_loss improved from 0.61037 to 0.60297, saving model to ./saved models\\model-008-0.760204-0.678571.h5\n",
      "Epoch 9/20\n",
      "1/1 [==============================] - 1s 1s/step - loss: 0.3875 - acc: 0.8878 - val_loss: 0.6010 - val_acc: 0.6845\n",
      "\n",
      "Epoch 00009: val_loss improved from 0.60297 to 0.60099, saving model to ./saved models\\model-009-0.887755-0.684524.h5\n",
      "Epoch 10/20\n",
      "1/1 [==============================] - 2s 2s/step - loss: 0.3227 - acc: 0.9388 - val_loss: 0.6102 - val_acc: 0.6845\n",
      "\n",
      "Epoch 00010: val_loss did not improve from 0.60099\n",
      "Epoch 11/20\n",
      "1/1 [==============================] - 2s 2s/step - loss: 0.2667 - acc: 0.9515 - val_loss: 0.6291 - val_acc: 0.6845\n",
      "\n",
      "Epoch 00011: val_loss did not improve from 0.60099\n",
      "Epoch 12/20\n",
      "1/1 [==============================] - 2s 2s/step - loss: 0.2251 - acc: 0.9719 - val_loss: 0.6532 - val_acc: 0.6964\n",
      "\n",
      "Epoch 00012: val_loss did not improve from 0.60099\n",
      "Epoch 13/20\n",
      "1/1 [==============================] - 2s 2s/step - loss: 0.1948 - acc: 0.9847 - val_loss: 0.6799 - val_acc: 0.7083\n",
      "\n",
      "Epoch 00013: val_loss did not improve from 0.60099\n",
      "Epoch 14/20\n",
      "1/1 [==============================] - 2s 2s/step - loss: 0.1718 - acc: 0.9872 - val_loss: 0.7086 - val_acc: 0.7143\n",
      "\n",
      "Epoch 00014: val_loss did not improve from 0.60099\n",
      "Epoch 15/20\n",
      "1/1 [==============================] - 2s 2s/step - loss: 0.1522 - acc: 0.9923 - val_loss: 0.7408 - val_acc: 0.7202\n",
      "\n",
      "Epoch 00015: val_loss did not improve from 0.60099\n",
      "Epoch 16/20\n",
      "1/1 [==============================] - 2s 2s/step - loss: 0.1360 - acc: 0.9949 - val_loss: 1.4254 - val_acc: 0.6667\n",
      "\n",
      "Epoch 00016: val_loss did not improve from 0.60099\n",
      "Epoch 17/20\n",
      "1/1 [==============================] - 2s 2s/step - loss: 1.1627 - acc: 0.6607 - val_loss: 1.3563 - val_acc: 0.6667\n",
      "\n",
      "Epoch 00017: val_loss did not improve from 0.60099\n",
      "Epoch 18/20\n",
      "1/1 [==============================] - 2s 2s/step - loss: 0.8613 - acc: 0.6786 - val_loss: 0.7401 - val_acc: 0.6786\n",
      "\n",
      "Epoch 00018: val_loss did not improve from 0.60099\n",
      "Epoch 19/20\n",
      "1/1 [==============================] - 2s 2s/step - loss: 0.1187 - acc: 0.9949 - val_loss: 0.7284 - val_acc: 0.7024\n",
      "\n",
      "Epoch 00019: val_loss did not improve from 0.60099\n",
      "Epoch 20/20\n",
      "1/1 [==============================] - 2s 2s/step - loss: 0.1192 - acc: 0.9949 - val_loss: 0.7304 - val_acc: 0.7024\n",
      "\n",
      "Epoch 00020: val_loss did not improve from 0.60099\n"
     ]
    }
   ],
   "source": [
    "from keras.utils import np_utils\n",
    "from tensorflow.keras import models\n",
    "import tensorflow as tf\n",
    "lstm_model = Sequential()\n",
    "lstm_model.add(Embedding(1+len(vocab),20,input_length=1400)) #taking whole length of vocab\n",
    "lstm_model.add(LSTM(20))\n",
    "lstm_model.add(Dense(2, activation='softmax'))\n",
    "checkpoint = ModelCheckpoint('./saved models/model-{epoch:03d}-{acc:03f}-{val_acc:03f}.h5', verbose=1, monitor='val_loss',save_best_only=True, mode='auto')  \n",
    "lstm_model.compile(loss='binary_crossentropy', optimizer=tf.keras.optimizers.Adam(0.01), metrics=['acc'])\n",
    "values=lstm_model.fit(x_train_vec,keras.utils.np_utils.to_categorical(y_train,num_classes=2),epochs=20,batch_size=1000,validation_data=(x_cv_vec,keras.utils.np_utils.to_categorical(y_cv,num_classes=2)),callbacks=[checkpoint])"
   ]
  },
  {
   "cell_type": "code",
   "execution_count": 27,
   "metadata": {},
   "outputs": [
    {
     "name": "stdout",
     "output_type": "stream",
     "text": [
      "Collecting tensorflow\n",
      "  Downloading tensorflow-2.8.0-cp39-cp39-win_amd64.whl (438.0 MB)\n",
      "Collecting keras-preprocessing>=1.1.1\n",
      "  Using cached Keras_Preprocessing-1.1.2-py2.py3-none-any.whl (42 kB)\n",
      "Collecting flatbuffers>=1.12\n",
      "  Using cached flatbuffers-2.0-py2.py3-none-any.whl (26 kB)\n",
      "Collecting numpy>=1.20\n",
      "  Downloading numpy-1.22.2-cp39-cp39-win_amd64.whl (14.7 MB)\n",
      "Collecting h5py>=2.9.0\n",
      "  Downloading h5py-3.6.0-cp39-cp39-win_amd64.whl (2.8 MB)\n",
      "Collecting absl-py>=0.4.0\n",
      "  Using cached absl_py-1.0.0-py3-none-any.whl (126 kB)\n",
      "Collecting wrapt>=1.11.0\n",
      "  Downloading wrapt-1.13.3-cp39-cp39-win_amd64.whl (34 kB)\n",
      "Collecting astunparse>=1.6.0\n",
      "  Using cached astunparse-1.6.3-py2.py3-none-any.whl (12 kB)\n",
      "Collecting opt-einsum>=2.3.2\n",
      "  Using cached opt_einsum-3.3.0-py3-none-any.whl (65 kB)\n",
      "Collecting google-pasta>=0.1.1\n",
      "  Using cached google_pasta-0.2.0-py3-none-any.whl (57 kB)\n",
      "Collecting setuptools\n",
      "  Using cached setuptools-60.9.3-py3-none-any.whl (1.1 MB)\n",
      "Collecting grpcio<2.0,>=1.24.3\n",
      "  Downloading grpcio-1.44.0-cp39-cp39-win_amd64.whl (3.4 MB)\n",
      "Collecting six>=1.12.0Note: you may need to restart the kernel to use updated packages.\n"
     ]
    },
    {
     "name": "stderr",
     "output_type": "stream",
     "text": [
      "ERROR: Could not install packages due to an OSError: [WinError 5] Access is denied: 'C:\\\\Users\\\\rachel\\\\anaconda3\\\\envs\\\\tf\\\\Lib\\\\site-packages\\\\~umpy\\\\core\\\\_multiarray_tests.cp39-win_amd64.pyd'\n",
      "Consider using the `--user` option or check the permissions.\n",
      "\n"
     ]
    },
    {
     "name": "stdout",
     "output_type": "stream",
     "text": [
      "\n",
      "  Using cached six-1.16.0-py2.py3-none-any.whl (11 kB)\n",
      "Collecting typing-extensions>=3.6.6\n",
      "  Using cached typing_extensions-4.1.1-py3-none-any.whl (26 kB)\n",
      "Collecting keras<2.9,>=2.8.0rc0\n",
      "  Using cached keras-2.8.0-py2.py3-none-any.whl (1.4 MB)\n",
      "Collecting tensorflow-io-gcs-filesystem>=0.23.1\n",
      "  Downloading tensorflow_io_gcs_filesystem-0.24.0-cp39-cp39-win_amd64.whl (1.5 MB)\n",
      "Collecting termcolor>=1.1.0\n",
      "  Using cached termcolor-1.1.0-py3-none-any.whl\n",
      "Collecting tf-estimator-nightly==2.8.0.dev2021122109\n",
      "  Using cached tf_estimator_nightly-2.8.0.dev2021122109-py2.py3-none-any.whl (462 kB)\n",
      "Collecting gast>=0.2.1\n",
      "  Using cached gast-0.5.3-py3-none-any.whl (19 kB)\n",
      "Collecting protobuf>=3.9.2\n",
      "  Downloading protobuf-3.19.4-cp39-cp39-win_amd64.whl (895 kB)\n",
      "Collecting tensorboard<2.9,>=2.8\n",
      "  Using cached tensorboard-2.8.0-py3-none-any.whl (5.8 MB)\n",
      "Collecting libclang>=9.0.1\n",
      "  Using cached libclang-13.0.0-py2.py3-none-win_amd64.whl (13.9 MB)\n",
      "Collecting wheel<1.0,>=0.23.0\n",
      "  Using cached wheel-0.37.1-py2.py3-none-any.whl (35 kB)\n",
      "Collecting google-auth-oauthlib<0.5,>=0.4.1\n",
      "  Using cached google_auth_oauthlib-0.4.6-py2.py3-none-any.whl (18 kB)\n",
      "Collecting markdown>=2.6.8\n",
      "  Using cached Markdown-3.3.6-py3-none-any.whl (97 kB)\n",
      "Collecting google-auth<3,>=1.6.3\n",
      "  Using cached google_auth-2.6.0-py2.py3-none-any.whl (156 kB)\n",
      "Collecting tensorboard-plugin-wit>=1.6.0\n",
      "  Using cached tensorboard_plugin_wit-1.8.1-py3-none-any.whl (781 kB)\n",
      "Collecting werkzeug>=0.11.15\n",
      "  Using cached Werkzeug-2.0.3-py3-none-any.whl (289 kB)\n",
      "Collecting tensorboard-data-server<0.7.0,>=0.6.0\n",
      "  Using cached tensorboard_data_server-0.6.1-py3-none-any.whl (2.4 kB)\n",
      "Collecting requests<3,>=2.21.0\n",
      "  Using cached requests-2.27.1-py2.py3-none-any.whl (63 kB)\n",
      "Collecting pyasn1-modules>=0.2.1\n",
      "  Using cached pyasn1_modules-0.2.8-py2.py3-none-any.whl (155 kB)\n",
      "Collecting rsa<5,>=3.1.4\n",
      "  Using cached rsa-4.8-py3-none-any.whl (39 kB)\n",
      "Collecting cachetools<6.0,>=2.0.0\n",
      "  Using cached cachetools-5.0.0-py3-none-any.whl (9.1 kB)\n",
      "Collecting requests-oauthlib>=0.7.0\n",
      "  Using cached requests_oauthlib-1.3.1-py2.py3-none-any.whl (23 kB)\n",
      "Collecting importlib-metadata>=4.4\n",
      "  Downloading importlib_metadata-4.11.2-py3-none-any.whl (17 kB)\n",
      "Collecting zipp>=0.5\n",
      "  Downloading zipp-3.7.0-py3-none-any.whl (5.3 kB)\n",
      "Collecting pyasn1<0.5.0,>=0.4.6\n",
      "  Using cached pyasn1-0.4.8-py2.py3-none-any.whl (77 kB)\n",
      "Collecting certifi>=2017.4.17\n",
      "  Using cached certifi-2021.10.8-py2.py3-none-any.whl (149 kB)\n",
      "Collecting idna<4,>=2.5\n",
      "  Using cached idna-3.3-py3-none-any.whl (61 kB)\n",
      "Collecting urllib3<1.27,>=1.21.1\n",
      "  Using cached urllib3-1.26.8-py2.py3-none-any.whl (138 kB)\n",
      "Collecting charset-normalizer~=2.0.0\n",
      "  Using cached charset_normalizer-2.0.12-py3-none-any.whl (39 kB)\n",
      "Collecting oauthlib>=3.0.0\n",
      "  Using cached oauthlib-3.2.0-py3-none-any.whl (151 kB)\n",
      "Installing collected packages: urllib3, pyasn1, idna, charset-normalizer, certifi, zipp, six, rsa, requests, pyasn1-modules, oauthlib, cachetools, requests-oauthlib, importlib-metadata, google-auth, wheel, werkzeug, tensorboard-plugin-wit, tensorboard-data-server, setuptools, protobuf, numpy, markdown, grpcio, google-auth-oauthlib, absl-py, wrapt, typing-extensions, tf-estimator-nightly, termcolor, tensorflow-io-gcs-filesystem, tensorboard, opt-einsum, libclang, keras-preprocessing, keras, h5py, google-pasta, gast, flatbuffers, astunparse, tensorflow\n",
      "  Attempting uninstall: urllib3\n",
      "    Found existing installation: urllib3 1.26.8\n",
      "    Uninstalling urllib3-1.26.8:\n",
      "      Successfully uninstalled urllib3-1.26.8\n",
      "  Attempting uninstall: pyasn1\n",
      "    Found existing installation: pyasn1 0.4.8\n",
      "    Uninstalling pyasn1-0.4.8:\n",
      "      Successfully uninstalled pyasn1-0.4.8\n",
      "  Attempting uninstall: idna\n",
      "    Found existing installation: idna 3.3\n",
      "    Uninstalling idna-3.3:\n",
      "      Successfully uninstalled idna-3.3\n",
      "  Attempting uninstall: charset-normalizer\n",
      "    Found existing installation: charset-normalizer 2.0.4\n",
      "    Uninstalling charset-normalizer-2.0.4:\n",
      "      Successfully uninstalled charset-normalizer-2.0.4\n",
      "  Attempting uninstall: certifi\n",
      "    Found existing installation: certifi 2021.10.8\n",
      "    Uninstalling certifi-2021.10.8:\n",
      "      Successfully uninstalled certifi-2021.10.8\n",
      "  Attempting uninstall: zipp\n",
      "    Found existing installation: zipp 3.7.0\n",
      "    Uninstalling zipp-3.7.0:\n",
      "      Successfully uninstalled zipp-3.7.0\n",
      "  Attempting uninstall: six\n",
      "    Found existing installation: six 1.16.0\n",
      "    Uninstalling six-1.16.0:\n",
      "      Successfully uninstalled six-1.16.0\n",
      "  Attempting uninstall: rsa\n",
      "    Found existing installation: rsa 4.7.2\n",
      "    Uninstalling rsa-4.7.2:\n",
      "      Successfully uninstalled rsa-4.7.2\n",
      "  Attempting uninstall: requests\n",
      "    Found existing installation: requests 2.27.1\n",
      "    Uninstalling requests-2.27.1:\n",
      "      Successfully uninstalled requests-2.27.1\n",
      "  Attempting uninstall: pyasn1-modules\n",
      "    Found existing installation: pyasn1-modules 0.2.8\n",
      "    Uninstalling pyasn1-modules-0.2.8:\n",
      "      Successfully uninstalled pyasn1-modules-0.2.8\n",
      "  Attempting uninstall: oauthlib\n",
      "    Found existing installation: oauthlib 3.2.0\n",
      "    Uninstalling oauthlib-3.2.0:\n",
      "      Successfully uninstalled oauthlib-3.2.0\n",
      "  Attempting uninstall: cachetools\n",
      "    Found existing installation: cachetools 4.2.2\n",
      "    Uninstalling cachetools-4.2.2:\n",
      "      Successfully uninstalled cachetools-4.2.2\n",
      "  Attempting uninstall: requests-oauthlib\n",
      "    Found existing installation: requests-oauthlib 1.3.0\n",
      "    Uninstalling requests-oauthlib-1.3.0:\n",
      "      Successfully uninstalled requests-oauthlib-1.3.0\n",
      "  Attempting uninstall: importlib-metadata\n",
      "    Found existing installation: importlib-metadata 4.8.2\n",
      "    Uninstalling importlib-metadata-4.8.2:\n",
      "      Successfully uninstalled importlib-metadata-4.8.2\n",
      "  Attempting uninstall: google-auth\n",
      "    Found existing installation: google-auth 1.33.0\n",
      "    Uninstalling google-auth-1.33.0:\n",
      "      Successfully uninstalled google-auth-1.33.0\n",
      "  Attempting uninstall: wheel\n",
      "    Found existing installation: wheel 0.35.1\n",
      "    Uninstalling wheel-0.35.1:\n",
      "      Successfully uninstalled wheel-0.35.1\n",
      "  Attempting uninstall: werkzeug\n",
      "    Found existing installation: Werkzeug 2.0.3\n",
      "    Uninstalling Werkzeug-2.0.3:\n",
      "      Successfully uninstalled Werkzeug-2.0.3\n",
      "  Attempting uninstall: tensorboard-plugin-wit\n",
      "    Found existing installation: tensorboard-plugin-wit 1.6.0\n",
      "    Uninstalling tensorboard-plugin-wit-1.6.0:\n",
      "      Successfully uninstalled tensorboard-plugin-wit-1.6.0\n",
      "  Attempting uninstall: tensorboard-data-server\n",
      "    Found existing installation: tensorboard-data-server 0.6.0\n",
      "    Uninstalling tensorboard-data-server-0.6.0:\n",
      "      Successfully uninstalled tensorboard-data-server-0.6.0\n",
      "  Attempting uninstall: setuptools\n",
      "    Found existing installation: setuptools 58.0.4\n",
      "    Uninstalling setuptools-58.0.4:\n",
      "      Successfully uninstalled setuptools-58.0.4\n",
      "  Attempting uninstall: protobuf\n",
      "    Found existing installation: protobuf 3.14.0\n",
      "    Uninstalling protobuf-3.14.0:\n",
      "      Successfully uninstalled protobuf-3.14.0\n",
      "  Attempting uninstall: numpy\n",
      "    Found existing installation: numpy 1.21.5\n",
      "    Uninstalling numpy-1.21.5:\n",
      "      Successfully uninstalled numpy-1.21.5\n"
     ]
    }
   ],
   "source": [
    "# pip install tensorflow --upgrade --force-reinstall"
   ]
  },
  {
   "cell_type": "markdown",
   "metadata": {
    "colab_type": "text",
    "id": "s1PZ5t-beC-c"
   },
   "source": [
    "## **EPOCHS V/S LOSS**"
   ]
  },
  {
   "cell_type": "code",
   "execution_count": 22,
   "metadata": {
    "colab": {
     "base_uri": "https://localhost:8080/",
     "height": 283
    },
    "colab_type": "code",
    "id": "YIQBW-2EeDoE",
    "outputId": "3e842a31-a576-499d-e577-7fdf68118f47"
   },
   "outputs": [
    {
     "data": {
      "image/png": "[encoded data removed]",
      "text/plain": [
       "<Figure size 432x288 with 1 Axes>"
      ]
     },
     "metadata": {
      "needs_background": "light"
     },
     "output_type": "display_data"
    }
   ],
   "source": [
    "plt.plot(values.history['loss'],label = \"Training Loss\")\n",
    "plt.plot(values.history['val_loss'],label = \"Cross Validation Loss\")\n",
    "plt.ylim([0,1])\n",
    "plt.xlabel(\"Epochs\")\n",
    "plt.ylabel(\"Loss\")\n",
    "plt.grid()\n",
    "plt.legend()\n",
    "plt.show()"
   ]
  },
  {
   "cell_type": "markdown",
   "metadata": {
    "colab_type": "text",
    "id": "YgUFqEDDeB0T"
   },
   "source": [
    "## **EPOCHS V/S ACCURACY**"
   ]
  },
  {
   "cell_type": "code",
   "execution_count": 23,
   "metadata": {
    "colab": {
     "base_uri": "https://localhost:8080/",
     "height": 279
    },
    "colab_type": "code",
    "id": "yfeE9IDDeCQM",
    "outputId": "784867b5-c638-496e-a56d-b1671e9a6b1d"
   },
   "outputs": [
    {
     "data": {
      "image/png": "[encoded data removed]",
      "text/plain": [
       "<Figure size 432x288 with 1 Axes>"
      ]
     },
     "metadata": {
      "needs_background": "light"
     },
     "output_type": "display_data"
    }
   ],
   "source": [
    "plt.plot(values.history['acc'],label = \"Training Accuracy\")\n",
    "plt.plot(values.history['val_acc'],label = \"Cross Validation Accuracy\")\n",
    "plt.xlabel(\"Epochs\")\n",
    "plt.ylabel(\"Accuracy\")\n",
    "plt.ylim([0,1])\n",
    "plt.grid()\n",
    "plt.legend()\n",
    "plt.show()"
   ]
  },
  {
   "cell_type": "markdown",
   "metadata": {
    "colab_type": "text",
    "id": "p2jqEGqQd18h"
   },
   "source": [
    "## **PERFORMANCE ON TEST DATA**"
   ]
  },
  {
   "cell_type": "markdown",
   "metadata": {
    "colab_type": "text",
    "id": "7BRxJxEopw6t"
   },
   "source": [
    "#### **CONFUSION MATRIX ON TEST DATA**"
   ]
  },
  {
   "cell_type": "code",
   "execution_count": 24,
   "metadata": {
    "colab": {
     "base_uri": "https://localhost:8080/",
     "height": 136
    },
    "colab_type": "code",
    "id": "nxwMHz_NJv9z",
    "outputId": "9aa1afdb-6a7c-418d-8285-886a3df90961"
   },
   "outputs": [
    {
     "data": {
      "text/html": [
       "<div>\n",
       "<style scoped>\n",
       "    .dataframe tbody tr th:only-of-type {\n",
       "        vertical-align: middle;\n",
       "    }\n",
       "\n",
       "    .dataframe tbody tr th {\n",
       "        vertical-align: top;\n",
       "    }\n",
       "\n",
       "    .dataframe thead th {\n",
       "        text-align: right;\n",
       "    }\n",
       "</style>\n",
       "<table border=\"1\" class=\"dataframe\">\n",
       "  <thead>\n",
       "    <tr style=\"text-align: right;\">\n",
       "      <th></th>\n",
       "      <th>Opinions</th>\n",
       "      <th>Facts</th>\n",
       "    </tr>\n",
       "    <tr>\n",
       "      <th>True labels</th>\n",
       "      <th></th>\n",
       "      <th></th>\n",
       "    </tr>\n",
       "  </thead>\n",
       "  <tbody>\n",
       "    <tr>\n",
       "      <th>Opinions</th>\n",
       "      <td>103</td>\n",
       "      <td>46</td>\n",
       "    </tr>\n",
       "    <tr>\n",
       "      <th>Facts</th>\n",
       "      <td>31</td>\n",
       "      <td>61</td>\n",
       "    </tr>\n",
       "  </tbody>\n",
       "</table>\n",
       "</div>"
      ],
      "text/plain": [
       "             Opinions  Facts\n",
       "True labels                 \n",
       "Opinions          103     46\n",
       "Facts              31     61"
      ]
     },
     "metadata": {},
     "output_type": "display_data"
    }
   ],
   "source": [
    "from sklearn.metrics import confusion_matrix\n",
    "from IPython.display import display\n",
    "classes=[\"Opinions\",\"Facts\"]\n",
    "y_pred = np.argmax(lstm_model.predict(x_test_vec), axis=-1)\n",
    "# y_pred = lstm_model.predict(x_test_vec)\n",
    "conf_df = pd.DataFrame(confusion_matrix(y_test,y_pred),columns=classes,index=classes)\n",
    "conf_df.index.name = 'True labels'\n",
    "display(conf_df)"
   ]
  },
  {
   "cell_type": "markdown",
   "metadata": {
    "colab_type": "text",
    "id": "qEaK2vOIp4f4"
   },
   "source": [
    "#### **ACCURACY ON TEST DATA**"
   ]
  },
  {
   "cell_type": "code",
   "execution_count": 25,
   "metadata": {
    "colab": {
     "base_uri": "https://localhost:8080/",
     "height": 34
    },
    "colab_type": "code",
    "id": "p7aOFBkzp73k",
    "outputId": "9a28be7b-740a-482e-e549-9285f4eb053f"
   },
   "outputs": [
    {
     "name": "stdout",
     "output_type": "stream",
     "text": [
      "Accuracy on Test Data:: 68.04979253112033\n"
     ]
    }
   ],
   "source": [
    "numer = conf_df.iloc[0,0]+conf_df.iloc[1,1]\n",
    "denom = conf_df.iloc[0,0]+conf_df.iloc[0,1]+conf_df.iloc[1,0]+conf_df.iloc[1,1]\n",
    "print(\"Accuracy on Test Data::\",100*numer/denom)"
   ]
  },
  {
   "cell_type": "markdown",
   "metadata": {
    "colab_type": "text",
    "id": "gz7x_WurAs-x"
   },
   "source": [
    "## **VOCABULARY WRITTEN TO A PICKLE FILE**"
   ]
  },
  {
   "cell_type": "code",
   "execution_count": 0,
   "metadata": {
    "colab": {},
    "colab_type": "code",
    "id": "4VT-H_kb6Ibb"
   },
   "outputs": [],
   "source": [
    "#pickle_out = open(\"/content/drive/My Drive/IR_PROJECT/vocab\",\"wb\")\n",
    "#pickle.dump(vocab, pickle_out)"
   ]
  },
  {
   "cell_type": "code",
   "execution_count": 0,
   "metadata": {
    "colab": {},
    "colab_type": "code",
    "id": "e_6Y9d1L6ZTF"
   },
   "outputs": [],
   "source": [
    "pickle_in = open(\"/content/drive/My Drive/IR_PROJECT/vocab\",\"rb\")\n",
    "vocab2 = pickle.load(pickle_in)"
   ]
  },
  {
   "cell_type": "markdown",
   "metadata": {
    "colab_type": "text",
    "id": "wruGVCigA1JI"
   },
   "source": [
    "## **SAVING THE MODEL**"
   ]
  },
  {
   "cell_type": "code",
   "execution_count": 0,
   "metadata": {
    "colab": {},
    "colab_type": "code",
    "id": "iEw-uah9_51g"
   },
   "outputs": [],
   "source": [
    "#pickle_out = open(\"/content/drive/My Drive/IR_PROJECT/saved models/LSTM_model_2\",\"wb\")\n",
    "#pickle.dump(lstm_model, pickle_out)"
   ]
  },
  {
   "cell_type": "code",
   "execution_count": 0,
   "metadata": {
    "colab": {},
    "colab_type": "code",
    "id": "YhbPV5eX_-Tm"
   },
   "outputs": [],
   "source": [
    "pickle_in = open(\"/content/drive/My Drive/IR_PROJECT/saved models/LSTM_model_2\",\"rb\")\n",
    "lstmtest = pickle.load(pickle_in)"
   ]
  }
 ],
 "metadata": {
  "colab": {
   "name": "OPINION-FACT CLASSIFICATION-IR Project - LSTM.ipynb",
   "provenance": []
  },
  "kernelspec": {
   "display_name": "Python 3 (ipykernel)",
   "language": "python",
   "name": "python3"
  },
  "language_info": {
   "codemirror_mode": {
    "name": "ipython",
    "version": 3
   },
   "file_extension": ".py",
   "mimetype": "text/x-python",
   "name": "python",
   "nbconvert_exporter": "python",
   "pygments_lexer": "ipython3",
   "version": "3.9.7"
  }
 },
 "nbformat": 4,
 "nbformat_minor": 1
}
