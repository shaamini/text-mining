{
 "cells": [
  {
   "cell_type": "markdown",
   "metadata": {
    "colab_type": "text",
    "id": "6rcYCu-4eYVi"
   },
   "source": [
    "## **IMPORTING REQUIRED MODULES**"
   ]
  },
  {
   "cell_type": "code",
   "execution_count": 1,
   "metadata": {
    "colab": {
     "base_uri": "https://localhost:8080/",
     "height": 218
    },
    "colab_type": "code",
    "id": "w-B27WfoMWhK",
    "outputId": "5f9a6f6e-4155-495f-c80d-5fd954c390af"
   },
   "outputs": [
    {
     "name": "stdout",
     "output_type": "stream",
     "text": [
      "Requirement already satisfied: keras-metrics in c:\\users\\rachel\\anaconda3\\envs\\tf\\lib\\site-packages (1.1.0)\n",
      "Requirement already satisfied: Keras>=2.1.5 in c:\\users\\rachel\\anaconda3\\envs\\tf\\lib\\site-packages (from keras-metrics) (2.6.0)\n",
      "Note: you may need to restart the kernel to use updated packages.\n"
     ]
    }
   ],
   "source": [
    "pip install keras-metrics"
   ]
  },
  {
   "cell_type": "code",
   "execution_count": 2,
   "metadata": {
    "colab": {
     "base_uri": "https://localhost:8080/",
     "height": 252
    },
    "colab_type": "code",
    "id": "t3hI3tAHMeCj",
    "outputId": "c19a519e-42b2-4f43-f78d-ce1126c6c0b1"
   },
   "outputs": [
    {
     "name": "stdout",
     "output_type": "stream",
     "text": [
      "Requirement already satisfied: scikit-plot in c:\\users\\rachel\\anaconda3\\envs\\tf\\lib\\site-packages (0.3.7)\n",
      "Requirement already satisfied: joblib>=0.10 in c:\\users\\rachel\\anaconda3\\envs\\tf\\lib\\site-packages (from scikit-plot) (1.1.0)\n",
      "Requirement already satisfied: matplotlib>=1.4.0 in c:\\users\\rachel\\anaconda3\\envs\\tf\\lib\\site-packages (from scikit-plot) (3.5.1)\n",
      "Requirement already satisfied: scipy>=0.9 in c:\\users\\rachel\\anaconda3\\envs\\tf\\lib\\site-packages (from scikit-plot) (1.7.3)\n",
      "Requirement already satisfied: scikit-learn>=0.18 in c:\\users\\rachel\\anaconda3\\envs\\tf\\lib\\site-packages (from scikit-plot) (1.0.2)\n",
      "Requirement already satisfied: numpy>=1.17 in c:\\users\\rachel\\anaconda3\\envs\\tf\\lib\\site-packages (from matplotlib>=1.4.0->scikit-plot) (1.22.2)\n",
      "Requirement already satisfied: cycler>=0.10 in c:\\users\\rachel\\anaconda3\\envs\\tf\\lib\\site-packages (from matplotlib>=1.4.0->scikit-plot) (0.11.0)\n",
      "Requirement already satisfied: pyparsing>=2.2.1 in c:\\users\\rachel\\anaconda3\\envs\\tf\\lib\\site-packages (from matplotlib>=1.4.0->scikit-plot) (3.0.4)\n",
      "Requirement already satisfied: pillow>=6.2.0 in c:\\users\\rachel\\anaconda3\\envs\\tf\\lib\\site-packages (from matplotlib>=1.4.0->scikit-plot) (9.0.1)\n",
      "Requirement already satisfied: packaging>=20.0 in c:\\users\\rachel\\anaconda3\\envs\\tf\\lib\\site-packages (from matplotlib>=1.4.0->scikit-plot) (21.3)\n",
      "Requirement already satisfied: fonttools>=4.22.0 in c:\\users\\rachel\\anaconda3\\envs\\tf\\lib\\site-packages (from matplotlib>=1.4.0->scikit-plot) (4.29.1)\n",
      "Requirement already satisfied: python-dateutil>=2.7 in c:\\users\\rachel\\anaconda3\\envs\\tf\\lib\\site-packages (from matplotlib>=1.4.0->scikit-plot) (2.8.2)\n",
      "Requirement already satisfied: kiwisolver>=1.0.1 in c:\\users\\rachel\\anaconda3\\envs\\tf\\lib\\site-packages (from matplotlib>=1.4.0->scikit-plot) (1.3.2)\n",
      "Requirement already satisfied: six>=1.5 in c:\\users\\rachel\\anaconda3\\envs\\tf\\lib\\site-packages (from python-dateutil>=2.7->matplotlib>=1.4.0->scikit-plot) (1.16.0)\n",
      "Requirement already satisfied: threadpoolctl>=2.0.0 in c:\\users\\rachel\\anaconda3\\envs\\tf\\lib\\site-packages (from scikit-learn>=0.18->scikit-plot) (3.1.0)\n",
      "Note: you may need to restart the kernel to use updated packages.\n"
     ]
    }
   ],
   "source": [
    "pip install scikit-plot"
   ]
  },
  {
   "cell_type": "code",
   "execution_count": 3,
   "metadata": {},
   "outputs": [
    {
     "name": "stdout",
     "output_type": "stream",
     "text": [
      "Requirement already satisfied: nltk in c:\\users\\rachel\\anaconda3\\envs\\tf\\lib\\site-packages (3.7)\n",
      "Requirement already satisfied: regex>=2021.8.3 in c:\\users\\rachel\\anaconda3\\envs\\tf\\lib\\site-packages (from nltk) (2022.3.2)\n",
      "Requirement already satisfied: tqdm in c:\\users\\rachel\\anaconda3\\envs\\tf\\lib\\site-packages (from nltk) (4.63.0)\n",
      "Requirement already satisfied: click in c:\\users\\rachel\\anaconda3\\envs\\tf\\lib\\site-packages (from nltk) (8.0.4)\n",
      "Requirement already satisfied: joblib in c:\\users\\rachel\\anaconda3\\envs\\tf\\lib\\site-packages (from nltk) (1.1.0)\n",
      "Requirement already satisfied: colorama in c:\\users\\rachel\\anaconda3\\envs\\tf\\lib\\site-packages (from click->nltk) (0.4.4)\n",
      "Note: you may need to restart the kernel to use updated packages.\n"
     ]
    }
   ],
   "source": [
    "pip install nltk"
   ]
  },
  {
   "cell_type": "code",
   "execution_count": 4,
   "metadata": {
    "colab": {
     "base_uri": "https://localhost:8080/",
     "height": 134
    },
    "colab_type": "code",
    "id": "JMYf6jqOeN12",
    "outputId": "c05b9e80-ed9b-42d4-f0e1-1b095a44feb9"
   },
   "outputs": [],
   "source": [
    "import pandas as pd\n",
    "import re\n",
    "import nltk\n",
    "# nltk.download('punkt')\n",
    "from nltk.tokenize import word_tokenize\n",
    "from nltk.corpus import stopwords\n",
    "# nltk.download('stopwords')\n",
    "# nltk.download('wordnet')\n",
    "from nltk.stem import WordNetLemmatizer \n",
    "lemmatizer = WordNetLemmatizer() \n",
    "from tqdm import tqdm\n",
    "import pickle\n",
    "from collections import Counter\n",
    "import operator\n",
    "import matplotlib.pyplot as plt\n",
    "from sklearn.model_selection import train_test_split\n",
    "import numpy as np\n",
    "from sklearn.metrics import confusion_matrix\n",
    "from sklearn import metrics\n",
    "import warnings\n",
    "warnings.filterwarnings(\"ignore\")\n",
    "from keras.models import Sequential\n",
    "from keras.layers import Dense\n",
    "from keras.layers import LSTM\n",
    "from keras.layers.embeddings import Embedding\n",
    "from keras.preprocessing import sequence\n",
    "from keras.layers import Dropout\n",
    "from IPython.display import display\n",
    "import keras_metrics\n",
    "import keras\n",
    "import matplotlib.pyplot as plt\n",
    "from keras.models import load_model\n",
    "from keras.callbacks import ModelCheckpoint, EarlyStopping\n",
    "import scikitplot as skplt\n",
    "from keras.layers import Dense, Dropout, Embedding, LSTM, Bidirectional"
   ]
  },
  {
   "cell_type": "markdown",
   "metadata": {
    "colab_type": "text",
    "id": "MLpfVavJed_K"
   },
   "source": [
    "## **READING THE DATA**"
   ]
  },
  {
   "cell_type": "code",
   "execution_count": 5,
   "metadata": {
    "colab": {
     "base_uri": "https://localhost:8080/",
     "height": 196
    },
    "colab_type": "code",
    "id": "imJUcTb1eeVL",
    "outputId": "9af7cb46-6731-4a6a-f16a-de085f51fe84"
   },
   "outputs": [
    {
     "data": {
      "text/html": [
       "<div>\n",
       "<style scoped>\n",
       "    .dataframe tbody tr th:only-of-type {\n",
       "        vertical-align: middle;\n",
       "    }\n",
       "\n",
       "    .dataframe tbody tr th {\n",
       "        vertical-align: top;\n",
       "    }\n",
       "\n",
       "    .dataframe thead th {\n",
       "        text-align: right;\n",
       "    }\n",
       "</style>\n",
       "<table border=\"1\" class=\"dataframe\">\n",
       "  <thead>\n",
       "    <tr style=\"text-align: right;\">\n",
       "      <th></th>\n",
       "      <th>Text</th>\n",
       "      <th>Label</th>\n",
       "    </tr>\n",
       "  </thead>\n",
       "  <tbody>\n",
       "    <tr>\n",
       "      <th>0</th>\n",
       "      <td>#pickids : about 20,000 children perlis eligib...</td>\n",
       "      <td>1</td>\n",
       "    </tr>\n",
       "    <tr>\n",
       "      <th>1</th>\n",
       "      <td>previous covid-19 infection ‚Äì but not vaccin...</td>\n",
       "      <td>1</td>\n",
       "    </tr>\n",
       "    <tr>\n",
       "      <th>2</th>\n",
       "      <td>india‚Äôs covid-19 vaccination coverage crosse...</td>\n",
       "      <td>1</td>\n",
       "    </tr>\n",
       "    <tr>\n",
       "      <th>3</th>\n",
       "      <td>i got call office principal commissioner cgst ...</td>\n",
       "      <td>1</td>\n",
       "    </tr>\n",
       "    <tr>\n",
       "      <th>4</th>\n",
       "      <td>i have booked flight 13 feb, 2022 toronto new ...</td>\n",
       "      <td>1</td>\n",
       "    </tr>\n",
       "  </tbody>\n",
       "</table>\n",
       "</div>"
      ],
      "text/plain": [
       "                                                Text  Label\n",
       "0  #pickids : about 20,000 children perlis eligib...      1\n",
       "1  previous covid-19 infection ‚Äì but not vaccin...      1\n",
       "2  india‚Äôs covid-19 vaccination coverage crosse...      1\n",
       "3  i got call office principal commissioner cgst ...      1\n",
       "4  i have booked flight 13 feb, 2022 toronto new ...      1"
      ]
     },
     "execution_count": 5,
     "metadata": {},
     "output_type": "execute_result"
    }
   ],
   "source": [
    "total_data = pd.read_csv(\"./INDIA-rachVersion.csv\")\n",
    "total_data.head()"
   ]
  },
  {
   "cell_type": "code",
   "execution_count": 6,
   "metadata": {},
   "outputs": [],
   "source": [
    "# total_data.drop(['Unnamed: 0'], axis=1, inplace=True)"
   ]
  },
  {
   "cell_type": "code",
   "execution_count": 7,
   "metadata": {},
   "outputs": [
    {
     "data": {
      "text/html": [
       "<div>\n",
       "<style scoped>\n",
       "    .dataframe tbody tr th:only-of-type {\n",
       "        vertical-align: middle;\n",
       "    }\n",
       "\n",
       "    .dataframe tbody tr th {\n",
       "        vertical-align: top;\n",
       "    }\n",
       "\n",
       "    .dataframe thead th {\n",
       "        text-align: right;\n",
       "    }\n",
       "</style>\n",
       "<table border=\"1\" class=\"dataframe\">\n",
       "  <thead>\n",
       "    <tr style=\"text-align: right;\">\n",
       "      <th></th>\n",
       "      <th>Text</th>\n",
       "      <th>Label</th>\n",
       "    </tr>\n",
       "  </thead>\n",
       "  <tbody>\n",
       "    <tr>\n",
       "      <th>0</th>\n",
       "      <td>#pickids : about 20,000 children perlis eligib...</td>\n",
       "      <td>1</td>\n",
       "    </tr>\n",
       "    <tr>\n",
       "      <th>1</th>\n",
       "      <td>previous covid-19 infection ‚Äì but not vaccin...</td>\n",
       "      <td>1</td>\n",
       "    </tr>\n",
       "    <tr>\n",
       "      <th>2</th>\n",
       "      <td>india‚Äôs covid-19 vaccination coverage crosse...</td>\n",
       "      <td>1</td>\n",
       "    </tr>\n",
       "    <tr>\n",
       "      <th>3</th>\n",
       "      <td>i got call office principal commissioner cgst ...</td>\n",
       "      <td>1</td>\n",
       "    </tr>\n",
       "    <tr>\n",
       "      <th>4</th>\n",
       "      <td>i have booked flight 13 feb, 2022 toronto new ...</td>\n",
       "      <td>1</td>\n",
       "    </tr>\n",
       "  </tbody>\n",
       "</table>\n",
       "</div>"
      ],
      "text/plain": [
       "                                                Text  Label\n",
       "0  #pickids : about 20,000 children perlis eligib...      1\n",
       "1  previous covid-19 infection ‚Äì but not vaccin...      1\n",
       "2  india‚Äôs covid-19 vaccination coverage crosse...      1\n",
       "3  i got call office principal commissioner cgst ...      1\n",
       "4  i have booked flight 13 feb, 2022 toronto new ...      1"
      ]
     },
     "execution_count": 7,
     "metadata": {},
     "output_type": "execute_result"
    }
   ],
   "source": [
    "total_data.head()"
   ]
  },
  {
   "cell_type": "markdown",
   "metadata": {
    "colab_type": "text",
    "id": "apULqVzrlN4H"
   },
   "source": [
    "## **CLASS-WISE COUNT OF SAMPLES IN THE ENTIRE DATA**"
   ]
  },
  {
   "cell_type": "code",
   "execution_count": 8,
   "metadata": {
    "colab": {
     "base_uri": "https://localhost:8080/",
     "height": 265
    },
    "colab_type": "code",
    "id": "wlbBGwUglS_n",
    "outputId": "28d94415-d949-4914-e726-8a28253d1f05"
   },
   "outputs": [
    {
     "data": {
      "image/png": "[encoded data removed]",
      "text/plain": [
       "<Figure size 432x288 with 1 Axes>"
      ]
     },
     "metadata": {
      "needs_background": "light"
     },
     "output_type": "display_data"
    }
   ],
   "source": [
    "total_data['Label'].value_counts().plot(kind='bar')\n",
    "plt.grid()\n",
    "plt.xticks([0,1],[\"Opinions(0)\",\"Facts(1)\"],rotation=360)\n",
    "plt.ylabel(\"Count of Samples\")\n",
    "plt.show()"
   ]
  },
  {
   "cell_type": "markdown",
   "metadata": {
    "colab_type": "text",
    "id": "LJRLRsVVhS80"
   },
   "source": [
    "## **DATA PREPROCESSING**\n"
   ]
  },
  {
   "cell_type": "code",
   "execution_count": 9,
   "metadata": {
    "colab": {},
    "colab_type": "code",
    "id": "7d4RaaRcfli7"
   },
   "outputs": [],
   "source": [
    "def preproc(data):\n",
    "  stopword=\"\"\n",
    "  cleantext = \" \"\n",
    "  stopword = set(stopwords.words('english'))\n",
    "  for i in word_tokenize(data):\n",
    "    if(any(j.isdigit() for j in i)): ## checking if the word has any numerics...\n",
    "      continue\n",
    "    i=i.lower()\n",
    "    if (i not in stopword) and (len(i)>2):\n",
    "      pattern1 = '[!.?$\\[\\]/\\}#=<>\"\\*:,|_~;()^\\']'\n",
    "      pattern2 = '[\\n\\n]+'\n",
    "      pattern3 = '[\\ \\ ]+'\n",
    "      wout_sc = re.sub(pattern1,'',i) #removing special characters\n",
    "      wout_el = re.sub(pattern2,'\\n',wout_sc) # removing empty lines (which are greater than 2)\n",
    "      wout_mspaces = re.sub(pattern3,' ',wout_el) # removing multiple spaces\n",
    "      cleaned_text = wout_mspaces.strip()\n",
    "      cleaned_text=lemmatizer.lemmatize(cleaned_text)\n",
    "      if (i not in stopword) and (len(i)>2):\n",
    "        cleantext = cleantext+cleaned_text+\" \"\n",
    "  return cleantext.strip()"
   ]
  },
  {
   "cell_type": "code",
   "execution_count": 10,
   "metadata": {},
   "outputs": [
    {
     "name": "stderr",
     "output_type": "stream",
     "text": [
      "[nltk_data] Downloading package omw-1.4 to\n",
      "[nltk_data]     C:\\Users\\rachel\\AppData\\Roaming\\nltk_data...\n",
      "[nltk_data]   Package omw-1.4 is already up-to-date!\n"
     ]
    },
    {
     "data": {
      "text/plain": [
       "True"
      ]
     },
     "execution_count": 10,
     "metadata": {},
     "output_type": "execute_result"
    }
   ],
   "source": [
    "import nltk\n",
    "nltk.download('omw-1.4')"
   ]
  },
  {
   "cell_type": "code",
   "execution_count": 11,
   "metadata": {
    "colab": {
     "base_uri": "https://localhost:8080/",
     "height": 33
    },
    "colab_type": "code",
    "id": "yscZrOvel80N",
    "outputId": "75fadce6-01b0-48df-da38-5b09f7c67f69"
   },
   "outputs": [
    {
     "name": "stderr",
     "output_type": "stream",
     "text": [
      "100%|██████████| 1000/1000 [00:14<00:00, 70.52it/s]\n"
     ]
    }
   ],
   "source": [
    "for i in tqdm(range(len(total_data)),leave=True,position=0):\n",
    "  total_data.iloc[i,0] = preproc(total_data.iloc[i,0])"
   ]
  },
  {
   "cell_type": "markdown",
   "metadata": {
    "colab_type": "text",
    "id": "-1ikOjea1v6C"
   },
   "source": [
    "## **PREPROCESSED DATA PICKLED**"
   ]
  },
  {
   "cell_type": "code",
   "execution_count": 12,
   "metadata": {
    "colab": {},
    "colab_type": "code",
    "id": "qXq1jG0M1T1q"
   },
   "outputs": [],
   "source": [
    "pickle_out = open(\"./facts_opinions_INDIA.csv\",\"wb\")\n",
    "pickle.dump(total_data, pickle_out)"
   ]
  },
  {
   "cell_type": "code",
   "execution_count": 13,
   "metadata": {},
   "outputs": [
    {
     "data": {
      "text/plain": [
       "<function _pickle.dump(obj, file, protocol=None, *, fix_imports=True, buffer_callback=None)>"
      ]
     },
     "execution_count": 13,
     "metadata": {},
     "output_type": "execute_result"
    }
   ],
   "source": [
    "pickle.dump"
   ]
  },
  {
   "cell_type": "markdown",
   "metadata": {
    "colab_type": "text",
    "id": "vYsQ5pnf6_MS"
   },
   "source": [
    "## **LOADING THE PREPROCESSED DATA**"
   ]
  },
  {
   "cell_type": "code",
   "execution_count": 14,
   "metadata": {
    "colab": {},
    "colab_type": "code",
    "id": "QbkO5gwh6_qX"
   },
   "outputs": [],
   "source": [
    "pickle_in = open(\"./facts_opinions_INDIA.csv\",\"rb\")\n",
    "total_data = pickle.load(pickle_in)"
   ]
  },
  {
   "cell_type": "markdown",
   "metadata": {
    "colab_type": "text",
    "id": "udIXVlIXqjMI"
   },
   "source": [
    "## **DATA AFTER PRE-PROCESSING**"
   ]
  },
  {
   "cell_type": "code",
   "execution_count": 15,
   "metadata": {
    "colab": {
     "base_uri": "https://localhost:8080/",
     "height": 195
    },
    "colab_type": "code",
    "id": "zHdJIqJzrkZ1",
    "outputId": "7ea62223-a688-4ca6-cef5-274d94036604"
   },
   "outputs": [
    {
     "data": {
      "text/html": [
       "<div>\n",
       "<style scoped>\n",
       "    .dataframe tbody tr th:only-of-type {\n",
       "        vertical-align: middle;\n",
       "    }\n",
       "\n",
       "    .dataframe tbody tr th {\n",
       "        vertical-align: top;\n",
       "    }\n",
       "\n",
       "    .dataframe thead th {\n",
       "        text-align: right;\n",
       "    }\n",
       "</style>\n",
       "<table border=\"1\" class=\"dataframe\">\n",
       "  <thead>\n",
       "    <tr style=\"text-align: right;\">\n",
       "      <th></th>\n",
       "      <th>Text</th>\n",
       "      <th>Label</th>\n",
       "    </tr>\n",
       "  </thead>\n",
       "  <tbody>\n",
       "    <tr>\n",
       "      <th>0</th>\n",
       "      <td>pickids child perlis eligible vaccination</td>\n",
       "      <td>1</td>\n",
       "    </tr>\n",
       "    <tr>\n",
       "      <th>1</th>\n",
       "      <td>previous infection ‚äì vaccination ‚äì improve...</td>\n",
       "      <td>1</td>\n",
       "    </tr>\n",
       "    <tr>\n",
       "      <th>2</th>\n",
       "      <td>india‚äôs vaccination coverage cross mark</td>\n",
       "      <td>1</td>\n",
       "    </tr>\n",
       "    <tr>\n",
       "      <th>3</th>\n",
       "      <td>got call office principal commissioner cgst lu...</td>\n",
       "      <td>1</td>\n",
       "    </tr>\n",
       "    <tr>\n",
       "      <th>4</th>\n",
       "      <td>booked flight feb toronto new delhi departure ...</td>\n",
       "      <td>1</td>\n",
       "    </tr>\n",
       "  </tbody>\n",
       "</table>\n",
       "</div>"
      ],
      "text/plain": [
       "                                                Text  Label\n",
       "0          pickids child perlis eligible vaccination      1\n",
       "1  previous infection ‚äì vaccination ‚äì improve...      1\n",
       "2          india‚äôs vaccination coverage cross mark      1\n",
       "3  got call office principal commissioner cgst lu...      1\n",
       "4  booked flight feb toronto new delhi departure ...      1"
      ]
     },
     "execution_count": 15,
     "metadata": {},
     "output_type": "execute_result"
    }
   ],
   "source": [
    "total_data.head()"
   ]
  },
  {
   "cell_type": "markdown",
   "metadata": {
    "colab_type": "text",
    "id": "6YYY25xw77af"
   },
   "source": [
    "## **SEPERATING OUT TEXT AND CORRESPONDING LABELS**"
   ]
  },
  {
   "cell_type": "code",
   "execution_count": 16,
   "metadata": {
    "colab": {},
    "colab_type": "code",
    "id": "xPGbO2kg8AqY"
   },
   "outputs": [],
   "source": [
    "data_y = pd.DataFrame(data=total_data['Label'],columns=['Label'])\n",
    "data_x = total_data.drop(columns=\"Label\")"
   ]
  },
  {
   "cell_type": "code",
   "execution_count": 17,
   "metadata": {
    "colab": {
     "base_uri": "https://localhost:8080/",
     "height": 34
    },
    "colab_type": "code",
    "id": "zzJ6lpZp8oaJ",
    "outputId": "a4b2593b-9f14-4f8c-a0dc-838667fc5b9d"
   },
   "outputs": [
    {
     "data": {
      "text/plain": [
       "(Index(['Label'], dtype='object'), Index(['Text'], dtype='object'))"
      ]
     },
     "execution_count": 17,
     "metadata": {},
     "output_type": "execute_result"
    }
   ],
   "source": [
    "data_y.columns,data_x.columns"
   ]
  },
  {
   "cell_type": "markdown",
   "metadata": {
    "colab_type": "text",
    "id": "sNXy9Tqgq4Cz"
   },
   "source": [
    "## **PERFORMING TRAIN-CV-TEST SPLITS**"
   ]
  },
  {
   "cell_type": "code",
   "execution_count": 45,
   "metadata": {
    "colab": {
     "base_uri": "https://localhost:8080/",
     "height": 118
    },
    "colab_type": "code",
    "id": "813irARBq_mc",
    "outputId": "65edd87f-ea65-4e35-96a1-d9e0aa1a2bc9"
   },
   "outputs": [
    {
     "name": "stdout",
     "output_type": "stream",
     "text": [
      "Shape of X_Train:: (640, 1)\n",
      "Shape of X_Cv:: (160, 1)\n",
      "Shape of X_Test:: (200, 1)\n",
      "Shape of Y_Train:: (640, 1)\n",
      "Shape of Y_Cv:: (160, 1)\n",
      "Shape of Y_Test:: (200, 1)\n"
     ]
    }
   ],
   "source": [
    "x_train,x_test,y_train,y_test = train_test_split(data_x,data_y,train_size=0.8,random_state=1)\n",
    "x_train,x_cv,y_train,y_cv = train_test_split(x_train,y_train,train_size=0.8,random_state=1)\n",
    "print(\"Shape of X_Train::\",x_train.shape)\n",
    "print(\"Shape of X_Cv::\",x_cv.shape)\n",
    "print(\"Shape of X_Test::\",x_test.shape)\n",
    "print(\"Shape of Y_Train::\",y_train.shape)\n",
    "print(\"Shape of Y_Cv::\",y_cv.shape)\n",
    "print(\"Shape of Y_Test::\",y_test.shape)"
   ]
  },
  {
   "cell_type": "markdown",
   "metadata": {
    "colab_type": "text",
    "id": "JHgmQA-cMnq1"
   },
   "source": [
    "## **WRITING TEST DATA INTO CSV FOR VERIFICATION DURING DEPLOYMENT**"
   ]
  },
  {
   "cell_type": "code",
   "execution_count": 46,
   "metadata": {
    "colab": {},
    "colab_type": "code",
    "id": "4-_wMFSwMHE2"
   },
   "outputs": [],
   "source": [
    "x_test.to_csv(\"./x_testINDIA.csv\",index=False)\n",
    "y_test.to_csv(\"./y_testINDIA.csv\",index=False)"
   ]
  },
  {
   "cell_type": "markdown",
   "metadata": {
    "colab_type": "text",
    "id": "VIq2eiXL-w7Z"
   },
   "source": [
    "## **CLASS-WISE COUNT OF SAMPLES IN TRAINING DATA**"
   ]
  },
  {
   "cell_type": "code",
   "execution_count": 47,
   "metadata": {
    "colab": {
     "base_uri": "https://localhost:8080/",
     "height": 265
    },
    "colab_type": "code",
    "id": "OSZ9GA2V-I1M",
    "outputId": "db7406b2-86d2-41c5-ac01-ea2041ac950b"
   },
   "outputs": [
    {
     "data": {
      "image/png": "[encoded data removed]",
      "text/plain": [
       "<Figure size 432x288 with 1 Axes>"
      ]
     },
     "metadata": {
      "needs_background": "light"
     },
     "output_type": "display_data"
    }
   ],
   "source": [
    "y_train['Label'].value_counts().plot(kind='bar')\n",
    "plt.grid()\n",
    "plt.xticks([0,1],[\"Opinions(0)\",\"Facts(1)\"],rotation=360)\n",
    "plt.ylabel(\"Count of Samples\")\n",
    "plt.show()\n",
    "plt.show()"
   ]
  },
  {
   "cell_type": "markdown",
   "metadata": {
    "colab_type": "text",
    "id": "9OnLofPq_AZH"
   },
   "source": [
    "## **CLASS-WISE COUNT OF SAMPLES IN CV DATA**"
   ]
  },
  {
   "cell_type": "code",
   "execution_count": 48,
   "metadata": {
    "colab": {
     "base_uri": "https://localhost:8080/",
     "height": 265
    },
    "colab_type": "code",
    "id": "pc0o9FTU-Q-n",
    "outputId": "10215865-aabb-4073-a8da-625e3dffbc83"
   },
   "outputs": [
    {
     "data": {
      "image/png": "[encoded data removed]",
      "text/plain": [
       "<Figure size 432x288 with 1 Axes>"
      ]
     },
     "metadata": {
      "needs_background": "light"
     },
     "output_type": "display_data"
    }
   ],
   "source": [
    "y_cv['Label'].value_counts().plot(kind='bar')\n",
    "plt.grid()\n",
    "plt.xticks([0,1],[\"Opinions(0)\",\"Facts(1)\"],rotation=360)\n",
    "plt.ylabel(\"Count of Samples\")\n",
    "plt.show()\n",
    "plt.show()"
   ]
  },
  {
   "cell_type": "markdown",
   "metadata": {
    "colab_type": "text",
    "id": "w9gIDxoF-5Qj"
   },
   "source": [
    "## **CLASS-WISE COUNT OF SAMPLES IN TEST DATA**"
   ]
  },
  {
   "cell_type": "code",
   "execution_count": 49,
   "metadata": {
    "colab": {
     "base_uri": "https://localhost:8080/",
     "height": 265
    },
    "colab_type": "code",
    "id": "GVyVNjY6-5gf",
    "outputId": "43d7978a-0ac5-40c2-fdf4-21ecb5ada6ae"
   },
   "outputs": [
    {
     "data": {
      "image/png": "[encoded data removed]",
      "text/plain": [
       "<Figure size 432x288 with 1 Axes>"
      ]
     },
     "metadata": {
      "needs_background": "light"
     },
     "output_type": "display_data"
    }
   ],
   "source": [
    "y_test['Label'].value_counts().plot(kind='bar')\n",
    "plt.grid()\n",
    "plt.xticks([0,1],[\"Opinions(0)\",\"Facts(1)\"],rotation=360)\n",
    "plt.ylabel(\"Count of Samples\")\n",
    "plt.show()\n",
    "plt.show()"
   ]
  },
  {
   "cell_type": "markdown",
   "metadata": {
    "colab_type": "text",
    "id": "vGNtonLFDQkf"
   },
   "source": [
    "## **MAXIMUM LENGTH OF THE TEXT IN TRAINING DATA**"
   ]
  },
  {
   "cell_type": "code",
   "execution_count": 50,
   "metadata": {
    "colab": {
     "base_uri": "https://localhost:8080/",
     "height": 34
    },
    "colab_type": "code",
    "id": "Hbq-aFVqA-1z",
    "outputId": "d5ec4eb3-28ef-4efd-ac6c-ae765a50fca1"
   },
   "outputs": [
    {
     "name": "stdout",
     "output_type": "stream",
     "text": [
      "Maximum length of sentence:: 33\n"
     ]
    }
   ],
   "source": [
    "max_len=0\n",
    "l=[]\n",
    "index=[]\n",
    "for i in range(len(x_train)):\n",
    "  cur_len = len(x_train.iloc[i,0].split())\n",
    "  if(cur_len>max_len):\n",
    "    max_len=cur_len\n",
    "print(\"Maximum length of sentence::\",max_len)"
   ]
  },
  {
   "cell_type": "markdown",
   "metadata": {
    "colab_type": "text",
    "id": "JrLDLjiaRkkt"
   },
   "source": [
    "## **GENEARTING VOCABULARY FROM TRAINING DATA**"
   ]
  },
  {
   "cell_type": "code",
   "execution_count": 51,
   "metadata": {
    "colab": {
     "base_uri": "https://localhost:8080/",
     "height": 34
    },
    "colab_type": "code",
    "id": "3AepD9krR0Qf",
    "outputId": "10174484-5005-41b0-f302-a2e8d2f8e9c4"
   },
   "outputs": [
    {
     "name": "stderr",
     "output_type": "stream",
     "text": [
      "100%|██████████| 640/640 [00:00<00:00, 49367.44it/s]\n"
     ]
    }
   ],
   "source": [
    "vocab={}\n",
    "for i in tqdm(x_train['Text'],position=0,leave=True):\n",
    "  for j in i.split():\n",
    "    if j not in vocab:\n",
    "      vocab[j]=1\n",
    "    else:\n",
    "      vocab[j]+=1\n",
    "vocab = sorted(vocab, key=vocab.get, reverse=True)"
   ]
  },
  {
   "cell_type": "markdown",
   "metadata": {
    "colab_type": "text",
    "id": "JWK-oAbe_rKR"
   },
   "source": [
    "## **VECTORIZING THE DATA**"
   ]
  },
  {
   "cell_type": "code",
   "execution_count": 52,
   "metadata": {
    "colab": {},
    "colab_type": "code",
    "id": "0XTV1g1-_u_1"
   },
   "outputs": [],
   "source": [
    "def vectorize(data,vocab):\n",
    "  print(\"\\nGenerating Vectors......\")\n",
    "  max_seq_len=1400\n",
    "  row=0\n",
    "  ## converting sequence to vector...\n",
    "  new_data = pd.DataFrame(columns=[\"Text\"])\n",
    "  for i in tqdm(data['Text'],position=0,leave=True):\n",
    "    sent=[]\n",
    "    for j in i.split():\n",
    "      try:\n",
    "        sent.append((vocab.index(j))+1)\n",
    "      except:\n",
    "        continue\n",
    "    new_data.loc[row] = [sent]\n",
    "    row+=1\n",
    "  new_data = sequence.pad_sequences(new_data['Text'], maxlen=max_seq_len)\n",
    "  return new_data ## if its CV/TEST data we return the numerical vectors computed w.r.t training vocab"
   ]
  },
  {
   "cell_type": "code",
   "execution_count": 53,
   "metadata": {
    "colab": {
     "base_uri": "https://localhost:8080/",
     "height": 168
    },
    "colab_type": "code",
    "id": "FVZd4xMBAAk1",
    "outputId": "25d698c0-6ba0-4728-aded-9718aa1842b5"
   },
   "outputs": [
    {
     "name": "stdout",
     "output_type": "stream",
     "text": [
      "\n",
      "Generating Vectors......\n"
     ]
    },
    {
     "name": "stderr",
     "output_type": "stream",
     "text": [
      "100%|██████████| 640/640 [00:03<00:00, 177.21it/s]\n"
     ]
    },
    {
     "name": "stdout",
     "output_type": "stream",
     "text": [
      "\n",
      "Generating Vectors......\n"
     ]
    },
    {
     "name": "stderr",
     "output_type": "stream",
     "text": [
      "100%|██████████| 160/160 [00:01<00:00, 144.02it/s]\n"
     ]
    },
    {
     "name": "stdout",
     "output_type": "stream",
     "text": [
      "\n",
      "Generating Vectors......\n"
     ]
    },
    {
     "name": "stderr",
     "output_type": "stream",
     "text": [
      "100%|██████████| 200/200 [00:01<00:00, 165.01it/s]\n"
     ]
    }
   ],
   "source": [
    "x_train_vec = vectorize(x_train,vocab)\n",
    "x_cv_vec = vectorize(x_cv,vocab)\n",
    "x_test_vec = vectorize(x_test,vocab)"
   ]
  },
  {
   "cell_type": "markdown",
   "metadata": {
    "colab_type": "text",
    "id": "IY0_HjPz_j_S"
   },
   "source": [
    "## **THE LSTM ARCHITECTURE**"
   ]
  },
  {
   "cell_type": "code",
   "execution_count": 54,
   "metadata": {
    "colab": {
     "base_uri": "https://localhost:8080/",
     "height": 235
    },
    "colab_type": "code",
    "id": "HEC95JIn-9Ou",
    "outputId": "e51b2802-606d-47f6-9291-63b9c2028cfe"
   },
   "outputs": [
    {
     "name": "stdout",
     "output_type": "stream",
     "text": [
      "Epoch 1/20\n",
      "1/1 [==============================] - 47s 47s/step - loss: 0.6930 - acc: 0.5344 - val_loss: 0.6757 - val_acc: 0.6625\n",
      "\n",
      "Epoch 00001: val_loss improved from inf to 0.67569, saving model to ./saved models\\model-001-0.534375-0.662500.h5\n",
      "Epoch 2/20\n",
      "1/1 [==============================] - 32s 32s/step - loss: 0.6719 - acc: 0.6672 - val_loss: 0.6512 - val_acc: 0.6625\n",
      "\n",
      "Epoch 00002: val_loss improved from 0.67569 to 0.65118, saving model to ./saved models\\model-002-0.667188-0.662500.h5\n",
      "Epoch 3/20\n",
      "1/1 [==============================] - 32s 32s/step - loss: 0.6395 - acc: 0.6672 - val_loss: 0.6260 - val_acc: 0.6625\n",
      "\n",
      "Epoch 00003: val_loss improved from 0.65118 to 0.62595, saving model to ./saved models\\model-003-0.667188-0.662500.h5\n",
      "Epoch 4/20\n",
      "1/1 [==============================] - 17s 17s/step - loss: 0.5984 - acc: 0.6672 - val_loss: 0.6449 - val_acc: 0.6625\n",
      "\n",
      "Epoch 00004: val_loss did not improve from 0.62595\n",
      "Epoch 5/20\n",
      "1/1 [==============================] - 31s 31s/step - loss: 0.6030 - acc: 0.6672 - val_loss: 0.6170 - val_acc: 0.6625\n",
      "\n",
      "Epoch 00005: val_loss improved from 0.62595 to 0.61696, saving model to ./saved models\\model-005-0.667188-0.662500.h5\n",
      "Epoch 6/20\n",
      "1/1 [==============================] - 33s 33s/step - loss: 0.5519 - acc: 0.6672 - val_loss: 0.5878 - val_acc: 0.6625\n",
      "\n",
      "Epoch 00006: val_loss improved from 0.61696 to 0.58778, saving model to ./saved models\\model-006-0.667188-0.662500.h5\n",
      "Epoch 7/20\n",
      "1/1 [==============================] - 37s 37s/step - loss: 0.5063 - acc: 0.6938 - val_loss: 0.5697 - val_acc: 0.6625\n",
      "\n",
      "Epoch 00007: val_loss improved from 0.58778 to 0.56970, saving model to ./saved models\\model-007-0.693750-0.662500.h5\n",
      "Epoch 8/20\n",
      "1/1 [==============================] - 42s 42s/step - loss: 0.4748 - acc: 0.8141 - val_loss: 0.5502 - val_acc: 0.6875\n",
      "\n",
      "Epoch 00008: val_loss improved from 0.56970 to 0.55024, saving model to ./saved models\\model-008-0.814062-0.687500.h5\n",
      "Epoch 9/20\n",
      "1/1 [==============================] - 28s 28s/step - loss: 0.4337 - acc: 0.8922 - val_loss: 0.5307 - val_acc: 0.6875\n",
      "\n",
      "Epoch 00009: val_loss improved from 0.55024 to 0.53075, saving model to ./saved models\\model-009-0.892187-0.687500.h5\n",
      "Epoch 10/20\n",
      "1/1 [==============================] - 32s 32s/step - loss: 0.3814 - acc: 0.9156 - val_loss: 0.5288 - val_acc: 0.6875\n",
      "\n",
      "Epoch 00010: val_loss improved from 0.53075 to 0.52879, saving model to ./saved models\\model-010-0.915625-0.687500.h5\n",
      "Epoch 11/20\n",
      "1/1 [==============================] - 37s 37s/step - loss: 0.3309 - acc: 0.9203 - val_loss: 0.5524 - val_acc: 0.6938\n",
      "\n",
      "Epoch 00011: val_loss did not improve from 0.52879\n",
      "Epoch 12/20\n",
      "1/1 [==============================] - 39s 39s/step - loss: 0.2953 - acc: 0.9141 - val_loss: 0.5565 - val_acc: 0.6812\n",
      "\n",
      "Epoch 00012: val_loss did not improve from 0.52879\n",
      "Epoch 13/20\n",
      "1/1 [==============================] - 38s 38s/step - loss: 0.2600 - acc: 0.9359 - val_loss: 0.5247 - val_acc: 0.7063\n",
      "\n",
      "Epoch 00013: val_loss improved from 0.52879 to 0.52468, saving model to ./saved models\\model-013-0.935938-0.706250.h5\n",
      "Epoch 14/20\n",
      "1/1 [==============================] - 30s 30s/step - loss: 0.2219 - acc: 0.9609 - val_loss: 0.4779 - val_acc: 0.7500\n",
      "\n",
      "Epoch 00014: val_loss improved from 0.52468 to 0.47795, saving model to ./saved models\\model-014-0.960938-0.750000.h5\n",
      "Epoch 15/20\n",
      "1/1 [==============================] - 23s 23s/step - loss: 0.1903 - acc: 0.9812 - val_loss: 0.4443 - val_acc: 0.7812\n",
      "\n",
      "Epoch 00015: val_loss improved from 0.47795 to 0.44429, saving model to ./saved models\\model-015-0.981250-0.781250.h5\n",
      "Epoch 16/20\n",
      "1/1 [==============================] - 39s 39s/step - loss: 0.1671 - acc: 0.9859 - val_loss: 0.4338 - val_acc: 0.8188\n",
      "\n",
      "Epoch 00016: val_loss improved from 0.44429 to 0.43377, saving model to ./saved models\\model-016-0.985937-0.818750.h5\n",
      "Epoch 17/20\n",
      "1/1 [==============================] - 36s 36s/step - loss: 0.1474 - acc: 0.9875 - val_loss: 0.4341 - val_acc: 0.8188\n",
      "\n",
      "Epoch 00017: val_loss did not improve from 0.43377\n",
      "Epoch 18/20\n",
      "1/1 [==============================] - 50s 50s/step - loss: 0.1249 - acc: 0.9891 - val_loss: 0.4634 - val_acc: 0.7937\n",
      "\n",
      "Epoch 00018: val_loss did not improve from 0.43377\n",
      "Epoch 19/20\n",
      "1/1 [==============================] - 41s 41s/step - loss: 0.1033 - acc: 0.9875 - val_loss: 0.5146 - val_acc: 0.7937\n",
      "\n",
      "Epoch 00019: val_loss did not improve from 0.43377\n",
      "Epoch 20/20\n",
      "1/1 [==============================] - 9s 9s/step - loss: 0.0904 - acc: 0.9875 - val_loss: 0.5386 - val_acc: 0.7937\n",
      "\n",
      "Epoch 00020: val_loss did not improve from 0.43377\n"
     ]
    }
   ],
   "source": [
    "from keras.utils import np_utils\n",
    "from tensorflow.keras import models\n",
    "import tensorflow as tf\n",
    "lstm_model = Sequential()\n",
    "lstm_model.add(Embedding(1+len(vocab),20,input_length=1400)) #taking whole length of vocab\n",
    "lstm_model.add(LSTM(20))\n",
    "lstm_model.add(Dense(2, activation='softmax'))\n",
    "checkpoint = ModelCheckpoint('./saved models/model-{epoch:03d}-{acc:03f}-{val_acc:03f}.h5', verbose=1, monitor='val_loss',save_best_only=True, mode='auto')  \n",
    "lstm_model.compile(loss='binary_crossentropy', optimizer=tf.keras.optimizers.Adam(0.01), metrics=['acc'])\n",
    "values=lstm_model.fit(x_train_vec,keras.utils.np_utils.to_categorical(y_train,num_classes=2),epochs=20,batch_size=1000,validation_data=(x_cv_vec,keras.utils.np_utils.to_categorical(y_cv,num_classes=2)),callbacks=[checkpoint])"
   ]
  },
  {
   "cell_type": "code",
   "execution_count": 55,
   "metadata": {},
   "outputs": [],
   "source": [
    "# pip install tensorflow --upgrade --force-reinstall"
   ]
  },
  {
   "cell_type": "markdown",
   "metadata": {
    "colab_type": "text",
    "id": "s1PZ5t-beC-c"
   },
   "source": [
    "## **EPOCHS V/S LOSS**"
   ]
  },
  {
   "cell_type": "code",
   "execution_count": 56,
   "metadata": {
    "colab": {
     "base_uri": "https://localhost:8080/",
     "height": 283
    },
    "colab_type": "code",
    "id": "YIQBW-2EeDoE",
    "outputId": "3e842a31-a576-499d-e577-7fdf68118f47"
   },
   "outputs": [
    {
     "data": {
      "image/png": "[encoded data removed]",
      "text/plain": [
       "<Figure size 432x288 with 1 Axes>"
      ]
     },
     "metadata": {
      "needs_background": "light"
     },
     "output_type": "display_data"
    }
   ],
   "source": [
    "plt.plot(values.history['loss'],label = \"Training Loss\")\n",
    "plt.plot(values.history['val_loss'],label = \"Cross Validation Loss\")\n",
    "plt.ylim([0,1])\n",
    "plt.xlabel(\"Epochs\")\n",
    "plt.ylabel(\"Loss\")\n",
    "plt.grid()\n",
    "plt.legend()\n",
    "plt.show()"
   ]
  },
  {
   "cell_type": "markdown",
   "metadata": {
    "colab_type": "text",
    "id": "YgUFqEDDeB0T"
   },
   "source": [
    "## **EPOCHS V/S ACCURACY**"
   ]
  },
  {
   "cell_type": "code",
   "execution_count": 57,
   "metadata": {
    "colab": {
     "base_uri": "https://localhost:8080/",
     "height": 279
    },
    "colab_type": "code",
    "id": "yfeE9IDDeCQM",
    "outputId": "784867b5-c638-496e-a56d-b1671e9a6b1d"
   },
   "outputs": [
    {
     "data": {
      "image/png": "[encoded data removed]",
      "text/plain": [
       "<Figure size 432x288 with 1 Axes>"
      ]
     },
     "metadata": {
      "needs_background": "light"
     },
     "output_type": "display_data"
    }
   ],
   "source": [
    "plt.plot(values.history['acc'],label = \"Training Accuracy\")\n",
    "plt.plot(values.history['val_acc'],label = \"Cross Validation Accuracy\")\n",
    "plt.xlabel(\"Epochs\")\n",
    "plt.ylabel(\"Accuracy\")\n",
    "plt.ylim([0,1])\n",
    "plt.grid()\n",
    "plt.legend()\n",
    "plt.show()"
   ]
  },
  {
   "cell_type": "markdown",
   "metadata": {
    "colab_type": "text",
    "id": "p2jqEGqQd18h"
   },
   "source": [
    "## **PERFORMANCE ON TEST DATA**"
   ]
  },
  {
   "cell_type": "markdown",
   "metadata": {
    "colab_type": "text",
    "id": "7BRxJxEopw6t"
   },
   "source": [
    "#### **CONFUSION MATRIX ON TEST DATA**"
   ]
  },
  {
   "cell_type": "code",
   "execution_count": 58,
   "metadata": {
    "colab": {
     "base_uri": "https://localhost:8080/",
     "height": 136
    },
    "colab_type": "code",
    "id": "nxwMHz_NJv9z",
    "outputId": "9aa1afdb-6a7c-418d-8285-886a3df90961"
   },
   "outputs": [
    {
     "data": {
      "text/html": [
       "<div>\n",
       "<style scoped>\n",
       "    .dataframe tbody tr th:only-of-type {\n",
       "        vertical-align: middle;\n",
       "    }\n",
       "\n",
       "    .dataframe tbody tr th {\n",
       "        vertical-align: top;\n",
       "    }\n",
       "\n",
       "    .dataframe thead th {\n",
       "        text-align: right;\n",
       "    }\n",
       "</style>\n",
       "<table border=\"1\" class=\"dataframe\">\n",
       "  <thead>\n",
       "    <tr style=\"text-align: right;\">\n",
       "      <th></th>\n",
       "      <th>Opinions</th>\n",
       "      <th>Facts</th>\n",
       "    </tr>\n",
       "    <tr>\n",
       "      <th>True labels</th>\n",
       "      <th></th>\n",
       "      <th></th>\n",
       "    </tr>\n",
       "  </thead>\n",
       "  <tbody>\n",
       "    <tr>\n",
       "      <th>Opinions</th>\n",
       "      <td>36</td>\n",
       "      <td>28</td>\n",
       "    </tr>\n",
       "    <tr>\n",
       "      <th>Facts</th>\n",
       "      <td>12</td>\n",
       "      <td>124</td>\n",
       "    </tr>\n",
       "  </tbody>\n",
       "</table>\n",
       "</div>"
      ],
      "text/plain": [
       "             Opinions  Facts\n",
       "True labels                 \n",
       "Opinions           36     28\n",
       "Facts              12    124"
      ]
     },
     "metadata": {},
     "output_type": "display_data"
    }
   ],
   "source": [
    "from sklearn.metrics import confusion_matrix\n",
    "from IPython.display import display\n",
    "classes=[\"Opinions\",\"Facts\"]\n",
    "y_pred = np.argmax(lstm_model.predict(x_test_vec), axis=-1)\n",
    "# y_pred = lstm_model.predict(x_test_vec)\n",
    "conf_df = pd.DataFrame(confusion_matrix(y_test,y_pred),columns=classes,index=classes)\n",
    "conf_df.index.name = 'True labels'\n",
    "display(conf_df)"
   ]
  },
  {
   "cell_type": "markdown",
   "metadata": {
    "colab_type": "text",
    "id": "qEaK2vOIp4f4"
   },
   "source": [
    "#### **ACCURACY ON TEST DATA**"
   ]
  },
  {
   "cell_type": "code",
   "execution_count": 59,
   "metadata": {
    "colab": {
     "base_uri": "https://localhost:8080/",
     "height": 34
    },
    "colab_type": "code",
    "id": "p7aOFBkzp73k",
    "outputId": "9a28be7b-740a-482e-e549-9285f4eb053f"
   },
   "outputs": [
    {
     "name": "stdout",
     "output_type": "stream",
     "text": [
      "Accuracy on Test Data:: 80.0\n"
     ]
    }
   ],
   "source": [
    "numer = conf_df.iloc[0,0]+conf_df.iloc[1,1]\n",
    "denom = conf_df.iloc[0,0]b+conf_df.iloc[0,1]+conf_df.iloc[1,0]+conf_df.iloc[1,1]\n",
    "print(\"Accuracy on Test Data::\",100*numer/denom)"
   ]
  },
  {
   "cell_type": "code",
   "execution_count": 61,
   "metadata": {},
   "outputs": [
    {
     "name": "stdout",
     "output_type": "stream",
     "text": [
      "Accuracy =80.00%\n",
      "F1 score =79.13%\n",
      "Precision score =78.29%\n",
      "Recall score =73.71%\n"
     ]
    }
   ],
   "source": [
    "from sklearn.metrics import *\n",
    "print(\"Accuracy ={:.2f}%\".format(accuracy_score(y_test, y_pred)*100))\n",
    "print(\"F1 score ={:.2f}%\".format(f1_score(y_test, y_pred, average=\"weighted\")*100))\n",
    "print(\"Precision score ={:.2f}%\".format(precision_score(y_test, y_pred, average=\"macro\")*100))\n",
    "print(\"Recall score ={:.2f}%\".format(recall_score(y_test, y_pred, average=\"macro\")*100))"
   ]
  },
  {
   "cell_type": "markdown",
   "metadata": {
    "colab_type": "text",
    "id": "gz7x_WurAs-x"
   },
   "source": [
    "## **VOCABULARY WRITTEN TO A PICKLE FILE**"
   ]
  },
  {
   "cell_type": "code",
   "execution_count": 60,
   "metadata": {
    "colab": {},
    "colab_type": "code",
    "id": "4VT-H_kb6Ibb"
   },
   "outputs": [],
   "source": [
    "#pickle_out = open(\"/content/drive/My Drive/IR_PROJECT/vocab\",\"wb\")\n",
    "#pickle.dump(vocab, pickle_out)"
   ]
  },
  {
   "cell_type": "code",
   "execution_count": 44,
   "metadata": {
    "colab": {},
    "colab_type": "code",
    "id": "e_6Y9d1L6ZTF"
   },
   "outputs": [
    {
     "ename": "FileNotFoundError",
     "evalue": "[Errno 2] No such file or directory: '/content/drive/My Drive/IR_PROJECT/vocab'",
     "output_type": "error",
     "traceback": [
      "\u001b[1;31m---------------------------------------------------------------------------\u001b[0m",
      "\u001b[1;31mFileNotFoundError\u001b[0m                         Traceback (most recent call last)",
      "\u001b[1;32m~\\AppData\\Local\\Temp/ipykernel_18068/1777332427.py\u001b[0m in \u001b[0;36m<module>\u001b[1;34m\u001b[0m\n\u001b[1;32m----> 1\u001b[1;33m \u001b[0mpickle_in\u001b[0m \u001b[1;33m=\u001b[0m \u001b[0mopen\u001b[0m\u001b[1;33m(\u001b[0m\u001b[1;34m\"/content/drive/My Drive/IR_PROJECT/vocab\"\u001b[0m\u001b[1;33m,\u001b[0m\u001b[1;34m\"rb\"\u001b[0m\u001b[1;33m)\u001b[0m\u001b[1;33m\u001b[0m\u001b[1;33m\u001b[0m\u001b[0m\n\u001b[0m\u001b[0;32m      2\u001b[0m \u001b[0mvocab2\u001b[0m \u001b[1;33m=\u001b[0m \u001b[0mpickle\u001b[0m\u001b[1;33m.\u001b[0m\u001b[0mload\u001b[0m\u001b[1;33m(\u001b[0m\u001b[0mpickle_in\u001b[0m\u001b[1;33m)\u001b[0m\u001b[1;33m\u001b[0m\u001b[1;33m\u001b[0m\u001b[0m\n",
      "\u001b[1;31mFileNotFoundError\u001b[0m: [Errno 2] No such file or directory: '/content/drive/My Drive/IR_PROJECT/vocab'"
     ]
    }
   ],
   "source": [
    "pickle_in = open(\"/content/drive/My Drive/IR_PROJECT/vocab\",\"rb\")\n",
    "vocab2 = pickle.load(pickle_in)"
   ]
  },
  {
   "cell_type": "code",
   "execution_count": null,
   "metadata": {},
   "outputs": [],
   "source": [
    "from sklearn.metrics import *\n",
    "print(\"Accuracy ={:.2f}%\".format(accuracy_score(y_test, y_pred)*100))\n",
    "print(\"F1 score ={:.2f}%\".format(f1_score(y_test, y_pred, average=\"weighted\")*100))\n",
    "print(\"Precision score ={:.2f}%\".format(precision_score(y_test, y_pred, average=\"macro\")*100))\n",
    "print(\"Recall score ={:.2f}%\".format(recall_score(y_test, y_pred, average=\"macro\")*100))"
   ]
  },
  {
   "cell_type": "markdown",
   "metadata": {
    "colab_type": "text",
    "id": "wruGVCigA1JI"
   },
   "source": [
    "## **SAVING THE MODEL**"
   ]
  },
  {
   "cell_type": "code",
   "execution_count": null,
   "metadata": {
    "colab": {},
    "colab_type": "code",
    "id": "iEw-uah9_51g"
   },
   "outputs": [],
   "source": [
    "#pickle_out = open(\"/content/drive/My Drive/IR_PROJECT/saved models/LSTM_model_2\",\"wb\")\n",
    "#pickle.dump(lstm_model, pickle_out)"
   ]
  },
  {
   "cell_type": "code",
   "execution_count": null,
   "metadata": {
    "colab": {},
    "colab_type": "code",
    "id": "YhbPV5eX_-Tm"
   },
   "outputs": [],
   "source": [
    "pickle_in = open(\"/content/drive/My Drive/IR_PROJECT/saved models/LSTM_model_2\",\"rb\")\n",
    "lstmtest = pickle.load(pickle_in)"
   ]
  }
 ],
 "metadata": {
  "colab": {
   "name": "OPINION-FACT CLASSIFICATION-IR Project - LSTM.ipynb",
   "provenance": []
  },
  "kernelspec": {
   "display_name": "Python 3 (ipykernel)",
   "language": "python",
   "name": "python3"
  },
  "language_info": {
   "codemirror_mode": {
    "name": "ipython",
    "version": 3
   },
   "file_extension": ".py",
   "mimetype": "text/x-python",
   "name": "python",
   "nbconvert_exporter": "python",
   "pygments_lexer": "ipython3",
   "version": "3.9.7"
  }
 },
 "nbformat": 4,
 "nbformat_minor": 1
}
