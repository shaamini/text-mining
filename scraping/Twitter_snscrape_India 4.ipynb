{
 "cells": [
  {
   "cell_type": "markdown",
   "id": "19934c72",
   "metadata": {},
   "source": [
    "snscrape\n",
    "\n",
    "Ref: https://github.com/JustAnotherArchivist/snscrape"
   ]
  },
  {
   "cell_type": "code",
   "execution_count": 1,
   "id": "ff6e64bb",
   "metadata": {},
   "outputs": [],
   "source": [
    "import snscrape.modules.twitter as sntwitter\n",
    "import pandas as pd"
   ]
  },
  {
   "cell_type": "markdown",
   "id": "27e7e5c0",
   "metadata": {},
   "source": [
    "Scraping tweets from a text search query\n",
    "\n",
    "Using the code below, we are scraping 100 tweets between June 14, 2020, and August 31, 2021,\n",
    "with the keywords 'SSR Bollywood'.\n",
    "\n",
    "I then pulled attributes DateTime, tweet id, text, and username from the tweet objects."
   ]
  },
  {
   "cell_type": "code",
   "execution_count": 6,
   "id": "05135598",
   "metadata": {},
   "outputs": [],
   "source": [
    "# Creating list to append tweet data to\n",
    "tweets_list2 = []\n",
    "\n",
    "# search terms\n",
    "search_terms = 'never vaccine'\n",
    "\n",
    "# Using TwitterSearchScraper to scrape data and append tweets to list\n",
    "for i, tweet in enumerate(sntwitter.TwitterSearchScraper(search_terms + ' since:2020-12-01 until:2022-02-11 near:\"India\" within:1000km').get_items()):\n",
    "    if i > 100000:\n",
    "        break\n",
    "    #declare the attributes to be returned\n",
    "    tweets_list2.append([tweet.date, tweet.id, tweet.content, tweet.user.username])\n",
    "\n",
    "# Creating a dataframe from the tweets list above\n",
    "tweets_df2 = pd.DataFrame(tweets_list2, columns=['Datetime', 'Tweet Id', 'Text', 'Username',])"
   ]
  },
  {
   "cell_type": "code",
   "execution_count": 7,
   "id": "6fe44360",
   "metadata": {
    "scrolled": true
   },
   "outputs": [
    {
     "data": {
      "text/html": [
       "<div>\n",
       "<style scoped>\n",
       "    .dataframe tbody tr th:only-of-type {\n",
       "        vertical-align: middle;\n",
       "    }\n",
       "\n",
       "    .dataframe tbody tr th {\n",
       "        vertical-align: top;\n",
       "    }\n",
       "\n",
       "    .dataframe thead th {\n",
       "        text-align: right;\n",
       "    }\n",
       "</style>\n",
       "<table border=\"1\" class=\"dataframe\">\n",
       "  <thead>\n",
       "    <tr style=\"text-align: right;\">\n",
       "      <th></th>\n",
       "      <th>Datetime</th>\n",
       "      <th>Tweet Id</th>\n",
       "      <th>Text</th>\n",
       "      <th>Username</th>\n",
       "    </tr>\n",
       "  </thead>\n",
       "  <tbody>\n",
       "    <tr>\n",
       "      <th>0</th>\n",
       "      <td>2022-02-10 22:27:33+00:00</td>\n",
       "      <td>1491901680769662980</td>\n",
       "      <td>@ronInBendigo They will never admit they got i...</td>\n",
       "      <td>singaporedavid1</td>\n",
       "    </tr>\n",
       "    <tr>\n",
       "      <th>1</th>\n",
       "      <td>2022-02-10 21:47:59+00:00</td>\n",
       "      <td>1491891721491333122</td>\n",
       "      <td>@KingCapaIot @Pete_Chi_Fan Never watched a gam...</td>\n",
       "      <td>JBonesteel80</td>\n",
       "    </tr>\n",
       "    <tr>\n",
       "      <th>2</th>\n",
       "      <td>2022-02-10 16:18:22+00:00</td>\n",
       "      <td>1491808771110227968</td>\n",
       "      <td>These corrupt vaccine makers put HIV in their ...</td>\n",
       "      <td>bondee2020</td>\n",
       "    </tr>\n",
       "    <tr>\n",
       "      <th>3</th>\n",
       "      <td>2022-02-10 15:55:31+00:00</td>\n",
       "      <td>1491803020450938886</td>\n",
       "      <td>@Coachrizzo2 @SecretS80760045 @Tombaan66 The p...</td>\n",
       "      <td>slingsingapore</td>\n",
       "    </tr>\n",
       "    <tr>\n",
       "      <th>4</th>\n",
       "      <td>2022-02-10 15:38:51+00:00</td>\n",
       "      <td>1491798828277633025</td>\n",
       "      <td>When WHO requested everyone to stay wherever t...</td>\n",
       "      <td>ArunaKhatri4</td>\n",
       "    </tr>\n",
       "    <tr>\n",
       "      <th>...</th>\n",
       "      <td>...</td>\n",
       "      <td>...</td>\n",
       "      <td>...</td>\n",
       "      <td>...</td>\n",
       "    </tr>\n",
       "    <tr>\n",
       "      <th>95</th>\n",
       "      <td>2022-02-06 09:11:26+00:00</td>\n",
       "      <td>1490251779132784645</td>\n",
       "      <td>@DGHisham So the fastest forced experimental v...</td>\n",
       "      <td>hasifmoonryong</td>\n",
       "    </tr>\n",
       "    <tr>\n",
       "      <th>96</th>\n",
       "      <td>2022-02-06 09:09:05+00:00</td>\n",
       "      <td>1490251190470610947</td>\n",
       "      <td>So the fastest forced experimental vaccines in...</td>\n",
       "      <td>hasifmoonryong</td>\n",
       "    </tr>\n",
       "    <tr>\n",
       "      <th>97</th>\n",
       "      <td>2022-02-06 09:01:44+00:00</td>\n",
       "      <td>1490249337233944576</td>\n",
       "      <td>Finding the root cause of pandemics is key\\n\"I...</td>\n",
       "      <td>FashionTrnding</td>\n",
       "    </tr>\n",
       "    <tr>\n",
       "      <th>98</th>\n",
       "      <td>2022-02-06 08:13:49+00:00</td>\n",
       "      <td>1490237281055088642</td>\n",
       "      <td>‘2. Saya bertanggungjawab ke atas risiko Yang ...</td>\n",
       "      <td>keshvinsidhu</td>\n",
       "    </tr>\n",
       "    <tr>\n",
       "      <th>99</th>\n",
       "      <td>2022-02-06 08:11:43+00:00</td>\n",
       "      <td>1490236749628710913</td>\n",
       "      <td>@sunmor2901 He also told Pfizer Moderna vaccin...</td>\n",
       "      <td>Nitin44043688</td>\n",
       "    </tr>\n",
       "  </tbody>\n",
       "</table>\n",
       "<p>100 rows × 4 columns</p>\n",
       "</div>"
      ],
      "text/plain": [
       "                    Datetime             Tweet Id  \\\n",
       "0  2022-02-10 22:27:33+00:00  1491901680769662980   \n",
       "1  2022-02-10 21:47:59+00:00  1491891721491333122   \n",
       "2  2022-02-10 16:18:22+00:00  1491808771110227968   \n",
       "3  2022-02-10 15:55:31+00:00  1491803020450938886   \n",
       "4  2022-02-10 15:38:51+00:00  1491798828277633025   \n",
       "..                       ...                  ...   \n",
       "95 2022-02-06 09:11:26+00:00  1490251779132784645   \n",
       "96 2022-02-06 09:09:05+00:00  1490251190470610947   \n",
       "97 2022-02-06 09:01:44+00:00  1490249337233944576   \n",
       "98 2022-02-06 08:13:49+00:00  1490237281055088642   \n",
       "99 2022-02-06 08:11:43+00:00  1490236749628710913   \n",
       "\n",
       "                                                 Text         Username  \n",
       "0   @ronInBendigo They will never admit they got i...  singaporedavid1  \n",
       "1   @KingCapaIot @Pete_Chi_Fan Never watched a gam...     JBonesteel80  \n",
       "2   These corrupt vaccine makers put HIV in their ...       bondee2020  \n",
       "3   @Coachrizzo2 @SecretS80760045 @Tombaan66 The p...   slingsingapore  \n",
       "4   When WHO requested everyone to stay wherever t...     ArunaKhatri4  \n",
       "..                                                ...              ...  \n",
       "95  @DGHisham So the fastest forced experimental v...   hasifmoonryong  \n",
       "96  So the fastest forced experimental vaccines in...   hasifmoonryong  \n",
       "97  Finding the root cause of pandemics is key\\n\"I...   FashionTrnding  \n",
       "98  ‘2. Saya bertanggungjawab ke atas risiko Yang ...     keshvinsidhu  \n",
       "99  @sunmor2901 He also told Pfizer Moderna vaccin...    Nitin44043688  \n",
       "\n",
       "[100 rows x 4 columns]"
      ]
     },
     "execution_count": 7,
     "metadata": {},
     "output_type": "execute_result"
    }
   ],
   "source": [
    "tweets_df2"
   ]
  },
  {
   "cell_type": "code",
   "execution_count": 8,
   "id": "51cc8841",
   "metadata": {},
   "outputs": [],
   "source": [
    "tweets_df2.to_csv(\"../data/India/vaccination/never-vaccine.csv\", index = False)  "
   ]
  },
  {
   "cell_type": "code",
   "execution_count": null,
   "id": "c8ddb7e8",
   "metadata": {},
   "outputs": [],
   "source": []
  }
 ],
 "metadata": {
  "kernelspec": {
   "display_name": "Python 3 (ipykernel)",
   "language": "python",
   "name": "python3"
  },
  "language_info": {
   "codemirror_mode": {
    "name": "ipython",
    "version": 3
   },
   "file_extension": ".py",
   "mimetype": "text/x-python",
   "name": "python",
   "nbconvert_exporter": "python",
   "pygments_lexer": "ipython3",
   "version": "3.9.7"
  }
 },
 "nbformat": 4,
 "nbformat_minor": 5
}
