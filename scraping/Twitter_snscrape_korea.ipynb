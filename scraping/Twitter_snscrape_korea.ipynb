{
 "cells": [
  {
   "cell_type": "markdown",
   "metadata": {},
   "source": [
    "snscrape\n",
    "\n",
    "Ref: https://github.com/JustAnotherArchivist/snscrape"
   ]
  },
  {
   "cell_type": "code",
   "execution_count": 2,
   "metadata": {},
   "outputs": [],
   "source": [
    "import snscrape.modules.twitter as sntwitter\n",
    "import pandas as pd"
   ]
  },
  {
   "cell_type": "code",
   "execution_count": 3,
   "metadata": {},
   "outputs": [],
   "source": [
    "# Creating list to append tweet data to\n",
    "tweets_list = []\n",
    "\n",
    "# search terms\n",
    "search_terms = '모더나'\n",
    "\n",
    "# Using TwitterSearchScraper to scrape data and append tweets to list\n",
    "for i, tweet in enumerate(sntwitter.TwitterSearchScraper(search_terms + ' since:2021-01-01 until:2021-12-31 near:\"Daegu\" within:10000km').get_items()):\n",
    "    if i > 10000:\n",
    "        break\n",
    "    #declare the attributes to be returned\n",
    "    tweets_list.append([tweet.content])\n",
    "\n",
    "# Creating a dataframe from the tweets list above\n",
    "tweets_df = pd.DataFrame(tweets_list, columns=['Text'])"
   ]
  },
  {
   "cell_type": "code",
   "execution_count": 4,
   "metadata": {
    "scrolled": false
   },
   "outputs": [
    {
     "data": {
      "text/html": [
       "<div>\n",
       "<style scoped>\n",
       "    .dataframe tbody tr th:only-of-type {\n",
       "        vertical-align: middle;\n",
       "    }\n",
       "\n",
       "    .dataframe tbody tr th {\n",
       "        vertical-align: top;\n",
       "    }\n",
       "\n",
       "    .dataframe thead th {\n",
       "        text-align: right;\n",
       "    }\n",
       "</style>\n",
       "<table border=\"1\" class=\"dataframe\">\n",
       "  <thead>\n",
       "    <tr style=\"text-align: right;\">\n",
       "      <th></th>\n",
       "      <th>Text</th>\n",
       "    </tr>\n",
       "  </thead>\n",
       "  <tbody>\n",
       "    <tr>\n",
       "      <th>0</th>\n",
       "      <td>#첫줄방가\\n#동네병원\\n#코로나백신\\n#모더나\\n#부스터샷\\n#접종자많구나 @Ha...</td>\n",
       "    </tr>\n",
       "    <tr>\n",
       "      <th>1</th>\n",
       "      <td>모더나 2000 만회분 구매로 22년 사용할 8000만회분 구매완료 했다고ㅡ? 인구...</td>\n",
       "    </tr>\n",
       "    <tr>\n",
       "      <th>2</th>\n",
       "      <td>모더나 엄청 빠지네 ㅠㅜ\\n사회적으론 엄청 좋은 시그널이긴한데… https://t....</td>\n",
       "    </tr>\n",
       "    <tr>\n",
       "      <th>3</th>\n",
       "      <td>부스터샷! \\n\\n1,2,3차 다 모더나~\\n\\n백신을 이렇게 자주 맞아도 되는건가...</td>\n",
       "    </tr>\n",
       "    <tr>\n",
       "      <th>4</th>\n",
       "      <td>아제 - 화이자 - 모더나 삼위일체의 기회였는데 아쉽다 \\n\\n아 - 화 - 화</td>\n",
       "    </tr>\n",
       "    <tr>\n",
       "      <th>...</th>\n",
       "      <td>...</td>\n",
       "    </tr>\n",
       "    <tr>\n",
       "      <th>399</th>\n",
       "      <td>8월에 이글쓸때 딘딘처럼 모더나 주식이나 살걸..;;생각만하고 미국주식계좌트고공부하...</td>\n",
       "    </tr>\n",
       "    <tr>\n",
       "      <th>400</th>\n",
       "      <td>다른사람들 백신 아무도관심없는 여름부터 화이자 모더나 기대했었는데 그때는 주변사람들...</td>\n",
       "    </tr>\n",
       "    <tr>\n",
       "      <th>401</th>\n",
       "      <td>모더나 화이자 맞고싶다 ㅜ 수치로는 홍역백신효과랑 같은데..전염력이 코로나 19보다...</td>\n",
       "    </tr>\n",
       "    <tr>\n",
       "      <th>402</th>\n",
       "      <td>저렇게\\n의심많고\\n게다가\\n글로벌로\\n걱정\\n많으시고\\n여기서\\n세금\\n많이내는 ...</td>\n",
       "    </tr>\n",
       "    <tr>\n",
       "      <th>403</th>\n",
       "      <td>문재인 왈 \"느릿느릿걸어도 황소걸음\"? 모더나백신은 5월부터 공급한다고 기사떳던데,...</td>\n",
       "    </tr>\n",
       "  </tbody>\n",
       "</table>\n",
       "<p>404 rows × 1 columns</p>\n",
       "</div>"
      ],
      "text/plain": [
       "                                                  Text\n",
       "0    #첫줄방가\\n#동네병원\\n#코로나백신\\n#모더나\\n#부스터샷\\n#접종자많구나 @Ha...\n",
       "1    모더나 2000 만회분 구매로 22년 사용할 8000만회분 구매완료 했다고ㅡ? 인구...\n",
       "2    모더나 엄청 빠지네 ㅠㅜ\\n사회적으론 엄청 좋은 시그널이긴한데… https://t....\n",
       "3    부스터샷! \\n\\n1,2,3차 다 모더나~\\n\\n백신을 이렇게 자주 맞아도 되는건가...\n",
       "4         아제 - 화이자 - 모더나 삼위일체의 기회였는데 아쉽다 \\n\\n아 - 화 - 화\n",
       "..                                                 ...\n",
       "399  8월에 이글쓸때 딘딘처럼 모더나 주식이나 살걸..;;생각만하고 미국주식계좌트고공부하...\n",
       "400  다른사람들 백신 아무도관심없는 여름부터 화이자 모더나 기대했었는데 그때는 주변사람들...\n",
       "401  모더나 화이자 맞고싶다 ㅜ 수치로는 홍역백신효과랑 같은데..전염력이 코로나 19보다...\n",
       "402  저렇게\\n의심많고\\n게다가\\n글로벌로\\n걱정\\n많으시고\\n여기서\\n세금\\n많이내는 ...\n",
       "403  문재인 왈 \"느릿느릿걸어도 황소걸음\"? 모더나백신은 5월부터 공급한다고 기사떳던데,...\n",
       "\n",
       "[404 rows x 1 columns]"
      ]
     },
     "execution_count": 4,
     "metadata": {},
     "output_type": "execute_result"
    }
   ],
   "source": [
    "tweets_df"
   ]
  },
  {
   "cell_type": "code",
   "execution_count": 5,
   "metadata": {},
   "outputs": [],
   "source": [
    "tweets_df.to_csv(\"../data/Korea/moderna.csv\", index=False)"
   ]
  },
  {
   "cell_type": "code",
   "execution_count": null,
   "metadata": {},
   "outputs": [],
   "source": []
  }
 ],
 "metadata": {
  "kernelspec": {
   "display_name": "Python 3",
   "language": "python",
   "name": "python3"
  },
  "language_info": {
   "codemirror_mode": {
    "name": "ipython",
    "version": 3
   },
   "file_extension": ".py",
   "mimetype": "text/x-python",
   "name": "python",
   "nbconvert_exporter": "python",
   "pygments_lexer": "ipython3",
   "version": "3.8.5"
  }
 },
 "nbformat": 4,
 "nbformat_minor": 5
}
