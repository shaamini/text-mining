{
 "cells": [
  {
   "cell_type": "markdown",
   "metadata": {},
   "source": [
    "snscrape\n",
    "\n",
    "Ref: https://github.com/JustAnotherArchivist/snscrape"
   ]
  },
  {
   "cell_type": "code",
   "execution_count": 1,
   "metadata": {},
   "outputs": [],
   "source": [
    "import snscrape.modules.twitter as sntwitter\n",
    "import pandas as pd"
   ]
  },
  {
   "cell_type": "code",
   "execution_count": 12,
   "metadata": {},
   "outputs": [],
   "source": [
    "# Creating list to append tweet data to\n",
    "tweets_list = []\n",
    "\n",
    "# search terms\n",
    "search_terms = '백신'\n",
    "\n",
    "# Using TwitterSearchScraper to scrape data and append tweets to list\n",
    "for i, tweet in enumerate(sntwitter.TwitterSearchScraper(search_terms + ' since:2020-01-01 until:2021-12-31 near:\"Daegu\" within:1000km').get_items()):\n",
    "    if i > 10000:\n",
    "        break\n",
    "    #declare the attributes to be returned\n",
    "    tweets_list.append([tweet.content])\n",
    "\n",
    "# Creating a dataframe from the tweets list above\n",
    "tweets_df = pd.DataFrame(tweets_list, columns=['Text'])"
   ]
  },
  {
   "cell_type": "code",
   "execution_count": 13,
   "metadata": {
    "scrolled": false
   },
   "outputs": [
    {
     "data": {
      "text/html": [
       "<div>\n",
       "<style scoped>\n",
       "    .dataframe tbody tr th:only-of-type {\n",
       "        vertical-align: middle;\n",
       "    }\n",
       "\n",
       "    .dataframe tbody tr th {\n",
       "        vertical-align: top;\n",
       "    }\n",
       "\n",
       "    .dataframe thead th {\n",
       "        text-align: right;\n",
       "    }\n",
       "</style>\n",
       "<table border=\"1\" class=\"dataframe\">\n",
       "  <thead>\n",
       "    <tr style=\"text-align: right;\">\n",
       "      <th></th>\n",
       "      <th>Text</th>\n",
       "    </tr>\n",
       "  </thead>\n",
       "  <tbody>\n",
       "    <tr>\n",
       "      <th>0</th>\n",
       "      <td>백신 접종 후 14일이 경과 되었습니다\\n에욬ㅋㅋㅋㅋㅋㅋㅋㅋㅋㅋㅋㅋㅋㅋㅋㅋㅋㅋㅋㅋㅋ...</td>\n",
       "    </tr>\n",
       "    <tr>\n",
       "      <th>1</th>\n",
       "      <td>백신 3차 좀 아프네 ㅠㅠㅠㅠ</td>\n",
       "    </tr>\n",
       "    <tr>\n",
       "      <th>2</th>\n",
       "      <td>RoughSketch씨의 신보..\\n진짜 사고싶은데 백신이 아직이라 코미케 예약도 ...</td>\n",
       "    </tr>\n",
       "    <tr>\n",
       "      <th>3</th>\n",
       "      <td>@hellcat_370 정말... 백신 맞고 항체 만들어지는 과정 모르는 모지리들 ...</td>\n",
       "    </tr>\n",
       "    <tr>\n",
       "      <th>4</th>\n",
       "      <td>질병청 니들은 그 죄 값을\\n어찌 다 갚을꼬?\\n\\n16세 백신 접종 후 첫 사망·...</td>\n",
       "    </tr>\n",
       "    <tr>\n",
       "      <th>...</th>\n",
       "      <td>...</td>\n",
       "    </tr>\n",
       "    <tr>\n",
       "      <th>7428</th>\n",
       "      <td>@HumancyborgWba 시부럴적와대새끼들 지난번 지들만의 탄저균백신구입은 어떻...</td>\n",
       "    </tr>\n",
       "    <tr>\n",
       "      <th>7429</th>\n",
       "      <td>@jinyeongkim2000 제보조작하라고 시켜놓고 걸리니까 모른척 빠져나간새끼가...</td>\n",
       "    </tr>\n",
       "    <tr>\n",
       "      <th>7430</th>\n",
       "      <td>기독교인과의 논쟁은 언제해봐도 지루하기 짝이없다. 전략이 2000년대든 10년이든 ...</td>\n",
       "    </tr>\n",
       "    <tr>\n",
       "      <th>7431</th>\n",
       "      <td>검찰 \"한국백신, 물량공급 부당조절..예산 140억 낭비\" https://t.co/...</td>\n",
       "    </tr>\n",
       "    <tr>\n",
       "      <th>7432</th>\n",
       "      <td>@hanitweet 1년동안 뭐하고 이제와서 상의를 하니?철수는 백신 업그레이드나 ...</td>\n",
       "    </tr>\n",
       "  </tbody>\n",
       "</table>\n",
       "<p>7433 rows × 1 columns</p>\n",
       "</div>"
      ],
      "text/plain": [
       "                                                   Text\n",
       "0     백신 접종 후 14일이 경과 되었습니다\\n에욬ㅋㅋㅋㅋㅋㅋㅋㅋㅋㅋㅋㅋㅋㅋㅋㅋㅋㅋㅋㅋㅋ...\n",
       "1                                      백신 3차 좀 아프네 ㅠㅠㅠㅠ\n",
       "2     RoughSketch씨의 신보..\\n진짜 사고싶은데 백신이 아직이라 코미케 예약도 ...\n",
       "3     @hellcat_370 정말... 백신 맞고 항체 만들어지는 과정 모르는 모지리들 ...\n",
       "4     질병청 니들은 그 죄 값을\\n어찌 다 갚을꼬?\\n\\n16세 백신 접종 후 첫 사망·...\n",
       "...                                                 ...\n",
       "7428  @HumancyborgWba 시부럴적와대새끼들 지난번 지들만의 탄저균백신구입은 어떻...\n",
       "7429  @jinyeongkim2000 제보조작하라고 시켜놓고 걸리니까 모른척 빠져나간새끼가...\n",
       "7430  기독교인과의 논쟁은 언제해봐도 지루하기 짝이없다. 전략이 2000년대든 10년이든 ...\n",
       "7431  검찰 \"한국백신, 물량공급 부당조절..예산 140억 낭비\" https://t.co/...\n",
       "7432  @hanitweet 1년동안 뭐하고 이제와서 상의를 하니?철수는 백신 업그레이드나 ...\n",
       "\n",
       "[7433 rows x 1 columns]"
      ]
     },
     "execution_count": 13,
     "metadata": {},
     "output_type": "execute_result"
    }
   ],
   "source": [
    "tweets_df"
   ]
  },
  {
   "cell_type": "code",
   "execution_count": 14,
   "metadata": {},
   "outputs": [],
   "source": [
    "tweets_df.to_csv(\"../data/Korea/vaccine_daegu.csv\", index=False)"
   ]
  },
  {
   "cell_type": "code",
   "execution_count": null,
   "metadata": {},
   "outputs": [],
   "source": []
  }
 ],
 "metadata": {
  "kernelspec": {
   "display_name": "Python 3",
   "language": "python",
   "name": "python3"
  },
  "language_info": {
   "codemirror_mode": {
    "name": "ipython",
    "version": 3
   },
   "file_extension": ".py",
   "mimetype": "text/x-python",
   "name": "python",
   "nbconvert_exporter": "python",
   "pygments_lexer": "ipython3",
   "version": "3.8.5"
  }
 },
 "nbformat": 4,
 "nbformat_minor": 5
}
