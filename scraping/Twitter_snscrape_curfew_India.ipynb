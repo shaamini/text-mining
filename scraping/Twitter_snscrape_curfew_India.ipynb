{
 "cells": [
  {
   "cell_type": "markdown",
   "metadata": {},
   "source": [
    "snscrape\n",
    "\n",
    "Ref: https://github.com/JustAnotherArchivist/snscrape"
   ]
  },
  {
   "cell_type": "code",
   "execution_count": 2,
   "metadata": {},
   "outputs": [],
   "source": [
    "import snscrape.modules.twitter as sntwitter\n",
    "import pandas as pd"
   ]
  },
  {
   "cell_type": "markdown",
   "metadata": {},
   "source": [
    "Scraping tweets from a text search query\n",
    "\n",
    "Using the code below, we are scraping 100 tweets between June 14, 2020, and August 31, 2021,\n",
    "with the keywords 'SSR Bollywood'.\n",
    "\n",
    "I then pulled attributes DateTime, tweet id, text, and username from the tweet objects."
   ]
  },
  {
   "cell_type": "code",
   "execution_count": 20,
   "metadata": {},
   "outputs": [],
   "source": [
    "# Creating list to append tweet data to\n",
    "tweets_list2 = []\n",
    "\n",
    "# search terms\n",
    "search_terms = 'curfew'\n",
    "\n",
    "# Using TwitterSearchScraper to scrape data and append tweets to list\n",
    "for i, tweet in enumerate(sntwitter.TwitterSearchScraper(search_terms + ' since:2020-01-01 until:2022-02-11 near:\"Delhi\" within:1000km').get_items()):\n",
    "    if i > 10000:\n",
    "        break\n",
    "    #declare the attributes to be returned\n",
    "    tweets_list2.append([tweet.date, tweet.id, tweet.content, tweet.user.username])\n",
    "\n",
    "# Creating a dataframe from the tweets list above\n",
    "tweets_df2 = pd.DataFrame(tweets_list2, columns=['Datetime', 'Tweet Id', 'Text', 'Username'])"
   ]
  },
  {
   "cell_type": "code",
   "execution_count": 21,
   "metadata": {
    "scrolled": true
   },
   "outputs": [
    {
     "data": {
      "text/html": [
       "<div>\n",
       "<style scoped>\n",
       "    .dataframe tbody tr th:only-of-type {\n",
       "        vertical-align: middle;\n",
       "    }\n",
       "\n",
       "    .dataframe tbody tr th {\n",
       "        vertical-align: top;\n",
       "    }\n",
       "\n",
       "    .dataframe thead th {\n",
       "        text-align: right;\n",
       "    }\n",
       "</style>\n",
       "<table border=\"1\" class=\"dataframe\">\n",
       "  <thead>\n",
       "    <tr style=\"text-align: right;\">\n",
       "      <th></th>\n",
       "      <th>Datetime</th>\n",
       "      <th>Tweet Id</th>\n",
       "      <th>Text</th>\n",
       "      <th>Username</th>\n",
       "    </tr>\n",
       "  </thead>\n",
       "  <tbody>\n",
       "    <tr>\n",
       "      <th>0</th>\n",
       "      <td>2022-02-10 21:25:15+00:00</td>\n",
       "      <td>1491886002998497280</td>\n",
       "      <td>Mother whose son was killed by illegal migrant...</td>\n",
       "      <td>Button19906164</td>\n",
       "    </tr>\n",
       "    <tr>\n",
       "      <th>1</th>\n",
       "      <td>2022-02-10 20:22:49+00:00</td>\n",
       "      <td>1491870288316755968</td>\n",
       "      <td>@UpYogiVikas Curfew lga h 11 to 5 😐 subah khul...</td>\n",
       "      <td>ThePerilousGirl</td>\n",
       "    </tr>\n",
       "    <tr>\n",
       "      <th>2</th>\n",
       "      <td>2022-02-10 20:15:02+00:00</td>\n",
       "      <td>1491868331892097025</td>\n",
       "      <td>Gujarat relaxes Covid-induced night curfew in ...</td>\n",
       "      <td>dellyranksindia</td>\n",
       "    </tr>\n",
       "    <tr>\n",
       "      <th>3</th>\n",
       "      <td>2022-02-10 19:49:03+00:00</td>\n",
       "      <td>1491861791617523715</td>\n",
       "      <td>Covid-19: Tripura government imposes night cur...</td>\n",
       "      <td>MarketsCafe</td>\n",
       "    </tr>\n",
       "    <tr>\n",
       "      <th>4</th>\n",
       "      <td>2022-02-10 19:09:22+00:00</td>\n",
       "      <td>1491851807387226120</td>\n",
       "      <td>Gujarat: Night Curfew Shortened in Eight Citie...</td>\n",
       "      <td>wrevoint</td>\n",
       "    </tr>\n",
       "    <tr>\n",
       "      <th>...</th>\n",
       "      <td>...</td>\n",
       "      <td>...</td>\n",
       "      <td>...</td>\n",
       "      <td>...</td>\n",
       "    </tr>\n",
       "    <tr>\n",
       "      <th>9996</th>\n",
       "      <td>2020-10-19 13:09:12+00:00</td>\n",
       "      <td>1318177380154798081</td>\n",
       "      <td>Shops, groceries &amp;amp; pharmacies in Quarantin...</td>\n",
       "      <td>AthaudaDasuni</td>\n",
       "    </tr>\n",
       "    <tr>\n",
       "      <th>9997</th>\n",
       "      <td>2020-10-18 17:12:03+00:00</td>\n",
       "      <td>1317876105710309377</td>\n",
       "      <td>@imZahran Ha ha. From gliders, A380s to super ...</td>\n",
       "      <td>nazly</td>\n",
       "    </tr>\n",
       "    <tr>\n",
       "      <th>9998</th>\n",
       "      <td>2020-10-18 15:44:40+00:00</td>\n",
       "      <td>1317854116782108673</td>\n",
       "      <td>@nazly @DawnPDSi I’m using Prima to make dumpl...</td>\n",
       "      <td>Nancy_Chuang</td>\n",
       "    </tr>\n",
       "    <tr>\n",
       "      <th>9999</th>\n",
       "      <td>2020-10-17 07:48:57+00:00</td>\n",
       "      <td>1317372012382228482</td>\n",
       "      <td>\"Macron announces nightly curfew in major Fren...</td>\n",
       "      <td>Ankitsaraiya10</td>\n",
       "    </tr>\n",
       "    <tr>\n",
       "      <th>10000</th>\n",
       "      <td>2020-10-17 04:05:56+00:00</td>\n",
       "      <td>1317315887452487686</td>\n",
       "      <td>A curfew banning people from leaving home at n...</td>\n",
       "      <td>natcha_jong</td>\n",
       "    </tr>\n",
       "  </tbody>\n",
       "</table>\n",
       "<p>10001 rows × 4 columns</p>\n",
       "</div>"
      ],
      "text/plain": [
       "                       Datetime             Tweet Id  \\\n",
       "0     2022-02-10 21:25:15+00:00  1491886002998497280   \n",
       "1     2022-02-10 20:22:49+00:00  1491870288316755968   \n",
       "2     2022-02-10 20:15:02+00:00  1491868331892097025   \n",
       "3     2022-02-10 19:49:03+00:00  1491861791617523715   \n",
       "4     2022-02-10 19:09:22+00:00  1491851807387226120   \n",
       "...                         ...                  ...   \n",
       "9996  2020-10-19 13:09:12+00:00  1318177380154798081   \n",
       "9997  2020-10-18 17:12:03+00:00  1317876105710309377   \n",
       "9998  2020-10-18 15:44:40+00:00  1317854116782108673   \n",
       "9999  2020-10-17 07:48:57+00:00  1317372012382228482   \n",
       "10000 2020-10-17 04:05:56+00:00  1317315887452487686   \n",
       "\n",
       "                                                    Text         Username  \n",
       "0      Mother whose son was killed by illegal migrant...   Button19906164  \n",
       "1      @UpYogiVikas Curfew lga h 11 to 5 😐 subah khul...  ThePerilousGirl  \n",
       "2      Gujarat relaxes Covid-induced night curfew in ...  dellyranksindia  \n",
       "3      Covid-19: Tripura government imposes night cur...      MarketsCafe  \n",
       "4      Gujarat: Night Curfew Shortened in Eight Citie...         wrevoint  \n",
       "...                                                  ...              ...  \n",
       "9996   Shops, groceries &amp; pharmacies in Quarantin...    AthaudaDasuni  \n",
       "9997   @imZahran Ha ha. From gliders, A380s to super ...            nazly  \n",
       "9998   @nazly @DawnPDSi I’m using Prima to make dumpl...     Nancy_Chuang  \n",
       "9999   \"Macron announces nightly curfew in major Fren...   Ankitsaraiya10  \n",
       "10000  A curfew banning people from leaving home at n...      natcha_jong  \n",
       "\n",
       "[10001 rows x 4 columns]"
      ]
     },
     "execution_count": 21,
     "metadata": {},
     "output_type": "execute_result"
    }
   ],
   "source": [
    "tweets_df2"
   ]
  },
  {
   "cell_type": "code",
   "execution_count": 22,
   "metadata": {},
   "outputs": [],
   "source": [
    "tweets_df2.to_csv(\"../data/India/curfews/Delhi_Lockdown_Curfew.csv\", index = False)  "
   ]
  },
  {
   "cell_type": "code",
   "execution_count": null,
   "metadata": {},
   "outputs": [],
   "source": []
  }
 ],
 "metadata": {
  "kernelspec": {
   "display_name": "Python 3",
   "language": "python",
   "name": "python3"
  },
  "language_info": {
   "codemirror_mode": {
    "name": "ipython",
    "version": 3
   },
   "file_extension": ".py",
   "mimetype": "text/x-python",
   "name": "python",
   "nbconvert_exporter": "python",
   "pygments_lexer": "ipython3",
   "version": "3.8.5"
  }
 },
 "nbformat": 4,
 "nbformat_minor": 5
}
