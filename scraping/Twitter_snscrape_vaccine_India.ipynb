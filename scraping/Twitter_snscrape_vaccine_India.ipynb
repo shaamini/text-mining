{
 "cells": [
  {
   "cell_type": "markdown",
   "metadata": {},
   "source": [
    "snscrape\n",
    "\n",
    "Ref: https://github.com/JustAnotherArchivist/snscrape"
   ]
  },
  {
   "cell_type": "code",
   "execution_count": 2,
   "metadata": {},
   "outputs": [],
   "source": [
    "import snscrape.modules.twitter as sntwitter\n",
    "import pandas as pd"
   ]
  },
  {
   "cell_type": "markdown",
   "metadata": {},
   "source": [
    "Scraping tweets from a text search query\n",
    "\n",
    "Using the code below, we are scraping 100 tweets between June 14, 2020, and August 31, 2021,\n",
    "with the keywords 'SSR Bollywood'.\n",
    "\n",
    "I then pulled attributes DateTime, tweet id, text, and username from the tweet objects."
   ]
  },
  {
   "cell_type": "code",
   "execution_count": 3,
   "metadata": {},
   "outputs": [],
   "source": [
    "# Creating list to append tweet data to\n",
    "tweets_list2 = []\n",
    "\n",
    "# search terms\n",
    "search_terms = 'vaccine'\n",
    "\n",
    "# Using TwitterSearchScraper to scrape data and append tweets to list\n",
    "for i, tweet in enumerate(sntwitter.TwitterSearchScraper(search_terms + ' since:2020-01-01 until:2022-02-11 near:\"Indai\" within:10000km').get_items()):\n",
    "    if i > 20000:\n",
    "        break\n",
    "    #declare the attributes to be returned\n",
    "    tweets_list2.append([tweet.date, tweet.id, tweet.content, tweet.user.username])\n",
    "\n",
    "# Creating a dataframe from the tweets list above\n",
    "tweets_df2 = pd.DataFrame(tweets_list2, columns=['Datetime', 'Tweet Id', 'Text', 'Username'])"
   ]
  },
  {
   "cell_type": "code",
   "execution_count": 4,
   "metadata": {
    "scrolled": true
   },
   "outputs": [
    {
     "data": {
      "text/html": [
       "<div>\n",
       "<style scoped>\n",
       "    .dataframe tbody tr th:only-of-type {\n",
       "        vertical-align: middle;\n",
       "    }\n",
       "\n",
       "    .dataframe tbody tr th {\n",
       "        vertical-align: top;\n",
       "    }\n",
       "\n",
       "    .dataframe thead th {\n",
       "        text-align: right;\n",
       "    }\n",
       "</style>\n",
       "<table border=\"1\" class=\"dataframe\">\n",
       "  <thead>\n",
       "    <tr style=\"text-align: right;\">\n",
       "      <th></th>\n",
       "      <th>Datetime</th>\n",
       "      <th>Tweet Id</th>\n",
       "      <th>Text</th>\n",
       "      <th>Username</th>\n",
       "    </tr>\n",
       "  </thead>\n",
       "  <tbody>\n",
       "    <tr>\n",
       "      <th>0</th>\n",
       "      <td>2022-02-10 23:54:17+00:00</td>\n",
       "      <td>1491923506061361164</td>\n",
       "      <td>@provaxtexan @JonathanHannah @MatthewNewell67 ...</td>\n",
       "      <td>ogilville1</td>\n",
       "    </tr>\n",
       "    <tr>\n",
       "      <th>1</th>\n",
       "      <td>2022-02-10 23:31:23+00:00</td>\n",
       "      <td>1491917743356063745</td>\n",
       "      <td>@__Innervision__ @CNN I'm not the one committi...</td>\n",
       "      <td>RCHAD31</td>\n",
       "    </tr>\n",
       "    <tr>\n",
       "      <th>2</th>\n",
       "      <td>2022-02-10 23:17:42+00:00</td>\n",
       "      <td>1491914302164508684</td>\n",
       "      <td>@CandiceBergenMP Castro is incredible. Literal...</td>\n",
       "      <td>JLknl5</td>\n",
       "    </tr>\n",
       "    <tr>\n",
       "      <th>3</th>\n",
       "      <td>2022-02-10 23:04:49+00:00</td>\n",
       "      <td>1491911060504391683</td>\n",
       "      <td>a deadly virus, that I can't bring myself to a...</td>\n",
       "      <td>RCHAD31</td>\n",
       "    </tr>\n",
       "    <tr>\n",
       "      <th>4</th>\n",
       "      <td>2022-02-10 23:02:30+00:00</td>\n",
       "      <td>1491910477638770695</td>\n",
       "      <td>@NovElection2024 No reason, trucking company’s...</td>\n",
       "      <td>TmitchsomeWorth</td>\n",
       "    </tr>\n",
       "    <tr>\n",
       "      <th>...</th>\n",
       "      <td>...</td>\n",
       "      <td>...</td>\n",
       "      <td>...</td>\n",
       "      <td>...</td>\n",
       "    </tr>\n",
       "    <tr>\n",
       "      <th>4586</th>\n",
       "      <td>2020-03-12 22:48:53+00:00</td>\n",
       "      <td>1238235543454003200</td>\n",
       "      <td>@xToxicTammiex Er is een vaccine in ontwikkeli...</td>\n",
       "      <td>PapaLekkerrr</td>\n",
       "    </tr>\n",
       "    <tr>\n",
       "      <th>4587</th>\n",
       "      <td>2020-03-12 01:21:29+00:00</td>\n",
       "      <td>1237911559193722880</td>\n",
       "      <td>Trump just announced travel from Europe to the...</td>\n",
       "      <td>TeivoTeivainen</td>\n",
       "    </tr>\n",
       "    <tr>\n",
       "      <th>4588</th>\n",
       "      <td>2020-03-03 03:02:18+00:00</td>\n",
       "      <td>1234675437273436160</td>\n",
       "      <td>Ow bandinha gostosa de ouvir é The Vaccines</td>\n",
       "      <td>pedroubj</td>\n",
       "    </tr>\n",
       "    <tr>\n",
       "      <th>4589</th>\n",
       "      <td>2020-01-11 21:57:31+00:00</td>\n",
       "      <td>1216116956622917633</td>\n",
       "      <td>@Venustacey I think looking at the history and...</td>\n",
       "      <td>PapaLekkerrr</td>\n",
       "    </tr>\n",
       "    <tr>\n",
       "      <th>4590</th>\n",
       "      <td>2020-01-07 01:04:18+00:00</td>\n",
       "      <td>1214352023828783116</td>\n",
       "      <td>@Tsu_nami11 It's not about you or 1 person. Th...</td>\n",
       "      <td>PapaLekkerrr</td>\n",
       "    </tr>\n",
       "  </tbody>\n",
       "</table>\n",
       "<p>4591 rows × 4 columns</p>\n",
       "</div>"
      ],
      "text/plain": [
       "                      Datetime             Tweet Id  \\\n",
       "0    2022-02-10 23:54:17+00:00  1491923506061361164   \n",
       "1    2022-02-10 23:31:23+00:00  1491917743356063745   \n",
       "2    2022-02-10 23:17:42+00:00  1491914302164508684   \n",
       "3    2022-02-10 23:04:49+00:00  1491911060504391683   \n",
       "4    2022-02-10 23:02:30+00:00  1491910477638770695   \n",
       "...                        ...                  ...   \n",
       "4586 2020-03-12 22:48:53+00:00  1238235543454003200   \n",
       "4587 2020-03-12 01:21:29+00:00  1237911559193722880   \n",
       "4588 2020-03-03 03:02:18+00:00  1234675437273436160   \n",
       "4589 2020-01-11 21:57:31+00:00  1216116956622917633   \n",
       "4590 2020-01-07 01:04:18+00:00  1214352023828783116   \n",
       "\n",
       "                                                   Text         Username  \n",
       "0     @provaxtexan @JonathanHannah @MatthewNewell67 ...       ogilville1  \n",
       "1     @__Innervision__ @CNN I'm not the one committi...          RCHAD31  \n",
       "2     @CandiceBergenMP Castro is incredible. Literal...           JLknl5  \n",
       "3     a deadly virus, that I can't bring myself to a...          RCHAD31  \n",
       "4     @NovElection2024 No reason, trucking company’s...  TmitchsomeWorth  \n",
       "...                                                 ...              ...  \n",
       "4586  @xToxicTammiex Er is een vaccine in ontwikkeli...     PapaLekkerrr  \n",
       "4587  Trump just announced travel from Europe to the...   TeivoTeivainen  \n",
       "4588        Ow bandinha gostosa de ouvir é The Vaccines         pedroubj  \n",
       "4589  @Venustacey I think looking at the history and...     PapaLekkerrr  \n",
       "4590  @Tsu_nami11 It's not about you or 1 person. Th...     PapaLekkerrr  \n",
       "\n",
       "[4591 rows x 4 columns]"
      ]
     },
     "execution_count": 4,
     "metadata": {},
     "output_type": "execute_result"
    }
   ],
   "source": [
    "tweets_df2"
   ]
  },
  {
   "cell_type": "code",
   "execution_count": 5,
   "metadata": {},
   "outputs": [],
   "source": [
    "tweets_df2.to_csv(\"../data/India/relief measures/India_vaccine.csv\", index = False)  "
   ]
  },
  {
   "cell_type": "code",
   "execution_count": null,
   "metadata": {},
   "outputs": [],
   "source": []
  }
 ],
 "metadata": {
  "kernelspec": {
   "display_name": "Python 3",
   "language": "python",
   "name": "python3"
  },
  "language_info": {
   "codemirror_mode": {
    "name": "ipython",
    "version": 3
   },
   "file_extension": ".py",
   "mimetype": "text/x-python",
   "name": "python",
   "nbconvert_exporter": "python",
   "pygments_lexer": "ipython3",
   "version": "3.8.5"
  }
 },
 "nbformat": 4,
 "nbformat_minor": 5
}
