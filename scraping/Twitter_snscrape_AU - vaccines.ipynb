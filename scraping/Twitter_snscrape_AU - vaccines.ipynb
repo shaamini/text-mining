{
 "cells": [
  {
   "cell_type": "markdown",
   "metadata": {},
   "source": [
    "snscrape\n",
    "\n",
    "Ref: https://github.com/JustAnotherArchivist/snscrape"
   ]
  },
  {
   "cell_type": "code",
   "execution_count": 1,
   "metadata": {},
   "outputs": [],
   "source": [
    "import snscrape.modules.twitter as sntwitter\n",
    "import pandas as pd"
   ]
  },
  {
   "cell_type": "markdown",
   "metadata": {},
   "source": [
    "Scraping tweets from a text search query\n",
    "\n",
    "Using the code below, we are scraping 100 tweets between June 14, 2020, and August 31, 2021,\n",
    "with the keywords 'SSR Bollywood'.\n",
    "\n",
    "I then pulled attributes DateTime, tweet id, text, and username from the tweet objects."
   ]
  },
  {
   "cell_type": "code",
   "execution_count": 13,
   "metadata": {},
   "outputs": [],
   "source": [
    "# Creating list to append tweet data to\n",
    "tweets_list2 = []\n",
    "\n",
    "# search terms\n",
    "search_terms = 'vaccine'\n",
    "\n",
    "# Using TwitterSearchScraper to scrape data and append tweets to list\n",
    "for i, tweet in enumerate(sntwitter.TwitterSearchScraper(search_terms + ' since:2020-12-01 until:2022-02-11 near:\"Sydney\" within:1000km').get_items()):\n",
    "    if i > 100000:\n",
    "        break\n",
    "    #declare the attributes to be returned\n",
    "    tweets_list2.append([tweet.date, tweet.id, tweet.content, tweet.user.username])\n",
    "\n",
    "# Creating a dataframe from the tweets list above\n",
    "tweets_df2 = pd.DataFrame(tweets_list2, columns=['Datetime', 'Tweet Id', 'Text', 'Username',])"
   ]
  },
  {
   "cell_type": "code",
   "execution_count": 14,
   "metadata": {
    "scrolled": true
   },
   "outputs": [
    {
     "data": {
      "text/html": [
       "<div>\n",
       "<style scoped>\n",
       "    .dataframe tbody tr th:only-of-type {\n",
       "        vertical-align: middle;\n",
       "    }\n",
       "\n",
       "    .dataframe tbody tr th {\n",
       "        vertical-align: top;\n",
       "    }\n",
       "\n",
       "    .dataframe thead th {\n",
       "        text-align: right;\n",
       "    }\n",
       "</style>\n",
       "<table border=\"1\" class=\"dataframe\">\n",
       "  <thead>\n",
       "    <tr style=\"text-align: right;\">\n",
       "      <th></th>\n",
       "      <th>Datetime</th>\n",
       "      <th>Tweet Id</th>\n",
       "      <th>Text</th>\n",
       "      <th>Username</th>\n",
       "    </tr>\n",
       "  </thead>\n",
       "  <tbody>\n",
       "    <tr>\n",
       "      <th>0</th>\n",
       "      <td>2022-02-10 23:58:49+00:00</td>\n",
       "      <td>1491924650095374338</td>\n",
       "      <td>What You Need to Know\\n- New variants of the v...</td>\n",
       "      <td>ADDTEC_PL</td>\n",
       "    </tr>\n",
       "    <tr>\n",
       "      <th>1</th>\n",
       "      <td>2022-02-10 23:56:47+00:00</td>\n",
       "      <td>1491924136901607424</td>\n",
       "      <td>@robert_dessoye @CDCgov Front line workers don...</td>\n",
       "      <td>wescravenss</td>\n",
       "    </tr>\n",
       "    <tr>\n",
       "      <th>2</th>\n",
       "      <td>2022-02-10 23:56:07+00:00</td>\n",
       "      <td>1491923969041387520</td>\n",
       "      <td>@IanLinklater5 I am not scared! I know higher ...</td>\n",
       "      <td>JoeSmit05465144</td>\n",
       "    </tr>\n",
       "    <tr>\n",
       "      <th>3</th>\n",
       "      <td>2022-02-10 23:55:56+00:00</td>\n",
       "      <td>1491923923969011715</td>\n",
       "      <td>@PvtGen0 Yay! 🐔🪚➡️🥣</td>\n",
       "      <td>AusVaccine</td>\n",
       "    </tr>\n",
       "    <tr>\n",
       "      <th>4</th>\n",
       "      <td>2022-02-10 23:55:46+00:00</td>\n",
       "      <td>1491923881028124672</td>\n",
       "      <td>Police are warning Canberrans that anti-vaccin...</td>\n",
       "      <td>canberratimes</td>\n",
       "    </tr>\n",
       "    <tr>\n",
       "      <th>...</th>\n",
       "      <td>...</td>\n",
       "      <td>...</td>\n",
       "      <td>...</td>\n",
       "      <td>...</td>\n",
       "    </tr>\n",
       "    <tr>\n",
       "      <th>47777</th>\n",
       "      <td>2020-12-01 04:29:14+00:00</td>\n",
       "      <td>1333629203166609409</td>\n",
       "      <td>@ProfKatieEwer @WEHI_research Thanks Katie 🥰 h...</td>\n",
       "      <td>rhea_longley</td>\n",
       "    </tr>\n",
       "    <tr>\n",
       "      <th>47778</th>\n",
       "      <td>2020-12-01 04:25:38+00:00</td>\n",
       "      <td>1333628296370679811</td>\n",
       "      <td>Discussing the importance of building dialogue...</td>\n",
       "      <td>ChrisBlyth74</td>\n",
       "    </tr>\n",
       "    <tr>\n",
       "      <th>47779</th>\n",
       "      <td>2020-12-01 04:08:59+00:00</td>\n",
       "      <td>1333624107741560832</td>\n",
       "      <td>@Mikespins My biggest concern is that the next...</td>\n",
       "      <td>alisterrobbie</td>\n",
       "    </tr>\n",
       "    <tr>\n",
       "      <th>47780</th>\n",
       "      <td>2020-12-01 03:07:31+00:00</td>\n",
       "      <td>1333608637520965633</td>\n",
       "      <td>And then be vigilant for the side effects due ...</td>\n",
       "      <td>CSigmaShow</td>\n",
       "    </tr>\n",
       "    <tr>\n",
       "      <th>47781</th>\n",
       "      <td>2020-12-01 01:43:14+00:00</td>\n",
       "      <td>1333587430151131136</td>\n",
       "      <td>@tugger723 @marydon25105921 @RVA_Rock @EricTop...</td>\n",
       "      <td>DrGCrisp</td>\n",
       "    </tr>\n",
       "  </tbody>\n",
       "</table>\n",
       "<p>47782 rows × 4 columns</p>\n",
       "</div>"
      ],
      "text/plain": [
       "                       Datetime             Tweet Id  \\\n",
       "0     2022-02-10 23:58:49+00:00  1491924650095374338   \n",
       "1     2022-02-10 23:56:47+00:00  1491924136901607424   \n",
       "2     2022-02-10 23:56:07+00:00  1491923969041387520   \n",
       "3     2022-02-10 23:55:56+00:00  1491923923969011715   \n",
       "4     2022-02-10 23:55:46+00:00  1491923881028124672   \n",
       "...                         ...                  ...   \n",
       "47777 2020-12-01 04:29:14+00:00  1333629203166609409   \n",
       "47778 2020-12-01 04:25:38+00:00  1333628296370679811   \n",
       "47779 2020-12-01 04:08:59+00:00  1333624107741560832   \n",
       "47780 2020-12-01 03:07:31+00:00  1333608637520965633   \n",
       "47781 2020-12-01 01:43:14+00:00  1333587430151131136   \n",
       "\n",
       "                                                    Text         Username  \n",
       "0      What You Need to Know\\n- New variants of the v...        ADDTEC_PL  \n",
       "1      @robert_dessoye @CDCgov Front line workers don...      wescravenss  \n",
       "2      @IanLinklater5 I am not scared! I know higher ...  JoeSmit05465144  \n",
       "3                                    @PvtGen0 Yay! 🐔🪚➡️🥣       AusVaccine  \n",
       "4      Police are warning Canberrans that anti-vaccin...    canberratimes  \n",
       "...                                                  ...              ...  \n",
       "47777  @ProfKatieEwer @WEHI_research Thanks Katie 🥰 h...     rhea_longley  \n",
       "47778  Discussing the importance of building dialogue...     ChrisBlyth74  \n",
       "47779  @Mikespins My biggest concern is that the next...    alisterrobbie  \n",
       "47780  And then be vigilant for the side effects due ...       CSigmaShow  \n",
       "47781  @tugger723 @marydon25105921 @RVA_Rock @EricTop...         DrGCrisp  \n",
       "\n",
       "[47782 rows x 4 columns]"
      ]
     },
     "execution_count": 14,
     "metadata": {},
     "output_type": "execute_result"
    }
   ],
   "source": [
    "tweets_df2"
   ]
  },
  {
   "cell_type": "code",
   "execution_count": 15,
   "metadata": {},
   "outputs": [],
   "source": [
    "tweets_df2.to_csv(\"../data/Australia/au_covid_vaccine.csv\", index = False)  "
   ]
  },
  {
   "cell_type": "code",
   "execution_count": null,
   "metadata": {},
   "outputs": [],
   "source": []
  }
 ],
 "metadata": {
  "kernelspec": {
   "display_name": "Python 3",
   "language": "python",
   "name": "python3"
  },
  "language_info": {
   "codemirror_mode": {
    "name": "ipython",
    "version": 3
   },
   "file_extension": ".py",
   "mimetype": "text/x-python",
   "name": "python",
   "nbconvert_exporter": "python",
   "pygments_lexer": "ipython3",
   "version": "3.8.5"
  }
 },
 "nbformat": 4,
 "nbformat_minor": 5
}
