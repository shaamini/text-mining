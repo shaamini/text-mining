{
 "cells": [
  {
   "cell_type": "markdown",
   "metadata": {},
   "source": [
    "snscrape\n",
    "\n",
    "Ref: https://github.com/JustAnotherArchivist/snscrape"
   ]
  },
  {
   "cell_type": "code",
   "execution_count": 2,
   "metadata": {},
   "outputs": [],
   "source": [
    "import snscrape.modules.twitter as sntwitter\n",
    "import pandas as pd"
   ]
  },
  {
   "cell_type": "code",
   "execution_count": 15,
   "metadata": {},
   "outputs": [],
   "source": [
    "# Creating list to append tweet data to\n",
    "tweets_list = []\n",
    "\n",
    "# search terms\n",
    "search_terms = 'pfizer'\n",
    "\n",
    "# Using TwitterSearchScraper to scrape data and append tweets to list\n",
    "for i, tweet in enumerate(sntwitter.TwitterSearchScraper(search_terms + ' since:2020-12-01 until:2022-02-11 near:\"United States of America\" within:1000km').get_items()):\n",
    "    if i > 100000:\n",
    "        break\n",
    "    #declare the attributes to be returned\n",
    "    tweets_list.append([tweet.content])\n",
    "\n",
    "# Creating a dataframe from the tweets list above\n",
    "tweets_df = pd.DataFrame(tweets_list, columns=['Text'])"
   ]
  },
  {
   "cell_type": "code",
   "execution_count": 16,
   "metadata": {
    "scrolled": false
   },
   "outputs": [
    {
     "data": {
      "text/html": [
       "<div>\n",
       "<style scoped>\n",
       "    .dataframe tbody tr th:only-of-type {\n",
       "        vertical-align: middle;\n",
       "    }\n",
       "\n",
       "    .dataframe tbody tr th {\n",
       "        vertical-align: top;\n",
       "    }\n",
       "\n",
       "    .dataframe thead th {\n",
       "        text-align: right;\n",
       "    }\n",
       "</style>\n",
       "<table border=\"1\" class=\"dataframe\">\n",
       "  <thead>\n",
       "    <tr style=\"text-align: right;\">\n",
       "      <th></th>\n",
       "      <th>Text</th>\n",
       "    </tr>\n",
       "  </thead>\n",
       "  <tbody>\n",
       "    <tr>\n",
       "      <th>0</th>\n",
       "      <td>@sluchetti @massimogara @borghi_claudio Evito ...</td>\n",
       "    </tr>\n",
       "    <tr>\n",
       "      <th>1</th>\n",
       "      <td>I wonder how many in our leadership in the US ...</td>\n",
       "    </tr>\n",
       "    <tr>\n",
       "      <th>2</th>\n",
       "      <td>@MeetDogBlack1 @joncoopertweets What's in the ...</td>\n",
       "    </tr>\n",
       "    <tr>\n",
       "      <th>3</th>\n",
       "      <td>@Writingwithabi1 @TPaine1988 @CookDayNight @th...</td>\n",
       "    </tr>\n",
       "    <tr>\n",
       "      <th>4</th>\n",
       "      <td>Pfizer made an unreal $36.8 BILLION from its C...</td>\n",
       "    </tr>\n",
       "    <tr>\n",
       "      <th>...</th>\n",
       "      <td>...</td>\n",
       "    </tr>\n",
       "    <tr>\n",
       "      <th>96061</th>\n",
       "      <td>Why would his financial advisors make such spe...</td>\n",
       "    </tr>\n",
       "    <tr>\n",
       "      <th>96062</th>\n",
       "      <td>@PressSec @realDonaldTrump He can only take cr...</td>\n",
       "    </tr>\n",
       "    <tr>\n",
       "      <th>96063</th>\n",
       "      <td>@NickiZvik @GavinNewsom I think Pfizer and Mod...</td>\n",
       "    </tr>\n",
       "    <tr>\n",
       "      <th>96064</th>\n",
       "      <td>@ABTudorQueen According to the CDC there are  ...</td>\n",
       "    </tr>\n",
       "    <tr>\n",
       "      <th>96065</th>\n",
       "      <td>Habemus vacunas!!! Next month thanks @pfizer</td>\n",
       "    </tr>\n",
       "  </tbody>\n",
       "</table>\n",
       "<p>96066 rows × 1 columns</p>\n",
       "</div>"
      ],
      "text/plain": [
       "                                                    Text\n",
       "0      @sluchetti @massimogara @borghi_claudio Evito ...\n",
       "1      I wonder how many in our leadership in the US ...\n",
       "2      @MeetDogBlack1 @joncoopertweets What's in the ...\n",
       "3      @Writingwithabi1 @TPaine1988 @CookDayNight @th...\n",
       "4      Pfizer made an unreal $36.8 BILLION from its C...\n",
       "...                                                  ...\n",
       "96061  Why would his financial advisors make such spe...\n",
       "96062  @PressSec @realDonaldTrump He can only take cr...\n",
       "96063  @NickiZvik @GavinNewsom I think Pfizer and Mod...\n",
       "96064  @ABTudorQueen According to the CDC there are  ...\n",
       "96065       Habemus vacunas!!! Next month thanks @pfizer\n",
       "\n",
       "[96066 rows x 1 columns]"
      ]
     },
     "execution_count": 16,
     "metadata": {},
     "output_type": "execute_result"
    }
   ],
   "source": [
    "tweets_df"
   ]
  },
  {
   "cell_type": "code",
   "execution_count": 17,
   "metadata": {},
   "outputs": [],
   "source": [
    "tweets_df.to_csv(\"../data/USA/usa_pfizer.csv\")"
   ]
  },
  {
   "cell_type": "code",
   "execution_count": null,
   "metadata": {},
   "outputs": [],
   "source": [
    "# since:2020-02-15 until:2021-05-31 New USA 5000 USA usa"
   ]
  }
 ],
 "metadata": {
  "kernelspec": {
   "display_name": "Python 3",
   "language": "python",
   "name": "python3"
  },
  "language_info": {
   "codemirror_mode": {
    "name": "ipython",
    "version": 3
   },
   "file_extension": ".py",
   "mimetype": "text/x-python",
   "name": "python",
   "nbconvert_exporter": "python",
   "pygments_lexer": "ipython3",
   "version": "3.8.5"
  }
 },
 "nbformat": 4,
 "nbformat_minor": 5
}
