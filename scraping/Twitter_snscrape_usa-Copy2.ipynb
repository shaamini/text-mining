{
 "cells": [
  {
   "cell_type": "markdown",
   "id": "360f5f5c",
   "metadata": {},
   "source": [
    "snscrape\n",
    "\n",
    "Ref: https://github.com/JustAnotherArchivist/snscrape"
   ]
  },
  {
   "cell_type": "code",
   "execution_count": 5,
   "id": "105a82f1",
   "metadata": {},
   "outputs": [],
   "source": [
    "import snscrape.modules.twitter as sntwitter\n",
    "import pandas as pd"
   ]
  },
  {
   "cell_type": "code",
   "execution_count": 15,
   "id": "e24a10c5",
   "metadata": {},
   "outputs": [],
   "source": [
    "# Creating list to append tweet data to\n",
    "tweets_list = []\n",
    "\n",
    "# search terms\n",
    "search_terms = 'anti vaccination'\n",
    "\n",
    "# Using TwitterSearchScraper to scrape data and append tweets to list\n",
    "for i, tweet in enumerate(sntwitter.TwitterSearchScraper(search_terms + ' since:2020-12-01 until:2022-02-11 near:\"United States of America\" within:1000km').get_items()):\n",
    "    if i > 100000:\n",
    "        break\n",
    "    #declare the attributes to be returned\n",
    "    tweets_list.append([tweet.content])\n",
    "\n",
    "# Creating a dataframe from the tweets list above\n",
    "tweets_df = pd.DataFrame(tweets_list, columns=['Text'])"
   ]
  },
  {
   "cell_type": "code",
   "execution_count": 16,
   "id": "53de780d",
   "metadata": {
    "scrolled": false
   },
   "outputs": [
    {
     "data": {
      "text/html": [
       "<div>\n",
       "<style scoped>\n",
       "    .dataframe tbody tr th:only-of-type {\n",
       "        vertical-align: middle;\n",
       "    }\n",
       "\n",
       "    .dataframe tbody tr th {\n",
       "        vertical-align: top;\n",
       "    }\n",
       "\n",
       "    .dataframe thead th {\n",
       "        text-align: right;\n",
       "    }\n",
       "</style>\n",
       "<table border=\"1\" class=\"dataframe\">\n",
       "  <thead>\n",
       "    <tr style=\"text-align: right;\">\n",
       "      <th></th>\n",
       "      <th>Text</th>\n",
       "    </tr>\n",
       "  </thead>\n",
       "  <tbody>\n",
       "    <tr>\n",
       "      <th>0</th>\n",
       "      <td>So.... Conservative Anti-Abortion Anti-Vaccina...</td>\n",
       "    </tr>\n",
       "    <tr>\n",
       "      <th>1</th>\n",
       "      <td>@saletan @theabstoddard As you might know, the...</td>\n",
       "    </tr>\n",
       "    <tr>\n",
       "      <th>2</th>\n",
       "      <td>The \"regime spokespeople\" (MSM) keep referring...</td>\n",
       "    </tr>\n",
       "    <tr>\n",
       "      <th>3</th>\n",
       "      <td>@maureviv The doctors who were outraged that o...</td>\n",
       "    </tr>\n",
       "    <tr>\n",
       "      <th>4</th>\n",
       "      <td>Manchin voted for Sen. Mike Lee’s anti-vaccina...</td>\n",
       "    </tr>\n",
       "    <tr>\n",
       "      <th>...</th>\n",
       "      <td>...</td>\n",
       "    </tr>\n",
       "    <tr>\n",
       "      <th>1001</th>\n",
       "      <td>@coats1234 She posted something anti vaccinati...</td>\n",
       "    </tr>\n",
       "    <tr>\n",
       "      <th>1002</th>\n",
       "      <td>I’ve never been anti vaccination but something...</td>\n",
       "    </tr>\n",
       "    <tr>\n",
       "      <th>1003</th>\n",
       "      <td>@JohnVetsResist1 I will tell you being in the ...</td>\n",
       "    </tr>\n",
       "    <tr>\n",
       "      <th>1004</th>\n",
       "      <td>Regarding the anti-vaccination millions in the...</td>\n",
       "    </tr>\n",
       "    <tr>\n",
       "      <th>1005</th>\n",
       "      <td>This is very good. Especially President Bush s...</td>\n",
       "    </tr>\n",
       "  </tbody>\n",
       "</table>\n",
       "<p>1006 rows × 1 columns</p>\n",
       "</div>"
      ],
      "text/plain": [
       "                                                   Text\n",
       "0     So.... Conservative Anti-Abortion Anti-Vaccina...\n",
       "1     @saletan @theabstoddard As you might know, the...\n",
       "2     The \"regime spokespeople\" (MSM) keep referring...\n",
       "3     @maureviv The doctors who were outraged that o...\n",
       "4     Manchin voted for Sen. Mike Lee’s anti-vaccina...\n",
       "...                                                 ...\n",
       "1001  @coats1234 She posted something anti vaccinati...\n",
       "1002  I’ve never been anti vaccination but something...\n",
       "1003  @JohnVetsResist1 I will tell you being in the ...\n",
       "1004  Regarding the anti-vaccination millions in the...\n",
       "1005  This is very good. Especially President Bush s...\n",
       "\n",
       "[1006 rows x 1 columns]"
      ]
     },
     "execution_count": 16,
     "metadata": {},
     "output_type": "execute_result"
    }
   ],
   "source": [
    "tweets_df"
   ]
  },
  {
   "cell_type": "code",
   "execution_count": 17,
   "id": "0eca3d01",
   "metadata": {},
   "outputs": [],
   "source": [
    "tweets_df.to_csv(\"../data/USA/usa_anti_vaccination.csv\")"
   ]
  },
  {
   "cell_type": "code",
   "execution_count": null,
   "id": "05e2823e",
   "metadata": {},
   "outputs": [],
   "source": [
    "# since:2020-02-15 until:2021-05-31 New USA 5000 USA usa"
   ]
  },
  {
   "cell_type": "code",
   "execution_count": 9,
   "id": "3244e08b",
   "metadata": {},
   "outputs": [],
   "source": [
    "tweets_list = []\n",
    "\n",
    "# search terms\n",
    "search_terms = 'vaccinated'\n",
    "\n",
    "# Using TwitterSearchScraper to scrape data and append tweets to list\n",
    "for i, tweet in enumerate(sntwitter.TwitterSearchScraper(search_terms + ' since:2020-12-01 until:2022-02-11 near:\"United States of America\" within:1000km').get_items()):\n",
    "    if i > 100000:\n",
    "        break\n",
    "    #declare the attributes to be returned\n",
    "    tweets_list.append([tweet.content])\n",
    "\n",
    "# Creating a dataframe from the tweets list above\n",
    "tweets_df = pd.DataFrame(tweets_list, columns=['Text'])"
   ]
  },
  {
   "cell_type": "code",
   "execution_count": 10,
   "id": "e71e5a3d",
   "metadata": {},
   "outputs": [
    {
     "data": {
      "text/html": [
       "<div>\n",
       "<style scoped>\n",
       "    .dataframe tbody tr th:only-of-type {\n",
       "        vertical-align: middle;\n",
       "    }\n",
       "\n",
       "    .dataframe tbody tr th {\n",
       "        vertical-align: top;\n",
       "    }\n",
       "\n",
       "    .dataframe thead th {\n",
       "        text-align: right;\n",
       "    }\n",
       "</style>\n",
       "<table border=\"1\" class=\"dataframe\">\n",
       "  <thead>\n",
       "    <tr style=\"text-align: right;\">\n",
       "      <th></th>\n",
       "      <th>Text</th>\n",
       "    </tr>\n",
       "  </thead>\n",
       "  <tbody>\n",
       "    <tr>\n",
       "      <th>0</th>\n",
       "      <td>@Julirose @apple_shamp0o @Aviendha69 @Snowden ...</td>\n",
       "    </tr>\n",
       "    <tr>\n",
       "      <th>1</th>\n",
       "      <td>@R11RT @TheoMoudakis @TorontoStar I guess as a...</td>\n",
       "    </tr>\n",
       "    <tr>\n",
       "      <th>2</th>\n",
       "      <td>@WAPFLondon @CDCgov Individual responsibility ...</td>\n",
       "    </tr>\n",
       "    <tr>\n",
       "      <th>3</th>\n",
       "      <td>@CheyenneGames @jhaletweets @TheJohnDiMaggio M...</td>\n",
       "    </tr>\n",
       "    <tr>\n",
       "      <th>4</th>\n",
       "      <td>@terr3tme Granny must pleased</td>\n",
       "    </tr>\n",
       "    <tr>\n",
       "      <th>...</th>\n",
       "      <td>...</td>\n",
       "    </tr>\n",
       "    <tr>\n",
       "      <th>99996</th>\n",
       "      <td>@DSORennie @DenisMacShane David, New York City...</td>\n",
       "    </tr>\n",
       "    <tr>\n",
       "      <th>99997</th>\n",
       "      <td>@djhomicide Half my friends sick af. All vacci...</td>\n",
       "    </tr>\n",
       "    <tr>\n",
       "      <th>99998</th>\n",
       "      <td>@TraceyM0802 Merry Christmas! 🎄 I hope things ...</td>\n",
       "    </tr>\n",
       "    <tr>\n",
       "      <th>99999</th>\n",
       "      <td>Vaccinated North Miami Councilman Alix Desulme...</td>\n",
       "    </tr>\n",
       "    <tr>\n",
       "      <th>100000</th>\n",
       "      <td>@rick_pittman How does wearing a mask or getti...</td>\n",
       "    </tr>\n",
       "  </tbody>\n",
       "</table>\n",
       "<p>100001 rows × 1 columns</p>\n",
       "</div>"
      ],
      "text/plain": [
       "                                                     Text\n",
       "0       @Julirose @apple_shamp0o @Aviendha69 @Snowden ...\n",
       "1       @R11RT @TheoMoudakis @TorontoStar I guess as a...\n",
       "2       @WAPFLondon @CDCgov Individual responsibility ...\n",
       "3       @CheyenneGames @jhaletweets @TheJohnDiMaggio M...\n",
       "4                           @terr3tme Granny must pleased\n",
       "...                                                   ...\n",
       "99996   @DSORennie @DenisMacShane David, New York City...\n",
       "99997   @djhomicide Half my friends sick af. All vacci...\n",
       "99998   @TraceyM0802 Merry Christmas! 🎄 I hope things ...\n",
       "99999   Vaccinated North Miami Councilman Alix Desulme...\n",
       "100000  @rick_pittman How does wearing a mask or getti...\n",
       "\n",
       "[100001 rows x 1 columns]"
      ]
     },
     "execution_count": 10,
     "metadata": {},
     "output_type": "execute_result"
    }
   ],
   "source": [
    "tweets_df"
   ]
  },
  {
   "cell_type": "code",
   "execution_count": 11,
   "id": "8b51184d",
   "metadata": {},
   "outputs": [],
   "source": [
    "tweets_df.to_csv(\"../data/USA/usa_vaccinated.csv\")"
   ]
  },
  {
   "cell_type": "code",
   "execution_count": null,
   "id": "28025567",
   "metadata": {},
   "outputs": [],
   "source": []
  }
 ],
 "metadata": {
  "kernelspec": {
   "display_name": "Python 3 (ipykernel)",
   "language": "python",
   "name": "python3"
  },
  "language_info": {
   "codemirror_mode": {
    "name": "ipython",
    "version": 3
   },
   "file_extension": ".py",
   "mimetype": "text/x-python",
   "name": "python",
   "nbconvert_exporter": "python",
   "pygments_lexer": "ipython3",
   "version": "3.8.8"
  }
 },
 "nbformat": 4,
 "nbformat_minor": 5
}
