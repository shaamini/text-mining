{
 "cells": [
  {
   "cell_type": "markdown",
   "metadata": {},
   "source": [
    "snscrape\n",
    "\n",
    "Ref: https://github.com/JustAnotherArchivist/snscrape"
   ]
  },
  {
   "cell_type": "code",
   "execution_count": 1,
   "metadata": {},
   "outputs": [],
   "source": [
    "import snscrape.modules.twitter as sntwitter\n",
    "import pandas as pd"
   ]
  },
  {
   "cell_type": "markdown",
   "metadata": {},
   "source": [
    "Scraping tweets from a text search query\n",
    "\n",
    "Using the code below, we are scraping 100 tweets between June 14, 2020, and August 31, 2021,\n",
    "with the keywords 'SSR Bollywood'.\n",
    "\n",
    "I then pulled attributes DateTime, tweet id, text, and username from the tweet objects."
   ]
  },
  {
   "cell_type": "code",
   "execution_count": 6,
   "metadata": {},
   "outputs": [],
   "source": [
    "# Creating list to append tweet data to\n",
    "tweets_list2 = []\n",
    "\n",
    "# search terms\n",
    "search_terms = 'covid vaccination'\n",
    "\n",
    "# Using TwitterSearchScraper to scrape data and append tweets to list\n",
    "for i, tweet in enumerate(sntwitter.TwitterSearchScraper(search_terms + ' since:2020-12-01 until:2022-02-11 near:\"United Kingdom\" within:100km').get_items()):\n",
    "    if i > 100000:\n",
    "        break\n",
    "    #declare the attributes to be returned\n",
    "    tweets_list2.append([tweet.date, tweet.id, tweet.content, tweet.user.username])\n",
    "\n",
    "# Creating a dataframe from the tweets list above\n",
    "tweets_df2 = pd.DataFrame(tweets_list2, columns=['Datetime', 'Tweet Id', 'Text', 'Username',])"
   ]
  },
  {
   "cell_type": "code",
   "execution_count": 7,
   "metadata": {
    "scrolled": true
   },
   "outputs": [
    {
     "data": {
      "text/html": [
       "<div>\n",
       "<style scoped>\n",
       "    .dataframe tbody tr th:only-of-type {\n",
       "        vertical-align: middle;\n",
       "    }\n",
       "\n",
       "    .dataframe tbody tr th {\n",
       "        vertical-align: top;\n",
       "    }\n",
       "\n",
       "    .dataframe thead th {\n",
       "        text-align: right;\n",
       "    }\n",
       "</style>\n",
       "<table border=\"1\" class=\"dataframe\">\n",
       "  <thead>\n",
       "    <tr style=\"text-align: right;\">\n",
       "      <th></th>\n",
       "      <th>Datetime</th>\n",
       "      <th>Tweet Id</th>\n",
       "      <th>Text</th>\n",
       "      <th>Username</th>\n",
       "    </tr>\n",
       "  </thead>\n",
       "  <tbody>\n",
       "    <tr>\n",
       "      <th>0</th>\n",
       "      <td>2022-02-10 23:57:27+00:00</td>\n",
       "      <td>1491924305483116547</td>\n",
       "      <td>There are currently 51candidates\\nOut of which...</td>\n",
       "      <td>krishna444_test</td>\n",
       "    </tr>\n",
       "    <tr>\n",
       "      <th>1</th>\n",
       "      <td>2022-02-10 23:47:57+00:00</td>\n",
       "      <td>1491921912431362077</td>\n",
       "      <td>@joncoopertweets Covid is not gone, vaccinatio...</td>\n",
       "      <td>HHNB52168650</td>\n",
       "    </tr>\n",
       "    <tr>\n",
       "      <th>2</th>\n",
       "      <td>2022-02-10 23:43:51+00:00</td>\n",
       "      <td>1491920882872336391</td>\n",
       "      <td>@Aaron_Derfel Honest question, shouldn’t the k...</td>\n",
       "      <td>MidaniSami6</td>\n",
       "    </tr>\n",
       "    <tr>\n",
       "      <th>3</th>\n",
       "      <td>2022-02-10 23:21:13+00:00</td>\n",
       "      <td>1491915185442988036</td>\n",
       "      <td>Survival and risk of COVID-19 after SARS-COV-2...</td>\n",
       "      <td>barriere_dr</td>\n",
       "    </tr>\n",
       "    <tr>\n",
       "      <th>4</th>\n",
       "      <td>2022-02-10 23:10:10+00:00</td>\n",
       "      <td>1491912404577443841</td>\n",
       "      <td>🇪🇺🇧🇬BULGARIA🇧🇬🇪🇺\\n\\nAt least 1 dose:\\n████░░░░...</td>\n",
       "      <td>VaccinationEu</td>\n",
       "    </tr>\n",
       "    <tr>\n",
       "      <th>...</th>\n",
       "      <td>...</td>\n",
       "      <td>...</td>\n",
       "      <td>...</td>\n",
       "      <td>...</td>\n",
       "    </tr>\n",
       "    <tr>\n",
       "      <th>18204</th>\n",
       "      <td>2020-12-01 09:55:27+00:00</td>\n",
       "      <td>1333711297159028736</td>\n",
       "      <td>All MP's &amp;amp; Lords should have the Covid-19 ...</td>\n",
       "      <td>Tub_Thumperz</td>\n",
       "    </tr>\n",
       "    <tr>\n",
       "      <th>18205</th>\n",
       "      <td>2020-12-01 09:18:11+00:00</td>\n",
       "      <td>1333701922419859457</td>\n",
       "      <td>@bbc5live ‼️‼️I can’t have the Covid-19 or ANY...</td>\n",
       "      <td>iamruthpainter</td>\n",
       "    </tr>\n",
       "    <tr>\n",
       "      <th>18206</th>\n",
       "      <td>2020-12-01 08:55:28+00:00</td>\n",
       "      <td>1333696202181914625</td>\n",
       "      <td>@AdamRutherford Tweet now deleted. @FarleyP is...</td>\n",
       "      <td>ArthurAdams</td>\n",
       "    </tr>\n",
       "    <tr>\n",
       "      <th>18207</th>\n",
       "      <td>2020-12-01 07:17:55+00:00</td>\n",
       "      <td>1333671655185526784</td>\n",
       "      <td>@visactu @dnatweets Donc l’endettement Covid e...</td>\n",
       "      <td>vbalouet</td>\n",
       "    </tr>\n",
       "    <tr>\n",
       "      <th>18208</th>\n",
       "      <td>2020-12-01 03:12:18+00:00</td>\n",
       "      <td>1333609841017942017</td>\n",
       "      <td>Un peu de cynisme pour le militant pro vaccina...</td>\n",
       "      <td>acspe</td>\n",
       "    </tr>\n",
       "  </tbody>\n",
       "</table>\n",
       "<p>18209 rows × 4 columns</p>\n",
       "</div>"
      ],
      "text/plain": [
       "                       Datetime             Tweet Id  \\\n",
       "0     2022-02-10 23:57:27+00:00  1491924305483116547   \n",
       "1     2022-02-10 23:47:57+00:00  1491921912431362077   \n",
       "2     2022-02-10 23:43:51+00:00  1491920882872336391   \n",
       "3     2022-02-10 23:21:13+00:00  1491915185442988036   \n",
       "4     2022-02-10 23:10:10+00:00  1491912404577443841   \n",
       "...                         ...                  ...   \n",
       "18204 2020-12-01 09:55:27+00:00  1333711297159028736   \n",
       "18205 2020-12-01 09:18:11+00:00  1333701922419859457   \n",
       "18206 2020-12-01 08:55:28+00:00  1333696202181914625   \n",
       "18207 2020-12-01 07:17:55+00:00  1333671655185526784   \n",
       "18208 2020-12-01 03:12:18+00:00  1333609841017942017   \n",
       "\n",
       "                                                    Text         Username  \n",
       "0      There are currently 51candidates\\nOut of which...  krishna444_test  \n",
       "1      @joncoopertweets Covid is not gone, vaccinatio...     HHNB52168650  \n",
       "2      @Aaron_Derfel Honest question, shouldn’t the k...      MidaniSami6  \n",
       "3      Survival and risk of COVID-19 after SARS-COV-2...      barriere_dr  \n",
       "4      🇪🇺🇧🇬BULGARIA🇧🇬🇪🇺\\n\\nAt least 1 dose:\\n████░░░░...    VaccinationEu  \n",
       "...                                                  ...              ...  \n",
       "18204  All MP's &amp; Lords should have the Covid-19 ...     Tub_Thumperz  \n",
       "18205  @bbc5live ‼️‼️I can’t have the Covid-19 or ANY...   iamruthpainter  \n",
       "18206  @AdamRutherford Tweet now deleted. @FarleyP is...      ArthurAdams  \n",
       "18207  @visactu @dnatweets Donc l’endettement Covid e...         vbalouet  \n",
       "18208  Un peu de cynisme pour le militant pro vaccina...            acspe  \n",
       "\n",
       "[18209 rows x 4 columns]"
      ]
     },
     "execution_count": 7,
     "metadata": {},
     "output_type": "execute_result"
    }
   ],
   "source": [
    "tweets_df2"
   ]
  },
  {
   "cell_type": "code",
   "execution_count": 8,
   "metadata": {},
   "outputs": [],
   "source": [
    "tweets_df2.to_csv(\"../data/UK/covid_vaccination.csv\", index = False)  "
   ]
  },
  {
   "cell_type": "code",
   "execution_count": null,
   "metadata": {},
   "outputs": [],
   "source": []
  }
 ],
 "metadata": {
  "kernelspec": {
   "display_name": "Python 3",
   "language": "python",
   "name": "python3"
  },
  "language_info": {
   "codemirror_mode": {
    "name": "ipython",
    "version": 3
   },
   "file_extension": ".py",
   "mimetype": "text/x-python",
   "name": "python",
   "nbconvert_exporter": "python",
   "pygments_lexer": "ipython3",
   "version": "3.8.5"
  }
 },
 "nbformat": 4,
 "nbformat_minor": 5
}
