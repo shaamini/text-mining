{
 "cells": [
  {
   "cell_type": "markdown",
   "metadata": {},
   "source": [
    "snscrape\n",
    "\n",
    "Ref: https://github.com/JustAnotherArchivist/snscrape"
   ]
  },
  {
   "cell_type": "code",
   "execution_count": 1,
   "metadata": {},
   "outputs": [],
   "source": [
    "import snscrape.modules.twitter as sntwitter\n",
    "import pandas as pd"
   ]
  },
  {
   "cell_type": "markdown",
   "metadata": {},
   "source": [
    "Scraping tweets from a text search query\n",
    "\n",
    "Using the code below, we are scraping 100 tweets between June 14, 2020, and August 31, 2021,\n",
    "with the keywords 'SSR Bollywood'.\n",
    "\n",
    "I then pulled attributes DateTime, tweet id, text, and username from the tweet objects."
   ]
  },
  {
   "cell_type": "code",
   "execution_count": 5,
   "metadata": {},
   "outputs": [],
   "source": [
    "# Creating list to append tweet data to\n",
    "tweets_list2 = []\n",
    "\n",
    "# search terms\n",
    "search_terms = 'covid vaccine'\n",
    "\n",
    "# Using TwitterSearchScraper to scrape data and append tweets to list\n",
    "for i, tweet in enumerate(sntwitter.TwitterSearchScraper(search_terms + ' since:2020-12-01 until:2022-02-11 near:\"India\" within:1000km').get_items()):\n",
    "    if i > 100000:\n",
    "        break\n",
    "    #declare the attributes to be returned\n",
    "    tweets_list2.append([tweet.date, tweet.id, tweet.content, tweet.user.username])\n",
    "\n",
    "# Creating a dataframe from the tweets list above\n",
    "tweets_df2 = pd.DataFrame(tweets_list2, columns=['Datetime', 'Tweet Id', 'Text', 'Username',])"
   ]
  },
  {
   "cell_type": "code",
   "execution_count": 6,
   "metadata": {
    "scrolled": true
   },
   "outputs": [
    {
     "data": {
      "text/html": [
       "<div>\n",
       "<style scoped>\n",
       "    .dataframe tbody tr th:only-of-type {\n",
       "        vertical-align: middle;\n",
       "    }\n",
       "\n",
       "    .dataframe tbody tr th {\n",
       "        vertical-align: top;\n",
       "    }\n",
       "\n",
       "    .dataframe thead th {\n",
       "        text-align: right;\n",
       "    }\n",
       "</style>\n",
       "<table border=\"1\" class=\"dataframe\">\n",
       "  <thead>\n",
       "    <tr style=\"text-align: right;\">\n",
       "      <th></th>\n",
       "      <th>Datetime</th>\n",
       "      <th>Tweet Id</th>\n",
       "      <th>Text</th>\n",
       "      <th>Username</th>\n",
       "    </tr>\n",
       "  </thead>\n",
       "  <tbody>\n",
       "    <tr>\n",
       "      <th>0</th>\n",
       "      <td>2022-02-10 23:54:03+00:00</td>\n",
       "      <td>1491923447760691201</td>\n",
       "      <td>India's first mRNA Covid vaccine enters final ...</td>\n",
       "      <td>dellyranksindia</td>\n",
       "    </tr>\n",
       "    <tr>\n",
       "      <th>1</th>\n",
       "      <td>2022-02-10 23:50:12+00:00</td>\n",
       "      <td>1491922481812316160</td>\n",
       "      <td>💉 About sixteen million (77%) Sri Lankans have...</td>\n",
       "      <td>COVID19_SL</td>\n",
       "    </tr>\n",
       "    <tr>\n",
       "      <th>2</th>\n",
       "      <td>2022-02-10 23:50:01+00:00</td>\n",
       "      <td>1491922432000724993</td>\n",
       "      <td>Woman’s Autopsy, Obituary Blame Moderna’s Covi...</td>\n",
       "      <td>treego14</td>\n",
       "    </tr>\n",
       "    <tr>\n",
       "      <th>3</th>\n",
       "      <td>2022-02-10 23:36:49+00:00</td>\n",
       "      <td>1491919111756173314</td>\n",
       "      <td>India’s first mRNA COVID-19 vaccine likely to ...</td>\n",
       "      <td>TheHinduScience</td>\n",
       "    </tr>\n",
       "    <tr>\n",
       "      <th>4</th>\n",
       "      <td>2022-02-10 23:35:06+00:00</td>\n",
       "      <td>1491918679784800277</td>\n",
       "      <td>Decision on third dose of COVID-19 vaccine for...</td>\n",
       "      <td>Thespuzz</td>\n",
       "    </tr>\n",
       "    <tr>\n",
       "      <th>...</th>\n",
       "      <td>...</td>\n",
       "      <td>...</td>\n",
       "      <td>...</td>\n",
       "      <td>...</td>\n",
       "    </tr>\n",
       "    <tr>\n",
       "      <th>28923</th>\n",
       "      <td>2020-12-01 03:26:43+00:00</td>\n",
       "      <td>1333613470298894341</td>\n",
       "      <td>So, Vaccine approved?? #CovidVaccine https://t...</td>\n",
       "      <td>BaluMahe</td>\n",
       "    </tr>\n",
       "    <tr>\n",
       "      <th>28924</th>\n",
       "      <td>2020-12-01 03:08:21+00:00</td>\n",
       "      <td>1333608847773102080</td>\n",
       "      <td>Scientific Reasons behind many Indian Supersti...</td>\n",
       "      <td>SagarMovieFreak</td>\n",
       "    </tr>\n",
       "    <tr>\n",
       "      <th>28925</th>\n",
       "      <td>2020-12-01 01:35:54+00:00</td>\n",
       "      <td>1333585582010691589</td>\n",
       "      <td>Rujuk balik artikel @bernamadotcom. Emas diang...</td>\n",
       "      <td>AMUBAIDAHS</td>\n",
       "    </tr>\n",
       "    <tr>\n",
       "      <th>28926</th>\n",
       "      <td>2020-12-01 01:27:37+00:00</td>\n",
       "      <td>1333583497173237761</td>\n",
       "      <td>Nothing can be 100% sure , not even whether yo...</td>\n",
       "      <td>soulful_saz</td>\n",
       "    </tr>\n",
       "    <tr>\n",
       "      <th>28927</th>\n",
       "      <td>2020-12-01 00:56:02+00:00</td>\n",
       "      <td>1333575548409405441</td>\n",
       "      <td>Pneumococcal Vaccine will be available in all ...</td>\n",
       "      <td>Azpapip</td>\n",
       "    </tr>\n",
       "  </tbody>\n",
       "</table>\n",
       "<p>28928 rows × 4 columns</p>\n",
       "</div>"
      ],
      "text/plain": [
       "                       Datetime             Tweet Id  \\\n",
       "0     2022-02-10 23:54:03+00:00  1491923447760691201   \n",
       "1     2022-02-10 23:50:12+00:00  1491922481812316160   \n",
       "2     2022-02-10 23:50:01+00:00  1491922432000724993   \n",
       "3     2022-02-10 23:36:49+00:00  1491919111756173314   \n",
       "4     2022-02-10 23:35:06+00:00  1491918679784800277   \n",
       "...                         ...                  ...   \n",
       "28923 2020-12-01 03:26:43+00:00  1333613470298894341   \n",
       "28924 2020-12-01 03:08:21+00:00  1333608847773102080   \n",
       "28925 2020-12-01 01:35:54+00:00  1333585582010691589   \n",
       "28926 2020-12-01 01:27:37+00:00  1333583497173237761   \n",
       "28927 2020-12-01 00:56:02+00:00  1333575548409405441   \n",
       "\n",
       "                                                    Text         Username  \n",
       "0      India's first mRNA Covid vaccine enters final ...  dellyranksindia  \n",
       "1      💉 About sixteen million (77%) Sri Lankans have...       COVID19_SL  \n",
       "2      Woman’s Autopsy, Obituary Blame Moderna’s Covi...         treego14  \n",
       "3      India’s first mRNA COVID-19 vaccine likely to ...  TheHinduScience  \n",
       "4      Decision on third dose of COVID-19 vaccine for...         Thespuzz  \n",
       "...                                                  ...              ...  \n",
       "28923  So, Vaccine approved?? #CovidVaccine https://t...         BaluMahe  \n",
       "28924  Scientific Reasons behind many Indian Supersti...  SagarMovieFreak  \n",
       "28925  Rujuk balik artikel @bernamadotcom. Emas diang...       AMUBAIDAHS  \n",
       "28926  Nothing can be 100% sure , not even whether yo...      soulful_saz  \n",
       "28927  Pneumococcal Vaccine will be available in all ...          Azpapip  \n",
       "\n",
       "[28928 rows x 4 columns]"
      ]
     },
     "execution_count": 6,
     "metadata": {},
     "output_type": "execute_result"
    }
   ],
   "source": [
    "tweets_df2"
   ]
  },
  {
   "cell_type": "code",
   "execution_count": 7,
   "metadata": {},
   "outputs": [],
   "source": [
    "tweets_df2.to_csv(\"../data/India/vaccination/covid_vaccine.csv\", index = False)  "
   ]
  },
  {
   "cell_type": "code",
   "execution_count": null,
   "metadata": {},
   "outputs": [],
   "source": []
  }
 ],
 "metadata": {
  "kernelspec": {
   "display_name": "Python 3",
   "language": "python",
   "name": "python3"
  },
  "language_info": {
   "codemirror_mode": {
    "name": "ipython",
    "version": 3
   },
   "file_extension": ".py",
   "mimetype": "text/x-python",
   "name": "python",
   "nbconvert_exporter": "python",
   "pygments_lexer": "ipython3",
   "version": "3.8.5"
  }
 },
 "nbformat": 4,
 "nbformat_minor": 5
}
