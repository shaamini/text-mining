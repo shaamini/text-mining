{
 "cells": [
  {
   "cell_type": "markdown",
   "metadata": {},
   "source": [
    "snscrape\n",
    "\n",
    "Ref: https://github.com/JustAnotherArchivist/snscrape"
   ]
  },
  {
   "cell_type": "code",
   "execution_count": 8,
   "metadata": {},
   "outputs": [],
   "source": [
    "import snscrape.modules.twitter as sntwitter\n",
    "import pandas as pd"
   ]
  },
  {
   "cell_type": "code",
   "execution_count": 9,
   "metadata": {},
   "outputs": [],
   "source": [
    "# Creating list to append tweet data to\n",
    "tweets_list = []\n",
    "\n",
    "# search terms\n",
    "search_terms = '화이자'\n",
    "\n",
    "# Using TwitterSearchScraper to scrape data and append tweets to list\n",
    "for i, tweet in enumerate(sntwitter.TwitterSearchScraper(search_terms + ' since:2021-01-01 until:2022-02-11 near:\"Seoul\" within:10000km').get_items()):\n",
    "    if i > 100000:\n",
    "        break\n",
    "    #declare the attributes to be returned\n",
    "    tweets_list.append([tweet.content])\n",
    "\n",
    "# Creating a dataframe from the tweets list above\n",
    "tweets_df = pd.DataFrame(tweets_list, columns=['Text'])"
   ]
  },
  {
   "cell_type": "code",
   "execution_count": 10,
   "metadata": {
    "scrolled": false
   },
   "outputs": [
    {
     "data": {
      "text/html": [
       "<div>\n",
       "<style scoped>\n",
       "    .dataframe tbody tr th:only-of-type {\n",
       "        vertical-align: middle;\n",
       "    }\n",
       "\n",
       "    .dataframe tbody tr th {\n",
       "        vertical-align: top;\n",
       "    }\n",
       "\n",
       "    .dataframe thead th {\n",
       "        text-align: right;\n",
       "    }\n",
       "</style>\n",
       "<table border=\"1\" class=\"dataframe\">\n",
       "  <thead>\n",
       "    <tr style=\"text-align: right;\">\n",
       "      <th></th>\n",
       "      <th>Text</th>\n",
       "    </tr>\n",
       "  </thead>\n",
       "  <tbody>\n",
       "    <tr>\n",
       "      <th>0</th>\n",
       "      <td>나는 백신 접종 필요없걸랑요~ (by 화이자 CEO) | 카카오 뷰 https://...</td>\n",
       "    </tr>\n",
       "    <tr>\n",
       "      <th>1</th>\n",
       "      <td>화이자 3차 맞은지 2일차...\\n\\n시발 롤파크 갈 수 있냐 팔이 작살났다...\\...</td>\n",
       "    </tr>\n",
       "    <tr>\n",
       "      <th>2</th>\n",
       "      <td>@ColeNae_ 곧 화이자-바이오엔텤에서 새 백신이 나올것..다른 변이가 나온다 ...</td>\n",
       "    </tr>\n",
       "    <tr>\n",
       "      <th>3</th>\n",
       "      <td>아 토할거 같아.\\n약 바꿀때마다 이렇게 힘들면 어쩌지? \\n화이자 부작용으로 의사...</td>\n",
       "    </tr>\n",
       "    <tr>\n",
       "      <th>4</th>\n",
       "      <td>화이자 백신 3차접종 하고 죽어가는중....ㅠ\\n진짜 갑자기 너무 아파서 죽겠어요....</td>\n",
       "    </tr>\n",
       "    <tr>\n",
       "      <th>...</th>\n",
       "      <td>...</td>\n",
       "    </tr>\n",
       "    <tr>\n",
       "      <th>1248</th>\n",
       "      <td>다른사람들 백신 아무도관심없는 여름부터 화이자 모더나 기대했었는데 그때는 주변사람들...</td>\n",
       "    </tr>\n",
       "    <tr>\n",
       "      <th>1249</th>\n",
       "      <td>모더나 화이자 맞고싶다 ㅜ 수치로는 홍역백신효과랑 같은데..전염력이 코로나 19보다...</td>\n",
       "    </tr>\n",
       "    <tr>\n",
       "      <th>1250</th>\n",
       "      <td>이탈리아 의사, 화이자 백신 1차 접종 6일 후 코로나19 확진 (출처 : 연합뉴스...</td>\n",
       "    </tr>\n",
       "    <tr>\n",
       "      <th>1251</th>\n",
       "      <td>저렇게\\n의심많고\\n게다가\\n글로벌로\\n걱정\\n많으시고\\n여기서\\n세금\\n많이내는 ...</td>\n",
       "    </tr>\n",
       "    <tr>\n",
       "      <th>1252</th>\n",
       "      <td>주요국 코로나 악화일로\\n미국, 지난달 30일 3880명 숨져\\n하루 만에 최대 기...</td>\n",
       "    </tr>\n",
       "  </tbody>\n",
       "</table>\n",
       "<p>1253 rows × 1 columns</p>\n",
       "</div>"
      ],
      "text/plain": [
       "                                                   Text\n",
       "0     나는 백신 접종 필요없걸랑요~ (by 화이자 CEO) | 카카오 뷰 https://...\n",
       "1     화이자 3차 맞은지 2일차...\\n\\n시발 롤파크 갈 수 있냐 팔이 작살났다...\\...\n",
       "2     @ColeNae_ 곧 화이자-바이오엔텤에서 새 백신이 나올것..다른 변이가 나온다 ...\n",
       "3     아 토할거 같아.\\n약 바꿀때마다 이렇게 힘들면 어쩌지? \\n화이자 부작용으로 의사...\n",
       "4     화이자 백신 3차접종 하고 죽어가는중....ㅠ\\n진짜 갑자기 너무 아파서 죽겠어요....\n",
       "...                                                 ...\n",
       "1248  다른사람들 백신 아무도관심없는 여름부터 화이자 모더나 기대했었는데 그때는 주변사람들...\n",
       "1249  모더나 화이자 맞고싶다 ㅜ 수치로는 홍역백신효과랑 같은데..전염력이 코로나 19보다...\n",
       "1250  이탈리아 의사, 화이자 백신 1차 접종 6일 후 코로나19 확진 (출처 : 연합뉴스...\n",
       "1251  저렇게\\n의심많고\\n게다가\\n글로벌로\\n걱정\\n많으시고\\n여기서\\n세금\\n많이내는 ...\n",
       "1252  주요국 코로나 악화일로\\n미국, 지난달 30일 3880명 숨져\\n하루 만에 최대 기...\n",
       "\n",
       "[1253 rows x 1 columns]"
      ]
     },
     "execution_count": 10,
     "metadata": {},
     "output_type": "execute_result"
    }
   ],
   "source": [
    "tweets_df"
   ]
  },
  {
   "cell_type": "code",
   "execution_count": 11,
   "metadata": {},
   "outputs": [],
   "source": [
    "tweets_df.to_csv(\"../data/Korea/pfizer_korea.csv\")"
   ]
  },
  {
   "cell_type": "code",
   "execution_count": null,
   "metadata": {},
   "outputs": [],
   "source": []
  }
 ],
 "metadata": {
  "kernelspec": {
   "display_name": "Python 3",
   "language": "python",
   "name": "python3"
  },
  "language_info": {
   "codemirror_mode": {
    "name": "ipython",
    "version": 3
   },
   "file_extension": ".py",
   "mimetype": "text/x-python",
   "name": "python",
   "nbconvert_exporter": "python",
   "pygments_lexer": "ipython3",
   "version": "3.8.5"
  }
 },
 "nbformat": 4,
 "nbformat_minor": 5
}
