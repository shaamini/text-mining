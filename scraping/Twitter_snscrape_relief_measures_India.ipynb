{
 "cells": [
  {
   "cell_type": "markdown",
   "metadata": {},
   "source": [
    "snscrape\n",
    "\n",
    "Ref: https://github.com/JustAnotherArchivist/snscrape"
   ]
  },
  {
   "cell_type": "code",
   "execution_count": 1,
   "metadata": {},
   "outputs": [],
   "source": [
    "import snscrape.modules.twitter as sntwitter\n",
    "import pandas as pd"
   ]
  },
  {
   "cell_type": "markdown",
   "metadata": {},
   "source": [
    "Scraping tweets from a text search query\n",
    "\n",
    "Using the code below, we are scraping 100 tweets between June 14, 2020, and August 31, 2021,\n",
    "with the keywords 'SSR Bollywood'.\n",
    "\n",
    "I then pulled attributes DateTime, tweet id, text, and username from the tweet objects."
   ]
  },
  {
   "cell_type": "code",
   "execution_count": 2,
   "metadata": {},
   "outputs": [],
   "source": [
    "# Creating list to append tweet data to\n",
    "tweets_list2 = []\n",
    "\n",
    "# search terms\n",
    "search_terms = 'vaccination'\n",
    "\n",
    "# Using TwitterSearchScraper to scrape data and append tweets to list\n",
    "for i, tweet in enumerate(sntwitter.TwitterSearchScraper(search_terms + ' since:2020-03-01 until:2022-02-11 near:\"India\" within:10000km').get_items()):\n",
    "    if i > 20000:\n",
    "        break\n",
    "    #declare the attributes to be returned\n",
    "    tweets_list2.append([tweet.date, tweet.id, tweet.content, tweet.user.username])\n",
    "\n",
    "# Creating a dataframe from the tweets list above\n",
    "tweets_df2 = pd.DataFrame(tweets_list2, columns=['Datetime', 'Tweet Id', 'Text', 'Username'])"
   ]
  },
  {
   "cell_type": "code",
   "execution_count": 3,
   "metadata": {
    "scrolled": true
   },
   "outputs": [
    {
     "data": {
      "text/html": [
       "<div>\n",
       "<style scoped>\n",
       "    .dataframe tbody tr th:only-of-type {\n",
       "        vertical-align: middle;\n",
       "    }\n",
       "\n",
       "    .dataframe tbody tr th {\n",
       "        vertical-align: top;\n",
       "    }\n",
       "\n",
       "    .dataframe thead th {\n",
       "        text-align: right;\n",
       "    }\n",
       "</style>\n",
       "<table border=\"1\" class=\"dataframe\">\n",
       "  <thead>\n",
       "    <tr style=\"text-align: right;\">\n",
       "      <th></th>\n",
       "      <th>Datetime</th>\n",
       "      <th>Tweet Id</th>\n",
       "      <th>Text</th>\n",
       "      <th>Username</th>\n",
       "    </tr>\n",
       "  </thead>\n",
       "  <tbody>\n",
       "    <tr>\n",
       "      <th>0</th>\n",
       "      <td>2022-02-10 23:51:11+00:00</td>\n",
       "      <td>1491922729250951169</td>\n",
       "      <td>@ManiSAiyarINC Soniya mummy hoti toh COVID me ...</td>\n",
       "      <td>Arya_AviJeet</td>\n",
       "    </tr>\n",
       "    <tr>\n",
       "      <th>1</th>\n",
       "      <td>2022-02-10 23:42:28+00:00</td>\n",
       "      <td>1491920533902049287</td>\n",
       "      <td>Rapid Vaccination A Shot In The Arm For Touris...</td>\n",
       "      <td>NelofarTach</td>\n",
       "    </tr>\n",
       "    <tr>\n",
       "      <th>2</th>\n",
       "      <td>2022-02-10 23:34:40+00:00</td>\n",
       "      <td>1491918569705119749</td>\n",
       "      <td>The online retailer attributed its policy upda...</td>\n",
       "      <td>krishna_eluri</td>\n",
       "    </tr>\n",
       "    <tr>\n",
       "      <th>3</th>\n",
       "      <td>2022-02-10 23:12:37+00:00</td>\n",
       "      <td>1491913021765029888</td>\n",
       "      <td>@outofofficedaku Hi, as I live in china and I ...</td>\n",
       "      <td>natrajmachinery</td>\n",
       "    </tr>\n",
       "    <tr>\n",
       "      <th>4</th>\n",
       "      <td>2022-02-10 22:25:12+00:00</td>\n",
       "      <td>1491901090975350785</td>\n",
       "      <td>@roshanbegwani @theskindoctor13 @vijayanpinara...</td>\n",
       "      <td>Gorakh22</td>\n",
       "    </tr>\n",
       "    <tr>\n",
       "      <th>...</th>\n",
       "      <td>...</td>\n",
       "      <td>...</td>\n",
       "      <td>...</td>\n",
       "      <td>...</td>\n",
       "    </tr>\n",
       "    <tr>\n",
       "      <th>19996</th>\n",
       "      <td>2021-07-31 10:24:19+00:00</td>\n",
       "      <td>1421416426879991811</td>\n",
       "      <td>Update: 6 days after Comirnaty covid-19/20/21/...</td>\n",
       "      <td>PetriM</td>\n",
       "    </tr>\n",
       "    <tr>\n",
       "      <th>19997</th>\n",
       "      <td>2021-07-31 10:14:07+00:00</td>\n",
       "      <td>1421413861622644737</td>\n",
       "      <td>Holding Twitter space with Dr Amandeep Kang, D...</td>\n",
       "      <td>Nainamishr94</td>\n",
       "    </tr>\n",
       "    <tr>\n",
       "      <th>19998</th>\n",
       "      <td>2021-07-31 10:05:47+00:00</td>\n",
       "      <td>1421411762969014275</td>\n",
       "      <td>Covid Vaccination is a global need and everyon...</td>\n",
       "      <td>advisorarvind</td>\n",
       "    </tr>\n",
       "    <tr>\n",
       "      <th>19999</th>\n",
       "      <td>2021-07-31 09:58:47+00:00</td>\n",
       "      <td>1421410000497307657</td>\n",
       "      <td>@MaxHealthcare @MoHFW_INDIA \\n\\n#Worst ever ma...</td>\n",
       "      <td>subho_trainer</td>\n",
       "    </tr>\n",
       "    <tr>\n",
       "      <th>20000</th>\n",
       "      <td>2021-07-31 09:46:14+00:00</td>\n",
       "      <td>1421406842836553729</td>\n",
       "      <td>@IncAyushKumar @ShilpiSinghINC Dirty Patra \\nB...</td>\n",
       "      <td>Mahendr51390853</td>\n",
       "    </tr>\n",
       "  </tbody>\n",
       "</table>\n",
       "<p>20001 rows × 4 columns</p>\n",
       "</div>"
      ],
      "text/plain": [
       "                       Datetime             Tweet Id  \\\n",
       "0     2022-02-10 23:51:11+00:00  1491922729250951169   \n",
       "1     2022-02-10 23:42:28+00:00  1491920533902049287   \n",
       "2     2022-02-10 23:34:40+00:00  1491918569705119749   \n",
       "3     2022-02-10 23:12:37+00:00  1491913021765029888   \n",
       "4     2022-02-10 22:25:12+00:00  1491901090975350785   \n",
       "...                         ...                  ...   \n",
       "19996 2021-07-31 10:24:19+00:00  1421416426879991811   \n",
       "19997 2021-07-31 10:14:07+00:00  1421413861622644737   \n",
       "19998 2021-07-31 10:05:47+00:00  1421411762969014275   \n",
       "19999 2021-07-31 09:58:47+00:00  1421410000497307657   \n",
       "20000 2021-07-31 09:46:14+00:00  1421406842836553729   \n",
       "\n",
       "                                                    Text         Username  \n",
       "0      @ManiSAiyarINC Soniya mummy hoti toh COVID me ...     Arya_AviJeet  \n",
       "1      Rapid Vaccination A Shot In The Arm For Touris...      NelofarTach  \n",
       "2      The online retailer attributed its policy upda...    krishna_eluri  \n",
       "3      @outofofficedaku Hi, as I live in china and I ...  natrajmachinery  \n",
       "4      @roshanbegwani @theskindoctor13 @vijayanpinara...         Gorakh22  \n",
       "...                                                  ...              ...  \n",
       "19996  Update: 6 days after Comirnaty covid-19/20/21/...           PetriM  \n",
       "19997  Holding Twitter space with Dr Amandeep Kang, D...     Nainamishr94  \n",
       "19998  Covid Vaccination is a global need and everyon...    advisorarvind  \n",
       "19999  @MaxHealthcare @MoHFW_INDIA \\n\\n#Worst ever ma...    subho_trainer  \n",
       "20000  @IncAyushKumar @ShilpiSinghINC Dirty Patra \\nB...  Mahendr51390853  \n",
       "\n",
       "[20001 rows x 4 columns]"
      ]
     },
     "execution_count": 3,
     "metadata": {},
     "output_type": "execute_result"
    }
   ],
   "source": [
    "tweets_df2"
   ]
  },
  {
   "cell_type": "code",
   "execution_count": 4,
   "metadata": {},
   "outputs": [],
   "source": [
    "tweets_df2.to_csv(\"../data/India/relief measures/India_vaccination.csv\", index = False)  "
   ]
  },
  {
   "cell_type": "code",
   "execution_count": null,
   "metadata": {},
   "outputs": [],
   "source": []
  }
 ],
 "metadata": {
  "kernelspec": {
   "display_name": "Python 3",
   "language": "python",
   "name": "python3"
  },
  "language_info": {
   "codemirror_mode": {
    "name": "ipython",
    "version": 3
   },
   "file_extension": ".py",
   "mimetype": "text/x-python",
   "name": "python",
   "nbconvert_exporter": "python",
   "pygments_lexer": "ipython3",
   "version": "3.8.5"
  }
 },
 "nbformat": 4,
 "nbformat_minor": 5
}
