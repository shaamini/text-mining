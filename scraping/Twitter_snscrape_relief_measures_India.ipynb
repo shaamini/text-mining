{
 "cells": [
  {
   "cell_type": "markdown",
   "metadata": {},
   "source": [
    "snscrape\n",
    "\n",
    "Ref: https://github.com/JustAnotherArchivist/snscrape"
   ]
  },
  {
   "cell_type": "code",
   "execution_count": 2,
   "metadata": {},
   "outputs": [],
   "source": [
    "import snscrape.modules.twitter as sntwitter\n",
    "import pandas as pd"
   ]
  },
  {
   "cell_type": "markdown",
   "metadata": {},
   "source": [
    "Scraping tweets from a text search query\n",
    "\n",
    "Using the code below, we are scraping 100 tweets between June 14, 2020, and August 31, 2021,\n",
    "with the keywords 'SSR Bollywood'.\n",
    "\n",
    "I then pulled attributes DateTime, tweet id, text, and username from the tweet objects."
   ]
  },
  {
   "cell_type": "code",
   "execution_count": 11,
   "metadata": {},
   "outputs": [],
   "source": [
    "# Creating list to append tweet data to\n",
    "tweets_list2 = []\n",
    "\n",
    "# search terms\n",
    "search_terms = 'pm cares'\n",
    "\n",
    "# Using TwitterSearchScraper to scrape data and append tweets to list\n",
    "for i, tweet in enumerate(sntwitter.TwitterSearchScraper(search_terms + ' since:2020-03-01 until:2020-07-11 near:\"India\" within:10000km').get_items()):\n",
    "    if i > 20000:\n",
    "        break\n",
    "    #declare the attributes to be returned\n",
    "    tweets_list2.append([tweet.date, tweet.id, tweet.content, tweet.user.username])\n",
    "\n",
    "# Creating a dataframe from the tweets list above\n",
    "tweets_df2 = pd.DataFrame(tweets_list2, columns=['Datetime', 'Tweet Id', 'Text', 'Username'])"
   ]
  },
  {
   "cell_type": "code",
   "execution_count": 12,
   "metadata": {
    "scrolled": true
   },
   "outputs": [
    {
     "data": {
      "text/html": [
       "<div>\n",
       "<style scoped>\n",
       "    .dataframe tbody tr th:only-of-type {\n",
       "        vertical-align: middle;\n",
       "    }\n",
       "\n",
       "    .dataframe tbody tr th {\n",
       "        vertical-align: top;\n",
       "    }\n",
       "\n",
       "    .dataframe thead th {\n",
       "        text-align: right;\n",
       "    }\n",
       "</style>\n",
       "<table border=\"1\" class=\"dataframe\">\n",
       "  <thead>\n",
       "    <tr style=\"text-align: right;\">\n",
       "      <th></th>\n",
       "      <th>Datetime</th>\n",
       "      <th>Tweet Id</th>\n",
       "      <th>Text</th>\n",
       "      <th>Username</th>\n",
       "    </tr>\n",
       "  </thead>\n",
       "  <tbody>\n",
       "    <tr>\n",
       "      <th>0</th>\n",
       "      <td>2020-07-10 22:35:16+00:00</td>\n",
       "      <td>1281718662085238784</td>\n",
       "      <td>\"PM cares\" को यह समझाना है कि वह किस तरह से फं...</td>\n",
       "      <td>imjktomar</td>\n",
       "    </tr>\n",
       "    <tr>\n",
       "      <th>1</th>\n",
       "      <td>2020-07-10 17:30:00+00:00</td>\n",
       "      <td>1281641836839235584</td>\n",
       "      <td>Very beautiful&amp;amp;meaningful cartoon by THE P...</td>\n",
       "      <td>JYeggoni</td>\n",
       "    </tr>\n",
       "    <tr>\n",
       "      <th>2</th>\n",
       "      <td>2020-07-10 11:28:39+00:00</td>\n",
       "      <td>1281550901929377793</td>\n",
       "      <td>5 BIGGEST LIES of the last few months\\n\\n❌Ther...</td>\n",
       "      <td>YashNagrare</td>\n",
       "    </tr>\n",
       "    <tr>\n",
       "      <th>3</th>\n",
       "      <td>2020-07-10 10:49:07+00:00</td>\n",
       "      <td>1281540953254187014</td>\n",
       "      <td>The Prime Minister’s Citizen Assistance and Re...</td>\n",
       "      <td>BalakrishnaBJP</td>\n",
       "    </tr>\n",
       "    <tr>\n",
       "      <th>4</th>\n",
       "      <td>2020-07-10 06:17:46+00:00</td>\n",
       "      <td>1281472664155025410</td>\n",
       "      <td>@srivatsayb @vivekagnihotri Twist hai sir kya ...</td>\n",
       "      <td>BeingsyedLateef</td>\n",
       "    </tr>\n",
       "    <tr>\n",
       "      <th>...</th>\n",
       "      <td>...</td>\n",
       "      <td>...</td>\n",
       "      <td>...</td>\n",
       "      <td>...</td>\n",
       "    </tr>\n",
       "    <tr>\n",
       "      <th>12864</th>\n",
       "      <td>2020-03-14 11:37:30+00:00</td>\n",
       "      <td>1238791359969914881</td>\n",
       "      <td>@prettypadmaja @DrSJaishankar @India_in_Iran C...</td>\n",
       "      <td>raj2jas</td>\n",
       "    </tr>\n",
       "    <tr>\n",
       "      <th>12865</th>\n",
       "      <td>2020-03-12 06:33:38+00:00</td>\n",
       "      <td>1237990112975302656</td>\n",
       "      <td>@HDFCBank_Cares My loan account number is 0000...</td>\n",
       "      <td>Satinde33277910</td>\n",
       "    </tr>\n",
       "    <tr>\n",
       "      <th>12866</th>\n",
       "      <td>2020-03-11 10:08:38+00:00</td>\n",
       "      <td>1237681833963184128</td>\n",
       "      <td>@srivatsayb @Vidyaraj51 Our Honourable PM Modi...</td>\n",
       "      <td>rajsamridhi</td>\n",
       "    </tr>\n",
       "    <tr>\n",
       "      <th>12867</th>\n",
       "      <td>2020-03-09 16:43:25+00:00</td>\n",
       "      <td>1237056407142387712</td>\n",
       "      <td>Imagine our miseries. Power Input at 09:25 PM ...</td>\n",
       "      <td>AtharQadiri</td>\n",
       "    </tr>\n",
       "    <tr>\n",
       "      <th>12868</th>\n",
       "      <td>2020-03-03 13:29:28+00:00</td>\n",
       "      <td>1234833270950379523</td>\n",
       "      <td>@TVMohandasPai @nytimes That’s the agenda alwa...</td>\n",
       "      <td>rajeevmusic007</td>\n",
       "    </tr>\n",
       "  </tbody>\n",
       "</table>\n",
       "<p>12869 rows × 4 columns</p>\n",
       "</div>"
      ],
      "text/plain": [
       "                       Datetime             Tweet Id  \\\n",
       "0     2020-07-10 22:35:16+00:00  1281718662085238784   \n",
       "1     2020-07-10 17:30:00+00:00  1281641836839235584   \n",
       "2     2020-07-10 11:28:39+00:00  1281550901929377793   \n",
       "3     2020-07-10 10:49:07+00:00  1281540953254187014   \n",
       "4     2020-07-10 06:17:46+00:00  1281472664155025410   \n",
       "...                         ...                  ...   \n",
       "12864 2020-03-14 11:37:30+00:00  1238791359969914881   \n",
       "12865 2020-03-12 06:33:38+00:00  1237990112975302656   \n",
       "12866 2020-03-11 10:08:38+00:00  1237681833963184128   \n",
       "12867 2020-03-09 16:43:25+00:00  1237056407142387712   \n",
       "12868 2020-03-03 13:29:28+00:00  1234833270950379523   \n",
       "\n",
       "                                                    Text         Username  \n",
       "0      \"PM cares\" को यह समझाना है कि वह किस तरह से फं...        imjktomar  \n",
       "1      Very beautiful&amp;meaningful cartoon by THE P...         JYeggoni  \n",
       "2      5 BIGGEST LIES of the last few months\\n\\n❌Ther...      YashNagrare  \n",
       "3      The Prime Minister’s Citizen Assistance and Re...   BalakrishnaBJP  \n",
       "4      @srivatsayb @vivekagnihotri Twist hai sir kya ...  BeingsyedLateef  \n",
       "...                                                  ...              ...  \n",
       "12864  @prettypadmaja @DrSJaishankar @India_in_Iran C...          raj2jas  \n",
       "12865  @HDFCBank_Cares My loan account number is 0000...  Satinde33277910  \n",
       "12866  @srivatsayb @Vidyaraj51 Our Honourable PM Modi...      rajsamridhi  \n",
       "12867  Imagine our miseries. Power Input at 09:25 PM ...      AtharQadiri  \n",
       "12868  @TVMohandasPai @nytimes That’s the agenda alwa...   rajeevmusic007  \n",
       "\n",
       "[12869 rows x 4 columns]"
      ]
     },
     "execution_count": 12,
     "metadata": {},
     "output_type": "execute_result"
    }
   ],
   "source": [
    "tweets_df2"
   ]
  },
  {
   "cell_type": "code",
   "execution_count": 13,
   "metadata": {},
   "outputs": [],
   "source": [
    "tweets_df2.to_csv(\"../data/India/relief measures/pm_cares.csv\", index = False)  "
   ]
  },
  {
   "cell_type": "code",
   "execution_count": null,
   "metadata": {},
   "outputs": [],
   "source": []
  }
 ],
 "metadata": {
  "kernelspec": {
   "display_name": "Python 3",
   "language": "python",
   "name": "python3"
  },
  "language_info": {
   "codemirror_mode": {
    "name": "ipython",
    "version": 3
   },
   "file_extension": ".py",
   "mimetype": "text/x-python",
   "name": "python",
   "nbconvert_exporter": "python",
   "pygments_lexer": "ipython3",
   "version": "3.8.5"
  }
 },
 "nbformat": 4,
 "nbformat_minor": 5
}
