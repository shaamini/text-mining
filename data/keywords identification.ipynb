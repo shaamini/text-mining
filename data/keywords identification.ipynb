{
 "cells": [
  {
   "cell_type": "code",
   "execution_count": null,
   "id": "3a97619d",
   "metadata": {},
   "outputs": [],
   "source": [
    "# reference: https://medium.com/the-data-science-publication/how-to-use-the-pytrends-api-to-get-google-trends-data-4378acbaaa8a"
   ]
  },
  {
   "cell_type": "code",
   "execution_count": 2,
   "id": "3fb7d704",
   "metadata": {},
   "outputs": [
    {
     "name": "stdout",
     "output_type": "stream",
     "text": [
      "Collecting pytrends\n",
      "  Downloading pytrends-4.8.0.tar.gz (19 kB)\n",
      "  Preparing metadata (setup.py): started\n",
      "  Preparing metadata (setup.py): finished with status 'done'\n",
      "Requirement already satisfied: requests>=2.0 in c:\\users\\user\\anaconda3\\lib\\site-packages (from pytrends) (2.26.0)\n",
      "Requirement already satisfied: pandas>=0.25 in c:\\users\\user\\anaconda3\\lib\\site-packages (from pytrends) (1.1.5)\n",
      "Requirement already satisfied: lxml in c:\\users\\user\\anaconda3\\lib\\site-packages (from pytrends) (4.6.3)\n",
      "Requirement already satisfied: pytz>=2017.2 in c:\\users\\user\\anaconda3\\lib\\site-packages (from pandas>=0.25->pytrends) (2021.3)\n",
      "Requirement already satisfied: numpy>=1.15.4 in c:\\users\\user\\anaconda3\\lib\\site-packages (from pandas>=0.25->pytrends) (1.20.3)\n",
      "Requirement already satisfied: python-dateutil>=2.7.3 in c:\\users\\user\\anaconda3\\lib\\site-packages (from pandas>=0.25->pytrends) (2.8.2)\n",
      "Requirement already satisfied: certifi>=2017.4.17 in c:\\users\\user\\anaconda3\\lib\\site-packages (from requests>=2.0->pytrends) (2021.10.8)\n",
      "Requirement already satisfied: charset-normalizer~=2.0.0 in c:\\users\\user\\anaconda3\\lib\\site-packages (from requests>=2.0->pytrends) (2.0.4)\n",
      "Requirement already satisfied: urllib3<1.27,>=1.21.1 in c:\\users\\user\\anaconda3\\lib\\site-packages (from requests>=2.0->pytrends) (1.26.7)\n",
      "Requirement already satisfied: idna<4,>=2.5 in c:\\users\\user\\anaconda3\\lib\\site-packages (from requests>=2.0->pytrends) (3.2)\n",
      "Requirement already satisfied: six>=1.5 in c:\\users\\user\\anaconda3\\lib\\site-packages (from python-dateutil>=2.7.3->pandas>=0.25->pytrends) (1.16.0)\n",
      "Building wheels for collected packages: pytrends\n",
      "  Building wheel for pytrends (setup.py): started\n",
      "  Building wheel for pytrends (setup.py): finished with status 'done'\n",
      "  Created wheel for pytrends: filename=pytrends-4.8.0-py3-none-any.whl size=16124 sha256=ebbd60b7d0c4b99a1281b9d19590def903c76a125f3c3e660b5fec3a2b1094bf\n",
      "  Stored in directory: c:\\users\\user\\appdata\\local\\pip\\cache\\wheels\\87\\a9\\a3\\c190a7e0872639762e92cf3a84d6845ed086e10966533faf42\n",
      "Successfully built pytrends\n",
      "Installing collected packages: pytrends\n",
      "Successfully installed pytrends-4.8.0\n"
     ]
    }
   ],
   "source": [
    "# !pip install pytrends\n",
    "# !pip install pandas\n",
    "import pandas as pd\n",
    "import datetime      \n",
    "import csv\n",
    "from pytrends.request import TrendReq"
   ]
  },
  {
   "cell_type": "code",
   "execution_count": null,
   "id": "03b2f849",
   "metadata": {},
   "outputs": [],
   "source": [
    "# # Create functions (can remove or add accordingly)\n",
    "# def getFileName(type, func, word, ts):\n",
    "# \tif type == 'figure' :\n",
    "# \t\ttxt = type + '_' + func + '_' + word + '_{}.png'\n",
    "# \telif type == 'CSV' :\n",
    "# \t\ttxt = type + '_' + func + '_' + word + '_{}.csv'\n",
    "# \tfileName  = txt.format(ts)\n",
    "# \treturn fileName\n",
    "\n",
    "# def time_analysis(source, ts):\n",
    "# \tfigName = getFileName('figure', 'analysis_over_time_SG', source, ts)\n",
    "# \tcsvName = getFileName('CSV', 'analysis_over_time_SG', source, ts)\n",
    "# \tdf = pytrend.interest_over_time()\n",
    "# \tdf = df.drop(labels=['isPartial'],axis='columns', errors = 'ignore')\n",
    "# \tdf.to_csv(csvName, encoding='utf_8_sig') #Can Change Path Where Relevant \n",
    "# \timage = df.plot(title = source + ' searchs in 2019 to June 2021 on Google Trends Singapore') \n",
    "# \tfig = image.get_figure()\n",
    "# \tfig.savefig(figName)\n",
    "\n",
    "# def suggestions_analysis(source, ts):\n",
    "# \tfigName = getFileName('figure', 'suggestions_SG', source, ts)\n",
    "# \tcsvName = getFileName('CSV', 'suggestions_SG', source, ts)\n",
    "# \tkeywords = pytrend.suggestions(keyword=source)\n",
    "# \tdf = pd.DataFrame(keywords)\n",
    "# \tdf = df.drop(columns='mid', errors = 'ignore')\n",
    "# \tdf.to_csv(csvName, encoding='utf_8_sig')\n",
    "\n",
    "# def related_topics_analysis(source, ts):\n",
    "# \tfigName = getFileName('figure', 'related_topics_SG', source, ts)\n",
    "# \tcsvName = getFileName('CSV', 'related_topics_SG', source, ts)\n",
    "# \trelated_topics = pytrend.related_topics()\n",
    "# \twith open(csvName, 'w') as f:\n",
    "# \t\tfor key in related_topics.keys():\n",
    "# \t\t\tf.write(\"%s,%s\\n\"%(key,related_topics[key]))"
   ]
  },
  {
   "cell_type": "code",
   "execution_count": 11,
   "id": "dc4a6806",
   "metadata": {},
   "outputs": [],
   "source": [
    "pytrends = TrendReq(hl='en-US', tz=360)"
   ]
  },
  {
   "cell_type": "markdown",
   "id": "de5622e9",
   "metadata": {},
   "source": [
    "## Find related topics"
   ]
  },
  {
   "cell_type": "code",
   "execution_count": 48,
   "id": "33c75096",
   "metadata": {},
   "outputs": [],
   "source": [
    "# build the payload\n",
    "pytrends.build_payload(kw_list=['lockdown'], timeframe='2020-01-01 2022-01-01', geo='IN') \n",
    "\n",
    "# get related topics\n",
    "df_rt = pytrends.related_topics()"
   ]
  },
  {
   "cell_type": "code",
   "execution_count": 49,
   "id": "c609b9c2",
   "metadata": {},
   "outputs": [
    {
     "name": "stdout",
     "output_type": "stream",
     "text": [
      "   value formattedValue  hasData  \\\n",
      "0    100            100     True   \n",
      "1     21             21     True   \n",
      "2      5              5     True   \n",
      "3      5              5     True   \n",
      "4      3              3     True   \n",
      "5      3              3     True   \n",
      "6      2              2     True   \n",
      "7      2              2     True   \n",
      "8      1              1     True   \n",
      "\n",
      "                                                link      topic_mid  \\\n",
      "0  /trends/explore?q=/m/07l88z&date=2020-01-01+20...      /m/07l88z   \n",
      "1  /trends/explore?q=/m/05jhg&date=2020-01-01+202...       /m/05jhg   \n",
      "2  /trends/explore?q=/m/055vr&date=2020-01-01+202...       /m/055vr   \n",
      "3  /trends/explore?q=/g/11ft8t3nm5&date=2020-01-0...  /g/11ft8t3nm5   \n",
      "4  /trends/explore?q=/m/049lr&date=2020-01-01+202...       /m/049lr   \n",
      "5  /trends/explore?q=/m/03x5nf&date=2020-01-01+20...      /m/03x5nf   \n",
      "6  /trends/explore?q=/m/04xyb9&date=2020-01-01+20...      /m/04xyb9   \n",
      "7  /trends/explore?q=/m/0ddd9f8&date=2020-01-01+2...     /m/0ddd9f8   \n",
      "8  /trends/explore?q=/m/04w_7&date=2020-01-01+202...       /m/04w_7   \n",
      "\n",
      "                          topic_title        topic_type  \n",
      "0                            Lockdown             Topic  \n",
      "1                                News   Broadcast genre  \n",
      "2                         Maharashtra    State of India  \n",
      "3  2020 coronavirus lockdown in India             Topic  \n",
      "4                           Karnataka    State of India  \n",
      "5                           Telangana    State of India  \n",
      "6                           Guideline             Topic  \n",
      "7                            Veerapur  Village in India  \n",
      "8                                 May             Month  \n"
     ]
    }
   ],
   "source": [
    "# display top 5 rising results for the keyword\n",
    "print(df_rt['lockdown']['top'].head(20))"
   ]
  },
  {
   "cell_type": "markdown",
   "id": "385f6401",
   "metadata": {},
   "source": [
    "## Find related queries"
   ]
  },
  {
   "cell_type": "code",
   "execution_count": 47,
   "id": "60e1228d",
   "metadata": {},
   "outputs": [
    {
     "name": "stdout",
     "output_type": "stream",
     "text": [
      "{'lockdown': {'top':                       query  value\n",
      "0             lockdown news    100\n",
      "1            lockdown india     67\n",
      "2         lockdown in india     42\n",
      "3            delhi lockdown     36\n",
      "4      maharashtra lockdown     28\n",
      "5               maharashtra     26\n",
      "6           mumbai lockdown     25\n",
      "7               up lockdown     21\n",
      "8        lockdown karnataka     21\n",
      "9             lockdown 2021     21\n",
      "10          lockdown update     19\n",
      "11       lockdown bangalore     19\n",
      "12           covid lockdown     18\n",
      "13     coronavirus lockdown     18\n",
      "14      lockdown news today     18\n",
      "15            lockdown date     16\n",
      "16        lockdown in delhi     15\n",
      "17       lockdown extension     13\n",
      "18       telangana lockdown     13\n",
      "19         lockdown meaning     13\n",
      "20       lockdown in mumbai     12\n",
      "21      lockdown news india     11\n",
      "22  lockdown in maharashtra     11\n",
      "23            pune lockdown     10\n",
      "24          bengal lockdown     10, 'rising':                       query   value\n",
      "0         lockdown in india  849900\n",
      "1      maharashtra lockdown  556600\n",
      "2               maharashtra  533150\n",
      "3        lockdown karnataka  423350\n",
      "4             lockdown 2021  413150\n",
      "5           lockdown update  388300\n",
      "6            covid lockdown  367500\n",
      "7      coronavirus lockdown  356450\n",
      "8       lockdown news today  354150\n",
      "9         lockdown in delhi  306950\n",
      "10       lockdown extension  268350\n",
      "11       telangana lockdown  262850\n",
      "12       lockdown in mumbai  237100\n",
      "13      lockdown news india  224000\n",
      "14  lockdown in maharashtra  221300\n",
      "15            pune lockdown  205350\n",
      "16      delhi lockdown news  197650\n",
      "17        lockdown extended  189550\n",
      "18    lockdown in bangalore  170800\n",
      "19     lockdown west bengal  169550\n",
      "20    lockdown in karnataka  169000\n",
      "21      tamil nadu lockdown  159950\n",
      "22           bihar lockdown  146700\n",
      "23       rajasthan lockdown  141350\n",
      "24             lockdown 4.0  138350}}\n"
     ]
    }
   ],
   "source": [
    "# build the payload\n",
    "pytrends.build_payload(kw_list=['lockdown'], timeframe='2020-01-01 2022-01-01', geo='IN') \n",
    "\n",
    "# get related queries\n",
    "df_rq = pytrends.related_queries()\n",
    "\n",
    "# display df_rq\n",
    "print(df_rq)"
   ]
  },
  {
   "cell_type": "markdown",
   "id": "9454fdd9",
   "metadata": {},
   "source": [
    "## Find suggested search keywords"
   ]
  },
  {
   "cell_type": "code",
   "execution_count": 17,
   "id": "2113f856",
   "metadata": {},
   "outputs": [
    {
     "name": "stdout",
     "output_type": "stream",
     "text": [
      "[{'mid': '/m/07l88z', 'title': 'Lockdown', 'type': 'Topic'}, {'mid': '/g/11hxmwz12g', 'title': 'Locked Down', 'type': 'Film'}, {'mid': '/m/012659r0', 'title': '12 Rounds 3: Lockdown', 'type': '2015 film'}, {'mid': '/m/0hqyk', 'title': 'Half Past Dead', 'type': '2002 film'}, {'mid': '/g/11bc62j7my', 'title': 'Lockdown', 'type': 'Topic'}]\n"
     ]
    }
   ],
   "source": [
    "# get suggestions\n",
    "df_s = pytrends.suggestions('lockdown')\n",
    "\n",
    "# display df_rq\n",
    "print(df_s)"
   ]
  },
  {
   "cell_type": "markdown",
   "id": "0b248578",
   "metadata": {},
   "source": [
    "## Find policies in NZ"
   ]
  },
  {
   "cell_type": "code",
   "execution_count": 29,
   "id": "a20f75a9",
   "metadata": {},
   "outputs": [],
   "source": [
    "# build the payload\n",
    "pytrends.build_payload(kw_list=['zero covid'], timeframe='2020-01-01 2022-01-01', geo='NZ') \n",
    "\n",
    "# get related topics\n",
    "df_rt = pytrends.related_topics()"
   ]
  },
  {
   "cell_type": "code",
   "execution_count": 30,
   "id": "3302e78e",
   "metadata": {},
   "outputs": [
    {
     "name": "stdout",
     "output_type": "stream",
     "text": [
      "   value formattedValue  hasData  \\\n",
      "0    100            100     True   \n",
      "1     25             25     True   \n",
      "2     12             12     True   \n",
      "\n",
      "                                                link      topic_mid  \\\n",
      "0  /trends/explore?q=/g/11j2cc_qll&date=2020-01-0...  /g/11j2cc_qll   \n",
      "1  /trends/explore?q=/g/11bc6ry_g6&date=2020-01-0...  /g/11bc6ry_g6   \n",
      "2  /trends/explore?q=/m/07__7&date=2020-01-01+202...       /m/07__7   \n",
      "\n",
      "                topic_title topic_type  \n",
      "0  Coronavirus disease 2019    Disease  \n",
      "1                         0      Topic  \n",
      "2                   Vaccine      Topic  \n"
     ]
    }
   ],
   "source": [
    "# display top 5 rising results for the chicken keyword\n",
    "print(df_rt['zero covid']['top'].head(10))"
   ]
  },
  {
   "cell_type": "code",
   "execution_count": 31,
   "id": "fc797953",
   "metadata": {},
   "outputs": [
    {
     "name": "stdout",
     "output_type": "stream",
     "text": [
      "{'zero covid': {'top': None, 'rising': None}}\n"
     ]
    }
   ],
   "source": [
    "# build the payload\n",
    "pytrends.build_payload(kw_list=['zero covid'], timeframe='2020-01-01 2022-01-01', geo='NZ') \n",
    "\n",
    "# get related queries\n",
    "df_rq = pytrends.related_queries()\n",
    "\n",
    "# display df_rq\n",
    "print(df_rq)"
   ]
  }
 ],
 "metadata": {
  "kernelspec": {
   "display_name": "Python 3 (ipykernel)",
   "language": "python",
   "name": "python3"
  },
  "language_info": {
   "codemirror_mode": {
    "name": "ipython",
    "version": 3
   },
   "file_extension": ".py",
   "mimetype": "text/x-python",
   "name": "python",
   "nbconvert_exporter": "python",
   "pygments_lexer": "ipython3",
   "version": "3.9.7"
  }
 },
 "nbformat": 4,
 "nbformat_minor": 5
}
