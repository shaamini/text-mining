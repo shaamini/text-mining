{
 "cells": [
  {
   "cell_type": "code",
   "execution_count": null,
   "metadata": {},
   "outputs": [],
   "source": [
    "# reference: https://medium.com/the-data-science-publication/how-to-use-the-pytrends-api-to-get-google-trends-data-4378acbaaa8a"
   ]
  },
  {
   "cell_type": "code",
   "execution_count": 1,
   "metadata": {},
   "outputs": [],
   "source": [
    "# !pip install pytrends\n",
    "# !pip install pandas\n",
    "import pandas as pd\n",
    "import datetime      \n",
    "import csv\n",
    "from pytrends.request import TrendReq"
   ]
  },
  {
   "cell_type": "code",
   "execution_count": null,
   "metadata": {},
   "outputs": [],
   "source": [
    "# # Create functions (can remove or add accordingly)\n",
    "# def getFileName(type, func, word, ts):\n",
    "# \tif type == 'figure' :\n",
    "# \t\ttxt = type + '_' + func + '_' + word + '_{}.png'\n",
    "# \telif type == 'CSV' :\n",
    "# \t\ttxt = type + '_' + func + '_' + word + '_{}.csv'\n",
    "# \tfileName  = txt.format(ts)\n",
    "# \treturn fileName\n",
    "\n",
    "# def time_analysis(source, ts):\n",
    "# \tfigName = getFileName('figure', 'analysis_over_time_SG', source, ts)\n",
    "# \tcsvName = getFileName('CSV', 'analysis_over_time_SG', source, ts)\n",
    "# \tdf = pytrend.interest_over_time()\n",
    "# \tdf = df.drop(labels=['isPartial'],axis='columns', errors = 'ignore')\n",
    "# \tdf.to_csv(csvName, encoding='utf_8_sig') #Can Change Path Where Relevant \n",
    "# \timage = df.plot(title = source + ' searchs in 2019 to June 2021 on Google Trends Singapore') \n",
    "# \tfig = image.get_figure()\n",
    "# \tfig.savefig(figName)\n",
    "\n",
    "# def suggestions_analysis(source, ts):\n",
    "# \tfigName = getFileName('figure', 'suggestions_SG', source, ts)\n",
    "# \tcsvName = getFileName('CSV', 'suggestions_SG', source, ts)\n",
    "# \tkeywords = pytrend.suggestions(keyword=source)\n",
    "# \tdf = pd.DataFrame(keywords)\n",
    "# \tdf = df.drop(columns='mid', errors = 'ignore')\n",
    "# \tdf.to_csv(csvName, encoding='utf_8_sig')\n",
    "\n",
    "# def related_topics_analysis(source, ts):\n",
    "# \tfigName = getFileName('figure', 'related_topics_SG', source, ts)\n",
    "# \tcsvName = getFileName('CSV', 'related_topics_SG', source, ts)\n",
    "# \trelated_topics = pytrend.related_topics()\n",
    "# \twith open(csvName, 'w') as f:\n",
    "# \t\tfor key in related_topics.keys():\n",
    "# \t\t\tf.write(\"%s,%s\\n\"%(key,related_topics[key]))"
   ]
  },
  {
   "cell_type": "code",
   "execution_count": 2,
   "metadata": {},
   "outputs": [],
   "source": [
    "pytrends = TrendReq(hl='en-US', tz=360)"
   ]
  },
  {
   "cell_type": "markdown",
   "metadata": {},
   "source": [
    "## Find related topics"
   ]
  },
  {
   "cell_type": "code",
   "execution_count": 8,
   "metadata": {},
   "outputs": [],
   "source": [
    "# build the payload\n",
    "pytrends.build_payload(kw_list=['lockdown'], timeframe='2020-01-01 2022-01-01', geo='KR') \n",
    "\n",
    "# get related topics\n",
    "df_rt = pytrends.related_topics()"
   ]
  },
  {
   "cell_type": "code",
   "execution_count": 9,
   "metadata": {},
   "outputs": [
    {
     "name": "stdout",
     "output_type": "stream",
     "text": [
      "    value formattedValue  hasData  \\\n",
      "0     100            100     True   \n",
      "1      18             18     True   \n",
      "2      15             15     True   \n",
      "3      11             11     True   \n",
      "4      10             10     True   \n",
      "5       6              6     True   \n",
      "6       5              5     True   \n",
      "7       5              5     True   \n",
      "8       4              4     True   \n",
      "9       4              4     True   \n",
      "10      4              4     True   \n",
      "11      3              3     True   \n",
      "12      3              3     True   \n",
      "13      3              3     True   \n",
      "14      3              3     True   \n",
      "15      2              2     True   \n",
      "16      2              2     True   \n",
      "17      2              2     True   \n",
      "18      2              2     True   \n",
      "19      1              1     True   \n",
      "\n",
      "                                                 link      topic_mid  \\\n",
      "0   /trends/explore?q=/m/07l88z&date=2020-01-01+20...      /m/07l88z   \n",
      "1   /trends/explore?q=/g/11j2cc_qll&date=2020-01-0...  /g/11j2cc_qll   \n",
      "2   /trends/explore?q=/m/01cpyy&date=2020-01-01+20...      /m/01cpyy   \n",
      "3   /trends/explore?q=/g/11ft8t3nm5&date=2020-01-0...  /g/11ft8t3nm5   \n",
      "4   /trends/explore?q=/m/03rk0&date=2020-01-01+202...       /m/03rk0   \n",
      "5   /trends/explore?q=/m/09pmkv&date=2020-01-01+20...      /m/09pmkv   \n",
      "6   /trends/explore?q=/m/0345h&date=2020-01-01+202...       /m/0345h   \n",
      "7   /trends/explore?q=/m/07ssc&date=2020-01-01+202...       /m/07ssc   \n",
      "8   /trends/explore?q=/g/11hf9srvdz&date=2020-01-0...  /g/11hf9srvdz   \n",
      "9   /trends/explore?q=/m/05v8c&date=2020-01-01+202...       /m/05v8c   \n",
      "10  /trends/explore?q=/m/01lff&date=2020-01-01+202...       /m/01lff   \n",
      "11  /trends/explore?q=/m/03rjj&date=2020-01-01+202...       /m/03rjj   \n",
      "12  /trends/explore?q=/m/082hp&date=2020-01-01+202...       /m/082hp   \n",
      "13  /trends/explore?q=/m/0195pd&date=2020-01-01+20...      /m/0195pd   \n",
      "14  /trends/explore?q=/g/11lrg4xqj2&date=2020-01-0...  /g/11lrg4xqj2   \n",
      "15  /trends/explore?q=/m/04jpl&date=2020-01-01+202...       /m/04jpl   \n",
      "16  /trends/explore?q=/m/0chghy&date=2020-01-01+20...      /m/0chghy   \n",
      "17  /trends/explore?q=/m/097kp&date=2020-01-01+202...       /m/097kp   \n",
      "18  /trends/explore?q=/m/02_286&date=2020-01-01+20...      /m/02_286   \n",
      "19  /trends/explore?q=/m/055vr&date=2020-01-01+202...       /m/055vr   \n",
      "\n",
      "                           topic_title                  topic_type  \n",
      "0                             Lockdown                       Topic  \n",
      "1             Coronavirus disease 2019                     Disease  \n",
      "2                          Coronavirus                       Virus  \n",
      "3   2020 coronavirus lockdown in India                       Topic  \n",
      "4                                India       Country in South Asia  \n",
      "5                             Malaysia             Country in Asia  \n",
      "6                              Germany           Country in Europe  \n",
      "7                       United Kingdom           Country in Europe  \n",
      "8                   Stay-at-home order                       Topic  \n",
      "9                          Philippines             Country in Asia  \n",
      "10                             Country                       Topic  \n",
      "11                               Italy           Country in Europe  \n",
      "12                         Web browser                       Topic  \n",
      "13                              Manila  Capital of the Philippines  \n",
      "14                    LockDown Browser                       Topic  \n",
      "15                              London          Capital of England  \n",
      "16                           Australia          Country in Oceania  \n",
      "17                 Indonesian language         Indonesian language  \n",
      "18                            New York      City in New York State  \n",
      "19                         Maharashtra              State of India  \n"
     ]
    }
   ],
   "source": [
    "# display top 5 rising results for the keyword\n",
    "print(df_rt['lockdown']['top'].head(20))"
   ]
  },
  {
   "cell_type": "markdown",
   "metadata": {},
   "source": [
    "## Find related queries"
   ]
  },
  {
   "cell_type": "code",
   "execution_count": 47,
   "metadata": {},
   "outputs": [
    {
     "name": "stdout",
     "output_type": "stream",
     "text": [
      "{'lockdown': {'top':                       query  value\n",
      "0             lockdown news    100\n",
      "1            lockdown india     67\n",
      "2         lockdown in india     42\n",
      "3            delhi lockdown     36\n",
      "4      maharashtra lockdown     28\n",
      "5               maharashtra     26\n",
      "6           mumbai lockdown     25\n",
      "7               up lockdown     21\n",
      "8        lockdown karnataka     21\n",
      "9             lockdown 2021     21\n",
      "10          lockdown update     19\n",
      "11       lockdown bangalore     19\n",
      "12           covid lockdown     18\n",
      "13     coronavirus lockdown     18\n",
      "14      lockdown news today     18\n",
      "15            lockdown date     16\n",
      "16        lockdown in delhi     15\n",
      "17       lockdown extension     13\n",
      "18       telangana lockdown     13\n",
      "19         lockdown meaning     13\n",
      "20       lockdown in mumbai     12\n",
      "21      lockdown news india     11\n",
      "22  lockdown in maharashtra     11\n",
      "23            pune lockdown     10\n",
      "24          bengal lockdown     10, 'rising':                       query   value\n",
      "0         lockdown in india  849900\n",
      "1      maharashtra lockdown  556600\n",
      "2               maharashtra  533150\n",
      "3        lockdown karnataka  423350\n",
      "4             lockdown 2021  413150\n",
      "5           lockdown update  388300\n",
      "6            covid lockdown  367500\n",
      "7      coronavirus lockdown  356450\n",
      "8       lockdown news today  354150\n",
      "9         lockdown in delhi  306950\n",
      "10       lockdown extension  268350\n",
      "11       telangana lockdown  262850\n",
      "12       lockdown in mumbai  237100\n",
      "13      lockdown news india  224000\n",
      "14  lockdown in maharashtra  221300\n",
      "15            pune lockdown  205350\n",
      "16      delhi lockdown news  197650\n",
      "17        lockdown extended  189550\n",
      "18    lockdown in bangalore  170800\n",
      "19     lockdown west bengal  169550\n",
      "20    lockdown in karnataka  169000\n",
      "21      tamil nadu lockdown  159950\n",
      "22           bihar lockdown  146700\n",
      "23       rajasthan lockdown  141350\n",
      "24             lockdown 4.0  138350}}\n"
     ]
    }
   ],
   "source": [
    "# build the payload\n",
    "pytrends.build_payload(kw_list=['lockdown'], timeframe='2020-01-01 2022-01-01', geo='IN') \n",
    "\n",
    "# get related queries\n",
    "df_rq = pytrends.related_queries()\n",
    "\n",
    "# display df_rq\n",
    "print(df_rq)"
   ]
  },
  {
   "cell_type": "markdown",
   "metadata": {},
   "source": [
    "## Find suggested search keywords"
   ]
  },
  {
   "cell_type": "code",
   "execution_count": 17,
   "metadata": {},
   "outputs": [
    {
     "name": "stdout",
     "output_type": "stream",
     "text": [
      "[{'mid': '/m/07l88z', 'title': 'Lockdown', 'type': 'Topic'}, {'mid': '/g/11hxmwz12g', 'title': 'Locked Down', 'type': 'Film'}, {'mid': '/m/012659r0', 'title': '12 Rounds 3: Lockdown', 'type': '2015 film'}, {'mid': '/m/0hqyk', 'title': 'Half Past Dead', 'type': '2002 film'}, {'mid': '/g/11bc62j7my', 'title': 'Lockdown', 'type': 'Topic'}]\n"
     ]
    }
   ],
   "source": [
    "# get suggestions\n",
    "df_s = pytrends.suggestions('lockdown')\n",
    "\n",
    "# display df_rq\n",
    "print(df_s)"
   ]
  }
 ],
 "metadata": {
  "kernelspec": {
   "display_name": "Python 3",
   "language": "python",
   "name": "python3"
  },
  "language_info": {
   "codemirror_mode": {
    "name": "ipython",
    "version": 3
   },
   "file_extension": ".py",
   "mimetype": "text/x-python",
   "name": "python",
   "nbconvert_exporter": "python",
   "pygments_lexer": "ipython3",
   "version": "3.8.5"
  }
 },
 "nbformat": 4,
 "nbformat_minor": 5
}
