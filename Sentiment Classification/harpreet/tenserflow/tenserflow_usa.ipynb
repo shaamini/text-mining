{
 "cells": [
  {
   "cell_type": "code",
   "execution_count": 1,
   "metadata": {},
   "outputs": [],
   "source": [
    "import numpy as np \n",
    "import pandas as pd \n",
    "import seaborn as sns \n",
    "import matplotlib.pyplot as plt\n",
    "plt.style.use('ggplot')\n",
    "from sklearn.metrics import roc_curve, auc\n",
    "from sklearn.metrics import classification_report, confusion_matrix\n",
    "import nltk\n",
    "from nltk.corpus import stopwords\n",
    "from nltk.stem import PorterStemmer \n",
    "from sklearn.model_selection import train_test_split\n",
    "from mlxtend.plotting import plot_confusion_matrix\n",
    "import matplotlib.cm as cm\n",
    "from matplotlib import rcParams\n",
    "from collections import Counter\n",
    "from nltk.tokenize import RegexpTokenizer\n",
    "import re\n",
    "import string\n",
    "from tensorflow.keras.layers import LSTM, Activation, Dense, Dropout, Input, Embedding\n",
    "from tensorflow.keras.models import Model\n",
    "from tensorflow.keras.optimizers import RMSprop\n",
    "from tensorflow.keras.preprocessing.text import Tokenizer\n",
    "from tensorflow.keras.preprocessing import sequence\n",
    "%matplotlib inline\n",
    "import warnings\n",
    "warnings.filterwarnings(\"ignore\")"
   ]
  },
  {
   "cell_type": "code",
   "execution_count": 2,
   "metadata": {},
   "outputs": [
    {
     "data": {
      "text/plain": [
       "Text                 object\n",
       "pos_tagged_words     object\n",
       "words_list           object\n",
       "new_text             object\n",
       "scores               object\n",
       "compound            float64\n",
       "sentiment_vader      object\n",
       "dtype: object"
      ]
     },
     "execution_count": 2,
     "metadata": {},
     "output_type": "execute_result"
    }
   ],
   "source": [
    "data = pd.read_csv('../400 USA Labelled.csv')\n",
    "data.dtypes"
   ]
  },
  {
   "cell_type": "code",
   "execution_count": 3,
   "metadata": {},
   "outputs": [
    {
     "data": {
      "text/html": [
       "<div>\n",
       "<style scoped>\n",
       "    .dataframe tbody tr th:only-of-type {\n",
       "        vertical-align: middle;\n",
       "    }\n",
       "\n",
       "    .dataframe tbody tr th {\n",
       "        vertical-align: top;\n",
       "    }\n",
       "\n",
       "    .dataframe thead th {\n",
       "        text-align: right;\n",
       "    }\n",
       "</style>\n",
       "<table border=\"1\" class=\"dataframe\">\n",
       "  <thead>\n",
       "    <tr style=\"text-align: right;\">\n",
       "      <th></th>\n",
       "      <th>Text</th>\n",
       "      <th>pos_tagged_words</th>\n",
       "      <th>words_list</th>\n",
       "      <th>new_text</th>\n",
       "      <th>scores</th>\n",
       "      <th>compound</th>\n",
       "      <th>sentiment_vader</th>\n",
       "      <th>categorical_label</th>\n",
       "    </tr>\n",
       "  </thead>\n",
       "  <tbody>\n",
       "    <tr>\n",
       "      <th>0</th>\n",
       "      <td>this was response post praising pfizer vaccine...</td>\n",
       "      <td>[('this', 'DT'), ('was', 'VBD'), ('response', ...</td>\n",
       "      <td>['response', 'post', 'praise', 'pfizer', 'vacc...</td>\n",
       "      <td>response post praise pfizer vaccine april gop ...</td>\n",
       "      <td>{'neg': 0.072, 'neu': 0.785, 'pos': 0.143, 'co...</td>\n",
       "      <td>0.4767</td>\n",
       "      <td>negative</td>\n",
       "      <td>0</td>\n",
       "    </tr>\n",
       "    <tr>\n",
       "      <th>1</th>\n",
       "      <td>les van poner pfizer pinches morrillos cagason...</td>\n",
       "      <td>[('they', 'PRP'), ('re', 'VBP'), ('going', 'VB...</td>\n",
       "      <td>['go', 'put', 'pfizer', 'fuck', 'lucky', 'shit...</td>\n",
       "      <td>go put pfizer fuck lucky shithead go get vacci...</td>\n",
       "      <td>{'neg': 0.0, 'neu': 1.0, 'pos': 0.0, 'compound...</td>\n",
       "      <td>0.0000</td>\n",
       "      <td>negative</td>\n",
       "      <td>0</td>\n",
       "    </tr>\n",
       "    <tr>\n",
       "      <th>2</th>\n",
       "      <td>after may 2nd pfizer vax 6 days id be glad go ...</td>\n",
       "      <td>[('after', 'IN'), ('may', 'MD'), ('and', 'CC')...</td>\n",
       "      <td>['may', 'pfizer', 'van', 'day', 'I', 'd', 'gla...</td>\n",
       "      <td>may pfizer van day I d glad go help work probl...</td>\n",
       "      <td>{'neg': 0.146, 'neu': 0.685, 'pos': 0.17, 'com...</td>\n",
       "      <td>0.2023</td>\n",
       "      <td>positive</td>\n",
       "      <td>2</td>\n",
       "    </tr>\n",
       "    <tr>\n",
       "      <th>3</th>\n",
       "      <td>cher i got my second pfizer vaccine shot may 1...</td>\n",
       "      <td>[('cher', 'NN'), ('i', 'NN'), ('got', 'VBD'), ...</td>\n",
       "      <td>['cher', 'get', 'second', 'pfizer', 'vaccine',...</td>\n",
       "      <td>cher get second pfizer vaccine shoot may est f...</td>\n",
       "      <td>{'neg': 0.0, 'neu': 1.0, 'pos': 0.0, 'compound...</td>\n",
       "      <td>0.0000</td>\n",
       "      <td>neutral</td>\n",
       "      <td>1</td>\n",
       "    </tr>\n",
       "    <tr>\n",
       "      <th>4</th>\n",
       "      <td>eso es con pfizer</td>\n",
       "      <td>[('that', 'IN'), ('i', 'NN'), ('with', 'IN'), ...</td>\n",
       "      <td>['pfizer']</td>\n",
       "      <td>pfizer</td>\n",
       "      <td>{'neg': 0.0, 'neu': 1.0, 'pos': 0.0, 'compound...</td>\n",
       "      <td>0.0000</td>\n",
       "      <td>neutral</td>\n",
       "      <td>1</td>\n",
       "    </tr>\n",
       "  </tbody>\n",
       "</table>\n",
       "</div>"
      ],
      "text/plain": [
       "                                                Text  \\\n",
       "0  this was response post praising pfizer vaccine...   \n",
       "1  les van poner pfizer pinches morrillos cagason...   \n",
       "2  after may 2nd pfizer vax 6 days id be glad go ...   \n",
       "3  cher i got my second pfizer vaccine shot may 1...   \n",
       "4                                  eso es con pfizer   \n",
       "\n",
       "                                    pos_tagged_words  \\\n",
       "0  [('this', 'DT'), ('was', 'VBD'), ('response', ...   \n",
       "1  [('they', 'PRP'), ('re', 'VBP'), ('going', 'VB...   \n",
       "2  [('after', 'IN'), ('may', 'MD'), ('and', 'CC')...   \n",
       "3  [('cher', 'NN'), ('i', 'NN'), ('got', 'VBD'), ...   \n",
       "4  [('that', 'IN'), ('i', 'NN'), ('with', 'IN'), ...   \n",
       "\n",
       "                                          words_list  \\\n",
       "0  ['response', 'post', 'praise', 'pfizer', 'vacc...   \n",
       "1  ['go', 'put', 'pfizer', 'fuck', 'lucky', 'shit...   \n",
       "2  ['may', 'pfizer', 'van', 'day', 'I', 'd', 'gla...   \n",
       "3  ['cher', 'get', 'second', 'pfizer', 'vaccine',...   \n",
       "4                                         ['pfizer']   \n",
       "\n",
       "                                            new_text  \\\n",
       "0  response post praise pfizer vaccine april gop ...   \n",
       "1  go put pfizer fuck lucky shithead go get vacci...   \n",
       "2  may pfizer van day I d glad go help work probl...   \n",
       "3  cher get second pfizer vaccine shoot may est f...   \n",
       "4                                             pfizer   \n",
       "\n",
       "                                              scores  compound  \\\n",
       "0  {'neg': 0.072, 'neu': 0.785, 'pos': 0.143, 'co...    0.4767   \n",
       "1  {'neg': 0.0, 'neu': 1.0, 'pos': 0.0, 'compound...    0.0000   \n",
       "2  {'neg': 0.146, 'neu': 0.685, 'pos': 0.17, 'com...    0.2023   \n",
       "3  {'neg': 0.0, 'neu': 1.0, 'pos': 0.0, 'compound...    0.0000   \n",
       "4  {'neg': 0.0, 'neu': 1.0, 'pos': 0.0, 'compound...    0.0000   \n",
       "\n",
       "  sentiment_vader  categorical_label  \n",
       "0        negative                  0  \n",
       "1        negative                  0  \n",
       "2        positive                  2  \n",
       "3         neutral                  1  \n",
       "4         neutral                  1  "
      ]
     },
     "execution_count": 3,
     "metadata": {},
     "output_type": "execute_result"
    }
   ],
   "source": [
    "# Label Encoding...\n",
    "\n",
    "from sklearn import preprocessing\n",
    "le = preprocessing.LabelEncoder()\n",
    "le.fit(data.sentiment_vader)\n",
    "data['categorical_label'] = le.transform(data.sentiment_vader)\n",
    "data.head()"
   ]
  },
  {
   "cell_type": "code",
   "execution_count": 4,
   "metadata": {},
   "outputs": [],
   "source": [
    "#Separating the input feature and label\n",
    "\n",
    "X=data.words_list\n",
    "y=data.categorical_label"
   ]
  },
  {
   "cell_type": "code",
   "execution_count": 5,
   "metadata": {},
   "outputs": [],
   "source": [
    "# Preparing the input features for training\n",
    "# We convert the text words into arrays form.\n",
    "# Maximum 500 features/words selected for training. \n",
    "# These 500 words will be selected on the importance that will distinguish between positive tweets and negative tweets.\n",
    "\n",
    "max_len = 500\n",
    "tok = Tokenizer(num_words=2000)\n",
    "tok.fit_on_texts(X)\n",
    "sequences = tok.texts_to_sequences(X)\n",
    "sequences_matrix = sequence.pad_sequences(sequences,maxlen=max_len)\n"
   ]
  },
  {
   "cell_type": "code",
   "execution_count": 6,
   "metadata": {},
   "outputs": [],
   "source": [
    "# Separating the 70% data for training data and 30% for testing data\n",
    "\n",
    "X_train, X_test, Y_train, Y_test = train_test_split(sequences_matrix, y, test_size=0.3, random_state=2)\n"
   ]
  },
  {
   "cell_type": "code",
   "execution_count": 7,
   "metadata": {},
   "outputs": [],
   "source": [
    "def tensorflow_based_model(): #Defined tensorflow_based_model function for training tenforflow based model\n",
    "    inputs = Input(name='inputs',shape=[max_len])#step1\n",
    "    layer = Embedding(2000,50,input_length=max_len)(inputs) #step2\n",
    "    layer = LSTM(64)(layer) #step3\n",
    "    layer = Dense(256,name='FC1')(layer) #step4\n",
    "    layer = Activation('relu')(layer) # step5\n",
    "    layer = Dropout(0.5)(layer) # step6\n",
    "    layer = Dense(1,name='out_layer')(layer) #step4 again but this time its giving only one output as because we need to classify the tweet as positive or negative\n",
    "    layer = Activation('sigmoid')(layer) #step5 but this time activation function is sigmoid for only one output.\n",
    "    model = Model(inputs=inputs,outputs=layer) #here we are getting the final output value in the model for classification\n",
    "    return model #function returning the value when we call it"
   ]
  },
  {
   "cell_type": "code",
   "execution_count": 9,
   "metadata": {},
   "outputs": [
    {
     "name": "stderr",
     "output_type": "stream",
     "text": [
      "2022-03-10 20:19:04.157766: I tensorflow/core/platform/cpu_feature_guard.cc:151] This TensorFlow binary is optimized with oneAPI Deep Neural Network Library (oneDNN) to use the following CPU instructions in performance-critical operations:  AVX2 FMA\n",
      "To enable them in other operations, rebuild TensorFlow with the appropriate compiler flags.\n"
     ]
    }
   ],
   "source": [
    "# Model compilation\n",
    "# First, we are calling the model\n",
    "# We are using 2 classes so we set “binary_crossentropy” \n",
    "# and if we use more than two classes then we use “categorical_crossentropy”\n",
    "# The optimizer is a function that used to change the features of the neural network\n",
    "#  such as learning rate (how the model learns with features) in order to reduce the losses.\n",
    "#  So the learning rate of the neural networks to reduce the losses is defined by the optimizer.\n",
    "# We are setting metrics=accuracy because we are going to calculate the\n",
    "#  percentage of correct predictions overall predictions on the validation set\n",
    "\n",
    "model = tensorflow_based_model() # here we are calling the function of created model\n",
    "model.compile(loss='binary_crossentropy',optimizer=RMSprop(),metrics=['accuracy'])"
   ]
  },
  {
   "cell_type": "code",
   "execution_count": 10,
   "metadata": {},
   "outputs": [
    {
     "name": "stdout",
     "output_type": "stream",
     "text": [
      "Epoch 1/6\n",
      "4/4 [==============================] - 10s 1s/step - loss: 0.6701 - accuracy: 0.3452 - val_loss: 0.4519 - val_accuracy: 0.2857\n",
      "Epoch 2/6\n",
      "4/4 [==============================] - 2s 329ms/step - loss: 0.3367 - accuracy: 0.3532 - val_loss: -0.4673 - val_accuracy: 0.2857\n",
      "Epoch 3/6\n",
      "4/4 [==============================] - 1s 287ms/step - loss: 0.2286 - accuracy: 0.3532 - val_loss: -0.0732 - val_accuracy: 0.2857\n",
      "Epoch 4/6\n",
      "4/4 [==============================] - 1s 390ms/step - loss: 0.2730 - accuracy: 0.3532 - val_loss: -0.3084 - val_accuracy: 0.2857\n",
      "Epoch 5/6\n",
      "4/4 [==============================] - 2s 358ms/step - loss: 0.1799 - accuracy: 0.3532 - val_loss: -0.1733 - val_accuracy: 0.2857\n",
      "Epoch 6/6\n",
      "4/4 [==============================] - 1s 266ms/step - loss: 0.2030 - accuracy: 0.3532 - val_loss: -0.0563 - val_accuracy: 0.2857\n",
      "Training finished !!\n"
     ]
    }
   ],
   "source": [
    "# Batch size =80 so the model takes 80 tweets in each iteration and train them.\n",
    "# Epochs =6 so the model will train on the data 6 times. Epoch is a term used in machine learning and indicates the number of passes of the entire training dataset the machine learning algorithm has completed.\n",
    "history=model.fit(X_train,Y_train,batch_size=80,epochs=6, validation_split=0.1)# here we are starting the training of model by feeding the training data\n",
    "print('Training finished !!')"
   ]
  },
  {
   "cell_type": "code",
   "execution_count": 11,
   "metadata": {},
   "outputs": [
    {
     "name": "stdout",
     "output_type": "stream",
     "text": [
      "4/4 [==============================] - 0s 47ms/step - loss: 0.1432 - accuracy: 0.3750\n"
     ]
    }
   ],
   "source": [
    "# Testing the Trained model on test data\n",
    "# Getting predictions/classifying the sentiments (positive/negative) on the test data using the trained model.\n",
    "\n",
    "accr1 = model.evaluate(X_test,Y_test) #we are starting to test the model here\n"
   ]
  },
  {
   "cell_type": "code",
   "execution_count": 12,
   "metadata": {},
   "outputs": [
    {
     "name": "stdout",
     "output_type": "stream",
     "text": [
      "Test set\n",
      " Accuracy: 0.38\n"
     ]
    }
   ],
   "source": [
    "print(\"Test set\\n Accuracy: {:0.2f}\".format(accr1[1])) "
   ]
  },
  {
   "cell_type": "code",
   "execution_count": 13,
   "metadata": {},
   "outputs": [],
   "source": [
    "y_pred = model.predict(X_test) #getting predictions on the trained model\n",
    "y_pred = (y_pred > 0.5)\n"
   ]
  },
  {
   "cell_type": "code",
   "execution_count": 14,
   "metadata": {},
   "outputs": [
    {
     "name": "stdout",
     "output_type": "stream",
     "text": [
      "confusion matrix \n",
      "\n",
      "[[ 0 33  0]\n",
      " [ 0 45  0]\n",
      " [ 0 42  0]]\n"
     ]
    },
    {
     "data": {
      "image/png": "[encoded data removed]",
      "text/plain": [
       "<Figure size 720x720 with 2 Axes>"
      ]
     },
     "metadata": {
      "needs_background": "light"
     },
     "output_type": "display_data"
    }
   ],
   "source": [
    "#confusion matrix\n",
    "\n",
    "print('confusion matrix \\n')\n",
    "CR = confusion_matrix(Y_test, y_pred)\n",
    "print(CR)\n",
    "\n",
    "fig,ax = plot_confusion_matrix(conf_mat=CR, figsize=(10,10),\n",
    "                                show_absolute=True, show_normed=True,\n",
    "                                colorbar=True)\n",
    "\n",
    "plt.show()\n"
   ]
  },
  {
   "cell_type": "code",
   "execution_count": null,
   "metadata": {},
   "outputs": [],
   "source": []
  }
 ],
 "metadata": {
  "interpreter": {
   "hash": "31f2aee4e71d21fbe5cf8b01ff0e069b9275f58929596ceb00d14d90e3e16cd6"
  },
  "kernelspec": {
   "display_name": "Python 3.8.9 64-bit",
   "language": "python",
   "name": "python3"
  },
  "language_info": {
   "codemirror_mode": {
    "name": "ipython",
    "version": 3
   },
   "file_extension": ".py",
   "mimetype": "text/x-python",
   "name": "python",
   "nbconvert_exporter": "python",
   "pygments_lexer": "ipython3",
   "version": "3.8.9"
  },
  "orig_nbformat": 4
 },
 "nbformat": 4,
 "nbformat_minor": 2
}
