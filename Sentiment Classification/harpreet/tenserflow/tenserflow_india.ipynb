{
 "cells": [
  {
   "cell_type": "code",
   "execution_count": 1,
   "metadata": {},
   "outputs": [],
   "source": [
    "import numpy as np \n",
    "import pandas as pd \n",
    "import seaborn as sns \n",
    "import matplotlib.pyplot as plt\n",
    "plt.style.use('ggplot')\n",
    "from sklearn.metrics import roc_curve, auc\n",
    "from sklearn.metrics import classification_report, confusion_matrix\n",
    "import nltk\n",
    "from nltk.corpus import stopwords\n",
    "from nltk.stem import PorterStemmer \n",
    "from sklearn.model_selection import train_test_split\n",
    "from mlxtend.plotting import plot_confusion_matrix\n",
    "import matplotlib.cm as cm\n",
    "from matplotlib import rcParams\n",
    "from collections import Counter\n",
    "from nltk.tokenize import RegexpTokenizer\n",
    "import re\n",
    "import string\n",
    "from tensorflow.keras.layers import LSTM, Activation, Dense, Dropout, Input, Embedding\n",
    "from tensorflow.keras.models import Model\n",
    "from tensorflow.keras.optimizers import RMSprop\n",
    "from tensorflow.keras.preprocessing.text import Tokenizer\n",
    "from tensorflow.keras.preprocessing import sequence\n",
    "%matplotlib inline\n",
    "import warnings\n",
    "warnings.filterwarnings(\"ignore\")"
   ]
  },
  {
   "cell_type": "code",
   "execution_count": 2,
   "metadata": {},
   "outputs": [
    {
     "data": {
      "text/plain": [
       "index                 int64\n",
       "Text                 object\n",
       "pos_tagged_words     object\n",
       "new_languages        object\n",
       "words_list           object\n",
       "new_text             object\n",
       "scores               object\n",
       "compound            float64\n",
       "sentiment_vader      object\n",
       "Unnamed: 9          float64\n",
       "Unnamed: 10         float64\n",
       "Unnamed: 11         float64\n",
       "Unnamed: 12         float64\n",
       "Unnamed: 13         float64\n",
       "Unnamed: 14         float64\n",
       "dtype: object"
      ]
     },
     "execution_count": 2,
     "metadata": {},
     "output_type": "execute_result"
    }
   ],
   "source": [
    "data = pd.read_csv('../400_sample_labelled_india.csv')\n",
    "data.dtypes"
   ]
  },
  {
   "cell_type": "code",
   "execution_count": 3,
   "metadata": {},
   "outputs": [
    {
     "data": {
      "text/html": [
       "<div>\n",
       "<style scoped>\n",
       "    .dataframe tbody tr th:only-of-type {\n",
       "        vertical-align: middle;\n",
       "    }\n",
       "\n",
       "    .dataframe tbody tr th {\n",
       "        vertical-align: top;\n",
       "    }\n",
       "\n",
       "    .dataframe thead th {\n",
       "        text-align: right;\n",
       "    }\n",
       "</style>\n",
       "<table border=\"1\" class=\"dataframe\">\n",
       "  <thead>\n",
       "    <tr style=\"text-align: right;\">\n",
       "      <th></th>\n",
       "      <th>index</th>\n",
       "      <th>Text</th>\n",
       "      <th>pos_tagged_words</th>\n",
       "      <th>new_languages</th>\n",
       "      <th>words_list</th>\n",
       "      <th>new_text</th>\n",
       "      <th>scores</th>\n",
       "      <th>compound</th>\n",
       "      <th>sentiment_vader</th>\n",
       "      <th>Unnamed: 9</th>\n",
       "      <th>Unnamed: 10</th>\n",
       "      <th>Unnamed: 11</th>\n",
       "      <th>Unnamed: 12</th>\n",
       "      <th>Unnamed: 13</th>\n",
       "      <th>Unnamed: 14</th>\n",
       "      <th>categorical_label</th>\n",
       "    </tr>\n",
       "  </thead>\n",
       "  <tbody>\n",
       "    <tr>\n",
       "      <th>0</th>\n",
       "      <td>57000</td>\n",
       "      <td>kalau aku jadi anti vaccine ni salahkan keraja...</td>\n",
       "      <td>[('if', 'IN'), ('i', 'JJ'), ('become', 'VBP'),...</td>\n",
       "      <td>ENGLISH</td>\n",
       "      <td>['become', 'anti', 'vaccine', 'blame', 'malays...</td>\n",
       "      <td>become anti vaccine blame malaysian government...</td>\n",
       "      <td>{'neg': 0.095, 'neu': 0.905, 'pos': 0.0, 'comp...</td>\n",
       "      <td>-0.3182</td>\n",
       "      <td>negative</td>\n",
       "      <td>NaN</td>\n",
       "      <td>NaN</td>\n",
       "      <td>NaN</td>\n",
       "      <td>NaN</td>\n",
       "      <td>NaN</td>\n",
       "      <td>NaN</td>\n",
       "      <td>0</td>\n",
       "    </tr>\n",
       "    <tr>\n",
       "      <th>1</th>\n",
       "      <td>57003</td>\n",
       "      <td>\"no vax passports\": anti-vaccine protesters ga...</td>\n",
       "      <td>[('no', 'DT'), ('van', 'NN'), ('passports', 'V...</td>\n",
       "      <td>ENGLISH</td>\n",
       "      <td>['van', 'passports', 'anti', 'vaccine', 'prote...</td>\n",
       "      <td>van passports anti vaccine protester gather sp...</td>\n",
       "      <td>{'neg': 0.339, 'neu': 0.661, 'pos': 0.0, 'comp...</td>\n",
       "      <td>-0.4767</td>\n",
       "      <td>negative</td>\n",
       "      <td>NaN</td>\n",
       "      <td>NaN</td>\n",
       "      <td>NaN</td>\n",
       "      <td>NaN</td>\n",
       "      <td>NaN</td>\n",
       "      <td>NaN</td>\n",
       "      <td>0</td>\n",
       "    </tr>\n",
       "    <tr>\n",
       "      <th>2</th>\n",
       "      <td>57044</td>\n",
       "      <td>myself, my lovely wife &amp;amp; respectful parent...</td>\n",
       "      <td>[('myself', 'PRP'), ('my', 'PRP$'), ('lovely',...</td>\n",
       "      <td>ENGLISH</td>\n",
       "      <td>['lovely', 'wife', 'amp', 'respectful', 'paren...</td>\n",
       "      <td>lovely wife amp respectful parent complete tak...</td>\n",
       "      <td>{'neg': 0.075, 'neu': 0.424, 'pos': 0.501, 'co...</td>\n",
       "      <td>0.9801</td>\n",
       "      <td>positive</td>\n",
       "      <td>NaN</td>\n",
       "      <td>NaN</td>\n",
       "      <td>NaN</td>\n",
       "      <td>NaN</td>\n",
       "      <td>NaN</td>\n",
       "      <td>NaN</td>\n",
       "      <td>2</td>\n",
       "    </tr>\n",
       "    <tr>\n",
       "      <th>3</th>\n",
       "      <td>57046</td>\n",
       "      <td>finally india is getting out second wave these...</td>\n",
       "      <td>[('finally', 'RB'), ('india', 'NN'), ('is', 'V...</td>\n",
       "      <td>ENGLISH</td>\n",
       "      <td>['finally', 'india', 'get', 'second', 'wave', ...</td>\n",
       "      <td>finally india get second wave moron start spre...</td>\n",
       "      <td>{'neg': 0.252, 'neu': 0.667, 'pos': 0.081, 'co...</td>\n",
       "      <td>-0.7334</td>\n",
       "      <td>negative</td>\n",
       "      <td>NaN</td>\n",
       "      <td>NaN</td>\n",
       "      <td>NaN</td>\n",
       "      <td>NaN</td>\n",
       "      <td>NaN</td>\n",
       "      <td>NaN</td>\n",
       "      <td>0</td>\n",
       "    </tr>\n",
       "    <tr>\n",
       "      <th>4</th>\n",
       "      <td>57049</td>\n",
       "      <td>sc: politicians who run politics as business r...</td>\n",
       "      <td>[('so', 'RB'), ('politicians', 'NNS'), ('who',...</td>\n",
       "      <td>ENGLISH</td>\n",
       "      <td>['politician', 'run', 'politic', 'business', '...</td>\n",
       "      <td>politician run politic business engage anti na...</td>\n",
       "      <td>{'neg': 0.208, 'neu': 0.727, 'pos': 0.065, 'co...</td>\n",
       "      <td>-0.7067</td>\n",
       "      <td>negative</td>\n",
       "      <td>NaN</td>\n",
       "      <td>NaN</td>\n",
       "      <td>NaN</td>\n",
       "      <td>NaN</td>\n",
       "      <td>NaN</td>\n",
       "      <td>NaN</td>\n",
       "      <td>0</td>\n",
       "    </tr>\n",
       "  </tbody>\n",
       "</table>\n",
       "</div>"
      ],
      "text/plain": [
       "   index                                               Text  \\\n",
       "0  57000  kalau aku jadi anti vaccine ni salahkan keraja...   \n",
       "1  57003  \"no vax passports\": anti-vaccine protesters ga...   \n",
       "2  57044  myself, my lovely wife &amp; respectful parent...   \n",
       "3  57046  finally india is getting out second wave these...   \n",
       "4  57049  sc: politicians who run politics as business r...   \n",
       "\n",
       "                                    pos_tagged_words new_languages  \\\n",
       "0  [('if', 'IN'), ('i', 'JJ'), ('become', 'VBP'),...       ENGLISH   \n",
       "1  [('no', 'DT'), ('van', 'NN'), ('passports', 'V...       ENGLISH   \n",
       "2  [('myself', 'PRP'), ('my', 'PRP$'), ('lovely',...       ENGLISH   \n",
       "3  [('finally', 'RB'), ('india', 'NN'), ('is', 'V...       ENGLISH   \n",
       "4  [('so', 'RB'), ('politicians', 'NNS'), ('who',...       ENGLISH   \n",
       "\n",
       "                                          words_list  \\\n",
       "0  ['become', 'anti', 'vaccine', 'blame', 'malays...   \n",
       "1  ['van', 'passports', 'anti', 'vaccine', 'prote...   \n",
       "2  ['lovely', 'wife', 'amp', 'respectful', 'paren...   \n",
       "3  ['finally', 'india', 'get', 'second', 'wave', ...   \n",
       "4  ['politician', 'run', 'politic', 'business', '...   \n",
       "\n",
       "                                            new_text  \\\n",
       "0  become anti vaccine blame malaysian government...   \n",
       "1  van passports anti vaccine protester gather sp...   \n",
       "2  lovely wife amp respectful parent complete tak...   \n",
       "3  finally india get second wave moron start spre...   \n",
       "4  politician run politic business engage anti na...   \n",
       "\n",
       "                                              scores  compound  \\\n",
       "0  {'neg': 0.095, 'neu': 0.905, 'pos': 0.0, 'comp...   -0.3182   \n",
       "1  {'neg': 0.339, 'neu': 0.661, 'pos': 0.0, 'comp...   -0.4767   \n",
       "2  {'neg': 0.075, 'neu': 0.424, 'pos': 0.501, 'co...    0.9801   \n",
       "3  {'neg': 0.252, 'neu': 0.667, 'pos': 0.081, 'co...   -0.7334   \n",
       "4  {'neg': 0.208, 'neu': 0.727, 'pos': 0.065, 'co...   -0.7067   \n",
       "\n",
       "  sentiment_vader  Unnamed: 9  Unnamed: 10  Unnamed: 11  Unnamed: 12  \\\n",
       "0        negative         NaN          NaN          NaN          NaN   \n",
       "1        negative         NaN          NaN          NaN          NaN   \n",
       "2        positive         NaN          NaN          NaN          NaN   \n",
       "3        negative         NaN          NaN          NaN          NaN   \n",
       "4        negative         NaN          NaN          NaN          NaN   \n",
       "\n",
       "   Unnamed: 13  Unnamed: 14  categorical_label  \n",
       "0          NaN          NaN                  0  \n",
       "1          NaN          NaN                  0  \n",
       "2          NaN          NaN                  2  \n",
       "3          NaN          NaN                  0  \n",
       "4          NaN          NaN                  0  "
      ]
     },
     "execution_count": 3,
     "metadata": {},
     "output_type": "execute_result"
    }
   ],
   "source": [
    "# Label Encoding...\n",
    "\n",
    "from sklearn import preprocessing\n",
    "le = preprocessing.LabelEncoder()\n",
    "le.fit(data.sentiment_vader)\n",
    "data['categorical_label'] = le.transform(data.sentiment_vader)\n",
    "data.head()"
   ]
  },
  {
   "cell_type": "code",
   "execution_count": 4,
   "metadata": {},
   "outputs": [],
   "source": [
    "#Separating the input feature and label\n",
    "\n",
    "X=data.words_list\n",
    "y=data.categorical_label"
   ]
  },
  {
   "cell_type": "code",
   "execution_count": 5,
   "metadata": {},
   "outputs": [],
   "source": [
    "# Preparing the input features for training\n",
    "# We convert the text words into arrays form.\n",
    "# Maximum 500 features/words selected for training. \n",
    "# These 500 words will be selected on the importance that will distinguish between positive tweets and negative tweets.\n",
    "\n",
    "max_len = 500\n",
    "tok = Tokenizer(num_words=2000)\n",
    "tok.fit_on_texts(X)\n",
    "sequences = tok.texts_to_sequences(X)\n",
    "sequences_matrix = sequence.pad_sequences(sequences,maxlen=max_len)\n"
   ]
  },
  {
   "cell_type": "code",
   "execution_count": 6,
   "metadata": {},
   "outputs": [],
   "source": [
    "# Separating the 70% data for training data and 30% for testing data\n",
    "\n",
    "X_train, X_test, Y_train, Y_test = train_test_split(sequences_matrix, y, test_size=0.3, random_state=2)\n"
   ]
  },
  {
   "cell_type": "code",
   "execution_count": 7,
   "metadata": {},
   "outputs": [],
   "source": [
    "def tensorflow_based_model(): #Defined tensorflow_based_model function for training tenforflow based model\n",
    "    inputs = Input(name='inputs',shape=[max_len])#step1\n",
    "    layer = Embedding(2000,50,input_length=max_len)(inputs) #step2\n",
    "    layer = LSTM(64)(layer) #step3\n",
    "    layer = Dense(256,name='FC1')(layer) #step4\n",
    "    layer = Activation('relu')(layer) # step5\n",
    "    layer = Dropout(0.5)(layer) # step6\n",
    "    layer = Dense(1,name='out_layer')(layer) #step4 again but this time its giving only one output as because we need to classify the tweet as positive or negative\n",
    "    layer = Activation('sigmoid')(layer) #step5 but this time activation function is sigmoid for only one output.\n",
    "    model = Model(inputs=inputs,outputs=layer) #here we are getting the final output value in the model for classification\n",
    "    return model #function returning the value when we call it"
   ]
  },
  {
   "cell_type": "code",
   "execution_count": 8,
   "metadata": {},
   "outputs": [
    {
     "name": "stderr",
     "output_type": "stream",
     "text": [
      "2022-03-10 20:56:04.025800: I tensorflow/core/platform/cpu_feature_guard.cc:151] This TensorFlow binary is optimized with oneAPI Deep Neural Network Library (oneDNN) to use the following CPU instructions in performance-critical operations:  AVX2 FMA\n",
      "To enable them in other operations, rebuild TensorFlow with the appropriate compiler flags.\n"
     ]
    }
   ],
   "source": [
    "# Model compilation\n",
    "# First, we are calling the model\n",
    "# We are using 2 classes so we set “binary_crossentropy” \n",
    "# and if we use more than two classes then we use “categorical_crossentropy”\n",
    "# The optimizer is a function that used to change the features of the neural network\n",
    "#  such as learning rate (how the model learns with features) in order to reduce the losses.\n",
    "#  So the learning rate of the neural networks to reduce the losses is defined by the optimizer.\n",
    "# We are setting metrics=accuracy because we are going to calculate the\n",
    "#  percentage of correct predictions overall predictions on the validation set\n",
    "\n",
    "model = tensorflow_based_model() # here we are calling the function of created model\n",
    "model.compile(loss='binary_crossentropy',optimizer=RMSprop(),metrics=['accuracy'])"
   ]
  },
  {
   "cell_type": "code",
   "execution_count": 9,
   "metadata": {},
   "outputs": [
    {
     "name": "stdout",
     "output_type": "stream",
     "text": [
      "Epoch 1/6\n",
      "4/4 [==============================] - 7s 2s/step - loss: 0.6281 - accuracy: 0.4405 - val_loss: -0.0606 - val_accuracy: 0.4286\n",
      "Epoch 2/6\n",
      "4/4 [==============================] - 2s 599ms/step - loss: -0.3874 - accuracy: 0.3889 - val_loss: -0.9535 - val_accuracy: 0.4286\n",
      "Epoch 3/6\n",
      "4/4 [==============================] - 2s 428ms/step - loss: -0.7297 - accuracy: 0.3889 - val_loss: -1.1321 - val_accuracy: 0.4286\n",
      "Epoch 4/6\n",
      "4/4 [==============================] - 1s 281ms/step - loss: -0.7485 - accuracy: 0.3889 - val_loss: -1.4938 - val_accuracy: 0.4286\n",
      "Epoch 5/6\n",
      "4/4 [==============================] - 1s 345ms/step - loss: -1.0401 - accuracy: 0.3889 - val_loss: -1.7856 - val_accuracy: 0.4286\n",
      "Epoch 6/6\n",
      "4/4 [==============================] - 1s 261ms/step - loss: -1.1604 - accuracy: 0.3889 - val_loss: -2.0535 - val_accuracy: 0.4286\n",
      "Training finished !!\n"
     ]
    }
   ],
   "source": [
    "# Batch size =80 so the model takes 80 tweets in each iteration and train them.\n",
    "# Epochs =6 so the model will train on the data 6 times. Epoch is a term used in machine learning and indicates the number of passes of the entire training dataset the machine learning algorithm has completed.\n",
    "history=model.fit(X_train,Y_train,batch_size=80,epochs=6, validation_split=0.1)# here we are starting the training of model by feeding the training data\n",
    "print('Training finished !!')"
   ]
  },
  {
   "cell_type": "code",
   "execution_count": 10,
   "metadata": {},
   "outputs": [
    {
     "name": "stdout",
     "output_type": "stream",
     "text": [
      "4/4 [==============================] - 0s 43ms/step - loss: -3.2492 - accuracy: 0.3750\n"
     ]
    }
   ],
   "source": [
    "# Testing the Trained model on test data\n",
    "# Getting predictions/classifying the sentiments (positive/negative) on the test data using the trained model.\n",
    "\n",
    "accr1 = model.evaluate(X_test,Y_test) #we are starting to test the model here\n"
   ]
  },
  {
   "cell_type": "code",
   "execution_count": 11,
   "metadata": {},
   "outputs": [
    {
     "name": "stdout",
     "output_type": "stream",
     "text": [
      "Test set\n",
      " Accuracy: 0.38\n"
     ]
    }
   ],
   "source": [
    "print(\"Test set\\n Accuracy: {:0.2f}\".format(accr1[1])) "
   ]
  },
  {
   "cell_type": "code",
   "execution_count": 12,
   "metadata": {},
   "outputs": [],
   "source": [
    "y_pred = model.predict(X_test) #getting predictions on the trained model\n",
    "y_pred = (y_pred > 0.5)\n"
   ]
  },
  {
   "cell_type": "code",
   "execution_count": 13,
   "metadata": {},
   "outputs": [
    {
     "name": "stdout",
     "output_type": "stream",
     "text": [
      "confusion matrix \n",
      "\n",
      "[[ 0 24  0]\n",
      " [ 0 45  0]\n",
      " [ 0 51  0]]\n"
     ]
    },
    {
     "data": {
      "image/png": "[encoded data removed]",
      "text/plain": [
       "<Figure size 720x720 with 2 Axes>"
      ]
     },
     "metadata": {
      "needs_background": "light"
     },
     "output_type": "display_data"
    }
   ],
   "source": [
    "#confusion matrix\n",
    "\n",
    "print('confusion matrix \\n')\n",
    "CR = confusion_matrix(Y_test, y_pred)\n",
    "print(CR)\n",
    "\n",
    "fig,ax = plot_confusion_matrix(conf_mat=CR, figsize=(10,10),\n",
    "                                show_absolute=True, show_normed=True,\n",
    "                                colorbar=True)\n",
    "\n",
    "plt.show()\n"
   ]
  },
  {
   "cell_type": "code",
   "execution_count": null,
   "metadata": {},
   "outputs": [],
   "source": []
  }
 ],
 "metadata": {
  "interpreter": {
   "hash": "31f2aee4e71d21fbe5cf8b01ff0e069b9275f58929596ceb00d14d90e3e16cd6"
  },
  "kernelspec": {
   "display_name": "Python 3.8.9 64-bit",
   "language": "python",
   "name": "python3"
  },
  "language_info": {
   "codemirror_mode": {
    "name": "ipython",
    "version": 3
   },
   "file_extension": ".py",
   "mimetype": "text/x-python",
   "name": "python",
   "nbconvert_exporter": "python",
   "pygments_lexer": "ipython3",
   "version": "3.8.9"
  },
  "orig_nbformat": 4
 },
 "nbformat": 4,
 "nbformat_minor": 2
}
