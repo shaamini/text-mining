{
 "cells": [
  {
   "cell_type": "code",
   "execution_count": 7,
   "id": "7dcdc7a2",
   "metadata": {},
   "outputs": [],
   "source": [
    "%matplotlib inline\n",
    "%config InlineBackend.figure_format = 'retina'\n",
    "\n",
    "import numpy as np\n",
    "import pandas as pd\n",
    "from bs4 import BeautifulSoup\n",
    "import matplotlib.pyplot as plt\n",
    "import seaborn as sns\n",
    "\n",
    "import nltk\n",
    "from nltk.corpus import stopwords\n",
    "from nltk.stem import SnowballStemmer\n",
    "from nltk.tokenize import TweetTokenizer\n",
    "\n",
    "from sklearn.feature_extraction.text import CountVectorizer, TfidfTransformer\n",
    "from sklearn.linear_model import LogisticRegression\n",
    "from sklearn.svm import SVC\n",
    "from sklearn.model_selection import train_test_split, StratifiedKFold, cross_val_score\n",
    "from sklearn.pipeline import make_pipeline, Pipeline\n",
    "from sklearn.model_selection import GridSearchCV\n",
    "from sklearn.metrics import make_scorer, accuracy_score, f1_score\n",
    "from sklearn.metrics import roc_curve, auc\n",
    "from sklearn.metrics import confusion_matrix, roc_auc_score, recall_score, precision_score"
   ]
  },
  {
   "cell_type": "code",
   "execution_count": 43,
   "id": "049f9305",
   "metadata": {},
   "outputs": [],
   "source": [
    "tweets=pd.read_csv(\"400_USA_Labelled.csv\")"
   ]
  },
  {
   "cell_type": "code",
   "execution_count": 47,
   "id": "57e284c4",
   "metadata": {},
   "outputs": [
    {
     "data": {
      "text/html": [
       "<div>\n",
       "<style scoped>\n",
       "    .dataframe tbody tr th:only-of-type {\n",
       "        vertical-align: middle;\n",
       "    }\n",
       "\n",
       "    .dataframe tbody tr th {\n",
       "        vertical-align: top;\n",
       "    }\n",
       "\n",
       "    .dataframe thead th {\n",
       "        text-align: right;\n",
       "    }\n",
       "</style>\n",
       "<table border=\"1\" class=\"dataframe\">\n",
       "  <thead>\n",
       "    <tr style=\"text-align: right;\">\n",
       "      <th></th>\n",
       "      <th>Text</th>\n",
       "      <th>pos_tagged_words</th>\n",
       "      <th>words_list</th>\n",
       "      <th>new_text</th>\n",
       "      <th>scores</th>\n",
       "      <th>compound</th>\n",
       "      <th>sentiment_vader</th>\n",
       "    </tr>\n",
       "  </thead>\n",
       "  <tbody>\n",
       "    <tr>\n",
       "      <th>0</th>\n",
       "      <td>this was response post praising pfizer vaccine...</td>\n",
       "      <td>[('this', 'DT'), ('was', 'VBD'), ('response', ...</td>\n",
       "      <td>['response', 'post', 'praise', 'pfizer', 'vacc...</td>\n",
       "      <td>response post praise pfizer vaccine april gop ...</td>\n",
       "      <td>{'neg': 0.072, 'neu': 0.785, 'pos': 0.143, 'co...</td>\n",
       "      <td>0.4767</td>\n",
       "      <td>negative</td>\n",
       "    </tr>\n",
       "    <tr>\n",
       "      <th>1</th>\n",
       "      <td>les van poner pfizer pinches morrillos cagason...</td>\n",
       "      <td>[('they', 'PRP'), ('re', 'VBP'), ('going', 'VB...</td>\n",
       "      <td>['go', 'put', 'pfizer', 'fuck', 'lucky', 'shit...</td>\n",
       "      <td>go put pfizer fuck lucky shithead go get vacci...</td>\n",
       "      <td>{'neg': 0.0, 'neu': 1.0, 'pos': 0.0, 'compound...</td>\n",
       "      <td>0.0000</td>\n",
       "      <td>negative</td>\n",
       "    </tr>\n",
       "    <tr>\n",
       "      <th>2</th>\n",
       "      <td>after may 2nd pfizer vax 6 days id be glad go ...</td>\n",
       "      <td>[('after', 'IN'), ('may', 'MD'), ('and', 'CC')...</td>\n",
       "      <td>['may', 'pfizer', 'van', 'day', 'I', 'd', 'gla...</td>\n",
       "      <td>may pfizer van day I d glad go help work probl...</td>\n",
       "      <td>{'neg': 0.146, 'neu': 0.685, 'pos': 0.17, 'com...</td>\n",
       "      <td>0.2023</td>\n",
       "      <td>positive</td>\n",
       "    </tr>\n",
       "    <tr>\n",
       "      <th>3</th>\n",
       "      <td>cher i got my second pfizer vaccine shot may 1...</td>\n",
       "      <td>[('cher', 'NN'), ('i', 'NN'), ('got', 'VBD'), ...</td>\n",
       "      <td>['cher', 'get', 'second', 'pfizer', 'vaccine',...</td>\n",
       "      <td>cher get second pfizer vaccine shoot may est f...</td>\n",
       "      <td>{'neg': 0.0, 'neu': 1.0, 'pos': 0.0, 'compound...</td>\n",
       "      <td>0.0000</td>\n",
       "      <td>neutral</td>\n",
       "    </tr>\n",
       "    <tr>\n",
       "      <th>4</th>\n",
       "      <td>eso es con pfizer</td>\n",
       "      <td>[('that', 'IN'), ('i', 'NN'), ('with', 'IN'), ...</td>\n",
       "      <td>['pfizer']</td>\n",
       "      <td>pfizer</td>\n",
       "      <td>{'neg': 0.0, 'neu': 1.0, 'pos': 0.0, 'compound...</td>\n",
       "      <td>0.0000</td>\n",
       "      <td>neutral</td>\n",
       "    </tr>\n",
       "    <tr>\n",
       "      <th>...</th>\n",
       "      <td>...</td>\n",
       "      <td>...</td>\n",
       "      <td>...</td>\n",
       "      <td>...</td>\n",
       "      <td>...</td>\n",
       "      <td>...</td>\n",
       "      <td>...</td>\n",
       "    </tr>\n",
       "    <tr>\n",
       "      <th>395</th>\n",
       "      <td>sleep. lots sleep. water. if you can take it, ...</td>\n",
       "      <td>[('sleep', 'JJ'), ('lots', 'NNS'), ('sleep', '...</td>\n",
       "      <td>['sleep', 'lot', 'sleep', 'water', 'take', 'ib...</td>\n",
       "      <td>sleep lot sleep water take ibuprofen painkille...</td>\n",
       "      <td>{'neg': 0.079, 'neu': 0.82, 'pos': 0.101, 'com...</td>\n",
       "      <td>0.1779</td>\n",
       "      <td>positive</td>\n",
       "    </tr>\n",
       "    <tr>\n",
       "      <th>396</th>\n",
       "      <td>once again,missed point. there's lot opposing ...</td>\n",
       "      <td>[('once', 'RB'), ('again', 'RB'), ('missed', '...</td>\n",
       "      <td>['miss', 'point', 'lot', 'oppose', 'informatio...</td>\n",
       "      <td>miss point lot oppose information govt medium ...</td>\n",
       "      <td>{'neg': 0.075, 'neu': 0.854, 'pos': 0.07, 'com...</td>\n",
       "      <td>-0.0511</td>\n",
       "      <td>negative</td>\n",
       "    </tr>\n",
       "    <tr>\n",
       "      <th>397</th>\n",
       "      <td>nobody: want some sars-cov-2 spike proteins my...</td>\n",
       "      <td>[('nobody', 'NN'), ('want', 'VBP'), ('some', '...</td>\n",
       "      <td>['nobody', 'want', 'sars_cov', 'two', 'spike_p...</td>\n",
       "      <td>nobody want sars_cov two spike_protein body ge...</td>\n",
       "      <td>{'neg': 0.0, 'neu': 0.902, 'pos': 0.098, 'comp...</td>\n",
       "      <td>0.0772</td>\n",
       "      <td>neutral</td>\n",
       "    </tr>\n",
       "    <tr>\n",
       "      <th>398</th>\n",
       "      <td>finally out quarantine so time get dose 1/2 3/...</td>\n",
       "      <td>[('finally', 'RB'), ('out', 'RP'), ('quarantin...</td>\n",
       "      <td>['finally', 'quarantine', 'time', 'get', 'dose...</td>\n",
       "      <td>finally quarantine time get dose one two three...</td>\n",
       "      <td>{'neg': 0.0, 'neu': 0.794, 'pos': 0.206, 'comp...</td>\n",
       "      <td>0.7579</td>\n",
       "      <td>positive</td>\n",
       "    </tr>\n",
       "    <tr>\n",
       "      <th>399</th>\n",
       "      <td>actually it‚Äôs one vaccine dosage pfizer/mode...</td>\n",
       "      <td>[('actually', 'RB'), ('it', 'PRP'), ('i', 'VBZ...</td>\n",
       "      <td>['actually', 'one', 'vaccine', 'dosage', 'pfiz...</td>\n",
       "      <td>actually one vaccine dosage pfizer modern like...</td>\n",
       "      <td>{'neg': 0.15, 'neu': 0.585, 'pos': 0.264, 'com...</td>\n",
       "      <td>0.8316</td>\n",
       "      <td>negative</td>\n",
       "    </tr>\n",
       "  </tbody>\n",
       "</table>\n",
       "<p>400 rows × 7 columns</p>\n",
       "</div>"
      ],
      "text/plain": [
       "                                                  Text  \\\n",
       "0    this was response post praising pfizer vaccine...   \n",
       "1    les van poner pfizer pinches morrillos cagason...   \n",
       "2    after may 2nd pfizer vax 6 days id be glad go ...   \n",
       "3    cher i got my second pfizer vaccine shot may 1...   \n",
       "4                                    eso es con pfizer   \n",
       "..                                                 ...   \n",
       "395  sleep. lots sleep. water. if you can take it, ...   \n",
       "396  once again,missed point. there's lot opposing ...   \n",
       "397  nobody: want some sars-cov-2 spike proteins my...   \n",
       "398  finally out quarantine so time get dose 1/2 3/...   \n",
       "399  actually it‚Äôs one vaccine dosage pfizer/mode...   \n",
       "\n",
       "                                      pos_tagged_words  \\\n",
       "0    [('this', 'DT'), ('was', 'VBD'), ('response', ...   \n",
       "1    [('they', 'PRP'), ('re', 'VBP'), ('going', 'VB...   \n",
       "2    [('after', 'IN'), ('may', 'MD'), ('and', 'CC')...   \n",
       "3    [('cher', 'NN'), ('i', 'NN'), ('got', 'VBD'), ...   \n",
       "4    [('that', 'IN'), ('i', 'NN'), ('with', 'IN'), ...   \n",
       "..                                                 ...   \n",
       "395  [('sleep', 'JJ'), ('lots', 'NNS'), ('sleep', '...   \n",
       "396  [('once', 'RB'), ('again', 'RB'), ('missed', '...   \n",
       "397  [('nobody', 'NN'), ('want', 'VBP'), ('some', '...   \n",
       "398  [('finally', 'RB'), ('out', 'RP'), ('quarantin...   \n",
       "399  [('actually', 'RB'), ('it', 'PRP'), ('i', 'VBZ...   \n",
       "\n",
       "                                            words_list  \\\n",
       "0    ['response', 'post', 'praise', 'pfizer', 'vacc...   \n",
       "1    ['go', 'put', 'pfizer', 'fuck', 'lucky', 'shit...   \n",
       "2    ['may', 'pfizer', 'van', 'day', 'I', 'd', 'gla...   \n",
       "3    ['cher', 'get', 'second', 'pfizer', 'vaccine',...   \n",
       "4                                           ['pfizer']   \n",
       "..                                                 ...   \n",
       "395  ['sleep', 'lot', 'sleep', 'water', 'take', 'ib...   \n",
       "396  ['miss', 'point', 'lot', 'oppose', 'informatio...   \n",
       "397  ['nobody', 'want', 'sars_cov', 'two', 'spike_p...   \n",
       "398  ['finally', 'quarantine', 'time', 'get', 'dose...   \n",
       "399  ['actually', 'one', 'vaccine', 'dosage', 'pfiz...   \n",
       "\n",
       "                                              new_text  \\\n",
       "0    response post praise pfizer vaccine april gop ...   \n",
       "1    go put pfizer fuck lucky shithead go get vacci...   \n",
       "2    may pfizer van day I d glad go help work probl...   \n",
       "3    cher get second pfizer vaccine shoot may est f...   \n",
       "4                                               pfizer   \n",
       "..                                                 ...   \n",
       "395  sleep lot sleep water take ibuprofen painkille...   \n",
       "396  miss point lot oppose information govt medium ...   \n",
       "397  nobody want sars_cov two spike_protein body ge...   \n",
       "398  finally quarantine time get dose one two three...   \n",
       "399  actually one vaccine dosage pfizer modern like...   \n",
       "\n",
       "                                                scores  compound  \\\n",
       "0    {'neg': 0.072, 'neu': 0.785, 'pos': 0.143, 'co...    0.4767   \n",
       "1    {'neg': 0.0, 'neu': 1.0, 'pos': 0.0, 'compound...    0.0000   \n",
       "2    {'neg': 0.146, 'neu': 0.685, 'pos': 0.17, 'com...    0.2023   \n",
       "3    {'neg': 0.0, 'neu': 1.0, 'pos': 0.0, 'compound...    0.0000   \n",
       "4    {'neg': 0.0, 'neu': 1.0, 'pos': 0.0, 'compound...    0.0000   \n",
       "..                                                 ...       ...   \n",
       "395  {'neg': 0.079, 'neu': 0.82, 'pos': 0.101, 'com...    0.1779   \n",
       "396  {'neg': 0.075, 'neu': 0.854, 'pos': 0.07, 'com...   -0.0511   \n",
       "397  {'neg': 0.0, 'neu': 0.902, 'pos': 0.098, 'comp...    0.0772   \n",
       "398  {'neg': 0.0, 'neu': 0.794, 'pos': 0.206, 'comp...    0.7579   \n",
       "399  {'neg': 0.15, 'neu': 0.585, 'pos': 0.264, 'com...    0.8316   \n",
       "\n",
       "    sentiment_vader  \n",
       "0          negative  \n",
       "1          negative  \n",
       "2          positive  \n",
       "3           neutral  \n",
       "4           neutral  \n",
       "..              ...  \n",
       "395        positive  \n",
       "396        negative  \n",
       "397         neutral  \n",
       "398        positive  \n",
       "399        negative  \n",
       "\n",
       "[400 rows x 7 columns]"
      ]
     },
     "execution_count": 47,
     "metadata": {},
     "output_type": "execute_result"
    }
   ],
   "source": [
    "tweets"
   ]
  },
  {
   "cell_type": "code",
   "execution_count": 44,
   "id": "b7cbd9ce",
   "metadata": {},
   "outputs": [],
   "source": [
    "import numpy as np\n",
    "from scipy.sparse import hstack\n",
    "from sklearn.feature_extraction.text import CountVectorizer\n",
    "count_vectorizer = CountVectorizer(ngram_range=(1,2))"
   ]
  },
  {
   "cell_type": "code",
   "execution_count": 46,
   "id": "6ee780e4",
   "metadata": {},
   "outputs": [],
   "source": [
    "vectorized_data = count_vectorizer.fit_transform(tweets.new_text)\n",
    "indexed_data = hstack((np.array(range(0,vectorized_data.shape[0]))[:,None], vectorized_data))"
   ]
  },
  {
   "cell_type": "code",
   "execution_count": 48,
   "id": "ec3ed8b0",
   "metadata": {},
   "outputs": [],
   "source": [
    "def sentiment2target(sentiment):\n",
    "    return {\n",
    "        'negative': 0,\n",
    "        'neutral': 1,\n",
    "        'positive' : 2\n",
    "    }[sentiment]\n",
    "targets = tweets.sentiment_vader.apply(sentiment2target)"
   ]
  },
  {
   "cell_type": "code",
   "execution_count": 49,
   "id": "26c4d882",
   "metadata": {},
   "outputs": [],
   "source": [
    "from sklearn.model_selection import train_test_split\n",
    "data_train, data_test, targets_train, targets_test = train_test_split(indexed_data, targets, test_size=0.4, random_state=0)\n",
    "data_train_index = data_train[:,0]\n",
    "data_train = data_train[:,1:]\n",
    "data_test_index = data_test[:,0]\n",
    "data_test = data_test[:,1:]"
   ]
  },
  {
   "cell_type": "code",
   "execution_count": 50,
   "id": "a01f7616",
   "metadata": {},
   "outputs": [],
   "source": [
    "from sklearn import svm\n",
    "from sklearn.multiclass import OneVsRestClassifier\n",
    "clf = OneVsRestClassifier(svm.SVC(gamma=0.01, C=100., probability=True, class_weight='balanced', kernel='linear'))\n",
    "clf_output = clf.fit(data_train, targets_train)"
   ]
  },
  {
   "cell_type": "code",
   "execution_count": 51,
   "id": "2c367168",
   "metadata": {},
   "outputs": [
    {
     "data": {
      "text/plain": [
       "0.48125"
      ]
     },
     "execution_count": 51,
     "metadata": {},
     "output_type": "execute_result"
    }
   ],
   "source": [
    "clf.score(data_test, targets_test)"
   ]
  },
  {
   "cell_type": "code",
   "execution_count": 52,
   "id": "b0d78548",
   "metadata": {},
   "outputs": [
    {
     "data": {
      "text/plain": [
       "array([[0.38771165, 0.22669181, 0.38559654],\n",
       "       [0.35114839, 0.22558498, 0.42326663],\n",
       "       [0.36334287, 0.21725823, 0.4193989 ],\n",
       "       [0.41672458, 0.19431191, 0.38896352],\n",
       "       [0.43294559, 0.19694624, 0.37010817],\n",
       "       [0.36806608, 0.28651297, 0.34542095],\n",
       "       [0.36519232, 0.23682529, 0.39798239]])"
      ]
     },
     "execution_count": 52,
     "metadata": {},
     "output_type": "execute_result"
    }
   ],
   "source": [
    "sentences = count_vectorizer.transform([\n",
    "    \"What a great airline, the trip was a pleasure!\",\n",
    "    \"My issue was quickly resolved after calling customer support. Thanks!\",\n",
    "    \"What the hell! My flight was cancelled again. This sucks!\",\n",
    "    \"Service was awful. I'll never fly with you again.\",\n",
    "    \"You fuckers lost my luggage. Never again!\",\n",
    "    \"I have mixed feelings about airlines. I don't know what I think.\",\n",
    "    \"\"\n",
    "])\n",
    "clf.predict_proba(sentences)"
   ]
  },
  {
   "cell_type": "code",
   "execution_count": 53,
   "id": "f03e88df",
   "metadata": {},
   "outputs": [],
   "source": [
    "predictions_on_test_data = clf.predict_proba(data_test)\n",
    "index = np.transpose(np.array([range(0,len(predictions_on_test_data))]))\n",
    "indexed_predictions = np.concatenate((predictions_on_test_data, index), axis=1).tolist()"
   ]
  },
  {
   "cell_type": "code",
   "execution_count": 55,
   "id": "8a49d540",
   "metadata": {},
   "outputs": [
    {
     "data": {
      "text/plain": [
       "['yes want get another vaccine scare hit jansen badly want get pfizer think go give astrazeneca want one anyway like well protect',\n",
       " 'every day ton news story pfizer vaccine really wish data news johnson amp johnson vaccine know one get',\n",
       " 'dad either get third pfizer shoot placebo tomorrow part study',\n",
       " 'actually ask houdini vaccine disappear happen',\n",
       " 'renault already two pfizer',\n",
       " 'yes indeed mistake accept',\n",
       " 'definitely new one lol anyway think mdma safe pfizer covid vaccine thread either grossly uninformed imbecile',\n",
       " 'well see second dose pfizer fall think go errand',\n",
       " 'believe pfizer say datum show well biden cac say booster need listen science world health origination criticize wealthy country go booster shot many country vaccine',\n",
       " 'test negative I m going to start double_maske pfizer come third dose imma first line get shir']"
      ]
     },
     "execution_count": 55,
     "metadata": {},
     "output_type": "execute_result"
    }
   ],
   "source": [
    "def marginal(p):\n",
    "    top2 = p.argsort()[::-1]\n",
    "    return abs(p[top2[0]]-p[top2[1]])\n",
    "margin = sorted(list(map(lambda p : [marginal(np.array(p[0:3])),p[3]], indexed_predictions)), key=lambda p : p[0])\n",
    "list(map(lambda p : tweets.iloc[data_test_index[int(p[1])].toarray()[0][0]].new_text, margin[0:10]))"
   ]
  },
  {
   "cell_type": "code",
   "execution_count": 56,
   "id": "047d5904",
   "metadata": {},
   "outputs": [
    {
     "data": {
      "text/plain": [
       "[array([0.34957086, 0.30119914, 0.34923   ]),\n",
       " array([0.26936426, 0.36507041, 0.36556533]),\n",
       " array([0.28576658, 0.35522268, 0.35901074]),\n",
       " array([0.40247043, 0.20021306, 0.39731651]),\n",
       " array([0.17239745, 0.41815831, 0.40944424]),\n",
       " array([0.36324606, 0.26470198, 0.37205196]),\n",
       " array([0.35363886, 0.34300999, 0.30335115]),\n",
       " array([0.25308425, 0.3833715 , 0.36354425]),\n",
       " array([0.49660015, 0.02786186, 0.47553799]),\n",
       " array([0.20678221, 0.38354698, 0.40967081])]"
      ]
     },
     "execution_count": 56,
     "metadata": {},
     "output_type": "execute_result"
    }
   ],
   "source": [
    "list(map(lambda p : predictions_on_test_data[int(p[1])], margin[0:10]))\n"
   ]
  },
  {
   "cell_type": "code",
   "execution_count": 58,
   "id": "b2dac99c",
   "metadata": {},
   "outputs": [
    {
     "data": {
      "text/plain": [
       "['nieces home fed employee husband get one shot pfizer delay second long possible accord malone creator pfizer low dosage spike_protein sad many put position experimental drug lose job',\n",
       " 'pfizer pronounce pfizer',\n",
       " 'yeah bad mean not bad like yeah day like whatever yeah get pfizer',\n",
       " 'think comparable pfizer study site many country modern u trial',\n",
       " 'davos economic_forum corrupt sit ceos modern pfizer many other',\n",
       " 'unfortunate ignorant infected earn mother wear face mask already vaccinate pfizer not stop wear face mask take care doubt know charles darwin theory natural selection explain everything',\n",
       " 'eight four ucs_fresno covid nineteen equity project back uc merce fresno center e shaw ave fashion fair mall fresno free pfizer amp vaccine free testing seven day week sit amp sun two tu eleven',\n",
       " 'calm pfizer modern one indicate issue do arduous research study neurologist join pfizer despite fact compris already approve modern government not',\n",
       " 'get tiny little je prick looking_forward modern pfizer gang bang bring prick',\n",
       " 'look like control van type double jabbed could mean two two pfizer one']"
      ]
     },
     "execution_count": 58,
     "metadata": {},
     "output_type": "execute_result"
    }
   ],
   "source": [
    "list(map(lambda p : tweets.iloc[data_test_index[int(p[1])].toarray()[0][0]].new_text, margin[-10:]))\n"
   ]
  },
  {
   "cell_type": "code",
   "execution_count": 59,
   "id": "a9c672ab",
   "metadata": {},
   "outputs": [
    {
     "data": {
      "text/plain": [
       "[array([0.21050434, 0.61088678, 0.17860888]),\n",
       " array([0.20165692, 0.62189654, 0.17644654]),\n",
       " array([0.67892505, 0.06280337, 0.25827158]),\n",
       " array([0.19054025, 0.6196788 , 0.18978095]),\n",
       " array([0.19432813, 0.62663926, 0.17903262]),\n",
       " array([0.66176171, 0.1426916 , 0.19554669]),\n",
       " array([0.18834528, 0.14939852, 0.66225621]),\n",
       " array([0.22326435, 0.71161288, 0.06512277]),\n",
       " array([0.15818097, 0.67478582, 0.16703321]),\n",
       " array([0.09260638, 0.17813421, 0.72925942])]"
      ]
     },
     "execution_count": 59,
     "metadata": {},
     "output_type": "execute_result"
    }
   ],
   "source": [
    "list(map(lambda p : predictions_on_test_data[int(p[1])], margin[-10:]))\n"
   ]
  },
  {
   "cell_type": "code",
   "execution_count": 60,
   "id": "c3081a59",
   "metadata": {},
   "outputs": [
    {
     "data": {
      "image/png": "[encoded data removed]",
      "text/plain": [
       "<Figure size 432x288 with 1 Axes>"
      ]
     },
     "metadata": {
      "image/png": {
       "height": 277,
       "width": 391
      },
      "needs_background": "light"
     },
     "output_type": "display_data"
    }
   ],
   "source": [
    "import matplotlib.pyplot as plt\n",
    "marginal_probs = list(map(lambda p : p[0], margin))\n",
    "n, bins, patches = plt.hist(marginal_probs, 25, facecolor='blue', alpha=0.75)\n",
    "plt.title('Marginal confidence histogram - All data')\n",
    "plt.ylabel('Count')\n",
    "plt.xlabel('Marginal confidence')\n",
    "plt.show()"
   ]
  },
  {
   "cell_type": "markdown",
   "id": "60e9f028",
   "metadata": {},
   "source": [
    "### POSITIVE DATA"
   ]
  },
  {
   "cell_type": "code",
   "execution_count": 61,
   "id": "876b2093",
   "metadata": {},
   "outputs": [
    {
     "name": "stderr",
     "output_type": "stream",
     "text": [
      "/var/folders/d0/5_1bb8ld291843m4x7vj7vnw0000gn/T/ipykernel_1841/361584559.py:1: FutureWarning: Support for multi-dimensional indexing (e.g. `obj[:, None]`) is deprecated and will be removed in a future version.  Convert to a numpy array before indexing instead.\n",
      "  positive_test_data = list(filter(lambda row : row[0]==2, hstack((targets_test[:,None], data_test)).toarray()))\n"
     ]
    },
    {
     "data": {
      "image/png": "[encoded data removed]",
      "text/plain": [
       "<Figure size 432x288 with 1 Axes>"
      ]
     },
     "metadata": {
      "image/png": {
       "height": 277,
       "width": 376
      },
      "needs_background": "light"
     },
     "output_type": "display_data"
    }
   ],
   "source": [
    "positive_test_data = list(filter(lambda row : row[0]==2, hstack((targets_test[:,None], data_test)).toarray()))\n",
    "positive_probs = clf.predict_proba(list(map(lambda r : r[1:], positive_test_data)))\n",
    "marginal_positive_probs = list(map(lambda p : marginal(p), positive_probs))\n",
    "n, bins, patches = plt.hist(marginal_positive_probs, 25, facecolor='green', alpha=0.75)\n",
    "plt.title('Marginal confidence histogram - Positive data')\n",
    "plt.ylabel('Count')\n",
    "plt.xlabel('Marginal confidence')\n",
    "plt.show()\n"
   ]
  },
  {
   "cell_type": "markdown",
   "id": "0e65fe82",
   "metadata": {},
   "source": [
    "### NEUTRAL DATA"
   ]
  },
  {
   "cell_type": "code",
   "execution_count": 63,
   "id": "3c824b2f",
   "metadata": {},
   "outputs": [
    {
     "name": "stderr",
     "output_type": "stream",
     "text": [
      "/var/folders/d0/5_1bb8ld291843m4x7vj7vnw0000gn/T/ipykernel_1841/4051263430.py:1: FutureWarning: Support for multi-dimensional indexing (e.g. `obj[:, None]`) is deprecated and will be removed in a future version.  Convert to a numpy array before indexing instead.\n",
      "  neutral_test_data = list(filter(lambda row : row[0]==1, hstack((targets_test[:,None], data_test)).toarray()))\n"
     ]
    },
    {
     "data": {
      "image/png": "[encoded data removed]",
      "text/plain": [
       "<Figure size 432x288 with 1 Axes>"
      ]
     },
     "metadata": {
      "image/png": {
       "height": 277,
       "width": 376
      },
      "needs_background": "light"
     },
     "output_type": "display_data"
    }
   ],
   "source": [
    "neutral_test_data = list(filter(lambda row : row[0]==1, hstack((targets_test[:,None], data_test)).toarray()))\n",
    "neutral_probs = clf.predict_proba(list(map(lambda r : r[1:], neutral_test_data)))\n",
    "marginal_neutral_probs = list(map(lambda p : marginal(p), neutral_probs))\n",
    "n, bins, patches = plt.hist(marginal_neutral_probs, 25, facecolor='blue', alpha=0.75)\n",
    "plt.title('Marginal confidence histogram - Neutral data')\n",
    "plt.ylabel('Count')\n",
    "plt.xlabel('Marginal confidence')\n",
    "plt.show()"
   ]
  },
  {
   "cell_type": "markdown",
   "id": "51badb76",
   "metadata": {},
   "source": [
    "### NEGATIVE DATA"
   ]
  },
  {
   "cell_type": "code",
   "execution_count": 64,
   "id": "8e420739",
   "metadata": {},
   "outputs": [
    {
     "name": "stderr",
     "output_type": "stream",
     "text": [
      "/var/folders/d0/5_1bb8ld291843m4x7vj7vnw0000gn/T/ipykernel_1841/2889540462.py:1: FutureWarning: Support for multi-dimensional indexing (e.g. `obj[:, None]`) is deprecated and will be removed in a future version.  Convert to a numpy array before indexing instead.\n",
      "  negative_test_data = list(filter(lambda row : row[0]==0, hstack((targets_test[:,None], data_test)).toarray()))\n"
     ]
    },
    {
     "data": {
      "image/png": "[encoded data removed]",
      "text/plain": [
       "<Figure size 432x288 with 1 Axes>"
      ]
     },
     "metadata": {
      "image/png": {
       "height": 277,
       "width": 376
      },
      "needs_background": "light"
     },
     "output_type": "display_data"
    }
   ],
   "source": [
    "negative_test_data = list(filter(lambda row : row[0]==0, hstack((targets_test[:,None], data_test)).toarray()))\n",
    "negative_probs = clf.predict_proba(list(map(lambda r : r[1:], negative_test_data)))\n",
    "marginal_negative_probs = list(map(lambda p : marginal(p), negative_probs))\n",
    "n, bins, patches = plt.hist(marginal_negative_probs, 25, facecolor='red', alpha=0.75)\n",
    "plt.title('Marginal confidence histogram - Negative data')\n",
    "plt.ylabel('Count')\n",
    "plt.xlabel('Marginal confidence')\n",
    "plt.show()"
   ]
  },
  {
   "cell_type": "code",
   "execution_count": null,
   "id": "8afd8d67",
   "metadata": {},
   "outputs": [],
   "source": []
  }
 ],
 "metadata": {
  "kernelspec": {
   "display_name": "Python 3 (ipykernel)",
   "language": "python",
   "name": "python3"
  },
  "language_info": {
   "codemirror_mode": {
    "name": "ipython",
    "version": 3
   },
   "file_extension": ".py",
   "mimetype": "text/x-python",
   "name": "python",
   "nbconvert_exporter": "python",
   "pygments_lexer": "ipython3",
   "version": "3.9.7"
  }
 },
 "nbformat": 4,
 "nbformat_minor": 5
}
